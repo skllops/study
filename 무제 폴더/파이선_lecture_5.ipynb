{
  "nbformat": 4,
  "nbformat_minor": 0,
  "metadata": {
    "colab": {
      "provenance": []
    },
    "kernelspec": {
      "name": "python3",
      "display_name": "Python 3"
    },
    "language_info": {
      "name": "python"
    },
    "accelerator": "GPU",
    "gpuClass": "standard"
  },
  "cells": [
    {
      "cell_type": "code",
      "execution_count": 1,
      "metadata": {
        "colab": {
          "base_uri": "https://localhost:8080/"
        },
        "id": "foclLdpH5w8E",
        "outputId": "3753be05-fd68-44d4-fc5c-ed32466f6fc2"
      },
      "outputs": [
        {
          "output_type": "stream",
          "name": "stdout",
          "text": [
            "sample_data\n"
          ]
        }
      ],
      "source": [
        "############################2023.04.13###############################\n",
        "!ls"
      ]
    },
    {
      "cell_type": "markdown",
      "source": [
        "1.현재 작업 디레ㄱ토리에 있는 파일 확인?"
      ],
      "metadata": {
        "id": "7J1I61MOS0or"
      }
    },
    {
      "cell_type": "code",
      "source": [
        "!pwd"
      ],
      "metadata": {
        "colab": {
          "base_uri": "https://localhost:8080/"
        },
        "id": "IR2KmN4zSy_H",
        "outputId": "069628c2-4a93-43e6-f513-cea30fadbc69"
      },
      "execution_count": 2,
      "outputs": [
        {
          "output_type": "stream",
          "name": "stdout",
          "text": [
            "/content\n"
          ]
        }
      ]
    },
    {
      "cell_type": "markdown",
      "source": [
        "1.현재 어디에 있는지 확인"
      ],
      "metadata": {
        "id": "bLsJuHJaS7S_"
      }
    },
    {
      "cell_type": "code",
      "source": [
        "!mkdir test"
      ],
      "metadata": {
        "id": "quIiovjAS9pk"
      },
      "execution_count": 3,
      "outputs": []
    },
    {
      "cell_type": "markdown",
      "source": [
        "2.v폴더 만들기"
      ],
      "metadata": {
        "id": "Vu_x6UQyTCqF"
      }
    },
    {
      "cell_type": "code",
      "source": [
        "!cd test"
      ],
      "metadata": {
        "id": "s1WMw1H7TFuR"
      },
      "execution_count": null,
      "outputs": []
    },
    {
      "cell_type": "markdown",
      "source": [
        "3.작업 디렉토리 이동하기"
      ],
      "metadata": {
        "id": "GBPhWPfdTLZv"
      }
    },
    {
      "cell_type": "code",
      "source": [
        "import pandas as pd\n",
        "pd.read_csv(\"/content/chipo.csv\")"
      ],
      "metadata": {
        "id": "JlF7AZcgTN8g"
      },
      "execution_count": null,
      "outputs": []
    },
    {
      "cell_type": "markdown",
      "source": [
        "4.파일 복사하기"
      ],
      "metadata": {
        "id": "nr_1APIkT3EH"
      }
    },
    {
      "cell_type": "code",
      "source": [
        "!cp /content/chipo.csv ./"
      ],
      "metadata": {
        "colab": {
          "base_uri": "https://localhost:8080/"
        },
        "id": "cn2pkfUBT40i",
        "outputId": "47d3da02-2c0b-4ff4-c85a-f9edff90dfd8"
      },
      "execution_count": 4,
      "outputs": [
        {
          "output_type": "stream",
          "name": "stdout",
          "text": [
            "cp: '/content/chipo.csv' and './chipo.csv' are the same file\n"
          ]
        }
      ]
    },
    {
      "cell_type": "markdown",
      "source": [
        "4-1 폴더이동하기"
      ],
      "metadata": {
        "id": "_yvVJ5xAUkit"
      }
    },
    {
      "cell_type": "code",
      "source": [
        "!cp -r /content/test2 ./"
      ],
      "metadata": {
        "colab": {
          "base_uri": "https://localhost:8080/"
        },
        "id": "LpRdIrTuUm8G",
        "outputId": "5c2f32e1-07e7-43f9-9fe7-92120fa3e470"
      },
      "execution_count": 7,
      "outputs": [
        {
          "output_type": "stream",
          "name": "stdout",
          "text": [
            "cp: '/content/test2' and './test2' are the same file\n"
          ]
        }
      ]
    },
    {
      "cell_type": "code",
      "source": [
        "!cp --help"
      ],
      "metadata": {
        "id": "tfefjMGXb-tg"
      },
      "execution_count": null,
      "outputs": []
    },
    {
      "cell_type": "code",
      "source": [
        "!cp ./*.csv ./sample_data"
      ],
      "metadata": {
        "id": "NiPkeY0xcCLo"
      },
      "execution_count": null,
      "outputs": []
    },
    {
      "cell_type": "markdown",
      "source": [
        "5.파일 이동하기"
      ],
      "metadata": {
        "id": "wnyXGk43UK_T"
      }
    },
    {
      "cell_type": "code",
      "source": [
        "!mv /content/chipo.csv ./"
      ],
      "metadata": {
        "colab": {
          "base_uri": "https://localhost:8080/"
        },
        "id": "XjXKwLewURDU",
        "outputId": "dd67288d-a06d-44a5-92c3-59d9f2c40498"
      },
      "execution_count": 5,
      "outputs": [
        {
          "output_type": "stream",
          "name": "stdout",
          "text": [
            "mv: '/content/chipo.csv' and './chipo.csv' are the same file\n"
          ]
        }
      ]
    },
    {
      "cell_type": "markdown",
      "source": [
        "6.이름바꾸기"
      ],
      "metadata": {
        "id": "Hrp1qPhRVHzy"
      }
    },
    {
      "cell_type": "code",
      "source": [
        "!mv ./chipo.csv ./chipo2.csv"
      ],
      "metadata": {
        "id": "gF6_vaWlVJXj"
      },
      "execution_count": 8,
      "outputs": []
    },
    {
      "cell_type": "markdown",
      "source": [
        "7.cup, 램, 사용중인 프로세스 보기"
      ],
      "metadata": {
        "id": "77A1IS2yVTIW"
      }
    },
    {
      "cell_type": "code",
      "source": [
        "!top"
      ],
      "metadata": {
        "colab": {
          "base_uri": "https://localhost:8080/"
        },
        "id": "f2okaiwdVYdI",
        "outputId": "0dfe780a-7166-4e0a-f136-5c4e89d3a17d"
      },
      "execution_count": 9,
      "outputs": [
        {
          "output_type": "stream",
          "name": "stdout",
          "text": [
            "\u001b[?1h\u001b=\u001b[H\u001b[2J\u001b[mtop - 01:58:12 up 15 min,  0 users,  load average: 0.43, 0.42, 0.30\u001b[m\u001b[m\u001b[m\u001b[m\u001b[K\n",
            "Tasks:\u001b[m\u001b[m\u001b[1m  15 \u001b[m\u001b[mtotal,\u001b[m\u001b[m\u001b[1m   1 \u001b[m\u001b[mrunning,\u001b[m\u001b[m\u001b[1m  13 \u001b[m\u001b[msleeping,\u001b[m\u001b[m\u001b[1m   0 \u001b[m\u001b[mstopped,\u001b[m\u001b[m\u001b[1m   1 \u001b[m\u001b[mzombie\u001b[m\u001b[m\u001b[m\u001b[m\u001b[K\n",
            "%Cpu(s):\u001b[m\u001b[m\u001b[1m 46.7 \u001b[m\u001b[mus,\u001b[m\u001b[m\u001b[1m 13.3 \u001b[m\u001b[msy,\u001b[m\u001b[m\u001b[1m  0.0 \u001b[m\u001b[mni,\u001b[m\u001b[m\u001b[1m 36.7 \u001b[m\u001b[mid,\u001b[m\u001b[m\u001b[1m  0.0 \u001b[m\u001b[mwa,\u001b[m\u001b[m\u001b[1m  0.0 \u001b[m\u001b[mhi,\u001b[m\u001b[m\u001b[1m  3.3 \u001b[m\u001b[msi,\u001b[m\u001b[m\u001b[1m  0.0 \u001b[m\u001b[mst\u001b[m\u001b[m\u001b[m\u001b[m\u001b[K\n",
            "MiB Mem :\u001b[m\u001b[m\u001b[1m  12985.5 \u001b[m\u001b[mtotal,\u001b[m\u001b[m\u001b[1m   8866.8 \u001b[m\u001b[mfree,\u001b[m\u001b[m\u001b[1m    911.6 \u001b[m\u001b[mused,\u001b[m\u001b[m\u001b[1m   3207.1 \u001b[m\u001b[mbuff/cache\u001b[m\u001b[m\u001b[m\u001b[m\u001b[K\n",
            "MiB Swap:\u001b[m\u001b[m\u001b[1m      0.0 \u001b[m\u001b[mtotal,\u001b[m\u001b[m\u001b[1m      0.0 \u001b[m\u001b[mfree,\u001b[m\u001b[m\u001b[1m      0.0 \u001b[m\u001b[mused.\u001b[m\u001b[m\u001b[1m  11792.6 \u001b[m\u001b[mavail Mem \u001b[m\u001b[m\u001b[m\u001b[m\u001b[K\n",
            "\u001b[K\n",
            "\u001b[7m    PID USER      PR  NI    VIRT    RES    SHR S  %CPU  %MEM     TIME+ COMMAND  \u001b[m\u001b[m\u001b[K\n",
            "\u001b[m\u001b[1m   3872 root      20   0    9128   3616   3124 R   6.7   0.0   0:00.01 top      \u001b[m\u001b[m\u001b[K\n",
            "\u001b[m      1 root      20   0    1012      8      0 S   0.0   0.0   0:00.59 docker-+ \u001b[m\u001b[m\u001b[K\n",
            "\u001b[m      7 root      20   0  896100  48824  30712 S   0.0   0.4   0:03.93 node     \u001b[m\u001b[m\u001b[K\n",
            "\u001b[m     20 root      20   0    5524    520    448 S   0.0   0.0   0:00.64 tail     \u001b[m\u001b[m\u001b[K\n",
            "\u001b[m     31 root      20   0    6904   3304   3012 S   0.0   0.0   0:00.51 oom_mon+ \u001b[m\u001b[m\u001b[K\n",
            "\u001b[m     33 root      20   0    6904   1580   1304 S   0.0   0.0   0:00.00 run.sh   \u001b[m\u001b[m\u001b[K\n",
            "\u001b[m     35 root      20   0  722040  12780   8124 S   0.0   0.1   0:00.40 kernel_+ \u001b[m\u001b[m\u001b[K\n",
            "\u001b[m     61 root      20   0       0      0      0 Z   0.0   0.0   0:06.32 python3  \u001b[m\u001b[m\u001b[K\n",
            "\u001b[m     62 root      20   0   77156  43996  12980 S   0.0   0.3   0:00.70 colab-f+ \u001b[m\u001b[m\u001b[K\n",
            "\u001b[m     83 root      20   0  556532 152852  48720 S   0.0   1.1   0:05.00 jupyter+ \u001b[m\u001b[m\u001b[K\n",
            "\u001b[m     84 root      20   0  711996   3884   2780 S   0.0   0.0   0:00.14 dap_mul+ \u001b[m\u001b[m\u001b[K\n",
            "\u001b[m    300 root      20   0 1127356 107760  25188 S   0.0   0.8   0:05.98 python3  \u001b[m\u001b[m\u001b[K\n",
            "\u001b[m    339 root      20   0  537092  13732   5724 S   0.0   0.1   0:00.03 python3  \u001b[m\u001b[m\u001b[K\n",
            "\u001b[m    372 root      20   0 1125592 385712  30220 S   0.0   2.9   0:57.65 node     \u001b[m\u001b[m\u001b[K\n",
            "\u001b[m   3871 root      20   0    5488    512    448 S   0.0   0.0   0:00.00 sleep    \u001b[m\u001b[m\u001b[K\n",
            "\u001b[J\u001b[H\u001b[mtop - 01:58:15 up 15 min,  0 users,  load average: 0.43, 0.42, 0.30\u001b[m\u001b[m\u001b[m\u001b[m\u001b[K\n",
            "\n",
            "%Cpu(s):\u001b[m\u001b[m\u001b[1m  4.2 \u001b[m\u001b[mus,\u001b[m\u001b[m\u001b[1m  2.8 \u001b[m\u001b[msy,\u001b[m\u001b[m\u001b[1m  0.0 \u001b[m\u001b[mni,\u001b[m\u001b[m\u001b[1m 92.8 \u001b[m\u001b[mid,\u001b[m\u001b[m\u001b[1m  0.0 \u001b[m\u001b[mwa,\u001b[m\u001b[m\u001b[1m  0.0 \u001b[m\u001b[mhi,\u001b[m\u001b[m\u001b[1m  0.0 \u001b[m\u001b[msi,\u001b[m\u001b[m\u001b[1m  0.2 \u001b[m\u001b[mst\u001b[m\u001b[m\u001b[m\u001b[m\u001b[K\n",
            "MiB Mem :\u001b[m\u001b[m\u001b[1m  12985.5 \u001b[m\u001b[mtotal,\u001b[m\u001b[m\u001b[1m   8867.0 \u001b[m\u001b[mfree,\u001b[m\u001b[m\u001b[1m    911.4 \u001b[m\u001b[mused,\u001b[m\u001b[m\u001b[1m   3207.1 \u001b[m\u001b[mbuff/cache\u001b[m\u001b[m\u001b[m\u001b[m\u001b[K\n",
            "MiB Swap:\u001b[m\u001b[m\u001b[1m      0.0 \u001b[m\u001b[mtotal,\u001b[m\u001b[m\u001b[1m      0.0 \u001b[m\u001b[mfree,\u001b[m\u001b[m\u001b[1m      0.0 \u001b[m\u001b[mused.\u001b[m\u001b[m\u001b[1m  11792.8 \u001b[m\u001b[mavail Mem \u001b[m\u001b[m\u001b[m\u001b[m\u001b[K\n",
            "\u001b[K\n",
            "\n",
            "\u001b[m      7 root      20   0  896100  49088  30712 S   0.7   0.4   0:03.95 node     \u001b[m\u001b[m\u001b[K\n",
            "\u001b[m     83 root      20   0  556532 152856  48720 S   0.7   1.1   0:05.02 jupyter+ \u001b[m\u001b[m\u001b[K\n",
            "\u001b[m    300 root      20   0 1127356 107760  25188 S   0.7   0.8   0:06.00 python3  \u001b[m\u001b[m\u001b[K\n",
            "\u001b[m     35 root      20   0  722040  12780   8124 S   0.3   0.1   0:00.41 kernel_+ \u001b[m\u001b[m\u001b[K\n",
            "\u001b[m     84 root      20   0  711996   4180   2856 S   0.3   0.0   0:00.15 dap_mul+ \u001b[m\u001b[m\u001b[K\n",
            "\u001b[m      1 root      20   0    1012      8      0 S   0.0   0.0   0:00.59 docker-+ \u001b[m\u001b[m\u001b[K\n",
            "\u001b[m     20 root      20   0    5524    520    448 S   0.0   0.0   0:00.64 tail     \u001b[m\u001b[m\u001b[K\n",
            "\u001b[m     31 root      20   0    6904   3304   3012 S   0.0   0.0   0:00.51 oom_mon+ \u001b[m\u001b[m\u001b[K\n",
            "\u001b[m     33 root      20   0    6904   1580   1304 S   0.0   0.0   0:00.00 run.sh   \u001b[m\u001b[m\u001b[K\n",
            "\u001b[m     61 root      20   0       0      0      0 Z   0.0   0.0   0:06.32 python3  \u001b[m\u001b[m\u001b[K\n",
            "\u001b[m     62 root      20   0   77156  43996  12980 S   0.0   0.3   0:00.70 colab-f+ \u001b[m\u001b[m\u001b[K\n",
            "\u001b[m    339 root      20   0  537348  13732   5724 S   0.0   0.1   0:00.03 python3  \u001b[m\u001b[m\u001b[K\n",
            "\u001b[m    372 root      20   0 1125592 385712  30220 S   0.0   2.9   0:57.65 node     \u001b[m\u001b[m\u001b[K\n",
            "\u001b[m\u001b[1m   3872 root      20   0    9128   3616   3124 R   0.0   0.0   0:00.01 top      \u001b[m\u001b[m\u001b[K\n",
            "\u001b[m   3886 root      20   0    5488    524    452 S   0.0   0.0   0:00.00 sleep    \u001b[m\u001b[m\u001b[K\n",
            "\u001b[J\u001b[H\u001b[mtop - 01:58:18 up 15 min,  0 users,  load average: 0.40, 0.41, 0.30\u001b[m\u001b[m\u001b[m\u001b[m\u001b[K\n",
            "\n",
            "%Cpu(s):\u001b[m\u001b[m\u001b[1m  1.5 \u001b[m\u001b[mus,\u001b[m\u001b[m\u001b[1m  1.2 \u001b[m\u001b[msy,\u001b[m\u001b[m\u001b[1m  0.0 \u001b[m\u001b[mni,\u001b[m\u001b[m\u001b[1m 97.2 \u001b[m\u001b[mid,\u001b[m\u001b[m\u001b[1m  0.2 \u001b[m\u001b[mwa,\u001b[m\u001b[m\u001b[1m  0.0 \u001b[m\u001b[mhi,\u001b[m\u001b[m\u001b[1m  0.0 \u001b[m\u001b[msi,\u001b[m\u001b[m\u001b[1m  0.0 \u001b[m\u001b[mst\u001b[m\u001b[m\u001b[m\u001b[m\u001b[K\n",
            "MiB Mem :\u001b[m\u001b[m\u001b[1m  12985.5 \u001b[m\u001b[mtotal,\u001b[m\u001b[m\u001b[1m   8867.1 \u001b[m\u001b[mfree,\u001b[m\u001b[m\u001b[1m    911.2 \u001b[m\u001b[mused,\u001b[m\u001b[m\u001b[1m   3207.2 \u001b[m\u001b[mbuff/cache\u001b[m\u001b[m\u001b[m\u001b[m\u001b[K\n",
            "MiB Swap:\u001b[m\u001b[m\u001b[1m      0.0 \u001b[m\u001b[mtotal,\u001b[m\u001b[m\u001b[1m      0.0 \u001b[m\u001b[mfree,\u001b[m\u001b[m\u001b[1m      0.0 \u001b[m\u001b[mused.\u001b[m\u001b[m\u001b[1m  11792.9 \u001b[m\u001b[mavail Mem \u001b[m\u001b[m\u001b[m\u001b[m\u001b[K\n",
            "\u001b[K\n",
            "\n",
            "\u001b[m    300 root      20   0 1127356 107760  25188 S   1.0   0.8   0:06.03 python3  \u001b[m\u001b[m\u001b[K\n",
            "\u001b[m    339 root      20   0  537348  13732   5724 S   0.7   0.1   0:00.05 python3  \u001b[m\u001b[m\u001b[K\n",
            "\u001b[m      1 root      20   0    1012      8      0 S   0.0   0.0   0:00.59 docker-+ \u001b[m\u001b[m\u001b[K\n",
            "\u001b[m      7 root      20   0  896100  49088  30712 S   0.0   0.4   0:03.95 node     \u001b[m\u001b[m\u001b[K\n",
            "\u001b[m     20 root      20   0    5524    520    448 S   0.0   0.0   0:00.64 tail     \u001b[m\u001b[m\u001b[K\n",
            "\u001b[m     31 root      20   0    6904   3304   3012 S   0.0   0.0   0:00.51 oom_mon+ \u001b[m\u001b[m\u001b[K\n",
            "\u001b[m     33 root      20   0    6904   1580   1304 S   0.0   0.0   0:00.00 run.sh   \u001b[m\u001b[m\u001b[K\n",
            "\u001b[m     35 root      20   0  722040  12780   8124 S   0.0   0.1   0:00.41 kernel_+ \u001b[m\u001b[m\u001b[K\n",
            "\u001b[m     61 root      20   0       0      0      0 Z   0.0   0.0   0:06.32 python3  \u001b[m\u001b[m\u001b[K\n",
            "\u001b[m     62 root      20   0   77156  43996  12980 S   0.0   0.3   0:00.70 colab-f+ \u001b[m\u001b[m\u001b[K\n",
            "\u001b[m     83 root      20   0  556532 152856  48720 S   0.0   1.1   0:05.02 jupyter+ \u001b[m\u001b[m\u001b[K\n",
            "\u001b[m     84 root      20   0  711996   4420   2856 S   0.0   0.0   0:00.15 dap_mul+ \u001b[m\u001b[m\u001b[K\n",
            "\n",
            "\n",
            "\u001b[m   3898 root      20   0    5488    584    512 S   0.0   0.0   0:00.00 sleep    \u001b[m\u001b[m\u001b[K\n",
            "\u001b[J\u001b[H\u001b[mtop - 01:58:21 up 15 min,  0 users,  load average: 0.37, 0.40, 0.30\u001b[m\u001b[m\u001b[m\u001b[m\u001b[K\n",
            "\n",
            "%Cpu(s):\u001b[m\u001b[m\u001b[1m  0.8 \u001b[m\u001b[mus,\u001b[m\u001b[m\u001b[1m  1.3 \u001b[m\u001b[msy,\u001b[m\u001b[m\u001b[1m  0.0 \u001b[m\u001b[mni,\u001b[m\u001b[m\u001b[1m 97.8 \u001b[m\u001b[mid,\u001b[m\u001b[m\u001b[1m  0.0 \u001b[m\u001b[mwa,\u001b[m\u001b[m\u001b[1m  0.0 \u001b[m\u001b[mhi,\u001b[m\u001b[m\u001b[1m  0.0 \u001b[m\u001b[msi,\u001b[m\u001b[m\u001b[1m  0.0 \u001b[m\u001b[mst\u001b[m\u001b[m\u001b[m\u001b[m\u001b[K\n",
            "MiB Mem :\u001b[m\u001b[m\u001b[1m  12985.5 \u001b[m\u001b[mtotal,\u001b[m\u001b[m\u001b[1m   8866.3 \u001b[m\u001b[mfree,\u001b[m\u001b[m\u001b[1m    912.0 \u001b[m\u001b[mused,\u001b[m\u001b[m\u001b[1m   3207.2 \u001b[m\u001b[mbuff/cache\u001b[m\u001b[m\u001b[m\u001b[m\u001b[K\n",
            "MiB Swap:\u001b[m\u001b[m\u001b[1m      0.0 \u001b[m\u001b[mtotal,\u001b[m\u001b[m\u001b[1m      0.0 \u001b[m\u001b[mfree,\u001b[m\u001b[m\u001b[1m      0.0 \u001b[m\u001b[mused.\u001b[m\u001b[m\u001b[1m  11792.2 \u001b[m\u001b[mavail Mem \u001b[m\u001b[m\u001b[m\u001b[m\u001b[K\n",
            "\u001b[K\n",
            "\n",
            "\u001b[m    300 root      20   0 1127356 107760  25188 S   1.0   0.8   0:06.06 python3  \u001b[m\u001b[m\u001b[K\n",
            "\u001b[m     84 root      20   0  711996   4908   2856 S   0.3   0.0   0:00.16 dap_mul+ \u001b[m\u001b[m\u001b[K\n",
            "\n",
            "\u001b[m      7 root      20   0  896100  49344  30712 S   0.0   0.4   0:03.95 node     \u001b[m\u001b[m\u001b[K\n",
            "\n",
            "\n",
            "\n",
            "\u001b[m     35 root      20   0  722040  13044   8124 S   0.0   0.1   0:00.41 kernel_+ \u001b[m\u001b[m\u001b[K\n",
            "\n",
            "\n",
            "\n",
            "\u001b[m    339 root      20   0  537348  13732   5724 S   0.0   0.1   0:00.05 python3  \u001b[m\u001b[m\u001b[K\n",
            "\n",
            "\n",
            "\u001b[m   3910 root      20   0    5488    520    448 S   0.0   0.0   0:00.00 sleep    \u001b[m\u001b[m\u001b[K\n",
            "\u001b[J\u001b[H\u001b[mtop - 01:58:24 up 15 min,  0 users,  load average: 0.37, 0.40, 0.30\u001b[m\u001b[m\u001b[m\u001b[m\u001b[K\n",
            "\n",
            "%Cpu(s):\u001b[m\u001b[m\u001b[1m 25.6 \u001b[m\u001b[mus,\u001b[m\u001b[m\u001b[1m  6.9 \u001b[m\u001b[msy,\u001b[m\u001b[m\u001b[1m  0.0 \u001b[m\u001b[mni,\u001b[m\u001b[m\u001b[1m 67.4 \u001b[m\u001b[mid,\u001b[m\u001b[m\u001b[1m  0.0 \u001b[m\u001b[mwa,\u001b[m\u001b[m\u001b[1m  0.0 \u001b[m\u001b[mhi,\u001b[m\u001b[m\u001b[1m  0.2 \u001b[m\u001b[msi,\u001b[m\u001b[m\u001b[1m  0.0 \u001b[m\u001b[mst\u001b[m\u001b[m\u001b[m\u001b[m\u001b[K\n",
            "MiB Mem :\u001b[m\u001b[m\u001b[1m  12985.5 \u001b[m\u001b[mtotal,\u001b[m\u001b[m\u001b[1m   8865.8 \u001b[m\u001b[mfree,\u001b[m\u001b[m\u001b[1m    912.5 \u001b[m\u001b[mused,\u001b[m\u001b[m\u001b[1m   3207.2 \u001b[m\u001b[mbuff/cache\u001b[m\u001b[m\u001b[m\u001b[m\u001b[K\n",
            "MiB Swap:\u001b[m\u001b[m\u001b[1m      0.0 \u001b[m\u001b[mtotal,\u001b[m\u001b[m\u001b[1m      0.0 \u001b[m\u001b[mfree,\u001b[m\u001b[m\u001b[1m      0.0 \u001b[m\u001b[mused.\u001b[m\u001b[m\u001b[1m  11791.7 \u001b[m\u001b[mavail Mem \u001b[m\u001b[m\u001b[m\u001b[m\u001b[K\n",
            "\u001b[K\n",
            "\n",
            "\u001b[m    300 root      20   0 1127356 107760  25188 S   1.0   0.8   0:06.09 python3  \u001b[m\u001b[m\u001b[K\n",
            "\u001b[m      7 root      20   0  896100  49344  30712 S   0.3   0.4   0:03.96 node     \u001b[m\u001b[m\u001b[K\n",
            "\u001b[m     35 root      20   0  722040  13044   8124 S   0.3   0.1   0:00.42 kernel_+ \u001b[m\u001b[m\u001b[K\n",
            "\u001b[m     83 root      20   0  556532 152860  48720 S   0.3   1.1   0:05.03 jupyter+ \u001b[m\u001b[m\u001b[K\n",
            "\u001b[m    339 root      20   0  537348  13732   5724 S   0.3   0.1   0:00.06 python3  \u001b[m\u001b[m\u001b[K\n",
            "\u001b[m      1 root      20   0    1012      8      0 S   0.0   0.0   0:00.59 docker-+ \u001b[m\u001b[m\u001b[K\n",
            "\u001b[m     20 root      20   0    5524    520    448 S   0.0   0.0   0:00.64 tail     \u001b[m\u001b[m\u001b[K\n",
            "\u001b[m     31 root      20   0    6904   3304   3012 S   0.0   0.0   0:00.51 oom_mon+ \u001b[m\u001b[m\u001b[K\n",
            "\u001b[m     33 root      20   0    6904   1580   1304 S   0.0   0.0   0:00.00 run.sh   \u001b[m\u001b[m\u001b[K\n",
            "\u001b[m     61 root      20   0       0      0      0 Z   0.0   0.0   0:06.32 python3  \u001b[m\u001b[m\u001b[K\n",
            "\u001b[m     62 root      20   0   77156  43996  12980 S   0.0   0.3   0:00.70 colab-f+ \u001b[m\u001b[m\u001b[K\n",
            "\u001b[m     84 root      20   0  711996   5384   2856 S   0.0   0.0   0:00.16 dap_mul+ \u001b[m\u001b[m\u001b[K\n",
            "\n",
            "\n",
            "\u001b[m   3922 root      20   0    5488    580    512 S   0.0   0.0   0:00.00 sleep    \u001b[m\u001b[m\u001b[K\n",
            "\u001b[J\u001b[H\u001b[mtop - 01:58:27 up 15 min,  0 users,  load average: 0.34, 0.40, 0.30\u001b[m\u001b[m\u001b[m\u001b[m\u001b[K\n",
            "\n",
            "%Cpu(s):\u001b[m\u001b[m\u001b[1m  1.3 \u001b[m\u001b[mus,\u001b[m\u001b[m\u001b[1m  1.2 \u001b[m\u001b[msy,\u001b[m\u001b[m\u001b[1m  0.0 \u001b[m\u001b[mni,\u001b[m\u001b[m\u001b[1m 97.5 \u001b[m\u001b[mid,\u001b[m\u001b[m\u001b[1m  0.0 \u001b[m\u001b[mwa,\u001b[m\u001b[m\u001b[1m  0.0 \u001b[m\u001b[mhi,\u001b[m\u001b[m\u001b[1m  0.0 \u001b[m\u001b[msi,\u001b[m\u001b[m\u001b[1m  0.0 \u001b[m\u001b[mst\u001b[m\u001b[m\u001b[m\u001b[m\u001b[K\n",
            "MiB Mem :\u001b[m\u001b[m\u001b[1m  12985.5 \u001b[m\u001b[mtotal,\u001b[m\u001b[m\u001b[1m   8865.6 \u001b[m\u001b[mfree,\u001b[m\u001b[m\u001b[1m    912.8 \u001b[m\u001b[mused,\u001b[m\u001b[m\u001b[1m   3207.2 \u001b[m\u001b[mbuff/cache\u001b[m\u001b[m\u001b[m\u001b[m\u001b[K\n",
            "MiB Swap:\u001b[m\u001b[m\u001b[1m      0.0 \u001b[m\u001b[mtotal,\u001b[m\u001b[m\u001b[1m      0.0 \u001b[m\u001b[mfree,\u001b[m\u001b[m\u001b[1m      0.0 \u001b[m\u001b[mused.\u001b[m\u001b[m\u001b[1m  11791.4 \u001b[m\u001b[mavail Mem \u001b[m\u001b[m\u001b[m\u001b[m\u001b[K\n",
            "\u001b[K\n",
            "\n",
            "\u001b[m    300 root      20   0 1127356 107760  25188 S   0.7   0.8   0:06.11 python3  \u001b[m\u001b[m\u001b[K\n",
            "\u001b[m      7 root      20   0  896232  48580  30712 S   0.3   0.4   0:03.97 node     \u001b[m\u001b[m\u001b[K\n",
            "\u001b[m     31 root      20   0    6904   3304   3012 S   0.3   0.0   0:00.52 oom_mon+ \u001b[m\u001b[m\u001b[K\n",
            "\u001b[m     84 root      20   0  711996   5384   2856 S   0.3   0.0   0:00.17 dap_mul+ \u001b[m\u001b[m\u001b[K\n",
            "\u001b[m    339 root      20   0  537604  14256   5724 S   0.3   0.1   0:00.07 python3  \u001b[m\u001b[m\u001b[K\n",
            "\n",
            "\n",
            "\u001b[m     33 root      20   0    6904   1580   1304 S   0.0   0.0   0:00.00 run.sh   \u001b[m\u001b[m\u001b[K\n",
            "\u001b[m     35 root      20   0  722040  13044   8124 S   0.0   0.1   0:00.42 kernel_+ \u001b[m\u001b[m\u001b[K\n",
            "\n",
            "\n",
            "\u001b[m     83 root      20   0  556532 152860  48720 S   0.0   1.1   0:05.03 jupyter+ \u001b[m\u001b[m\u001b[K\n",
            "\n",
            "\n",
            "\u001b[m   3936 root      20   0    5488    576    512 S   0.0   0.0   0:00.00 sleep    \u001b[m\u001b[m\u001b[K\n",
            "\u001b[J\u001b[H\u001b[mtop - 01:58:30 up 15 min,  0 users,  load average: 0.34, 0.40, 0.30\u001b[m\u001b[m\u001b[m\u001b[m\u001b[K\n",
            "\n",
            "%Cpu(s):\u001b[m\u001b[m\u001b[1m  2.0 \u001b[m\u001b[mus,\u001b[m\u001b[m\u001b[1m  1.0 \u001b[m\u001b[msy,\u001b[m\u001b[m\u001b[1m  0.0 \u001b[m\u001b[mni,\u001b[m\u001b[m\u001b[1m 96.7 \u001b[m\u001b[mid,\u001b[m\u001b[m\u001b[1m  0.2 \u001b[m\u001b[mwa,\u001b[m\u001b[m\u001b[1m  0.0 \u001b[m\u001b[mhi,\u001b[m\u001b[m\u001b[1m  0.2 \u001b[m\u001b[msi,\u001b[m\u001b[m\u001b[1m  0.0 \u001b[m\u001b[mst\u001b[m\u001b[m\u001b[m\u001b[m\u001b[K\n",
            "MiB Mem :\u001b[m\u001b[m\u001b[1m  12985.5 \u001b[m\u001b[mtotal,\u001b[m\u001b[m\u001b[1m   8865.6 \u001b[m\u001b[mfree,\u001b[m\u001b[m\u001b[1m    912.7 \u001b[m\u001b[mused,\u001b[m\u001b[m\u001b[1m   3207.2 \u001b[m\u001b[mbuff/cache\u001b[m\u001b[m\u001b[m\u001b[m\u001b[K\n",
            "MiB Swap:\u001b[m\u001b[m\u001b[1m      0.0 \u001b[m\u001b[mtotal,\u001b[m\u001b[m\u001b[1m      0.0 \u001b[m\u001b[mfree,\u001b[m\u001b[m\u001b[1m      0.0 \u001b[m\u001b[mused.\u001b[m\u001b[m\u001b[1m  11791.5 \u001b[m\u001b[mavail Mem \u001b[m\u001b[m\u001b[m\u001b[m\u001b[K\n",
            "\u001b[K\n",
            "\n",
            "\u001b[m     83 root      20   0  556532 152860  48720 S   0.7   1.1   0:05.05 jupyter+ \u001b[m\u001b[m\u001b[K\n",
            "\u001b[m    300 root      20   0 1127356 107760  25188 S   0.7   0.8   0:06.13 python3  \u001b[m\u001b[m\u001b[K\n",
            "\u001b[m    372 root      20   0 1125592 385712  30220 S   0.7   2.9   0:57.67 node     \u001b[m\u001b[m\u001b[K\n",
            "\u001b[m      7 root      20   0  896232  48836  30712 S   0.3   0.4   0:03.98 node     \u001b[m\u001b[m\u001b[K\n",
            "\u001b[m    339 root      20   0  537604  14256   5724 S   0.3   0.1   0:00.08 python3  \u001b[m\u001b[m\u001b[K\n",
            "\n",
            "\n",
            "\u001b[m     31 root      20   0    6904   3304   3012 S   0.0   0.0   0:00.52 oom_mon+ \u001b[m\u001b[m\u001b[K\n",
            "\u001b[m     33 root      20   0    6904   1580   1304 S   0.0   0.0   0:00.00 run.sh   \u001b[m\u001b[m\u001b[K\n",
            "\u001b[m     35 root      20   0  722040  13044   8124 S   0.0   0.1   0:00.42 kernel_+ \u001b[m\u001b[m\u001b[K\n",
            "\u001b[m     61 root      20   0       0      0      0 Z   0.0   0.0   0:06.32 python3  \u001b[m\u001b[m\u001b[K\n",
            "\u001b[m     62 root      20   0   77156  43996  12980 S   0.0   0.3   0:00.70 colab-f+ \u001b[m\u001b[m\u001b[K\n",
            "\u001b[m     84 root      20   0  711996   6024   2856 S   0.0   0.0   0:00.17 dap_mul+ \u001b[m\u001b[m\u001b[K\n",
            "\n",
            "\u001b[m   3948 root      20   0    5488    524    452 S   0.0   0.0   0:00.00 sleep    \u001b[m\u001b[m\u001b[K\n",
            "\u001b[J\u001b[H\u001b[mtop - 01:58:33 up 15 min,  0 users,  load average: 0.31, 0.39, 0.30\u001b[m\u001b[m\u001b[m\u001b[m\u001b[K\n",
            "\n",
            "%Cpu(s):\u001b[m\u001b[m\u001b[1m  1.8 \u001b[m\u001b[mus,\u001b[m\u001b[m\u001b[1m  1.2 \u001b[m\u001b[msy,\u001b[m\u001b[m\u001b[1m  0.0 \u001b[m\u001b[mni,\u001b[m\u001b[m\u001b[1m 96.8 \u001b[m\u001b[mid,\u001b[m\u001b[m\u001b[1m  0.0 \u001b[m\u001b[mwa,\u001b[m\u001b[m\u001b[1m  0.0 \u001b[m\u001b[mhi,\u001b[m\u001b[m\u001b[1m  0.0 \u001b[m\u001b[msi,\u001b[m\u001b[m\u001b[1m  0.2 \u001b[m\u001b[mst\u001b[m\u001b[m\u001b[m\u001b[m\u001b[K\n",
            "MiB Mem :\u001b[m\u001b[m\u001b[1m  12985.5 \u001b[m\u001b[mtotal,\u001b[m\u001b[m\u001b[1m   8866.3 \u001b[m\u001b[mfree,\u001b[m\u001b[m\u001b[1m    912.1 \u001b[m\u001b[mused,\u001b[m\u001b[m\u001b[1m   3207.1 \u001b[m\u001b[mbuff/cache\u001b[m\u001b[m\u001b[m\u001b[m\u001b[K\n",
            "MiB Swap:\u001b[m\u001b[m\u001b[1m      0.0 \u001b[m\u001b[mtotal,\u001b[m\u001b[m\u001b[1m      0.0 \u001b[m\u001b[mfree,\u001b[m\u001b[m\u001b[1m      0.0 \u001b[m\u001b[mused.\u001b[m\u001b[m\u001b[1m  11792.1 \u001b[m\u001b[mavail Mem \u001b[m\u001b[m\u001b[m\u001b[m\u001b[K\n",
            "\u001b[K\n",
            "\n",
            "\u001b[m    300 root      20   0 1127356 107760  25188 S   1.0   0.8   0:06.16 python3  \u001b[m\u001b[m\u001b[K\n",
            "\u001b[m     84 root      20   0  712316   6644   2856 S   0.3   0.0   0:00.18 dap_mul+ \u001b[m\u001b[m\u001b[K\n",
            "\u001b[m      1 root      20   0    1012      8      0 S   0.0   0.0   0:00.59 docker-+ \u001b[m\u001b[m\u001b[K\n",
            "\u001b[m      7 root      20   0  896232  49100  30712 S   0.0   0.4   0:03.98 node     \u001b[m\u001b[m\u001b[K\n",
            "\u001b[m     20 root      20   0    5524    520    448 S   0.0   0.0   0:00.64 tail     \u001b[m\u001b[m\u001b[K\n",
            "\u001b[m     31 root      20   0    6904   3304   3012 S   0.0   0.0   0:00.52 oom_mon+ \u001b[m\u001b[m\u001b[K\n",
            "\u001b[m     33 root      20   0    6904   1580   1304 S   0.0   0.0   0:00.00 run.sh   \u001b[m\u001b[m\u001b[K\n",
            "\u001b[m     35 root      20   0  722040  13044   8124 S   0.0   0.1   0:00.42 kernel_+ \u001b[m\u001b[m\u001b[K\n",
            "\u001b[m     61 root      20   0       0      0      0 Z   0.0   0.0   0:06.32 python3  \u001b[m\u001b[m\u001b[K\n",
            "\u001b[m     62 root      20   0   77156  43996  12980 S   0.0   0.3   0:00.70 colab-f+ \u001b[m\u001b[m\u001b[K\n",
            "\u001b[m     83 root      20   0  556532 152868  48720 S   0.0   1.1   0:05.05 jupyter+ \u001b[m\u001b[m\u001b[K\n",
            "\u001b[m    339 root      20   0  537604  14256   5724 S   0.0   0.1   0:00.08 python3  \u001b[m\u001b[m\u001b[K\n",
            "\u001b[m    372 root      20   0 1125592 385712  30220 S   0.0   2.9   0:57.67 node     \u001b[m\u001b[m\u001b[K\n",
            "\n",
            "\u001b[m   3961 root      20   0    5488    584    512 S   0.0   0.0   0:00.00 sleep    \u001b[m\u001b[m\u001b[K\n",
            "\u001b[J\u001b[H\u001b[mtop - 01:58:36 up 15 min,  0 users,  load average: 0.36, 0.40, 0.30\u001b[m\u001b[m\u001b[m\u001b[m\u001b[K\n",
            "\n",
            "%Cpu(s):\u001b[m\u001b[m\u001b[1m 24.6 \u001b[m\u001b[mus,\u001b[m\u001b[m\u001b[1m  6.2 \u001b[m\u001b[msy,\u001b[m\u001b[m\u001b[1m  0.0 \u001b[m\u001b[mni,\u001b[m\u001b[m\u001b[1m 69.2 \u001b[m\u001b[mid,\u001b[m\u001b[m\u001b[1m  0.0 \u001b[m\u001b[mwa,\u001b[m\u001b[m\u001b[1m  0.0 \u001b[m\u001b[mhi,\u001b[m\u001b[m\u001b[1m  0.0 \u001b[m\u001b[msi,\u001b[m\u001b[m\u001b[1m  0.0 \u001b[m\u001b[mst\u001b[m\u001b[m\u001b[m\u001b[m\u001b[K\n",
            "MiB Mem :\u001b[m\u001b[m\u001b[1m  12985.5 \u001b[m\u001b[mtotal,\u001b[m\u001b[m\u001b[1m   8865.5 \u001b[m\u001b[mfree,\u001b[m\u001b[m\u001b[1m    912.9 \u001b[m\u001b[mused,\u001b[m\u001b[m\u001b[1m   3207.1 \u001b[m\u001b[mbuff/cache\u001b[m\u001b[m\u001b[m\u001b[m\u001b[K\n",
            "MiB Swap:\u001b[m\u001b[m\u001b[1m      0.0 \u001b[m\u001b[mtotal,\u001b[m\u001b[m\u001b[1m      0.0 \u001b[m\u001b[mfree,\u001b[m\u001b[m\u001b[1m      0.0 \u001b[m\u001b[mused.\u001b[m\u001b[m\u001b[1m  11791.4 \u001b[m\u001b[mavail Mem \u001b[m\u001b[m\u001b[m\u001b[m\u001b[K\n",
            "\u001b[K\n",
            "\n",
            "\u001b[m      7 root      20   0  896232  49100  30712 S   0.7   0.4   0:04.00 node     \u001b[m\u001b[m\u001b[K\n",
            "\u001b[m    300 root      20   0 1127356 107760  25188 S   0.7   0.8   0:06.18 python3  \u001b[m\u001b[m\u001b[K\n",
            "\u001b[m     84 root      20   0  712316   6644   2856 S   0.3   0.0   0:00.19 dap_mul+ \u001b[m\u001b[m\u001b[K\n",
            "\u001b[m    339 root      20   0  537604  14256   5724 S   0.3   0.1   0:00.09 python3  \u001b[m\u001b[m\u001b[K\n",
            "\u001b[m      1 root      20   0    1012      8      0 S   0.0   0.0   0:00.59 docker-+ \u001b[m\u001b[m\u001b[K\n",
            "\u001b[m     20 root      20   0    5524    520    448 S   0.0   0.0   0:00.64 tail     \u001b[m\u001b[m\u001b[K\n",
            "\u001b[m     31 root      20   0    6904   3304   3012 S   0.0   0.0   0:00.52 oom_mon+ \u001b[m\u001b[m\u001b[K\n",
            "\u001b[m     33 root      20   0    6904   1580   1304 S   0.0   0.0   0:00.00 run.sh   \u001b[m\u001b[m\u001b[K\n",
            "\u001b[m     35 root      20   0  722040  13304   8124 S   0.0   0.1   0:00.42 kernel_+ \u001b[m\u001b[m\u001b[K\n",
            "\u001b[m     61 root      20   0       0      0      0 Z   0.0   0.0   0:06.32 python3  \u001b[m\u001b[m\u001b[K\n",
            "\u001b[m     62 root      20   0   77156  43996  12980 S   0.0   0.3   0:00.70 colab-f+ \u001b[m\u001b[m\u001b[K\n",
            "\u001b[m     83 root      20   0  556532 152868  48720 S   0.0   1.1   0:05.05 jupyter+ \u001b[m\u001b[m\u001b[K\n",
            "\n",
            "\n",
            "\u001b[m   3975 root      20   0    5488    576    512 S   0.0   0.0   0:00.00 sleep    \u001b[m\u001b[m\u001b[K\n",
            "\u001b[J\u001b[H\u001b[mtop - 01:58:39 up 15 min,  0 users,  load average: 0.36, 0.40, 0.30\u001b[m\u001b[m\u001b[m\u001b[m\u001b[K\n",
            "\n",
            "%Cpu(s):\u001b[m\u001b[m\u001b[1m  1.2 \u001b[m\u001b[mus,\u001b[m\u001b[m\u001b[1m  1.2 \u001b[m\u001b[msy,\u001b[m\u001b[m\u001b[1m  0.0 \u001b[m\u001b[mni,\u001b[m\u001b[m\u001b[1m 97.5 \u001b[m\u001b[mid,\u001b[m\u001b[m\u001b[1m  0.0 \u001b[m\u001b[mwa,\u001b[m\u001b[m\u001b[1m  0.0 \u001b[m\u001b[mhi,\u001b[m\u001b[m\u001b[1m  0.2 \u001b[m\u001b[msi,\u001b[m\u001b[m\u001b[1m  0.0 \u001b[m\u001b[mst\u001b[m\u001b[m\u001b[m\u001b[m\u001b[K\n",
            "MiB Mem :\u001b[m\u001b[m\u001b[1m  12985.5 \u001b[m\u001b[mtotal,\u001b[m\u001b[m\u001b[1m   8865.1 \u001b[m\u001b[mfree,\u001b[m\u001b[m\u001b[1m    913.3 \u001b[m\u001b[mused,\u001b[m\u001b[m\u001b[1m   3207.1 \u001b[m\u001b[mbuff/cache\u001b[m\u001b[m\u001b[m\u001b[m\u001b[K\n",
            "MiB Swap:\u001b[m\u001b[m\u001b[1m      0.0 \u001b[m\u001b[mtotal,\u001b[m\u001b[m\u001b[1m      0.0 \u001b[m\u001b[mfree,\u001b[m\u001b[m\u001b[1m      0.0 \u001b[m\u001b[mused.\u001b[m\u001b[m\u001b[1m  11790.9 \u001b[m\u001b[mavail Mem \u001b[m\u001b[m\u001b[m\u001b[m\u001b[K\n",
            "\u001b[K\n",
            "\n",
            "\u001b[m    300 root      20   0 1127356 107760  25188 S   1.0   0.8   0:06.21 python3  \u001b[m\u001b[m\u001b[K\n",
            "\u001b[m     83 root      20   0  556532 152868  48720 S   0.3   1.1   0:05.06 jupyter+ \u001b[m\u001b[m\u001b[K\n",
            "\u001b[m    339 root      20   0  537604  14256   5724 S   0.3   0.1   0:00.10 python3  \u001b[m\u001b[m\u001b[K\n",
            "\u001b[m      1 root      20   0    1012      8      0 S   0.0   0.0   0:00.59 docker-+ \u001b[m\u001b[m\u001b[K\n",
            "\u001b[m      7 root      20   0  896232  49100  30712 S   0.0   0.4   0:04.00 node     \u001b[m\u001b[m\u001b[K\n",
            "\n",
            "\n",
            "\n",
            "\n",
            "\n",
            "\n",
            "\u001b[m     84 root      20   0  712316   6852   2856 S   0.0   0.1   0:00.19 dap_mul+ \u001b[m\u001b[m\u001b[K\n",
            "\n",
            "\n",
            "\u001b[m   3987 root      20   0    5488    584    516 S   0.0   0.0   0:00.00 sleep    \u001b[m\u001b[m\u001b[K\n",
            "\u001b[J\u001b[H\u001b[mtop - 01:58:42 up 15 min,  0 users,  load average: 0.42, 0.41, 0.30\u001b[m\u001b[m\u001b[m\u001b[m\u001b[K\n",
            "\n",
            "%Cpu(s):\u001b[m\u001b[m\u001b[1m  1.5 \u001b[m\u001b[mus,\u001b[m\u001b[m\u001b[1m  1.2 \u001b[m\u001b[msy,\u001b[m\u001b[m\u001b[1m  0.0 \u001b[m\u001b[mni,\u001b[m\u001b[m\u001b[1m 97.3 \u001b[m\u001b[mid,\u001b[m\u001b[m\u001b[1m  0.0 \u001b[m\u001b[mwa,\u001b[m\u001b[m\u001b[1m  0.0 \u001b[m\u001b[mhi,\u001b[m\u001b[m\u001b[1m  0.0 \u001b[m\u001b[msi,\u001b[m\u001b[m\u001b[1m  0.0 \u001b[m\u001b[mst\u001b[m\u001b[m\u001b[m\u001b[m\u001b[K\n",
            "MiB Mem :\u001b[m\u001b[m\u001b[1m  12985.5 \u001b[m\u001b[mtotal,\u001b[m\u001b[m\u001b[1m   8864.8 \u001b[m\u001b[mfree,\u001b[m\u001b[m\u001b[1m    913.6 \u001b[m\u001b[mused,\u001b[m\u001b[m\u001b[1m   3207.1 \u001b[m\u001b[mbuff/cache\u001b[m\u001b[m\u001b[m\u001b[m\u001b[K\n",
            "MiB Swap:\u001b[m\u001b[m\u001b[1m      0.0 \u001b[m\u001b[mtotal,\u001b[m\u001b[m\u001b[1m      0.0 \u001b[m\u001b[mfree,\u001b[m\u001b[m\u001b[1m      0.0 \u001b[m\u001b[mused.\u001b[m\u001b[m\u001b[1m  11790.7 \u001b[m\u001b[mavail Mem \u001b[m\u001b[m\u001b[m\u001b[m\u001b[K\n",
            "\u001b[K\n",
            "\n",
            "\u001b[m    300 root      20   0 1127356 107760  25188 S   1.3   0.8   0:06.25 python3  \u001b[m\u001b[m\u001b[K\n",
            "\u001b[m    339 root      20   0  537604  14256   5724 S   0.7   0.1   0:00.12 python3  \u001b[m\u001b[m\u001b[K\n",
            "\u001b[m     35 root      20   0  722040  13304   8124 S   0.3   0.1   0:00.43 kernel_+ \u001b[m\u001b[m\u001b[K\n",
            "\n",
            "\u001b[m      7 root      20   0  896232  49360  30712 S   0.0   0.4   0:04.00 node     \u001b[m\u001b[m\u001b[K\n",
            "\n",
            "\n",
            "\n",
            "\u001b[m     61 root      20   0       0      0      0 Z   0.0   0.0   0:06.32 python3  \u001b[m\u001b[m\u001b[K\n",
            "\u001b[m     62 root      20   0   77156  43996  12980 S   0.0   0.3   0:00.70 colab-f+ \u001b[m\u001b[m\u001b[K\n",
            "\u001b[m     83 root      20   0  556532 152868  48720 S   0.0   1.1   0:05.06 jupyter+ \u001b[m\u001b[m\u001b[K\n",
            "\u001b[m     84 root      20   0  712572   7096   2856 S   0.0   0.1   0:00.19 dap_mul+ \u001b[m\u001b[m\u001b[K\n",
            "\n",
            "\n",
            "\u001b[m   3999 root      20   0    5488    580    512 S   0.0   0.0   0:00.00 sleep    \u001b[m\u001b[m\u001b[K\n",
            "\u001b[J\u001b[H\u001b[mtop - 01:58:45 up 15 min,  0 users,  load average: 0.42, 0.41, 0.30\u001b[m\u001b[m\u001b[m\u001b[m\u001b[K\n",
            "\n",
            "%Cpu(s):\u001b[m\u001b[m\u001b[1m  1.7 \u001b[m\u001b[mus,\u001b[m\u001b[m\u001b[1m  1.3 \u001b[m\u001b[msy,\u001b[m\u001b[m\u001b[1m  0.0 \u001b[m\u001b[mni,\u001b[m\u001b[m\u001b[1m 96.8 \u001b[m\u001b[mid,\u001b[m\u001b[m\u001b[1m  0.2 \u001b[m\u001b[mwa,\u001b[m\u001b[m\u001b[1m  0.0 \u001b[m\u001b[mhi,\u001b[m\u001b[m\u001b[1m  0.0 \u001b[m\u001b[msi,\u001b[m\u001b[m\u001b[1m  0.0 \u001b[m\u001b[mst\u001b[m\u001b[m\u001b[m\u001b[m\u001b[K\n",
            "MiB Mem :\u001b[m\u001b[m\u001b[1m  12985.5 \u001b[m\u001b[mtotal,\u001b[m\u001b[m\u001b[1m   8864.3 \u001b[m\u001b[mfree,\u001b[m\u001b[m\u001b[1m    914.1 \u001b[m\u001b[mused,\u001b[m\u001b[m\u001b[1m   3207.1 \u001b[m\u001b[mbuff/cache\u001b[m\u001b[m\u001b[m\u001b[m\u001b[K\n",
            "MiB Swap:\u001b[m\u001b[m\u001b[1m      0.0 \u001b[m\u001b[mtotal,\u001b[m\u001b[m\u001b[1m      0.0 \u001b[m\u001b[mfree,\u001b[m\u001b[m\u001b[1m      0.0 \u001b[m\u001b[mused.\u001b[m\u001b[m\u001b[1m  11790.4 \u001b[m\u001b[mavail Mem \u001b[m\u001b[m\u001b[m\u001b[m\u001b[K\n",
            "\u001b[K\n",
            "\n",
            "\u001b[m    300 root      20   0 1127356 107764  25188 S   0.7   0.8   0:06.27 python3  \u001b[m\u001b[m\u001b[K\n",
            "\u001b[m     83 root      20   0  556532 152872  48720 S   0.3   1.1   0:05.07 jupyter+ \u001b[m\u001b[m\u001b[K\n",
            "\u001b[m     84 root      20   0  712572   7096   2856 S   0.3   0.1   0:00.20 dap_mul+ \u001b[m\u001b[m\u001b[K\n",
            "\n",
            "\n",
            "\n",
            "\n",
            "\n",
            "\u001b[m     35 root      20   0  722040  13568   8124 S   0.0   0.1   0:00.43 kernel_+ \u001b[m\u001b[m\u001b[K\n",
            "\u001b[m     61 root      20   0       0      0      0 Z   0.0   0.0   0:06.32 python3  \u001b[m\u001b[m\u001b[K\n",
            "\u001b[m     62 root      20   0   77156  43996  12980 S   0.0   0.3   0:00.70 colab-f+ \u001b[m\u001b[m\u001b[K\n",
            "\u001b[m    339 root      20   0  537604  14256   5724 S   0.0   0.1   0:00.12 python3  \u001b[m\u001b[m\u001b[K\n",
            "\n",
            "\n",
            "\u001b[m   4011 root      20   0    5488    516    448 S   0.0   0.0   0:00.00 sleep    \u001b[m\u001b[m\u001b[K\n",
            "\u001b[J\u001b[H\u001b[mtop - 01:58:48 up 15 min,  0 users,  load average: 0.38, 0.40, 0.30\u001b[m\u001b[m\u001b[m\u001b[m\u001b[K\n",
            "\n",
            "%Cpu(s):\u001b[m\u001b[m\u001b[1m 24.9 \u001b[m\u001b[mus,\u001b[m\u001b[m\u001b[1m  6.7 \u001b[m\u001b[msy,\u001b[m\u001b[m\u001b[1m  0.0 \u001b[m\u001b[mni,\u001b[m\u001b[m\u001b[1m 68.2 \u001b[m\u001b[mid,\u001b[m\u001b[m\u001b[1m  0.0 \u001b[m\u001b[mwa,\u001b[m\u001b[m\u001b[1m  0.0 \u001b[m\u001b[mhi,\u001b[m\u001b[m\u001b[1m  0.0 \u001b[m\u001b[msi,\u001b[m\u001b[m\u001b[1m  0.2 \u001b[m\u001b[mst\u001b[m\u001b[m\u001b[m\u001b[m\u001b[K\n",
            "MiB Mem :\u001b[m\u001b[m\u001b[1m  12985.5 \u001b[m\u001b[mtotal,\u001b[m\u001b[m\u001b[1m   8863.6 \u001b[m\u001b[mfree,\u001b[m\u001b[m\u001b[1m    914.8 \u001b[m\u001b[mused,\u001b[m\u001b[m\u001b[1m   3207.2 \u001b[m\u001b[mbuff/cache\u001b[m\u001b[m\u001b[m\u001b[m\u001b[K\n",
            "MiB Swap:\u001b[m\u001b[m\u001b[1m      0.0 \u001b[m\u001b[mtotal,\u001b[m\u001b[m\u001b[1m      0.0 \u001b[m\u001b[mfree,\u001b[m\u001b[m\u001b[1m      0.0 \u001b[m\u001b[mused.\u001b[m\u001b[m\u001b[1m  11789.6 \u001b[m\u001b[mavail Mem \u001b[m\u001b[m\u001b[m\u001b[m\u001b[K\n",
            "\u001b[K\n",
            "\n",
            "\u001b[m    300 root      20   0 1127356 107764  25188 S   0.7   0.8   0:06.29 python3  \u001b[m\u001b[m\u001b[K\n",
            "\u001b[m      7 root      20   0  896232  49360  30712 S   0.3   0.4   0:04.01 node     \u001b[m\u001b[m\u001b[K\n",
            "\u001b[m     31 root      20   0    6904   3304   3012 S   0.3   0.0   0:00.53 oom_mon+ \u001b[m\u001b[m\u001b[K\n",
            "\u001b[m     83 root      20   0  556532 152872  48720 S   0.3   1.1   0:05.08 jupyter+ \u001b[m\u001b[m\u001b[K\n",
            "\u001b[m     84 root      20   0  712572   7096   2856 S   0.3   0.1   0:00.21 dap_mul+ \u001b[m\u001b[m\u001b[K\n",
            "\u001b[m    339 root      20   0  537604  14256   5724 S   0.3   0.1   0:00.13 python3  \u001b[m\u001b[m\u001b[K\n",
            "\u001b[m      1 root      20   0    1012      8      0 S   0.0   0.0   0:00.59 docker-+ \u001b[m\u001b[m\u001b[K\n",
            "\u001b[m     20 root      20   0    5524    520    448 S   0.0   0.0   0:00.64 tail     \u001b[m\u001b[m\u001b[K\n",
            "\u001b[m     33 root      20   0    6904   1580   1304 S   0.0   0.0   0:00.00 run.sh   \u001b[m\u001b[m\u001b[K\n",
            "\u001b[m     35 root      20   0  722040  13568   8124 S   0.0   0.1   0:00.43 kernel_+ \u001b[m\u001b[m\u001b[K\n",
            "\u001b[m     61 root      20   0       0      0      0 Z   0.0   0.0   0:06.32 python3  \u001b[m\u001b[m\u001b[K\n",
            "\u001b[m     62 root      20   0   77156  43996  12980 S   0.0   0.3   0:00.70 colab-f+ \u001b[m\u001b[m\u001b[K\n",
            "\n",
            "\n",
            "\u001b[m   4025 root      20   0    5488    584    516 S   0.0   0.0   0:00.00 sleep    \u001b[m\u001b[m\u001b[K\n",
            "\u001b[J\u001b[H\u001b[mtop - 01:58:51 up 15 min,  0 users,  load average: 0.35, 0.40, 0.30\u001b[m\u001b[m\u001b[m\u001b[m\u001b[K\n",
            "\n",
            "%Cpu(s):\u001b[m\u001b[m\u001b[1m  1.0 \u001b[m\u001b[mus,\u001b[m\u001b[m\u001b[1m  1.0 \u001b[m\u001b[msy,\u001b[m\u001b[m\u001b[1m  0.0 \u001b[m\u001b[mni,\u001b[m\u001b[m\u001b[1m 97.8 \u001b[m\u001b[mid,\u001b[m\u001b[m\u001b[1m  0.0 \u001b[m\u001b[mwa,\u001b[m\u001b[m\u001b[1m  0.0 \u001b[m\u001b[mhi,\u001b[m\u001b[m\u001b[1m  0.2 \u001b[m\u001b[msi,\u001b[m\u001b[m\u001b[1m  0.0 \u001b[m\u001b[mst\u001b[m\u001b[m\u001b[m\u001b[m\u001b[K\n",
            "MiB Mem :\u001b[m\u001b[m\u001b[1m  12985.5 \u001b[m\u001b[mtotal,\u001b[m\u001b[m\u001b[1m   8863.4 \u001b[m\u001b[mfree,\u001b[m\u001b[m\u001b[1m    915.0 \u001b[m\u001b[mused,\u001b[m\u001b[m\u001b[1m   3207.2 \u001b[m\u001b[mbuff/cache\u001b[m\u001b[m\u001b[m\u001b[m\u001b[K\n",
            "MiB Swap:\u001b[m\u001b[m\u001b[1m      0.0 \u001b[m\u001b[mtotal,\u001b[m\u001b[m\u001b[1m      0.0 \u001b[m\u001b[mfree,\u001b[m\u001b[m\u001b[1m      0.0 \u001b[m\u001b[mused.\u001b[m\u001b[m\u001b[1m  11789.4 \u001b[m\u001b[mavail Mem \u001b[m\u001b[m\u001b[m\u001b[m\u001b[K\n",
            "\u001b[K\n",
            "\n",
            "\u001b[m    300 root      20   0 1127356 107780  25188 S   1.0   0.8   0:06.32 python3  \u001b[m\u001b[m\u001b[K\n",
            "\u001b[m     35 root      20   0  722040  13820   8124 S   0.3   0.1   0:00.44 kernel_+ \u001b[m\u001b[m\u001b[K\n",
            "\u001b[m      1 root      20   0    1012      8      0 S   0.0   0.0   0:00.59 docker-+ \u001b[m\u001b[m\u001b[K\n",
            "\u001b[m      7 root      20   0  896232  49624  30712 S   0.0   0.4   0:04.01 node     \u001b[m\u001b[m\u001b[K\n",
            "\u001b[m     20 root      20   0    5524    520    448 S   0.0   0.0   0:00.64 tail     \u001b[m\u001b[m\u001b[K\n",
            "\u001b[m     31 root      20   0    6904   3304   3012 S   0.0   0.0   0:00.53 oom_mon+ \u001b[m\u001b[m\u001b[K\n",
            "\u001b[m     33 root      20   0    6904   1580   1304 S   0.0   0.0   0:00.00 run.sh   \u001b[m\u001b[m\u001b[K\n",
            "\u001b[m     61 root      20   0       0      0      0 Z   0.0   0.0   0:06.32 python3  \u001b[m\u001b[m\u001b[K\n",
            "\u001b[m     62 root      20   0   77156  43996  12980 S   0.0   0.3   0:00.70 colab-f+ \u001b[m\u001b[m\u001b[K\n",
            "\u001b[m     83 root      20   0  556532 152872  48720 S   0.0   1.1   0:05.08 jupyter+ \u001b[m\u001b[m\u001b[K\n",
            "\u001b[m     84 root      20   0  712572   7348   2856 S   0.0   0.1   0:00.21 dap_mul+ \u001b[m\u001b[m\u001b[K\n",
            "\u001b[m    339 root      20   0  537604  14256   5724 S   0.0   0.1   0:00.13 python3  \u001b[m\u001b[m\u001b[K\n",
            "\n",
            "\n",
            "\u001b[m   4037 root      20   0    5488    508    440 S   0.0   0.0   0:00.00 sleep    \u001b[m\u001b[m\u001b[K\n",
            "\u001b[J\u001b[H\u001b[mtop - 01:58:54 up 15 min,  0 users,  load average: 0.35, 0.40, 0.30\u001b[m\u001b[m\u001b[m\u001b[m\u001b[K\n",
            "\n",
            "%Cpu(s):\u001b[m\u001b[m\u001b[1m  1.2 \u001b[m\u001b[mus,\u001b[m\u001b[m\u001b[1m  1.2 \u001b[m\u001b[msy,\u001b[m\u001b[m\u001b[1m  0.0 \u001b[m\u001b[mni,\u001b[m\u001b[m\u001b[1m 97.7 \u001b[m\u001b[mid,\u001b[m\u001b[m\u001b[1m  0.0 \u001b[m\u001b[mwa,\u001b[m\u001b[m\u001b[1m  0.0 \u001b[m\u001b[mhi,\u001b[m\u001b[m\u001b[1m  0.0 \u001b[m\u001b[msi,\u001b[m\u001b[m\u001b[1m  0.0 \u001b[m\u001b[mst\u001b[m\u001b[m\u001b[m\u001b[m\u001b[K\n",
            "MiB Mem :\u001b[m\u001b[m\u001b[1m  12985.5 \u001b[m\u001b[mtotal,\u001b[m\u001b[m\u001b[1m   8863.6 \u001b[m\u001b[mfree,\u001b[m\u001b[m\u001b[1m    914.8 \u001b[m\u001b[mused,\u001b[m\u001b[m\u001b[1m   3207.2 \u001b[m\u001b[mbuff/cache\u001b[m\u001b[m\u001b[m\u001b[m\u001b[K\n",
            "MiB Swap:\u001b[m\u001b[m\u001b[1m      0.0 \u001b[m\u001b[mtotal,\u001b[m\u001b[m\u001b[1m      0.0 \u001b[m\u001b[mfree,\u001b[m\u001b[m\u001b[1m      0.0 \u001b[m\u001b[mused.\u001b[m\u001b[m\u001b[1m  11789.6 \u001b[m\u001b[mavail Mem \u001b[m\u001b[m\u001b[m\u001b[m\u001b[K\n",
            "\u001b[K\n",
            "\n",
            "\u001b[m    300 root      20   0 1127356 107780  25188 S   1.0   0.8   0:06.35 python3  \u001b[m\u001b[m\u001b[K\n",
            "\u001b[m     84 root      20   0  712572   7348   2856 S   0.3   0.1   0:00.22 dap_mul+ \u001b[m\u001b[m\u001b[K\n",
            "\u001b[m    339 root      20   0  537604  14256   5724 S   0.3   0.1   0:00.14 python3  \u001b[m\u001b[m\u001b[K\n",
            "\u001b[m      1 root      20   0    1012      8      0 S   0.0   0.0   0:00.59 docker-+ \u001b[m\u001b[m\u001b[K\n",
            "\u001b[m      7 root      20   0  896488  48828  30712 S   0.0   0.4   0:04.01 node     \u001b[m\u001b[m\u001b[K\n",
            "\u001b[m     20 root      20   0    5524    520    448 S   0.0   0.0   0:00.64 tail     \u001b[m\u001b[m\u001b[K\n",
            "\u001b[m     31 root      20   0    6904   3304   3012 S   0.0   0.0   0:00.53 oom_mon+ \u001b[m\u001b[m\u001b[K\n",
            "\u001b[m     33 root      20   0    6904   1580   1304 S   0.0   0.0   0:00.00 run.sh   \u001b[m\u001b[m\u001b[K\n",
            "\u001b[m     35 root      20   0  722040  14072   8124 S   0.0   0.1   0:00.44 kernel_+ \u001b[m\u001b[m\u001b[K\n",
            "\u001b[m     61 root      20   0       0      0      0 Z   0.0   0.0   0:06.32 python3  \u001b[m\u001b[m\u001b[K\n",
            "\u001b[m     62 root      20   0   77156  43996  12980 S   0.0   0.3   0:00.70 colab-f+ \u001b[m\u001b[m\u001b[K\n",
            "\u001b[m     83 root      20   0  556532 152872  48720 S   0.0   1.1   0:05.08 jupyter+ \u001b[m\u001b[m\u001b[K\n",
            "\n",
            "\n",
            "\u001b[m   4049 root      20   0    5488    580    516 S   0.0   0.0   0:00.00 sleep    \u001b[m\u001b[m\u001b[K\n",
            "\u001b[J\u001b[H\u001b[mtop - 01:58:57 up 16 min,  0 users,  load average: 0.72, 0.47, 0.33\u001b[m\u001b[m\u001b[m\u001b[m\u001b[K\n",
            "\n",
            "%Cpu(s):\u001b[m\u001b[m\u001b[1m  1.8 \u001b[m\u001b[mus,\u001b[m\u001b[m\u001b[1m  1.3 \u001b[m\u001b[msy,\u001b[m\u001b[m\u001b[1m  0.0 \u001b[m\u001b[mni,\u001b[m\u001b[m\u001b[1m 96.8 \u001b[m\u001b[mid,\u001b[m\u001b[m\u001b[1m  0.0 \u001b[m\u001b[mwa,\u001b[m\u001b[m\u001b[1m  0.0 \u001b[m\u001b[mhi,\u001b[m\u001b[m\u001b[1m  0.0 \u001b[m\u001b[msi,\u001b[m\u001b[m\u001b[1m  0.0 \u001b[m\u001b[mst\u001b[m\u001b[m\u001b[m\u001b[m\u001b[K\n",
            "MiB Mem :\u001b[m\u001b[m\u001b[1m  12985.5 \u001b[m\u001b[mtotal,\u001b[m\u001b[m\u001b[1m   8863.3 \u001b[m\u001b[mfree,\u001b[m\u001b[m\u001b[1m    915.1 \u001b[m\u001b[mused,\u001b[m\u001b[m\u001b[1m   3207.2 \u001b[m\u001b[mbuff/cache\u001b[m\u001b[m\u001b[m\u001b[m\u001b[K\n",
            "MiB Swap:\u001b[m\u001b[m\u001b[1m      0.0 \u001b[m\u001b[mtotal,\u001b[m\u001b[m\u001b[1m      0.0 \u001b[m\u001b[mfree,\u001b[m\u001b[m\u001b[1m      0.0 \u001b[m\u001b[mused.\u001b[m\u001b[m\u001b[1m  11789.3 \u001b[m\u001b[mavail Mem \u001b[m\u001b[m\u001b[m\u001b[m\u001b[K\n",
            "\u001b[K\n",
            "\n",
            "\u001b[m    300 root      20   0 1127356 107780  25188 S   1.0   0.8   0:06.38 python3  \u001b[m\u001b[m\u001b[K\n",
            "\u001b[m     83 root      20   0  556532 152872  48720 S   0.7   1.1   0:05.10 jupyter+ \u001b[m\u001b[m\u001b[K\n",
            "\u001b[m      7 root      20   0  896488  49092  30712 S   0.3   0.4   0:04.02 node     \u001b[m\u001b[m\u001b[K\n",
            "\u001b[m     35 root      20   0  722040  14332   8124 S   0.3   0.1   0:00.45 kernel_+ \u001b[m\u001b[m\u001b[K\n",
            "\u001b[m    339 root      20   0  537860  14356   5724 S   0.3   0.1   0:00.15 python3  \u001b[m\u001b[m\u001b[K\n",
            "\u001b[m      1 root      20   0    1012      8      0 S   0.0   0.0   0:00.59 docker-+ \u001b[m\u001b[m\u001b[K\n",
            "\u001b[m     20 root      20   0    5524    520    448 S   0.0   0.0   0:00.64 tail     \u001b[m\u001b[m\u001b[K\n",
            "\u001b[m     31 root      20   0    6904   3304   3012 S   0.0   0.0   0:00.53 oom_mon+ \u001b[m\u001b[m\u001b[K\n",
            "\u001b[m     33 root      20   0    6904   1580   1304 S   0.0   0.0   0:00.00 run.sh   \u001b[m\u001b[m\u001b[K\n",
            "\n",
            "\n",
            "\u001b[m     84 root      20   0  712572   7348   2856 S   0.0   0.1   0:00.22 dap_mul+ \u001b[m\u001b[m\u001b[K\n",
            "\n",
            "\n",
            "\u001b[m   4063 root      20   0    5488    512    448 S   0.0   0.0   0:00.00 sleep    \u001b[m\u001b[m\u001b[K\n",
            "\u001b[J\u001b[H\u001b[mtop - 01:59:00 up 16 min,  0 users,  load average: 0.72, 0.47, 0.33\u001b[m\u001b[m\u001b[m\u001b[m\u001b[K\n",
            "\n",
            "%Cpu(s):\u001b[m\u001b[m\u001b[1m 25.0 \u001b[m\u001b[mus,\u001b[m\u001b[m\u001b[1m  6.7 \u001b[m\u001b[msy,\u001b[m\u001b[m\u001b[1m  0.0 \u001b[m\u001b[mni,\u001b[m\u001b[m\u001b[1m 68.3 \u001b[m\u001b[mid,\u001b[m\u001b[m\u001b[1m  0.0 \u001b[m\u001b[mwa,\u001b[m\u001b[m\u001b[1m  0.0 \u001b[m\u001b[mhi,\u001b[m\u001b[m\u001b[1m  0.0 \u001b[m\u001b[msi,\u001b[m\u001b[m\u001b[1m  0.0 \u001b[m\u001b[mst\u001b[m\u001b[m\u001b[m\u001b[m\u001b[K\n",
            "MiB Mem :\u001b[m\u001b[m\u001b[1m  12985.5 \u001b[m\u001b[mtotal,\u001b[m\u001b[m\u001b[1m   8862.8 \u001b[m\u001b[mfree,\u001b[m\u001b[m\u001b[1m    915.6 \u001b[m\u001b[mused,\u001b[m\u001b[m\u001b[1m   3207.2 \u001b[m\u001b[mbuff/cache\u001b[m\u001b[m\u001b[m\u001b[m\u001b[K\n",
            "MiB Swap:\u001b[m\u001b[m\u001b[1m      0.0 \u001b[m\u001b[mtotal,\u001b[m\u001b[m\u001b[1m      0.0 \u001b[m\u001b[mfree,\u001b[m\u001b[m\u001b[1m      0.0 \u001b[m\u001b[mused.\u001b[m\u001b[m\u001b[1m  11788.9 \u001b[m\u001b[mavail Mem \u001b[m\u001b[m\u001b[m\u001b[m\u001b[K\n",
            "\u001b[K\n",
            "\n",
            "\u001b[m    300 root      20   0 1127356 107780  25188 S   0.7   0.8   0:06.40 python3  \u001b[m\u001b[m\u001b[K\n",
            "\u001b[m     62 root      20   0   77156  43996  12980 S   0.3   0.3   0:00.71 colab-f+ \u001b[m\u001b[m\u001b[K\n",
            "\u001b[m    339 root      20   0  537860  14356   5724 S   0.3   0.1   0:00.16 python3  \u001b[m\u001b[m\u001b[K\n",
            "\u001b[m      1 root      20   0    1012      8      0 S   0.0   0.0   0:00.59 docker-+ \u001b[m\u001b[m\u001b[K\n",
            "\u001b[m      7 root      20   0  896488  49092  30712 S   0.0   0.4   0:04.02 node     \u001b[m\u001b[m\u001b[K\n",
            "\u001b[m     20 root      20   0    5524    520    448 S   0.0   0.0   0:00.64 tail     \u001b[m\u001b[m\u001b[K\n",
            "\u001b[m     31 root      20   0    6904   3304   3012 S   0.0   0.0   0:00.53 oom_mon+ \u001b[m\u001b[m\u001b[K\n",
            "\u001b[m     33 root      20   0    6904   1580   1304 S   0.0   0.0   0:00.00 run.sh   \u001b[m\u001b[m\u001b[K\n",
            "\u001b[m     35 root      20   0  722040  14332   8124 S   0.0   0.1   0:00.45 kernel_+ \u001b[m\u001b[m\u001b[K\n",
            "\n",
            "\u001b[m     83 root      20   0  556532 152872  48720 S   0.0   1.1   0:05.10 jupyter+ \u001b[m\u001b[m\u001b[K\n",
            "\n",
            "\n",
            "\n",
            "\u001b[m   4075 root      20   0    5488    584    516 S   0.0   0.0   0:00.00 sleep    \u001b[m\u001b[m\u001b[K\n",
            "\u001b[J\u001b[H\u001b[mtop - 01:59:03 up 16 min,  0 users,  load average: 0.67, 0.47, 0.32\u001b[m\u001b[m\u001b[m\u001b[m\u001b[K\n",
            "\n",
            "%Cpu(s):\u001b[m\u001b[m\u001b[1m  1.2 \u001b[m\u001b[mus,\u001b[m\u001b[m\u001b[1m  0.8 \u001b[m\u001b[msy,\u001b[m\u001b[m\u001b[1m  0.0 \u001b[m\u001b[mni,\u001b[m\u001b[m\u001b[1m 97.8 \u001b[m\u001b[mid,\u001b[m\u001b[m\u001b[1m  0.0 \u001b[m\u001b[mwa,\u001b[m\u001b[m\u001b[1m  0.0 \u001b[m\u001b[mhi,\u001b[m\u001b[m\u001b[1m  0.2 \u001b[m\u001b[msi,\u001b[m\u001b[m\u001b[1m  0.0 \u001b[m\u001b[mst\u001b[m\u001b[m\u001b[m\u001b[m\u001b[K\n",
            "MiB Mem :\u001b[m\u001b[m\u001b[1m  12985.5 \u001b[m\u001b[mtotal,\u001b[m\u001b[m\u001b[1m   8862.3 \u001b[m\u001b[mfree,\u001b[m\u001b[m\u001b[1m    916.1 \u001b[m\u001b[mused,\u001b[m\u001b[m\u001b[1m   3207.2 \u001b[m\u001b[mbuff/cache\u001b[m\u001b[m\u001b[m\u001b[m\u001b[K\n",
            "MiB Swap:\u001b[m\u001b[m\u001b[1m      0.0 \u001b[m\u001b[mtotal,\u001b[m\u001b[m\u001b[1m      0.0 \u001b[m\u001b[mfree,\u001b[m\u001b[m\u001b[1m      0.0 \u001b[m\u001b[mused.\u001b[m\u001b[m\u001b[1m  11788.3 \u001b[m\u001b[mavail Mem \u001b[m\u001b[m\u001b[m\u001b[m\u001b[K\n",
            "\u001b[K\n",
            "\n",
            "\u001b[m    300 root      20   0 1127356 107780  25188 S   1.0   0.8   0:06.43 python3  \u001b[m\u001b[m\u001b[K\n",
            "\u001b[m     84 root      20   0  712892   8236   2856 S   0.7   0.1   0:00.24 dap_mul+ \u001b[m\u001b[m\u001b[K\n",
            "\u001b[m\u001b[1m   3872 root      20   0    9128   3616   3124 R   0.7   0.0   0:00.03 top      \u001b[m\u001b[m\u001b[K\n",
            "\u001b[m    339 root      20   0  537860  14356   5724 S   0.3   0.1   0:00.17 python3  \u001b[m\u001b[m\u001b[K\n",
            "\u001b[m      1 root      20   0    1012      8      0 S   0.0   0.0   0:00.59 docker-+ \u001b[m\u001b[m\u001b[K\n",
            "\u001b[m      7 root      20   0  896488  49092  30712 S   0.0   0.4   0:04.02 node     \u001b[m\u001b[m\u001b[K\n",
            "\u001b[m     20 root      20   0    5524    520    448 S   0.0   0.0   0:00.64 tail     \u001b[m\u001b[m\u001b[K\n",
            "\u001b[m     31 root      20   0    6904   3304   3012 S   0.0   0.0   0:00.53 oom_mon+ \u001b[m\u001b[m\u001b[K\n",
            "\u001b[m     33 root      20   0    6904   1580   1304 S   0.0   0.0   0:00.00 run.sh   \u001b[m\u001b[m\u001b[K\n",
            "\u001b[m     35 root      20   0  722040  14596   8124 S   0.0   0.1   0:00.45 kernel_+ \u001b[m\u001b[m\u001b[K\n",
            "\u001b[m     61 root      20   0       0      0      0 Z   0.0   0.0   0:06.32 python3  \u001b[m\u001b[m\u001b[K\n",
            "\u001b[m     62 root      20   0   77156  43996  12980 S   0.0   0.3   0:00.71 colab-f+ \u001b[m\u001b[m\u001b[K\n",
            "\u001b[m     83 root      20   0  556532 152872  48720 S   0.0   1.1   0:05.10 jupyter+ \u001b[m\u001b[m\u001b[K\n",
            "\u001b[m    372 root      20   0 1125592 385712  30220 S   0.0   2.9   0:57.67 node     \u001b[m\u001b[m\u001b[K\n",
            "\u001b[m   4087 root      20   0    5488    516    448 S   0.0   0.0   0:00.00 sleep    \u001b[m\u001b[m\u001b[K\n",
            "\u001b[J\u001b[H\u001b[mtop - 01:59:06 up 16 min,  0 users,  load average: 0.61, 0.46, 0.32\u001b[m\u001b[m\u001b[m\u001b[m\u001b[K\n",
            "\n",
            "%Cpu(s):\u001b[m\u001b[m\u001b[1m  1.5 \u001b[m\u001b[mus,\u001b[m\u001b[m\u001b[1m  1.3 \u001b[m\u001b[msy,\u001b[m\u001b[m\u001b[1m  0.0 \u001b[m\u001b[mni,\u001b[m\u001b[m\u001b[1m 97.0 \u001b[m\u001b[mid,\u001b[m\u001b[m\u001b[1m  0.0 \u001b[m\u001b[mwa,\u001b[m\u001b[m\u001b[1m  0.0 \u001b[m\u001b[mhi,\u001b[m\u001b[m\u001b[1m  0.2 \u001b[m\u001b[msi,\u001b[m\u001b[m\u001b[1m  0.0 \u001b[m\u001b[mst\u001b[m\u001b[m\u001b[m\u001b[m\u001b[K\n",
            "MiB Mem :\u001b[m\u001b[m\u001b[1m  12985.5 \u001b[m\u001b[mtotal,\u001b[m\u001b[m\u001b[1m   8861.3 \u001b[m\u001b[mfree,\u001b[m\u001b[m\u001b[1m    917.0 \u001b[m\u001b[mused,\u001b[m\u001b[m\u001b[1m   3207.2 \u001b[m\u001b[mbuff/cache\u001b[m\u001b[m\u001b[m\u001b[m\u001b[K\n",
            "MiB Swap:\u001b[m\u001b[m\u001b[1m      0.0 \u001b[m\u001b[mtotal,\u001b[m\u001b[m\u001b[1m      0.0 \u001b[m\u001b[mfree,\u001b[m\u001b[m\u001b[1m      0.0 \u001b[m\u001b[mused.\u001b[m\u001b[m\u001b[1m  11787.4 \u001b[m\u001b[mavail Mem \u001b[m\u001b[m\u001b[m\u001b[m\u001b[K\n",
            "\u001b[K\n",
            "\n",
            "\u001b[m    300 root      20   0 1127356 107780  25188 S   0.7   0.8   0:06.45 python3  \u001b[m\u001b[m\u001b[K\n",
            "\u001b[m      7 root      20   0  896488  49356  30712 S   0.3   0.4   0:04.03 node     \u001b[m\u001b[m\u001b[K\n",
            "\u001b[m     31 root      20   0    6904   3304   3012 S   0.3   0.0   0:00.54 oom_mon+ \u001b[m\u001b[m\u001b[K\n",
            "\u001b[m     83 root      20   0  556532 152872  48720 S   0.3   1.1   0:05.11 jupyter+ \u001b[m\u001b[m\u001b[K\n",
            "\n",
            "\u001b[m     20 root      20   0    5524    520    448 S   0.0   0.0   0:00.64 tail     \u001b[m\u001b[m\u001b[K\n",
            "\u001b[m     33 root      20   0    6904   1580   1304 S   0.0   0.0   0:00.00 run.sh   \u001b[m\u001b[m\u001b[K\n",
            "\u001b[m     35 root      20   0  722040  14596   8124 S   0.0   0.1   0:00.45 kernel_+ \u001b[m\u001b[m\u001b[K\n",
            "\u001b[m     61 root      20   0       0      0      0 Z   0.0   0.0   0:06.32 python3  \u001b[m\u001b[m\u001b[K\n",
            "\u001b[m     62 root      20   0   77156  43996  12980 S   0.0   0.3   0:00.71 colab-f+ \u001b[m\u001b[m\u001b[K\n",
            "\u001b[m     84 root      20   0  712892   8236   2856 S   0.0   0.1   0:00.24 dap_mul+ \u001b[m\u001b[m\u001b[K\n",
            "\u001b[m    339 root      20   0  537860  14356   5724 S   0.0   0.1   0:00.17 python3  \u001b[m\u001b[m\u001b[K\n",
            "\u001b[m    372 root      20   0 1125592 385712  30220 S   0.0   2.9   0:57.67 node     \u001b[m\u001b[m\u001b[K\n",
            "\u001b[m\u001b[1m   3872 root      20   0    9128   3616   3124 R   0.0   0.0   0:00.03 top      \u001b[m\u001b[m\u001b[K\n",
            "\u001b[m   4101 root      20   0    5488    576    512 S   0.0   0.0   0:00.00 sleep    \u001b[m\u001b[m\u001b[K\n",
            "\u001b[J\u001b[H\u001b[mtop - 01:59:09 up 16 min,  0 users,  load average: 0.61, 0.46, 0.32\u001b[m\u001b[m\u001b[m\u001b[m\u001b[K\n",
            "\n",
            "%Cpu(s):\u001b[m\u001b[m\u001b[1m  4.5 \u001b[m\u001b[mus,\u001b[m\u001b[m\u001b[1m  2.5 \u001b[m\u001b[msy,\u001b[m\u001b[m\u001b[1m  0.0 \u001b[m\u001b[mni,\u001b[m\u001b[m\u001b[1m 92.8 \u001b[m\u001b[mid,\u001b[m\u001b[m\u001b[1m  0.0 \u001b[m\u001b[mwa,\u001b[m\u001b[m\u001b[1m  0.0 \u001b[m\u001b[mhi,\u001b[m\u001b[m\u001b[1m  0.0 \u001b[m\u001b[msi,\u001b[m\u001b[m\u001b[1m  0.2 \u001b[m\u001b[mst\u001b[m\u001b[m\u001b[m\u001b[m\u001b[K\n",
            "MiB Mem :\u001b[m\u001b[m\u001b[1m  12985.5 \u001b[m\u001b[mtotal,\u001b[m\u001b[m\u001b[1m   8860.7 \u001b[m\u001b[mfree,\u001b[m\u001b[m\u001b[1m    917.7 \u001b[m\u001b[mused,\u001b[m\u001b[m\u001b[1m   3207.2 \u001b[m\u001b[mbuff/cache\u001b[m\u001b[m\u001b[m\u001b[m\u001b[K\n",
            "MiB Swap:\u001b[m\u001b[m\u001b[1m      0.0 \u001b[m\u001b[mtotal,\u001b[m\u001b[m\u001b[1m      0.0 \u001b[m\u001b[mfree,\u001b[m\u001b[m\u001b[1m      0.0 \u001b[m\u001b[mused.\u001b[m\u001b[m\u001b[1m  11786.7 \u001b[m\u001b[mavail Mem \u001b[m\u001b[m\u001b[m\u001b[m\u001b[K\n",
            "\u001b[K\n",
            "\n",
            "\u001b[m    300 root      20   0 1127356 107780  25188 S   0.7   0.8   0:06.47 python3  \u001b[m\u001b[m\u001b[K\n",
            "\u001b[m    339 root      20   0  537860  14356   5724 S   0.3   0.1   0:00.18 python3  \u001b[m\u001b[m\u001b[K\n",
            "\u001b[m      1 root      20   0    1012      8      0 S   0.0   0.0   0:00.59 docker-+ \u001b[m\u001b[m\u001b[K\n",
            "\u001b[m      7 root      20   0  896488  49356  30712 S   0.0   0.4   0:04.03 node     \u001b[m\u001b[m\u001b[K\n",
            "\u001b[m     20 root      20   0    5524    520    448 S   0.0   0.0   0:00.64 tail     \u001b[m\u001b[m\u001b[K\n",
            "\u001b[m     31 root      20   0    6904   3304   3012 S   0.0   0.0   0:00.54 oom_mon+ \u001b[m\u001b[m\u001b[K\n",
            "\n",
            "\n",
            "\n",
            "\n",
            "\u001b[m     83 root      20   0  556532 152872  48720 S   0.0   1.1   0:05.11 jupyter+ \u001b[m\u001b[m\u001b[K\n",
            "\u001b[m     84 root      20   0  712892   8236   2856 S   0.0   0.1   0:00.24 dap_mul+ \u001b[m\u001b[m\u001b[K\n",
            "\n",
            "\n",
            "\u001b[m   4113 root      20   0    5488    512    448 S   0.0   0.0   0:00.00 sleep    \u001b[m\u001b[m\u001b[K\n",
            "\u001b[J\u001b[H\u001b[mtop - 01:59:12 up 16 min,  0 users,  load average: 0.64, 0.47, 0.33\u001b[m\u001b[m\u001b[m\u001b[m\u001b[K\n",
            "\n",
            "%Cpu(s):\u001b[m\u001b[m\u001b[1m 21.3 \u001b[m\u001b[mus,\u001b[m\u001b[m\u001b[1m  5.2 \u001b[m\u001b[msy,\u001b[m\u001b[m\u001b[1m  0.0 \u001b[m\u001b[mni,\u001b[m\u001b[m\u001b[1m 73.2 \u001b[m\u001b[mid,\u001b[m\u001b[m\u001b[1m  0.2 \u001b[m\u001b[mwa,\u001b[m\u001b[m\u001b[1m  0.0 \u001b[m\u001b[mhi,\u001b[m\u001b[m\u001b[1m  0.2 \u001b[m\u001b[msi,\u001b[m\u001b[m\u001b[1m  0.0 \u001b[m\u001b[mst\u001b[m\u001b[m\u001b[m\u001b[m\u001b[K\n",
            "MiB Mem :\u001b[m\u001b[m\u001b[1m  12985.5 \u001b[m\u001b[mtotal,\u001b[m\u001b[m\u001b[1m   8861.3 \u001b[m\u001b[mfree,\u001b[m\u001b[m\u001b[1m    917.0 \u001b[m\u001b[mused,\u001b[m\u001b[m\u001b[1m   3207.2 \u001b[m\u001b[mbuff/cache\u001b[m\u001b[m\u001b[m\u001b[m\u001b[K\n",
            "MiB Swap:\u001b[m\u001b[m\u001b[1m      0.0 \u001b[m\u001b[mtotal,\u001b[m\u001b[m\u001b[1m      0.0 \u001b[m\u001b[mfree,\u001b[m\u001b[m\u001b[1m      0.0 \u001b[m\u001b[mused.\u001b[m\u001b[m\u001b[1m  11787.5 \u001b[m\u001b[mavail Mem \u001b[m\u001b[m\u001b[m\u001b[m\u001b[K\n",
            "\u001b[K\n",
            "\n",
            "\u001b[m    300 root      20   0 1127356 107780  25188 S   1.0   0.8   0:06.50 python3  \u001b[m\u001b[m\u001b[K\n",
            "\u001b[m    339 root      20   0  538116  14620   5724 S   0.3   0.1   0:00.19 python3  \u001b[m\u001b[m\u001b[K\n",
            "\n",
            "\n",
            "\n",
            "\n",
            "\n",
            "\n",
            "\n",
            "\n",
            "\n",
            "\n",
            "\n",
            "\n",
            "\u001b[m   4125 root      20   0    5488    580    516 S   0.0   0.0   0:00.00 sleep    \u001b[m\u001b[m\u001b[K\n",
            "\u001b[J\u001b[H\u001b[mtop - 01:59:15 up 16 min,  0 users,  load average: 0.64, 0.47, 0.33\u001b[m\u001b[m\u001b[m\u001b[m\u001b[K\n",
            "\n",
            "%Cpu(s):\u001b[m\u001b[m\u001b[1m  1.2 \u001b[m\u001b[mus,\u001b[m\u001b[m\u001b[1m  1.0 \u001b[m\u001b[msy,\u001b[m\u001b[m\u001b[1m  0.0 \u001b[m\u001b[mni,\u001b[m\u001b[m\u001b[1m 97.8 \u001b[m\u001b[mid,\u001b[m\u001b[m\u001b[1m  0.0 \u001b[m\u001b[mwa,\u001b[m\u001b[m\u001b[1m  0.0 \u001b[m\u001b[mhi,\u001b[m\u001b[m\u001b[1m  0.0 \u001b[m\u001b[msi,\u001b[m\u001b[m\u001b[1m  0.0 \u001b[m\u001b[mst\u001b[m\u001b[m\u001b[m\u001b[m\u001b[K\n",
            "MiB Mem :\u001b[m\u001b[m\u001b[1m  12985.5 \u001b[m\u001b[mtotal,\u001b[m\u001b[m\u001b[1m   8861.1 \u001b[m\u001b[mfree,\u001b[m\u001b[m\u001b[1m    917.2 \u001b[m\u001b[mused,\u001b[m\u001b[m\u001b[1m   3207.2 \u001b[m\u001b[mbuff/cache\u001b[m\u001b[m\u001b[m\u001b[m\u001b[K\n",
            "MiB Swap:\u001b[m\u001b[m\u001b[1m      0.0 \u001b[m\u001b[mtotal,\u001b[m\u001b[m\u001b[1m      0.0 \u001b[m\u001b[mfree,\u001b[m\u001b[m\u001b[1m      0.0 \u001b[m\u001b[mused.\u001b[m\u001b[m\u001b[1m  11787.2 \u001b[m\u001b[mavail Mem \u001b[m\u001b[m\u001b[m\u001b[m\u001b[K\n",
            "\u001b[K\n",
            "\n",
            "\u001b[m    300 root      20   0 1127356 107780  25188 S   1.0   0.8   0:06.53 python3  \u001b[m\u001b[m\u001b[K\n",
            "\u001b[m      7 root      20   0  896488  49356  30712 S   0.3   0.4   0:04.04 node     \u001b[m\u001b[m\u001b[K\n",
            "\u001b[m     35 root      20   0  722040  14596   8124 S   0.3   0.1   0:00.46 kernel_+ \u001b[m\u001b[m\u001b[K\n",
            "\u001b[m     83 root      20   0  556532 152872  48720 S   0.3   1.1   0:05.12 jupyter+ \u001b[m\u001b[m\u001b[K\n",
            "\u001b[m     84 root      20   0  712892   8236   2856 S   0.3   0.1   0:00.25 dap_mul+ \u001b[m\u001b[m\u001b[K\n",
            "\u001b[m    339 root      20   0  538116  14620   5724 S   0.3   0.1   0:00.20 python3  \u001b[m\u001b[m\u001b[K\n",
            "\u001b[m      1 root      20   0    1012      8      0 S   0.0   0.0   0:00.59 docker-+ \u001b[m\u001b[m\u001b[K\n",
            "\u001b[m     20 root      20   0    5524    520    448 S   0.0   0.0   0:00.64 tail     \u001b[m\u001b[m\u001b[K\n",
            "\u001b[m     31 root      20   0    6904   3304   3012 S   0.0   0.0   0:00.54 oom_mon+ \u001b[m\u001b[m\u001b[K\n",
            "\u001b[m     33 root      20   0    6904   1580   1304 S   0.0   0.0   0:00.00 run.sh   \u001b[m\u001b[m\u001b[K\n",
            "\u001b[m     61 root      20   0       0      0      0 Z   0.0   0.0   0:06.32 python3  \u001b[m\u001b[m\u001b[K\n",
            "\u001b[m     62 root      20   0   77156  43996  12980 S   0.0   0.3   0:00.71 colab-f+ \u001b[m\u001b[m\u001b[K\n",
            "\n",
            "\n",
            "\u001b[m   4137 root      20   0    5488    580    512 S   0.0   0.0   0:00.00 sleep    \u001b[m\u001b[m\u001b[K\n",
            "\u001b[J\u001b[H\u001b[mtop - 01:59:18 up 16 min,  0 users,  load average: 0.59, 0.46, 0.32\u001b[m\u001b[m\u001b[m\u001b[m\u001b[K\n",
            "\n",
            "%Cpu(s):\u001b[m\u001b[m\u001b[1m  1.2 \u001b[m\u001b[mus,\u001b[m\u001b[m\u001b[1m  1.2 \u001b[m\u001b[msy,\u001b[m\u001b[m\u001b[1m  0.0 \u001b[m\u001b[mni,\u001b[m\u001b[m\u001b[1m 97.7 \u001b[m\u001b[mid,\u001b[m\u001b[m\u001b[1m  0.0 \u001b[m\u001b[mwa,\u001b[m\u001b[m\u001b[1m  0.0 \u001b[m\u001b[mhi,\u001b[m\u001b[m\u001b[1m  0.0 \u001b[m\u001b[msi,\u001b[m\u001b[m\u001b[1m  0.0 \u001b[m\u001b[mst\u001b[m\u001b[m\u001b[m\u001b[m\u001b[K\n",
            "MiB Mem :\u001b[m\u001b[m\u001b[1m  12985.5 \u001b[m\u001b[mtotal,\u001b[m\u001b[m\u001b[1m   8860.8 \u001b[m\u001b[mfree,\u001b[m\u001b[m\u001b[1m    917.5 \u001b[m\u001b[mused,\u001b[m\u001b[m\u001b[1m   3207.2 \u001b[m\u001b[mbuff/cache\u001b[m\u001b[m\u001b[m\u001b[m\u001b[K\n",
            "MiB Swap:\u001b[m\u001b[m\u001b[1m      0.0 \u001b[m\u001b[mtotal,\u001b[m\u001b[m\u001b[1m      0.0 \u001b[m\u001b[mfree,\u001b[m\u001b[m\u001b[1m      0.0 \u001b[m\u001b[mused.\u001b[m\u001b[m\u001b[1m  11786.9 \u001b[m\u001b[mavail Mem \u001b[m\u001b[m\u001b[m\u001b[m\u001b[K\n",
            "\u001b[K\n",
            "\n",
            "\u001b[m    300 root      20   0 1127356 107780  25188 S   0.7   0.8   0:06.55 python3  \u001b[m\u001b[m\u001b[K\n",
            "\u001b[m     84 root      20   0  712892   8236   2856 S   0.3   0.1   0:00.26 dap_mul+ \u001b[m\u001b[m\u001b[K\n",
            "\u001b[m    339 root      20   0  538116  14620   5724 S   0.3   0.1   0:00.21 python3  \u001b[m\u001b[m\u001b[K\n",
            "\u001b[m      1 root      20   0    1012      8      0 S   0.0   0.0   0:00.59 docker-+ \u001b[m\u001b[m\u001b[K\n",
            "\u001b[m      7 root      20   0  896488  49620  30712 S   0.0   0.4   0:04.04 node     \u001b[m\u001b[m\u001b[K\n",
            "\u001b[m     20 root      20   0    5524    520    448 S   0.0   0.0   0:00.64 tail     \u001b[m\u001b[m\u001b[K\n",
            "\u001b[m     31 root      20   0    6904   3304   3012 S   0.0   0.0   0:00.54 oom_mon+ \u001b[m\u001b[m\u001b[K\n",
            "\u001b[m     33 root      20   0    6904   1580   1304 S   0.0   0.0   0:00.00 run.sh   \u001b[m\u001b[m\u001b[K\n",
            "\u001b[m     35 root      20   0  722040  14596   8124 S   0.0   0.1   0:00.46 kernel_+ \u001b[m\u001b[m\u001b[K\n",
            "\u001b[m     61 root      20   0       0      0      0 Z   0.0   0.0   0:06.32 python3  \u001b[m\u001b[m\u001b[K\n",
            "\u001b[m     62 root      20   0   77156  43996  12980 S   0.0   0.3   0:00.71 colab-f+ \u001b[m\u001b[m\u001b[K\n",
            "\u001b[m     83 root      20   0  556532 152880  48720 S   0.0   1.1   0:05.12 jupyter+ \u001b[m\u001b[m\u001b[K\n",
            "\n",
            "\n",
            "\u001b[m   4149 root      20   0    5488    520    448 S   0.0   0.0   0:00.00 sleep    \u001b[m\u001b[m\u001b[K\n",
            "\u001b[J\u001b[H\u001b[mtop - 01:59:21 up 16 min,  0 users,  load average: 0.54, 0.45, 0.32\u001b[m\u001b[m\u001b[m\u001b[m\u001b[K\n",
            "\n",
            "%Cpu(s):\u001b[m\u001b[m\u001b[1m 10.5 \u001b[m\u001b[mus,\u001b[m\u001b[m\u001b[1m  3.0 \u001b[m\u001b[msy,\u001b[m\u001b[m\u001b[1m  0.0 \u001b[m\u001b[mni,\u001b[m\u001b[m\u001b[1m 86.3 \u001b[m\u001b[mid,\u001b[m\u001b[m\u001b[1m  0.0 \u001b[m\u001b[mwa,\u001b[m\u001b[m\u001b[1m  0.0 \u001b[m\u001b[mhi,\u001b[m\u001b[m\u001b[1m  0.2 \u001b[m\u001b[msi,\u001b[m\u001b[m\u001b[1m  0.0 \u001b[m\u001b[mst\u001b[m\u001b[m\u001b[m\u001b[m\u001b[K\n",
            "MiB Mem :\u001b[m\u001b[m\u001b[1m  12985.5 \u001b[m\u001b[mtotal,\u001b[m\u001b[m\u001b[1m   8860.5 \u001b[m\u001b[mfree,\u001b[m\u001b[m\u001b[1m    917.8 \u001b[m\u001b[mused,\u001b[m\u001b[m\u001b[1m   3207.2 \u001b[m\u001b[mbuff/cache\u001b[m\u001b[m\u001b[m\u001b[m\u001b[K\n",
            "MiB Swap:\u001b[m\u001b[m\u001b[1m      0.0 \u001b[m\u001b[mtotal,\u001b[m\u001b[m\u001b[1m      0.0 \u001b[m\u001b[mfree,\u001b[m\u001b[m\u001b[1m      0.0 \u001b[m\u001b[mused.\u001b[m\u001b[m\u001b[1m  11786.7 \u001b[m\u001b[mavail Mem \u001b[m\u001b[m\u001b[m\u001b[m\u001b[K\n",
            "\u001b[K\n",
            "\n",
            "\u001b[m    300 root      20   0 1127356 107780  25188 S   1.0   0.8   0:06.58 python3  \u001b[m\u001b[m\u001b[K\n",
            "\u001b[m    339 root      20   0  538116  14620   5724 S   0.3   0.1   0:00.22 python3  \u001b[m\u001b[m\u001b[K\n",
            "\u001b[m      1 root      20   0    1012      8      0 S   0.0   0.0   0:00.59 docker-+ \u001b[m\u001b[m\u001b[K\n",
            "\u001b[m      7 root      20   0  896488  48772  30712 S   0.0   0.4   0:04.04 node     \u001b[m\u001b[m\u001b[K\n",
            "\u001b[m     20 root      20   0    5524    520    448 S   0.0   0.0   0:00.64 tail     \u001b[m\u001b[m\u001b[K\n",
            "\u001b[m     31 root      20   0    6904   3304   3012 S   0.0   0.0   0:00.54 oom_mon+ \u001b[m\u001b[m\u001b[K\n",
            "\u001b[m     33 root      20   0    6904   1580   1304 S   0.0   0.0   0:00.00 run.sh   \u001b[m\u001b[m\u001b[K\n",
            "\u001b[m     35 root      20   0  722040  14596   8124 S   0.0   0.1   0:00.46 kernel_+ \u001b[m\u001b[m\u001b[K\n",
            "\u001b[m     61 root      20   0       0      0      0 Z   0.0   0.0   0:06.32 python3  \u001b[m\u001b[m\u001b[K\n",
            "\u001b[m     62 root      20   0   77156  43996  12980 S   0.0   0.3   0:00.71 colab-f+ \u001b[m\u001b[m\u001b[K\n",
            "\u001b[m     83 root      20   0  556532 152880  48720 S   0.0   1.1   0:05.12 jupyter+ \u001b[m\u001b[m\u001b[K\n",
            "\u001b[m     84 root      20   0  712892   8236   2856 S   0.0   0.1   0:00.26 dap_mul+ \u001b[m\u001b[m\u001b[K\n",
            "\n",
            "\n",
            "\u001b[m   4161 root      20   0    5488    576    512 S   0.0   0.0   0:00.00 sleep    \u001b[m\u001b[m\u001b[K\n",
            "\u001b[J\u001b[H\u001b[mtop - 01:59:24 up 16 min,  0 users,  load average: 0.54, 0.45, 0.32\u001b[m\u001b[m\u001b[m\u001b[m\u001b[K\n",
            "\n",
            "%Cpu(s):\u001b[m\u001b[m\u001b[1m 15.7 \u001b[m\u001b[mus,\u001b[m\u001b[m\u001b[1m  4.3 \u001b[m\u001b[msy,\u001b[m\u001b[m\u001b[1m  0.0 \u001b[m\u001b[mni,\u001b[m\u001b[m\u001b[1m 80.0 \u001b[m\u001b[mid,\u001b[m\u001b[m\u001b[1m  0.0 \u001b[m\u001b[mwa,\u001b[m\u001b[m\u001b[1m  0.0 \u001b[m\u001b[mhi,\u001b[m\u001b[m\u001b[1m  0.0 \u001b[m\u001b[msi,\u001b[m\u001b[m\u001b[1m  0.0 \u001b[m\u001b[mst\u001b[m\u001b[m\u001b[m\u001b[m\u001b[K\n",
            "MiB Mem :\u001b[m\u001b[m\u001b[1m  12985.5 \u001b[m\u001b[mtotal,\u001b[m\u001b[m\u001b[1m   8861.3 \u001b[m\u001b[mfree,\u001b[m\u001b[m\u001b[1m    917.0 \u001b[m\u001b[mused,\u001b[m\u001b[m\u001b[1m   3207.2 \u001b[m\u001b[mbuff/cache\u001b[m\u001b[m\u001b[m\u001b[m\u001b[K\n",
            "MiB Swap:\u001b[m\u001b[m\u001b[1m      0.0 \u001b[m\u001b[mtotal,\u001b[m\u001b[m\u001b[1m      0.0 \u001b[m\u001b[mfree,\u001b[m\u001b[m\u001b[1m      0.0 \u001b[m\u001b[mused.\u001b[m\u001b[m\u001b[1m  11787.4 \u001b[m\u001b[mavail Mem \u001b[m\u001b[m\u001b[m\u001b[m\u001b[K\n",
            "\u001b[K\n",
            "\n",
            "\u001b[m    300 root      20   0 1127356 107780  25188 S   1.0   0.8   0:06.61 python3  \u001b[m\u001b[m\u001b[K\n",
            "\u001b[m      7 root      20   0  896488  49036  30712 S   0.3   0.4   0:04.05 node     \u001b[m\u001b[m\u001b[K\n",
            "\u001b[m     31 root      20   0    6904   3304   3012 S   0.3   0.0   0:00.55 oom_mon+ \u001b[m\u001b[m\u001b[K\n",
            "\u001b[m     83 root      20   0  556532 152880  48720 S   0.3   1.1   0:05.13 jupyter+ \u001b[m\u001b[m\u001b[K\n",
            "\u001b[m     84 root      20   0  712892   8236   2856 S   0.3   0.1   0:00.27 dap_mul+ \u001b[m\u001b[m\u001b[K\n",
            "\u001b[m    339 root      20   0  538116  14620   5724 S   0.3   0.1   0:00.23 python3  \u001b[m\u001b[m\u001b[K\n",
            "\u001b[m      1 root      20   0    1012      8      0 S   0.0   0.0   0:00.59 docker-+ \u001b[m\u001b[m\u001b[K\n",
            "\u001b[m     20 root      20   0    5524    520    448 S   0.0   0.0   0:00.64 tail     \u001b[m\u001b[m\u001b[K\n",
            "\u001b[m     33 root      20   0    6904   1580   1304 S   0.0   0.0   0:00.00 run.sh   \u001b[m\u001b[m\u001b[K\n",
            "\u001b[m     35 root      20   0  722040  14596   8124 S   0.0   0.1   0:00.46 kernel_+ \u001b[m\u001b[m\u001b[K\n",
            "\u001b[m     61 root      20   0       0      0      0 Z   0.0   0.0   0:06.32 python3  \u001b[m\u001b[m\u001b[K\n",
            "\u001b[m     62 root      20   0   77156  43996  12980 S   0.0   0.3   0:00.71 colab-f+ \u001b[m\u001b[m\u001b[K\n",
            "\n",
            "\n",
            "\u001b[m   4173 root      20   0    5488    580    512 S   0.0   0.0   0:00.00 sleep    \u001b[m\u001b[m\u001b[K\n",
            "\u001b[J\u001b[H\u001b[mtop - 01:59:27 up 16 min,  0 users,  load average: 0.50, 0.44, 0.32\u001b[m\u001b[m\u001b[m\u001b[m\u001b[K\n",
            "\n",
            "%Cpu(s):\u001b[m\u001b[m\u001b[1m  1.3 \u001b[m\u001b[mus,\u001b[m\u001b[m\u001b[1m  1.2 \u001b[m\u001b[msy,\u001b[m\u001b[m\u001b[1m  0.0 \u001b[m\u001b[mni,\u001b[m\u001b[m\u001b[1m 97.5 \u001b[m\u001b[mid,\u001b[m\u001b[m\u001b[1m  0.0 \u001b[m\u001b[mwa,\u001b[m\u001b[m\u001b[1m  0.0 \u001b[m\u001b[mhi,\u001b[m\u001b[m\u001b[1m  0.0 \u001b[m\u001b[msi,\u001b[m\u001b[m\u001b[1m  0.0 \u001b[m\u001b[mst\u001b[m\u001b[m\u001b[m\u001b[m\u001b[K\n",
            "MiB Mem :\u001b[m\u001b[m\u001b[1m  12985.5 \u001b[m\u001b[mtotal,\u001b[m\u001b[m\u001b[1m   8861.1 \u001b[m\u001b[mfree,\u001b[m\u001b[m\u001b[1m    917.2 \u001b[m\u001b[mused,\u001b[m\u001b[m\u001b[1m   3207.2 \u001b[m\u001b[mbuff/cache\u001b[m\u001b[m\u001b[m\u001b[m\u001b[K\n",
            "MiB Swap:\u001b[m\u001b[m\u001b[1m      0.0 \u001b[m\u001b[mtotal,\u001b[m\u001b[m\u001b[1m      0.0 \u001b[m\u001b[mfree,\u001b[m\u001b[m\u001b[1m      0.0 \u001b[m\u001b[mused.\u001b[m\u001b[m\u001b[1m  11787.2 \u001b[m\u001b[mavail Mem \u001b[m\u001b[m\u001b[m\u001b[m\u001b[K\n",
            "\u001b[K\n",
            "\n",
            "\u001b[m     83 root      20   0  556532 152880  48720 S   0.7   1.1   0:05.15 jupyter+ \u001b[m\u001b[m\u001b[K\n",
            "\u001b[m    300 root      20   0 1127356 107780  25188 S   0.7   0.8   0:06.63 python3  \u001b[m\u001b[m\u001b[K\n",
            "\u001b[m      7 root      20   0  896488  49036  30712 S   0.3   0.4   0:04.06 node     \u001b[m\u001b[m\u001b[K\n",
            "\u001b[m     35 root      20   0  722040  15020   8124 S   0.3   0.1   0:00.47 kernel_+ \u001b[m\u001b[m\u001b[K\n",
            "\u001b[m      1 root      20   0    1012      8      0 S   0.0   0.0   0:00.59 docker-+ \u001b[m\u001b[m\u001b[K\n",
            "\u001b[m     20 root      20   0    5524    520    448 S   0.0   0.0   0:00.64 tail     \u001b[m\u001b[m\u001b[K\n",
            "\u001b[m     31 root      20   0    6904   3304   3012 S   0.0   0.0   0:00.55 oom_mon+ \u001b[m\u001b[m\u001b[K\n",
            "\u001b[m     33 root      20   0    6904   1580   1304 S   0.0   0.0   0:00.00 run.sh   \u001b[m\u001b[m\u001b[K\n",
            "\u001b[m     61 root      20   0       0      0      0 Z   0.0   0.0   0:06.32 python3  \u001b[m\u001b[m\u001b[K\n",
            "\u001b[m     62 root      20   0   77156  43996  12980 S   0.0   0.3   0:00.71 colab-f+ \u001b[m\u001b[m\u001b[K\n",
            "\u001b[m     84 root      20   0  712892   8236   2856 S   0.0   0.1   0:00.27 dap_mul+ \u001b[m\u001b[m\u001b[K\n",
            "\u001b[m    339 root      20   0  538116  14620   5724 S   0.0   0.1   0:00.23 python3  \u001b[m\u001b[m\u001b[K\n",
            "\n",
            "\n",
            "\u001b[m   4187 root      20   0    5488    520    452 S   0.0   0.0   0:00.00 sleep    \u001b[m\u001b[m\u001b[K\n",
            "\u001b[J\u001b[H\u001b[mtop - 01:59:30 up 16 min,  0 users,  load average: 0.50, 0.44, 0.32\u001b[m\u001b[m\u001b[m\u001b[m\u001b[K\n",
            "\n",
            "%Cpu(s):\u001b[m\u001b[m\u001b[1m  0.8 \u001b[m\u001b[mus,\u001b[m\u001b[m\u001b[1m  1.0 \u001b[m\u001b[msy,\u001b[m\u001b[m\u001b[1m  0.0 \u001b[m\u001b[mni,\u001b[m\u001b[m\u001b[1m 98.2 \u001b[m\u001b[mid,\u001b[m\u001b[m\u001b[1m  0.0 \u001b[m\u001b[mwa,\u001b[m\u001b[m\u001b[1m  0.0 \u001b[m\u001b[mhi,\u001b[m\u001b[m\u001b[1m  0.0 \u001b[m\u001b[msi,\u001b[m\u001b[m\u001b[1m  0.0 \u001b[m\u001b[mst\u001b[m\u001b[m\u001b[m\u001b[m\u001b[K\n",
            "MiB Mem :\u001b[m\u001b[m\u001b[1m  12985.5 \u001b[m\u001b[mtotal,\u001b[m\u001b[m\u001b[1m   8860.8 \u001b[m\u001b[mfree,\u001b[m\u001b[m\u001b[1m    917.5 \u001b[m\u001b[mused,\u001b[m\u001b[m\u001b[1m   3207.2 \u001b[m\u001b[mbuff/cache\u001b[m\u001b[m\u001b[m\u001b[m\u001b[K\n",
            "MiB Swap:\u001b[m\u001b[m\u001b[1m      0.0 \u001b[m\u001b[mtotal,\u001b[m\u001b[m\u001b[1m      0.0 \u001b[m\u001b[mfree,\u001b[m\u001b[m\u001b[1m      0.0 \u001b[m\u001b[mused.\u001b[m\u001b[m\u001b[1m  11787.0 \u001b[m\u001b[mavail Mem \u001b[m\u001b[m\u001b[m\u001b[m\u001b[K\n",
            "\u001b[K\n",
            "\n",
            "\u001b[m    300 root      20   0 1127356 107780  25188 S   1.0   0.8   0:06.66 python3  \u001b[m\u001b[m\u001b[K\n",
            "\u001b[m    339 root      20   0  538116  14620   5724 S   0.3   0.1   0:00.24 python3  \u001b[m\u001b[m\u001b[K\n",
            "\u001b[m      1 root      20   0    1012      8      0 S   0.0   0.0   0:00.59 docker-+ \u001b[m\u001b[m\u001b[K\n",
            "\u001b[m      7 root      20   0  896488  49300  30712 S   0.0   0.4   0:04.06 node     \u001b[m\u001b[m\u001b[K\n",
            "\u001b[m     20 root      20   0    5524    520    448 S   0.0   0.0   0:00.64 tail     \u001b[m\u001b[m\u001b[K\n",
            "\u001b[m     31 root      20   0    6904   3304   3012 S   0.0   0.0   0:00.55 oom_mon+ \u001b[m\u001b[m\u001b[K\n",
            "\u001b[m     33 root      20   0    6904   1580   1304 S   0.0   0.0   0:00.00 run.sh   \u001b[m\u001b[m\u001b[K\n",
            "\u001b[m     35 root      20   0  722040  15020   8124 S   0.0   0.1   0:00.47 kernel_+ \u001b[m\u001b[m\u001b[K\n",
            "\n",
            "\n",
            "\u001b[m     83 root      20   0  556532 152880  48720 S   0.0   1.1   0:05.15 jupyter+ \u001b[m\u001b[m\u001b[K\n",
            "\u001b[m     84 root      20   0  712892   8444   2856 S   0.0   0.1   0:00.27 dap_mul+ \u001b[m\u001b[m\u001b[K\n",
            "\n",
            "\n",
            "\u001b[m   4199 root      20   0    5488    520    448 S   0.0   0.0   0:00.00 sleep    \u001b[m\u001b[m\u001b[K\n",
            "\u001b[J\u001b[H\u001b[mtop - 01:59:33 up 16 min,  0 users,  load average: 0.46, 0.44, 0.32\u001b[m\u001b[m\u001b[m\u001b[m\u001b[K\n",
            "\n",
            "%Cpu(s):\u001b[m\u001b[m\u001b[1m 16.5 \u001b[m\u001b[mus,\u001b[m\u001b[m\u001b[1m  3.7 \u001b[m\u001b[msy,\u001b[m\u001b[m\u001b[1m  0.0 \u001b[m\u001b[mni,\u001b[m\u001b[m\u001b[1m 79.5 \u001b[m\u001b[mid,\u001b[m\u001b[m\u001b[1m  0.0 \u001b[m\u001b[mwa,\u001b[m\u001b[m\u001b[1m  0.0 \u001b[m\u001b[mhi,\u001b[m\u001b[m\u001b[1m  0.2 \u001b[m\u001b[msi,\u001b[m\u001b[m\u001b[1m  0.2 \u001b[m\u001b[mst\u001b[m\u001b[m\u001b[m\u001b[m\u001b[K\n",
            "MiB Mem :\u001b[m\u001b[m\u001b[1m  12985.5 \u001b[m\u001b[mtotal,\u001b[m\u001b[m\u001b[1m   8859.8 \u001b[m\u001b[mfree,\u001b[m\u001b[m\u001b[1m    918.4 \u001b[m\u001b[mused,\u001b[m\u001b[m\u001b[1m   3207.4 \u001b[m\u001b[mbuff/cache\u001b[m\u001b[m\u001b[m\u001b[m\u001b[K\n",
            "MiB Swap:\u001b[m\u001b[m\u001b[1m      0.0 \u001b[m\u001b[mtotal,\u001b[m\u001b[m\u001b[1m      0.0 \u001b[m\u001b[mfree,\u001b[m\u001b[m\u001b[1m      0.0 \u001b[m\u001b[mused.\u001b[m\u001b[m\u001b[1m  11786.1 \u001b[m\u001b[mavail Mem \u001b[m\u001b[m\u001b[m\u001b[m\u001b[K\n",
            "\u001b[K\n",
            "\n",
            "\u001b[m    300 root      20   0 1127356 107780  25188 S   0.7   0.8   0:06.68 python3  \u001b[m\u001b[m\u001b[K\n",
            "\u001b[m     84 root      20   0  712892   8444   2856 S   0.3   0.1   0:00.28 dap_mul+ \u001b[m\u001b[m\u001b[K\n",
            "\u001b[m    339 root      20   0  538116  14620   5724 S   0.3   0.1   0:00.25 python3  \u001b[m\u001b[m\u001b[K\n",
            "\u001b[m      1 root      20   0    1012      8      0 S   0.0   0.0   0:00.59 docker-+ \u001b[m\u001b[m\u001b[K\n",
            "\u001b[m      7 root      20   0  896488  49300  30712 S   0.0   0.4   0:04.06 node     \u001b[m\u001b[m\u001b[K\n",
            "\u001b[m     20 root      20   0    5524    520    448 S   0.0   0.0   0:00.64 tail     \u001b[m\u001b[m\u001b[K\n",
            "\u001b[m     31 root      20   0    6904   3304   3012 S   0.0   0.0   0:00.55 oom_mon+ \u001b[m\u001b[m\u001b[K\n",
            "\u001b[m     33 root      20   0    6904   1580   1304 S   0.0   0.0   0:00.00 run.sh   \u001b[m\u001b[m\u001b[K\n",
            "\u001b[m     35 root      20   0  722040  15020   8124 S   0.0   0.1   0:00.47 kernel_+ \u001b[m\u001b[m\u001b[K\n",
            "\u001b[m     61 root      20   0       0      0      0 Z   0.0   0.0   0:06.32 python3  \u001b[m\u001b[m\u001b[K\n",
            "\u001b[m     62 root      20   0   77156  43996  12980 S   0.0   0.3   0:00.71 colab-f+ \u001b[m\u001b[m\u001b[K\n",
            "\u001b[m     83 root      20   0  556532 152880  48720 S   0.0   1.1   0:05.15 jupyter+ \u001b[m\u001b[m\u001b[K\n",
            "\n",
            "\n",
            "\u001b[m   4211 root      20   0    5488    588    516 S   0.0   0.0   0:00.00 sleep    \u001b[m\u001b[m\u001b[K\n",
            "\u001b[J\u001b[H\u001b[mtop - 01:59:36 up 16 min,  0 users,  load average: 0.42, 0.43, 0.32\u001b[m\u001b[m\u001b[m\u001b[m\u001b[K\n",
            "\n",
            "%Cpu(s):\u001b[m\u001b[m\u001b[1m  9.7 \u001b[m\u001b[mus,\u001b[m\u001b[m\u001b[1m  4.0 \u001b[m\u001b[msy,\u001b[m\u001b[m\u001b[1m  0.0 \u001b[m\u001b[mni,\u001b[m\u001b[m\u001b[1m 86.3 \u001b[m\u001b[mid,\u001b[m\u001b[m\u001b[1m  0.0 \u001b[m\u001b[mwa,\u001b[m\u001b[m\u001b[1m  0.0 \u001b[m\u001b[mhi,\u001b[m\u001b[m\u001b[1m  0.0 \u001b[m\u001b[msi,\u001b[m\u001b[m\u001b[1m  0.0 \u001b[m\u001b[mst\u001b[m\u001b[m\u001b[m\u001b[m\u001b[K\n",
            "MiB Mem :\u001b[m\u001b[m\u001b[1m  12985.5 \u001b[m\u001b[mtotal,\u001b[m\u001b[m\u001b[1m   8860.5 \u001b[m\u001b[mfree,\u001b[m\u001b[m\u001b[1m    917.7 \u001b[m\u001b[mused,\u001b[m\u001b[m\u001b[1m   3207.4 \u001b[m\u001b[mbuff/cache\u001b[m\u001b[m\u001b[m\u001b[m\u001b[K\n",
            "MiB Swap:\u001b[m\u001b[m\u001b[1m      0.0 \u001b[m\u001b[mtotal,\u001b[m\u001b[m\u001b[1m      0.0 \u001b[m\u001b[mfree,\u001b[m\u001b[m\u001b[1m      0.0 \u001b[m\u001b[mused.\u001b[m\u001b[m\u001b[1m  11786.8 \u001b[m\u001b[mavail Mem \u001b[m\u001b[m\u001b[m\u001b[m\u001b[K\n",
            "\u001b[K\n",
            "\n",
            "\u001b[m      7 root      20   0  896656  49072  30712 S   1.0   0.4   0:04.09 node     \u001b[m\u001b[m\u001b[K\n",
            "\u001b[m    300 root      20   0 1127356 107780  25188 S   0.7   0.8   0:06.70 python3  \u001b[m\u001b[m\u001b[K\n",
            "\u001b[m     35 root      20   0  722040  15020   8124 S   0.3   0.1   0:00.48 kernel_+ \u001b[m\u001b[m\u001b[K\n",
            "\u001b[m     83 root      20   0  556532 152880  48720 S   0.3   1.1   0:05.16 jupyter+ \u001b[m\u001b[m\u001b[K\n",
            "\u001b[m     84 root      20   0  712892   8444   2856 S   0.3   0.1   0:00.29 dap_mul+ \u001b[m\u001b[m\u001b[K\n",
            "\u001b[m      1 root      20   0    1012      8      0 S   0.0   0.0   0:00.59 docker-+ \u001b[m\u001b[m\u001b[K\n",
            "\u001b[m     20 root      20   0    5524    520    448 S   0.0   0.0   0:00.64 tail     \u001b[m\u001b[m\u001b[K\n",
            "\u001b[m     31 root      20   0    6904   3304   3012 S   0.0   0.0   0:00.55 oom_mon+ \u001b[m\u001b[m\u001b[K\n",
            "\u001b[m     33 root      20   0    6904   1580   1304 S   0.0   0.0   0:00.00 run.sh   \u001b[m\u001b[m\u001b[K\n",
            "\n",
            "\n",
            "\u001b[m    339 root      20   0  538116  14620   5724 S   0.0   0.1   0:00.25 python3  \u001b[m\u001b[m\u001b[K\n",
            "\n",
            "\n",
            "\u001b[m   4225 root      20   0    5488    516    448 S   0.0   0.0   0:00.00 sleep    \u001b[m\u001b[m\u001b[K\n",
            "\u001b[J\u001b[H\u001b[mtop - 01:59:39 up 16 min,  0 users,  load average: 0.42, 0.43, 0.32\u001b[m\u001b[m\u001b[m\u001b[m\u001b[K\n",
            "\n",
            "%Cpu(s):\u001b[m\u001b[m\u001b[1m  1.2 \u001b[m\u001b[mus,\u001b[m\u001b[m\u001b[1m  1.2 \u001b[m\u001b[msy,\u001b[m\u001b[m\u001b[1m  0.0 \u001b[m\u001b[mni,\u001b[m\u001b[m\u001b[1m 97.7 \u001b[m\u001b[mid,\u001b[m\u001b[m\u001b[1m  0.0 \u001b[m\u001b[mwa,\u001b[m\u001b[m\u001b[1m  0.0 \u001b[m\u001b[mhi,\u001b[m\u001b[m\u001b[1m  0.0 \u001b[m\u001b[msi,\u001b[m\u001b[m\u001b[1m  0.0 \u001b[m\u001b[mst\u001b[m\u001b[m\u001b[m\u001b[m\u001b[K\n",
            "MiB Mem :\u001b[m\u001b[m\u001b[1m  12985.5 \u001b[m\u001b[mtotal,\u001b[m\u001b[m\u001b[1m   8860.6 \u001b[m\u001b[mfree,\u001b[m\u001b[m\u001b[1m    917.6 \u001b[m\u001b[mused,\u001b[m\u001b[m\u001b[1m   3207.4 \u001b[m\u001b[mbuff/cache\u001b[m\u001b[m\u001b[m\u001b[m\u001b[K\n",
            "MiB Swap:\u001b[m\u001b[m\u001b[1m      0.0 \u001b[m\u001b[mtotal,\u001b[m\u001b[m\u001b[1m      0.0 \u001b[m\u001b[mfree,\u001b[m\u001b[m\u001b[1m      0.0 \u001b[m\u001b[mused.\u001b[m\u001b[m\u001b[1m  11786.9 \u001b[m\u001b[mavail Mem \u001b[m\u001b[m\u001b[m\u001b[m\u001b[K\n",
            "\u001b[K\n",
            "\n",
            "\u001b[m    300 root      20   0 1127356 107780  25188 S   1.0   0.8   0:06.73 python3  \u001b[m\u001b[m\u001b[K\n",
            "\u001b[m      7 root      20   0  896656  49072  30712 S   0.3   0.4   0:04.10 node     \u001b[m\u001b[m\u001b[K\n",
            "\u001b[m     20 root      20   0    5524    520    448 S   0.3   0.0   0:00.65 tail     \u001b[m\u001b[m\u001b[K\n",
            "\u001b[m     83 root      20   0  556532 152880  48720 S   0.3   1.1   0:05.17 jupyter+ \u001b[m\u001b[m\u001b[K\n",
            "\u001b[m    339 root      20   0  538116  14620   5724 S   0.3   0.1   0:00.26 python3  \u001b[m\u001b[m\u001b[K\n",
            "\n",
            "\u001b[m     31 root      20   0    6904   3304   3012 S   0.0   0.0   0:00.55 oom_mon+ \u001b[m\u001b[m\u001b[K\n",
            "\u001b[m     33 root      20   0    6904   1580   1304 S   0.0   0.0   0:00.00 run.sh   \u001b[m\u001b[m\u001b[K\n",
            "\u001b[m     35 root      20   0  722040  15020   8124 S   0.0   0.1   0:00.48 kernel_+ \u001b[m\u001b[m\u001b[K\n",
            "\n",
            "\n",
            "\u001b[m     84 root      20   0  712892   8444   2856 S   0.0   0.1   0:00.29 dap_mul+ \u001b[m\u001b[m\u001b[K\n",
            "\n",
            "\n",
            "\u001b[m   4239 root      20   0    5488    584    512 S   0.0   0.0   0:00.00 sleep    \u001b[m\u001b[m\u001b[K\n",
            "\u001b[J\u001b[H\u001b[mtop - 01:59:42 up 16 min,  0 users,  load average: 0.39, 0.42, 0.31\u001b[m\u001b[m\u001b[m\u001b[m\u001b[K\n",
            "\n",
            "%Cpu(s):\u001b[m\u001b[m\u001b[1m  1.5 \u001b[m\u001b[mus,\u001b[m\u001b[m\u001b[1m  1.2 \u001b[m\u001b[msy,\u001b[m\u001b[m\u001b[1m  0.0 \u001b[m\u001b[mni,\u001b[m\u001b[m\u001b[1m 97.3 \u001b[m\u001b[mid,\u001b[m\u001b[m\u001b[1m  0.0 \u001b[m\u001b[mwa,\u001b[m\u001b[m\u001b[1m  0.0 \u001b[m\u001b[mhi,\u001b[m\u001b[m\u001b[1m  0.0 \u001b[m\u001b[msi,\u001b[m\u001b[m\u001b[1m  0.0 \u001b[m\u001b[mst\u001b[m\u001b[m\u001b[m\u001b[m\u001b[K\n",
            "MiB Mem :\u001b[m\u001b[m\u001b[1m  12985.5 \u001b[m\u001b[mtotal,\u001b[m\u001b[m\u001b[1m   8861.5 \u001b[m\u001b[mfree,\u001b[m\u001b[m\u001b[1m    916.6 \u001b[m\u001b[mused,\u001b[m\u001b[m\u001b[1m   3207.4 \u001b[m\u001b[mbuff/cache\u001b[m\u001b[m\u001b[m\u001b[m\u001b[K\n",
            "MiB Swap:\u001b[m\u001b[m\u001b[1m      0.0 \u001b[m\u001b[mtotal,\u001b[m\u001b[m\u001b[1m      0.0 \u001b[m\u001b[mfree,\u001b[m\u001b[m\u001b[1m      0.0 \u001b[m\u001b[mused.\u001b[m\u001b[m\u001b[1m  11787.8 \u001b[m\u001b[mavail Mem \u001b[m\u001b[m\u001b[m\u001b[m\u001b[K\n",
            "\u001b[K\n",
            "\n",
            "\u001b[m    300 root      20   0 1127356 107780  25188 S   0.7   0.8   0:06.75 python3  \u001b[m\u001b[m\u001b[K\n",
            "\u001b[m     84 root      20   0  712892   8444   2856 S   0.3   0.1   0:00.30 dap_mul+ \u001b[m\u001b[m\u001b[K\n",
            "\u001b[m    339 root      20   0  538116  14620   5724 S   0.3   0.1   0:00.27 python3  \u001b[m\u001b[m\u001b[K\n",
            "\u001b[m      1 root      20   0    1012      8      0 S   0.0   0.0   0:00.59 docker-+ \u001b[m\u001b[m\u001b[K\n",
            "\u001b[m      7 root      20   0  896656  48220  30712 S   0.0   0.4   0:04.10 node     \u001b[m\u001b[m\u001b[K\n",
            "\u001b[m     20 root      20   0    5524    520    448 S   0.0   0.0   0:00.65 tail     \u001b[m\u001b[m\u001b[K\n",
            "\n",
            "\n",
            "\n",
            "\n",
            "\n",
            "\u001b[m     83 root      20   0  556532 152880  48720 S   0.0   1.1   0:05.17 jupyter+ \u001b[m\u001b[m\u001b[K\n",
            "\n",
            "\n",
            "\u001b[m   4251 root      20   0    5488    520    452 S   0.0   0.0   0:00.00 sleep    \u001b[m\u001b[m\u001b[K\n",
            "\u001b[J\u001b[H\u001b[mtop - 01:59:45 up 16 min,  0 users,  load average: 0.39, 0.42, 0.31\u001b[m\u001b[m\u001b[m\u001b[m\u001b[K\n",
            "\n",
            "%Cpu(s):\u001b[m\u001b[m\u001b[1m 21.6 \u001b[m\u001b[mus,\u001b[m\u001b[m\u001b[1m  5.0 \u001b[m\u001b[msy,\u001b[m\u001b[m\u001b[1m  0.0 \u001b[m\u001b[mni,\u001b[m\u001b[m\u001b[1m 73.2 \u001b[m\u001b[mid,\u001b[m\u001b[m\u001b[1m  0.0 \u001b[m\u001b[mwa,\u001b[m\u001b[m\u001b[1m  0.0 \u001b[m\u001b[mhi,\u001b[m\u001b[m\u001b[1m  0.2 \u001b[m\u001b[msi,\u001b[m\u001b[m\u001b[1m  0.0 \u001b[m\u001b[mst\u001b[m\u001b[m\u001b[m\u001b[m\u001b[K\n",
            "MiB Mem :\u001b[m\u001b[m\u001b[1m  12985.5 \u001b[m\u001b[mtotal,\u001b[m\u001b[m\u001b[1m   8860.2 \u001b[m\u001b[mfree,\u001b[m\u001b[m\u001b[1m    918.0 \u001b[m\u001b[mused,\u001b[m\u001b[m\u001b[1m   3207.4 \u001b[m\u001b[mbuff/cache\u001b[m\u001b[m\u001b[m\u001b[m\u001b[K\n",
            "MiB Swap:\u001b[m\u001b[m\u001b[1m      0.0 \u001b[m\u001b[mtotal,\u001b[m\u001b[m\u001b[1m      0.0 \u001b[m\u001b[mfree,\u001b[m\u001b[m\u001b[1m      0.0 \u001b[m\u001b[mused.\u001b[m\u001b[m\u001b[1m  11786.5 \u001b[m\u001b[mavail Mem \u001b[m\u001b[m\u001b[m\u001b[m\u001b[K\n",
            "\u001b[K\n",
            "\n",
            "\u001b[m    300 root      20   0 1127356 107780  25188 S   1.3   0.8   0:06.79 python3  \u001b[m\u001b[m\u001b[K\n",
            "\u001b[m     31 root      20   0    6904   3304   3012 S   0.3   0.0   0:00.56 oom_mon+ \u001b[m\u001b[m\u001b[K\n",
            "\u001b[m    339 root      20   0  538116  14884   5724 S   0.3   0.1   0:00.28 python3  \u001b[m\u001b[m\u001b[K\n",
            "\n",
            "\u001b[m      7 root      20   0  896656  48480  30712 S   0.0   0.4   0:04.10 node     \u001b[m\u001b[m\u001b[K\n",
            "\n",
            "\u001b[m     33 root      20   0    6904   1580   1304 S   0.0   0.0   0:00.00 run.sh   \u001b[m\u001b[m\u001b[K\n",
            "\u001b[m     35 root      20   0  722040  15020   8124 S   0.0   0.1   0:00.48 kernel_+ \u001b[m\u001b[m\u001b[K\n",
            "\u001b[m     61 root      20   0       0      0      0 Z   0.0   0.0   0:06.32 python3  \u001b[m\u001b[m\u001b[K\n",
            "\u001b[m     62 root      20   0   77156  43996  12980 S   0.0   0.3   0:00.71 colab-f+ \u001b[m\u001b[m\u001b[K\n",
            "\u001b[m     83 root      20   0  556532 152880  48720 S   0.0   1.1   0:05.17 jupyter+ \u001b[m\u001b[m\u001b[K\n",
            "\u001b[m     84 root      20   0  712892   8444   2856 S   0.0   0.1   0:00.30 dap_mul+ \u001b[m\u001b[m\u001b[K\n",
            "\n",
            "\n",
            "\u001b[m   4263 root      20   0    5488    584    516 S   0.0   0.0   0:00.00 sleep    \u001b[m\u001b[m\u001b[K\n",
            "\u001b[J\u001b[H\u001b[mtop - 01:59:48 up 16 min,  0 users,  load average: 0.36, 0.41, 0.31\u001b[m\u001b[m\u001b[m\u001b[m\u001b[K\n",
            "\n",
            "%Cpu(s):\u001b[m\u001b[m\u001b[1m  4.3 \u001b[m\u001b[mus,\u001b[m\u001b[m\u001b[1m  2.8 \u001b[m\u001b[msy,\u001b[m\u001b[m\u001b[1m  0.0 \u001b[m\u001b[mni,\u001b[m\u001b[m\u001b[1m 92.7 \u001b[m\u001b[mid,\u001b[m\u001b[m\u001b[1m  0.0 \u001b[m\u001b[mwa,\u001b[m\u001b[m\u001b[1m  0.0 \u001b[m\u001b[mhi,\u001b[m\u001b[m\u001b[1m  0.2 \u001b[m\u001b[msi,\u001b[m\u001b[m\u001b[1m  0.0 \u001b[m\u001b[mst\u001b[m\u001b[m\u001b[m\u001b[m\u001b[K\n",
            "MiB Mem :\u001b[m\u001b[m\u001b[1m  12985.5 \u001b[m\u001b[mtotal,\u001b[m\u001b[m\u001b[1m   8861.3 \u001b[m\u001b[mfree,\u001b[m\u001b[m\u001b[1m    916.9 \u001b[m\u001b[mused,\u001b[m\u001b[m\u001b[1m   3207.4 \u001b[m\u001b[mbuff/cache\u001b[m\u001b[m\u001b[m\u001b[m\u001b[K\n",
            "MiB Swap:\u001b[m\u001b[m\u001b[1m      0.0 \u001b[m\u001b[mtotal,\u001b[m\u001b[m\u001b[1m      0.0 \u001b[m\u001b[mfree,\u001b[m\u001b[m\u001b[1m      0.0 \u001b[m\u001b[mused.\u001b[m\u001b[m\u001b[1m  11787.6 \u001b[m\u001b[mavail Mem \u001b[m\u001b[m\u001b[m\u001b[m\u001b[K\n",
            "\u001b[K\n",
            "\n",
            "\u001b[m     83 root      20   0  556532 152880  48720 S   0.7   1.1   0:05.19 jupyter+ \u001b[m\u001b[m\u001b[K\n",
            "\u001b[m    300 root      20   0 1127356 107780  25188 S   0.7   0.8   0:06.81 python3  \u001b[m\u001b[m\u001b[K\n",
            "\u001b[m      7 root      20   0  896656  48480  30712 S   0.3   0.4   0:04.11 node     \u001b[m\u001b[m\u001b[K\n",
            "\u001b[m     35 root      20   0  722040  15020   8124 S   0.3   0.1   0:00.49 kernel_+ \u001b[m\u001b[m\u001b[K\n",
            "\u001b[m      1 root      20   0    1012      8      0 S   0.0   0.0   0:00.59 docker-+ \u001b[m\u001b[m\u001b[K\n",
            "\n",
            "\u001b[m     31 root      20   0    6904   3304   3012 S   0.0   0.0   0:00.56 oom_mon+ \u001b[m\u001b[m\u001b[K\n",
            "\u001b[m     33 root      20   0    6904   1580   1304 S   0.0   0.0   0:00.00 run.sh   \u001b[m\u001b[m\u001b[K\n",
            "\n",
            "\n",
            "\u001b[m     84 root      20   0  712892   8444   2856 S   0.0   0.1   0:00.30 dap_mul+ \u001b[m\u001b[m\u001b[K\n",
            "\u001b[m    339 root      20   0  538116  14884   5724 S   0.0   0.1   0:00.28 python3  \u001b[m\u001b[m\u001b[K\n",
            "\n",
            "\n",
            "\u001b[m   4277 root      20   0    5488    516    452 S   0.0   0.0   0:00.00 sleep    \u001b[m\u001b[m\u001b[K\n",
            "\u001b[J\u001b[H\u001b[mtop - 01:59:51 up 16 min,  0 users,  load average: 0.33, 0.41, 0.31\u001b[m\u001b[m\u001b[m\u001b[m\u001b[K\n",
            "\n",
            "%Cpu(s):\u001b[m\u001b[m\u001b[1m  1.0 \u001b[m\u001b[mus,\u001b[m\u001b[m\u001b[1m  1.0 \u001b[m\u001b[msy,\u001b[m\u001b[m\u001b[1m  0.0 \u001b[m\u001b[mni,\u001b[m\u001b[m\u001b[1m 97.7 \u001b[m\u001b[mid,\u001b[m\u001b[m\u001b[1m  0.2 \u001b[m\u001b[mwa,\u001b[m\u001b[m\u001b[1m  0.0 \u001b[m\u001b[mhi,\u001b[m\u001b[m\u001b[1m  0.0 \u001b[m\u001b[msi,\u001b[m\u001b[m\u001b[1m  0.2 \u001b[m\u001b[mst\u001b[m\u001b[m\u001b[m\u001b[m\u001b[K\n",
            "MiB Mem :\u001b[m\u001b[m\u001b[1m  12985.5 \u001b[m\u001b[mtotal,\u001b[m\u001b[m\u001b[1m   8861.1 \u001b[m\u001b[mfree,\u001b[m\u001b[m\u001b[1m    917.1 \u001b[m\u001b[mused,\u001b[m\u001b[m\u001b[1m   3207.4 \u001b[m\u001b[mbuff/cache\u001b[m\u001b[m\u001b[m\u001b[m\u001b[K\n",
            "MiB Swap:\u001b[m\u001b[m\u001b[1m      0.0 \u001b[m\u001b[mtotal,\u001b[m\u001b[m\u001b[1m      0.0 \u001b[m\u001b[mfree,\u001b[m\u001b[m\u001b[1m      0.0 \u001b[m\u001b[mused.\u001b[m\u001b[m\u001b[1m  11787.4 \u001b[m\u001b[mavail Mem \u001b[m\u001b[m\u001b[m\u001b[m\u001b[K\n",
            "\u001b[K\n",
            "\n",
            "\u001b[m    300 root      20   0 1127356 107780  25188 S   0.7   0.8   0:06.83 python3  \u001b[m\u001b[m\u001b[K\n",
            "\u001b[m      7 root      20   0  896656  48480  30712 S   0.3   0.4   0:04.12 node     \u001b[m\u001b[m\u001b[K\n",
            "\u001b[m    339 root      20   0  538116  14884   5724 S   0.3   0.1   0:00.29 python3  \u001b[m\u001b[m\u001b[K\n",
            "\u001b[m      1 root      20   0    1012      8      0 S   0.0   0.0   0:00.59 docker-+ \u001b[m\u001b[m\u001b[K\n",
            "\u001b[m     20 root      20   0    5524    520    448 S   0.0   0.0   0:00.65 tail     \u001b[m\u001b[m\u001b[K\n",
            "\u001b[m     31 root      20   0    6904   3304   3012 S   0.0   0.0   0:00.56 oom_mon+ \u001b[m\u001b[m\u001b[K\n",
            "\u001b[m     33 root      20   0    6904   1580   1304 S   0.0   0.0   0:00.00 run.sh   \u001b[m\u001b[m\u001b[K\n",
            "\u001b[m     35 root      20   0  722040  15020   8124 S   0.0   0.1   0:00.49 kernel_+ \u001b[m\u001b[m\u001b[K\n",
            "\n",
            "\n",
            "\u001b[m     83 root      20   0  556532 152880  48720 S   0.0   1.1   0:05.19 jupyter+ \u001b[m\u001b[m\u001b[K\n",
            "\u001b[m     84 root      20   0  712892   8444   2856 S   0.0   0.1   0:00.30 dap_mul+ \u001b[m\u001b[m\u001b[K\n",
            "\n",
            "\n",
            "\u001b[m   4289 root      20   0    5488    520    448 S   0.0   0.0   0:00.00 sleep    \u001b[m\u001b[m\u001b[K\n",
            "\u001b[J\u001b[H\u001b[mtop - 01:59:54 up 16 min,  0 users,  load average: 0.33, 0.41, 0.31\u001b[m\u001b[m\u001b[m\u001b[m\u001b[K\n",
            "\n",
            "%Cpu(s):\u001b[m\u001b[m\u001b[1m  1.3 \u001b[m\u001b[mus,\u001b[m\u001b[m\u001b[1m  1.2 \u001b[m\u001b[msy,\u001b[m\u001b[m\u001b[1m  0.0 \u001b[m\u001b[mni,\u001b[m\u001b[m\u001b[1m 97.5 \u001b[m\u001b[mid,\u001b[m\u001b[m\u001b[1m  0.0 \u001b[m\u001b[mwa,\u001b[m\u001b[m\u001b[1m  0.0 \u001b[m\u001b[mhi,\u001b[m\u001b[m\u001b[1m  0.0 \u001b[m\u001b[msi,\u001b[m\u001b[m\u001b[1m  0.0 \u001b[m\u001b[mst\u001b[m\u001b[m\u001b[m\u001b[m\u001b[K\n",
            "MiB Mem :\u001b[m\u001b[m\u001b[1m  12985.5 \u001b[m\u001b[mtotal,\u001b[m\u001b[m\u001b[1m   8860.8 \u001b[m\u001b[mfree,\u001b[m\u001b[m\u001b[1m    917.3 \u001b[m\u001b[mused,\u001b[m\u001b[m\u001b[1m   3207.4 \u001b[m\u001b[mbuff/cache\u001b[m\u001b[m\u001b[m\u001b[m\u001b[K\n",
            "MiB Swap:\u001b[m\u001b[m\u001b[1m      0.0 \u001b[m\u001b[mtotal,\u001b[m\u001b[m\u001b[1m      0.0 \u001b[m\u001b[mfree,\u001b[m\u001b[m\u001b[1m      0.0 \u001b[m\u001b[mused.\u001b[m\u001b[m\u001b[1m  11787.1 \u001b[m\u001b[mavail Mem \u001b[m\u001b[m\u001b[m\u001b[m\u001b[K\n",
            "\u001b[K\n",
            "\n",
            "\u001b[m    300 root      20   0 1127356 107780  25188 S   1.3   0.8   0:06.87 python3  \u001b[m\u001b[m\u001b[K\n",
            "\u001b[m     84 root      20   0  712892   8444   2856 S   0.7   0.1   0:00.32 dap_mul+ \u001b[m\u001b[m\u001b[K\n",
            "\u001b[m    339 root      20   0  538116  14884   5724 S   0.7   0.1   0:00.31 python3  \u001b[m\u001b[m\u001b[K\n",
            "\u001b[m      1 root      20   0    1012      8      0 S   0.3   0.0   0:00.60 docker-+ \u001b[m\u001b[m\u001b[K\n",
            "\u001b[m     31 root      20   0    6904   3304   3012 S   0.3   0.0   0:00.57 oom_mon+ \u001b[m\u001b[m\u001b[K\n",
            "\u001b[m      7 root      20   0  896656  48744  30712 S   0.0   0.4   0:04.12 node     \u001b[m\u001b[m\u001b[K\n",
            "\u001b[m     20 root      20   0    5524    520    448 S   0.0   0.0   0:00.65 tail     \u001b[m\u001b[m\u001b[K\n",
            "\u001b[m     33 root      20   0    6904   1580   1304 S   0.0   0.0   0:00.00 run.sh   \u001b[m\u001b[m\u001b[K\n",
            "\u001b[m     35 root      20   0  722040  15020   8124 S   0.0   0.1   0:00.49 kernel_+ \u001b[m\u001b[m\u001b[K\n",
            "\u001b[m     61 root      20   0       0      0      0 Z   0.0   0.0   0:06.32 python3  \u001b[m\u001b[m\u001b[K\n",
            "\u001b[m     62 root      20   0   77156  43996  12980 S   0.0   0.3   0:00.71 colab-f+ \u001b[m\u001b[m\u001b[K\n",
            "\u001b[m     83 root      20   0  556532 152880  48720 S   0.0   1.1   0:05.19 jupyter+ \u001b[m\u001b[m\u001b[K\n",
            "\n",
            "\n",
            "\u001b[m   4301 root      20   0    5488    580    512 S   0.0   0.0   0:00.00 sleep    \u001b[m\u001b[m\u001b[K\n",
            "\u001b[J\u001b[H\u001b[mtop - 01:59:57 up 17 min,  0 users,  load average: 0.38, 0.42, 0.31\u001b[m\u001b[m\u001b[m\u001b[m\u001b[K\n",
            "\n",
            "%Cpu(s):\u001b[m\u001b[m\u001b[1m 24.1 \u001b[m\u001b[mus,\u001b[m\u001b[m\u001b[1m  6.5 \u001b[m\u001b[msy,\u001b[m\u001b[m\u001b[1m  0.0 \u001b[m\u001b[mni,\u001b[m\u001b[m\u001b[1m 69.3 \u001b[m\u001b[mid,\u001b[m\u001b[m\u001b[1m  0.0 \u001b[m\u001b[mwa,\u001b[m\u001b[m\u001b[1m  0.0 \u001b[m\u001b[mhi,\u001b[m\u001b[m\u001b[1m  0.0 \u001b[m\u001b[msi,\u001b[m\u001b[m\u001b[1m  0.0 \u001b[m\u001b[mst\u001b[m\u001b[m\u001b[m\u001b[m\u001b[K\n",
            "MiB Mem :\u001b[m\u001b[m\u001b[1m  12985.5 \u001b[m\u001b[mtotal,\u001b[m\u001b[m\u001b[1m   8860.4 \u001b[m\u001b[mfree,\u001b[m\u001b[m\u001b[1m    917.7 \u001b[m\u001b[mused,\u001b[m\u001b[m\u001b[1m   3207.4 \u001b[m\u001b[mbuff/cache\u001b[m\u001b[m\u001b[m\u001b[m\u001b[K\n",
            "MiB Swap:\u001b[m\u001b[m\u001b[1m      0.0 \u001b[m\u001b[mtotal,\u001b[m\u001b[m\u001b[1m      0.0 \u001b[m\u001b[mfree,\u001b[m\u001b[m\u001b[1m      0.0 \u001b[m\u001b[mused.\u001b[m\u001b[m\u001b[1m  11786.8 \u001b[m\u001b[mavail Mem \u001b[m\u001b[m\u001b[m\u001b[m\u001b[K\n",
            "\u001b[K\n",
            "\n",
            "\u001b[m    300 root      20   0 1127356 107780  25188 S   0.7   0.8   0:06.89 python3  \u001b[m\u001b[m\u001b[K\n",
            "\u001b[m     35 root      20   0  722040  15020   8124 S   0.3   0.1   0:00.50 kernel_+ \u001b[m\u001b[m\u001b[K\n",
            "\u001b[m     83 root      20   0  556532 152880  48720 S   0.3   1.1   0:05.20 jupyter+ \u001b[m\u001b[m\u001b[K\n",
            "\u001b[m    339 root      20   0  538116  14884   5724 S   0.3   0.1   0:00.32 python3  \u001b[m\u001b[m\u001b[K\n",
            "\u001b[m      1 root      20   0    1012      8      0 S   0.0   0.0   0:00.60 docker-+ \u001b[m\u001b[m\u001b[K\n",
            "\n",
            "\n",
            "\u001b[m     31 root      20   0    6904   3304   3012 S   0.0   0.0   0:00.57 oom_mon+ \u001b[m\u001b[m\u001b[K\n",
            "\u001b[m     33 root      20   0    6904   1580   1304 S   0.0   0.0   0:00.00 run.sh   \u001b[m\u001b[m\u001b[K\n",
            "\n",
            "\n",
            "\u001b[m     84 root      20   0  712892   8444   2856 S   0.0   0.1   0:00.32 dap_mul+ \u001b[m\u001b[m\u001b[K\n",
            "\n",
            "\n",
            "\u001b[m   4313 root      20   0    5488    584    516 S   0.0   0.0   0:00.00 sleep    \u001b[m\u001b[m\u001b[K\n",
            "\u001b[J\u001b[H\u001b[mtop - 02:00:00 up 17 min,  0 users,  load average: 0.38, 0.42, 0.31\u001b[m\u001b[m\u001b[m\u001b[m\u001b[K\n",
            "\n",
            "%Cpu(s):\u001b[m\u001b[m\u001b[1m  1.8 \u001b[m\u001b[mus,\u001b[m\u001b[m\u001b[1m  1.2 \u001b[m\u001b[msy,\u001b[m\u001b[m\u001b[1m  0.0 \u001b[m\u001b[mni,\u001b[m\u001b[m\u001b[1m 97.0 \u001b[m\u001b[mid,\u001b[m\u001b[m\u001b[1m  0.0 \u001b[m\u001b[mwa,\u001b[m\u001b[m\u001b[1m  0.0 \u001b[m\u001b[mhi,\u001b[m\u001b[m\u001b[1m  0.0 \u001b[m\u001b[msi,\u001b[m\u001b[m\u001b[1m  0.0 \u001b[m\u001b[mst\u001b[m\u001b[m\u001b[m\u001b[m\u001b[K\n",
            "MiB Mem :\u001b[m\u001b[m\u001b[1m  12985.5 \u001b[m\u001b[mtotal,\u001b[m\u001b[m\u001b[1m   8859.9 \u001b[m\u001b[mfree,\u001b[m\u001b[m\u001b[1m    918.3 \u001b[m\u001b[mused,\u001b[m\u001b[m\u001b[1m   3207.4 \u001b[m\u001b[mbuff/cache\u001b[m\u001b[m\u001b[m\u001b[m\u001b[K\n",
            "MiB Swap:\u001b[m\u001b[m\u001b[1m      0.0 \u001b[m\u001b[mtotal,\u001b[m\u001b[m\u001b[1m      0.0 \u001b[m\u001b[mfree,\u001b[m\u001b[m\u001b[1m      0.0 \u001b[m\u001b[mused.\u001b[m\u001b[m\u001b[1m  11786.2 \u001b[m\u001b[mavail Mem \u001b[m\u001b[m\u001b[m\u001b[m\u001b[K\n",
            "\u001b[K\n",
            "\n",
            "\u001b[m    300 root      20   0 1127356 107780  25188 S   0.7   0.8   0:06.91 python3  \u001b[m\u001b[m\u001b[K\n",
            "\u001b[m      7 root      20   0  896656  48744  30712 S   0.3   0.4   0:04.13 node     \u001b[m\u001b[m\u001b[K\n",
            "\u001b[m     62 root      20   0   77412  43996  12980 S   0.3   0.3   0:00.72 colab-f+ \u001b[m\u001b[m\u001b[K\n",
            "\u001b[m     83 root      20   0  556532 152884  48720 S   0.3   1.1   0:05.21 jupyter+ \u001b[m\u001b[m\u001b[K\n",
            "\u001b[m\u001b[1m   3872 root      20   0    9128   3616   3124 R   0.3   0.0   0:00.04 top      \u001b[m\u001b[m\u001b[K\n",
            "\u001b[m      1 root      20   0    1012      8      0 S   0.0   0.0   0:00.60 docker-+ \u001b[m\u001b[m\u001b[K\n",
            "\n",
            "\n",
            "\n",
            "\u001b[m     35 root      20   0  722040  15020   8124 S   0.0   0.1   0:00.50 kernel_+ \u001b[m\u001b[m\u001b[K\n",
            "\u001b[m     61 root      20   0       0      0      0 Z   0.0   0.0   0:06.32 python3  \u001b[m\u001b[m\u001b[K\n",
            "\n",
            "\u001b[m    339 root      20   0  538116  14884   5724 S   0.0   0.1   0:00.32 python3  \u001b[m\u001b[m\u001b[K\n",
            "\u001b[m    372 root      20   0 1125592 385712  30220 S   0.0   2.9   0:57.67 node     \u001b[m\u001b[m\u001b[K\n",
            "\u001b[m   4327 root      20   0    5488    516    448 S   0.0   0.0   0:00.00 sleep    \u001b[m\u001b[m\u001b[K\n",
            "\u001b[J\u001b[H\u001b[mtop - 02:00:03 up 17 min,  0 users,  load average: 0.35, 0.41, 0.31\u001b[m\u001b[m\u001b[m\u001b[m\u001b[K\n",
            "\n",
            "%Cpu(s):\u001b[m\u001b[m\u001b[1m  1.3 \u001b[m\u001b[mus,\u001b[m\u001b[m\u001b[1m  1.2 \u001b[m\u001b[msy,\u001b[m\u001b[m\u001b[1m  0.0 \u001b[m\u001b[mni,\u001b[m\u001b[m\u001b[1m 97.3 \u001b[m\u001b[mid,\u001b[m\u001b[m\u001b[1m  0.0 \u001b[m\u001b[mwa,\u001b[m\u001b[m\u001b[1m  0.0 \u001b[m\u001b[mhi,\u001b[m\u001b[m\u001b[1m  0.2 \u001b[m\u001b[msi,\u001b[m\u001b[m\u001b[1m  0.0 \u001b[m\u001b[mst\u001b[m\u001b[m\u001b[m\u001b[m\u001b[K\n",
            "MiB Mem :\u001b[m\u001b[m\u001b[1m  12985.5 \u001b[m\u001b[mtotal,\u001b[m\u001b[m\u001b[1m   8860.1 \u001b[m\u001b[mfree,\u001b[m\u001b[m\u001b[1m    918.1 \u001b[m\u001b[mused,\u001b[m\u001b[m\u001b[1m   3207.4 \u001b[m\u001b[mbuff/cache\u001b[m\u001b[m\u001b[m\u001b[m\u001b[K\n",
            "MiB Swap:\u001b[m\u001b[m\u001b[1m      0.0 \u001b[m\u001b[mtotal,\u001b[m\u001b[m\u001b[1m      0.0 \u001b[m\u001b[mfree,\u001b[m\u001b[m\u001b[1m      0.0 \u001b[m\u001b[mused.\u001b[m\u001b[m\u001b[1m  11786.5 \u001b[m\u001b[mavail Mem \u001b[m\u001b[m\u001b[m\u001b[m\u001b[K\n",
            "\u001b[K\n",
            "\n",
            "\u001b[m    300 root      20   0 1127356 107780  25188 S   1.3   0.8   0:06.95 python3  \u001b[m\u001b[m\u001b[K\n",
            "\u001b[m     35 root      20   0  722040  15020   8124 S   0.3   0.1   0:00.51 kernel_+ \u001b[m\u001b[m\u001b[K\n",
            "\u001b[m     83 root      20   0  556532 152884  48720 S   0.3   1.1   0:05.22 jupyter+ \u001b[m\u001b[m\u001b[K\n",
            "\u001b[m     84 root      20   0  712892   8444   2856 S   0.3   0.1   0:00.33 dap_mul+ \u001b[m\u001b[m\u001b[K\n",
            "\u001b[m    339 root      20   0  538116  14884   5724 S   0.3   0.1   0:00.33 python3  \u001b[m\u001b[m\u001b[K\n",
            "\n",
            "\u001b[m      7 root      20   0  896656  49004  30712 S   0.0   0.4   0:04.13 node     \u001b[m\u001b[m\u001b[K\n",
            "\u001b[m     20 root      20   0    5524    520    448 S   0.0   0.0   0:00.65 tail     \u001b[m\u001b[m\u001b[K\n",
            "\u001b[m     31 root      20   0    6904   3304   3012 S   0.0   0.0   0:00.57 oom_mon+ \u001b[m\u001b[m\u001b[K\n",
            "\u001b[m     33 root      20   0    6904   1580   1304 S   0.0   0.0   0:00.00 run.sh   \u001b[m\u001b[m\u001b[K\n",
            "\n",
            "\u001b[m     62 root      20   0   77412  43996  12980 S   0.0   0.3   0:00.72 colab-f+ \u001b[m\u001b[m\u001b[K\n",
            "\u001b[m    372 root      20   0 1125592 385712  30220 S   0.0   2.9   0:57.67 node     \u001b[m\u001b[m\u001b[K\n",
            "\u001b[m\u001b[1m   3872 root      20   0    9128   3616   3124 R   0.0   0.0   0:00.04 top      \u001b[m\u001b[m\u001b[K\n",
            "\u001b[m   4339 root      20   0    5488    516    448 S   0.0   0.0   0:00.00 sleep    \u001b[m\u001b[m\u001b[K\n",
            "\u001b[J\u001b[H\u001b[mtop - 02:00:06 up 17 min,  0 users,  load average: 0.32, 0.40, 0.31\u001b[m\u001b[m\u001b[m\u001b[m\u001b[K\n",
            "\n",
            "%Cpu(s):\u001b[m\u001b[m\u001b[1m  1.8 \u001b[m\u001b[mus,\u001b[m\u001b[m\u001b[1m  1.3 \u001b[m\u001b[msy,\u001b[m\u001b[m\u001b[1m  0.0 \u001b[m\u001b[mni,\u001b[m\u001b[m\u001b[1m 96.8 \u001b[m\u001b[mid,\u001b[m\u001b[m\u001b[1m  0.0 \u001b[m\u001b[mwa,\u001b[m\u001b[m\u001b[1m  0.0 \u001b[m\u001b[mhi,\u001b[m\u001b[m\u001b[1m  0.0 \u001b[m\u001b[msi,\u001b[m\u001b[m\u001b[1m  0.0 \u001b[m\u001b[mst\u001b[m\u001b[m\u001b[m\u001b[m\u001b[K\n",
            "MiB Mem :\u001b[m\u001b[m\u001b[1m  12985.5 \u001b[m\u001b[mtotal,\u001b[m\u001b[m\u001b[1m   8860.3 \u001b[m\u001b[mfree,\u001b[m\u001b[m\u001b[1m    917.8 \u001b[m\u001b[mused,\u001b[m\u001b[m\u001b[1m   3207.4 \u001b[m\u001b[mbuff/cache\u001b[m\u001b[m\u001b[m\u001b[m\u001b[K\n",
            "MiB Swap:\u001b[m\u001b[m\u001b[1m      0.0 \u001b[m\u001b[mtotal,\u001b[m\u001b[m\u001b[1m      0.0 \u001b[m\u001b[mfree,\u001b[m\u001b[m\u001b[1m      0.0 \u001b[m\u001b[mused.\u001b[m\u001b[m\u001b[1m  11786.7 \u001b[m\u001b[mavail Mem \u001b[m\u001b[m\u001b[m\u001b[m\u001b[K\n",
            "\u001b[K\n",
            "\n",
            "\u001b[m    300 root      20   0 1127356 107780  25188 S   1.0   0.8   0:06.98 python3  \u001b[m\u001b[m\u001b[K\n",
            "\u001b[m      7 root      20   0  896656  49004  30712 S   0.3   0.4   0:04.14 node     \u001b[m\u001b[m\u001b[K\n",
            "\u001b[m     31 root      20   0    6904   3304   3012 S   0.3   0.0   0:00.58 oom_mon+ \u001b[m\u001b[m\u001b[K\n",
            "\u001b[m     35 root      20   0  722040  15020   8124 S   0.3   0.1   0:00.52 kernel_+ \u001b[m\u001b[m\u001b[K\n",
            "\u001b[m    339 root      20   0  538116  14884   5724 S   0.3   0.1   0:00.34 python3  \u001b[m\u001b[m\u001b[K\n",
            "\n",
            "\u001b[m     20 root      20   0    5524    520    448 S   0.0   0.0   0:00.65 tail     \u001b[m\u001b[m\u001b[K\n",
            "\u001b[m     33 root      20   0    6904   1580   1304 S   0.0   0.0   0:00.00 run.sh   \u001b[m\u001b[m\u001b[K\n",
            "\u001b[m     61 root      20   0       0      0      0 Z   0.0   0.0   0:06.32 python3  \u001b[m\u001b[m\u001b[K\n",
            "\u001b[m     62 root      20   0   77412  43996  12980 S   0.0   0.3   0:00.72 colab-f+ \u001b[m\u001b[m\u001b[K\n",
            "\u001b[m     83 root      20   0  556532 152884  48720 S   0.0   1.1   0:05.22 jupyter+ \u001b[m\u001b[m\u001b[K\n",
            "\u001b[m     84 root      20   0  712892   8444   2856 S   0.0   0.1   0:00.33 dap_mul+ \u001b[m\u001b[m\u001b[K\n",
            "\n",
            "\n",
            "\u001b[m   4353 root      20   0    5488    520    448 S   0.0   0.0   0:00.00 sleep    \u001b[m\u001b[m\u001b[K\n",
            "\u001b[J\u001b[H\u001b[mtop - 02:00:09 up 17 min,  0 users,  load average: 0.32, 0.40, 0.31\u001b[m\u001b[m\u001b[m\u001b[m\u001b[K\n",
            "\n",
            "%Cpu(s):\u001b[m\u001b[m\u001b[1m 25.6 \u001b[m\u001b[mus,\u001b[m\u001b[m\u001b[1m  7.2 \u001b[m\u001b[msy,\u001b[m\u001b[m\u001b[1m  0.0 \u001b[m\u001b[mni,\u001b[m\u001b[m\u001b[1m 66.9 \u001b[m\u001b[mid,\u001b[m\u001b[m\u001b[1m  0.0 \u001b[m\u001b[mwa,\u001b[m\u001b[m\u001b[1m  0.0 \u001b[m\u001b[mhi,\u001b[m\u001b[m\u001b[1m  0.2 \u001b[m\u001b[msi,\u001b[m\u001b[m\u001b[1m  0.2 \u001b[m\u001b[mst\u001b[m\u001b[m\u001b[m\u001b[m\u001b[K\n",
            "MiB Mem :\u001b[m\u001b[m\u001b[1m  12985.5 \u001b[m\u001b[mtotal,\u001b[m\u001b[m\u001b[1m   8860.8 \u001b[m\u001b[mfree,\u001b[m\u001b[m\u001b[1m    917.3 \u001b[m\u001b[mused,\u001b[m\u001b[m\u001b[1m   3207.4 \u001b[m\u001b[mbuff/cache\u001b[m\u001b[m\u001b[m\u001b[m\u001b[K\n",
            "MiB Swap:\u001b[m\u001b[m\u001b[1m      0.0 \u001b[m\u001b[mtotal,\u001b[m\u001b[m\u001b[1m      0.0 \u001b[m\u001b[mfree,\u001b[m\u001b[m\u001b[1m      0.0 \u001b[m\u001b[mused.\u001b[m\u001b[m\u001b[1m  11787.2 \u001b[m\u001b[mavail Mem \u001b[m\u001b[m\u001b[m\u001b[m\u001b[K\n",
            "\u001b[K\n",
            "\n",
            "\u001b[m    300 root      20   0 1127356 107780  25188 S   1.0   0.8   0:07.01 python3  \u001b[m\u001b[m\u001b[K\n",
            "\u001b[m     83 root      20   0  556532 152884  48720 S   0.7   1.1   0:05.24 jupyter+ \u001b[m\u001b[m\u001b[K\n",
            "\u001b[m      7 root      20   0  896656  48348  30712 S   0.3   0.4   0:04.15 node     \u001b[m\u001b[m\u001b[K\n",
            "\u001b[m     84 root      20   0  712892   8444   2856 S   0.3   0.1   0:00.34 dap_mul+ \u001b[m\u001b[m\u001b[K\n",
            "\u001b[m    339 root      20   0  538116  14884   5724 S   0.3   0.1   0:00.35 python3  \u001b[m\u001b[m\u001b[K\n",
            "\n",
            "\n",
            "\u001b[m     31 root      20   0    6904   3304   3012 S   0.0   0.0   0:00.58 oom_mon+ \u001b[m\u001b[m\u001b[K\n",
            "\u001b[m     33 root      20   0    6904   1580   1304 S   0.0   0.0   0:00.00 run.sh   \u001b[m\u001b[m\u001b[K\n",
            "\u001b[m     35 root      20   0  722040  15020   8124 S   0.0   0.1   0:00.52 kernel_+ \u001b[m\u001b[m\u001b[K\n",
            "\u001b[m     61 root      20   0       0      0      0 Z   0.0   0.0   0:06.32 python3  \u001b[m\u001b[m\u001b[K\n",
            "\u001b[m     62 root      20   0   77412  43996  12980 S   0.0   0.3   0:00.72 colab-f+ \u001b[m\u001b[m\u001b[K\n",
            "\n",
            "\n",
            "\u001b[m   4367 root      20   0    5488    516    448 S   0.0   0.0   0:00.00 sleep    \u001b[m\u001b[m\u001b[K\n",
            "\u001b[J\u001b[H\u001b[mtop - 02:00:12 up 17 min,  0 users,  load average: 0.30, 0.40, 0.31\u001b[m\u001b[m\u001b[m\u001b[m\u001b[K\n",
            "\n",
            "%Cpu(s):\u001b[m\u001b[m\u001b[1m  1.5 \u001b[m\u001b[mus,\u001b[m\u001b[m\u001b[1m  1.2 \u001b[m\u001b[msy,\u001b[m\u001b[m\u001b[1m  0.0 \u001b[m\u001b[mni,\u001b[m\u001b[m\u001b[1m 97.3 \u001b[m\u001b[mid,\u001b[m\u001b[m\u001b[1m  0.0 \u001b[m\u001b[mwa,\u001b[m\u001b[m\u001b[1m  0.0 \u001b[m\u001b[mhi,\u001b[m\u001b[m\u001b[1m  0.0 \u001b[m\u001b[msi,\u001b[m\u001b[m\u001b[1m  0.0 \u001b[m\u001b[mst\u001b[m\u001b[m\u001b[m\u001b[m\u001b[K\n",
            "MiB Mem :\u001b[m\u001b[m\u001b[1m  12985.5 \u001b[m\u001b[mtotal,\u001b[m\u001b[m\u001b[1m   8861.0 \u001b[m\u001b[mfree,\u001b[m\u001b[m\u001b[1m    917.1 \u001b[m\u001b[mused,\u001b[m\u001b[m\u001b[1m   3207.4 \u001b[m\u001b[mbuff/cache\u001b[m\u001b[m\u001b[m\u001b[m\u001b[K\n",
            "MiB Swap:\u001b[m\u001b[m\u001b[1m      0.0 \u001b[m\u001b[mtotal,\u001b[m\u001b[m\u001b[1m      0.0 \u001b[m\u001b[mfree,\u001b[m\u001b[m\u001b[1m      0.0 \u001b[m\u001b[mused.\u001b[m\u001b[m\u001b[1m  11787.4 \u001b[m\u001b[mavail Mem \u001b[m\u001b[m\u001b[m\u001b[m\u001b[K\n",
            "\u001b[K\n",
            "\n",
            "\u001b[m    300 root      20   0 1127356 107780  25188 S   1.0   0.8   0:07.04 python3  \u001b[m\u001b[m\u001b[K\n",
            "\u001b[m     83 root      20   0  556532 152884  48720 S   0.3   1.1   0:05.25 jupyter+ \u001b[m\u001b[m\u001b[K\n",
            "\u001b[m     84 root      20   0  712892   8444   2856 S   0.3   0.1   0:00.35 dap_mul+ \u001b[m\u001b[m\u001b[K\n",
            "\u001b[m      1 root      20   0    1012      8      0 S   0.0   0.0   0:00.60 docker-+ \u001b[m\u001b[m\u001b[K\n",
            "\u001b[m      7 root      20   0  896656  48612  30712 S   0.0   0.4   0:04.15 node     \u001b[m\u001b[m\u001b[K\n",
            "\u001b[m     20 root      20   0    5524    520    448 S   0.0   0.0   0:00.65 tail     \u001b[m\u001b[m\u001b[K\n",
            "\u001b[m     31 root      20   0    6904   3304   3012 S   0.0   0.0   0:00.58 oom_mon+ \u001b[m\u001b[m\u001b[K\n",
            "\u001b[m     33 root      20   0    6904   1580   1304 S   0.0   0.0   0:00.00 run.sh   \u001b[m\u001b[m\u001b[K\n",
            "\u001b[m     35 root      20   0  722040  15020   8124 S   0.0   0.1   0:00.52 kernel_+ \u001b[m\u001b[m\u001b[K\n",
            "\u001b[m     61 root      20   0       0      0      0 Z   0.0   0.0   0:06.32 python3  \u001b[m\u001b[m\u001b[K\n",
            "\u001b[m     62 root      20   0   77412  43996  12980 S   0.0   0.3   0:00.72 colab-f+ \u001b[m\u001b[m\u001b[K\n",
            "\u001b[m    339 root      20   0  538116  14884   5724 S   0.0   0.1   0:00.35 python3  \u001b[m\u001b[m\u001b[K\n",
            "\n",
            "\n",
            "\u001b[m   4379 root      20   0    5488    584    512 S   0.0   0.0   0:00.00 sleep    \u001b[m\u001b[m\u001b[K\n",
            "\u001b[J\u001b[H\u001b[mtop - 02:00:15 up 17 min,  0 users,  load average: 0.30, 0.40, 0.31\u001b[m\u001b[m\u001b[m\u001b[m\u001b[K\n",
            "\n",
            "%Cpu(s):\u001b[m\u001b[m\u001b[1m  1.0 \u001b[m\u001b[mus,\u001b[m\u001b[m\u001b[1m  0.8 \u001b[m\u001b[msy,\u001b[m\u001b[m\u001b[1m  0.0 \u001b[m\u001b[mni,\u001b[m\u001b[m\u001b[1m 98.2 \u001b[m\u001b[mid,\u001b[m\u001b[m\u001b[1m  0.0 \u001b[m\u001b[mwa,\u001b[m\u001b[m\u001b[1m  0.0 \u001b[m\u001b[mhi,\u001b[m\u001b[m\u001b[1m  0.0 \u001b[m\u001b[msi,\u001b[m\u001b[m\u001b[1m  0.0 \u001b[m\u001b[mst\u001b[m\u001b[m\u001b[m\u001b[m\u001b[K\n",
            "MiB Mem :\u001b[m\u001b[m\u001b[1m  12985.5 \u001b[m\u001b[mtotal,\u001b[m\u001b[m\u001b[1m   8860.8 \u001b[m\u001b[mfree,\u001b[m\u001b[m\u001b[1m    917.3 \u001b[m\u001b[mused,\u001b[m\u001b[m\u001b[1m   3207.4 \u001b[m\u001b[mbuff/cache\u001b[m\u001b[m\u001b[m\u001b[m\u001b[K\n",
            "MiB Swap:\u001b[m\u001b[m\u001b[1m      0.0 \u001b[m\u001b[mtotal,\u001b[m\u001b[m\u001b[1m      0.0 \u001b[m\u001b[mfree,\u001b[m\u001b[m\u001b[1m      0.0 \u001b[m\u001b[mused.\u001b[m\u001b[m\u001b[1m  11787.2 \u001b[m\u001b[mavail Mem \u001b[m\u001b[m\u001b[m\u001b[m\u001b[K\n",
            "\u001b[K\n",
            "\n",
            "\u001b[m    300 root      20   0 1127356 107780  25188 S   1.0   0.8   0:07.07 python3  \u001b[m\u001b[m\u001b[K\n",
            "\u001b[m    339 root      20   0  538116  14884   5724 S   0.7   0.1   0:00.37 python3  \u001b[m\u001b[m\u001b[K\n",
            "\u001b[m     35 root      20   0  722040  15020   8124 S   0.3   0.1   0:00.53 kernel_+ \u001b[m\u001b[m\u001b[K\n",
            "\n",
            "\n",
            "\n",
            "\n",
            "\n",
            "\u001b[m     61 root      20   0       0      0      0 Z   0.0   0.0   0:06.32 python3  \u001b[m\u001b[m\u001b[K\n",
            "\u001b[m     62 root      20   0   77412  43996  12980 S   0.0   0.3   0:00.72 colab-f+ \u001b[m\u001b[m\u001b[K\n",
            "\u001b[m     83 root      20   0  556532 152884  48720 S   0.0   1.1   0:05.25 jupyter+ \u001b[m\u001b[m\u001b[K\n",
            "\u001b[m     84 root      20   0  712892   8444   2856 S   0.0   0.1   0:00.35 dap_mul+ \u001b[m\u001b[m\u001b[K\n",
            "\n",
            "\n",
            "\u001b[m   4391 root      20   0    5488    520    448 S   0.0   0.0   0:00.00 sleep    \u001b[m\u001b[m\u001b[K\n",
            "\u001b[J\u001b[H\u001b[mtop - 02:00:18 up 17 min,  0 users,  load average: 0.27, 0.39, 0.31\u001b[m\u001b[m\u001b[m\u001b[m\u001b[K\n",
            "\n",
            "%Cpu(s):\u001b[m\u001b[m\u001b[1m  1.2 \u001b[m\u001b[mus,\u001b[m\u001b[m\u001b[1m  1.0 \u001b[m\u001b[msy,\u001b[m\u001b[m\u001b[1m  0.0 \u001b[m\u001b[mni,\u001b[m\u001b[m\u001b[1m 97.7 \u001b[m\u001b[mid,\u001b[m\u001b[m\u001b[1m  0.0 \u001b[m\u001b[mwa,\u001b[m\u001b[m\u001b[1m  0.0 \u001b[m\u001b[mhi,\u001b[m\u001b[m\u001b[1m  0.2 \u001b[m\u001b[msi,\u001b[m\u001b[m\u001b[1m  0.0 \u001b[m\u001b[mst\u001b[m\u001b[m\u001b[m\u001b[m\u001b[K\n",
            "MiB Mem :\u001b[m\u001b[m\u001b[1m  12985.5 \u001b[m\u001b[mtotal,\u001b[m\u001b[m\u001b[1m   8861.1 \u001b[m\u001b[mfree,\u001b[m\u001b[m\u001b[1m    917.1 \u001b[m\u001b[mused,\u001b[m\u001b[m\u001b[1m   3207.4 \u001b[m\u001b[mbuff/cache\u001b[m\u001b[m\u001b[m\u001b[m\u001b[K\n",
            "MiB Swap:\u001b[m\u001b[m\u001b[1m      0.0 \u001b[m\u001b[mtotal,\u001b[m\u001b[m\u001b[1m      0.0 \u001b[m\u001b[mfree,\u001b[m\u001b[m\u001b[1m      0.0 \u001b[m\u001b[mused.\u001b[m\u001b[m\u001b[1m  11787.4 \u001b[m\u001b[mavail Mem \u001b[m\u001b[m\u001b[m\u001b[m\u001b[K\n",
            "\u001b[K\n",
            "\n",
            "\u001b[m    300 root      20   0 1127356 107780  25188 S   0.7   0.8   0:07.09 python3  \u001b[m\u001b[m\u001b[K\n",
            "\u001b[m      7 root      20   0  896656  48612  30712 S   0.3   0.4   0:04.16 node     \u001b[m\u001b[m\u001b[K\n",
            "\u001b[m    339 root      20   0  538116  14884   5724 S   0.3   0.1   0:00.38 python3  \u001b[m\u001b[m\u001b[K\n",
            "\u001b[m\u001b[1m   3872 root      20   0    9128   3616   3124 R   0.3   0.0   0:00.05 top      \u001b[m\u001b[m\u001b[K\n",
            "\u001b[m      1 root      20   0    1012      8      0 S   0.0   0.0   0:00.60 docker-+ \u001b[m\u001b[m\u001b[K\n",
            "\n",
            "\n",
            "\n",
            "\u001b[m     35 root      20   0  722040  15020   8124 S   0.0   0.1   0:00.53 kernel_+ \u001b[m\u001b[m\u001b[K\n",
            "\u001b[m     61 root      20   0       0      0      0 Z   0.0   0.0   0:06.32 python3  \u001b[m\u001b[m\u001b[K\n",
            "\u001b[m     62 root      20   0   77412  43996  12980 S   0.0   0.3   0:00.72 colab-f+ \u001b[m\u001b[m\u001b[K\n",
            "\u001b[m     83 root      20   0  556532 152884  48720 S   0.0   1.1   0:05.25 jupyter+ \u001b[m\u001b[m\u001b[K\n",
            "\u001b[m     84 root      20   0  712892   8444   2856 S   0.0   0.1   0:00.35 dap_mul+ \u001b[m\u001b[m\u001b[K\n",
            "\u001b[m    372 root      20   0 1125592 385712  30220 S   0.0   2.9   0:57.67 node     \u001b[m\u001b[m\u001b[K\n",
            "\u001b[m   4403 root      20   0    5488    580    512 S   0.0   0.0   0:00.00 sleep    \u001b[m\u001b[m\u001b[K\n",
            "\u001b[J\u001b[H\u001b[mtop - 02:00:21 up 17 min,  0 users,  load average: 0.25, 0.38, 0.30\u001b[m\u001b[m\u001b[m\u001b[m\u001b[K\n",
            "\n",
            "%Cpu(s):\u001b[m\u001b[m\u001b[1m 25.3 \u001b[m\u001b[mus,\u001b[m\u001b[m\u001b[1m  7.2 \u001b[m\u001b[msy,\u001b[m\u001b[m\u001b[1m  0.0 \u001b[m\u001b[mni,\u001b[m\u001b[m\u001b[1m 67.6 \u001b[m\u001b[mid,\u001b[m\u001b[m\u001b[1m  0.0 \u001b[m\u001b[mwa,\u001b[m\u001b[m\u001b[1m  0.0 \u001b[m\u001b[mhi,\u001b[m\u001b[m\u001b[1m  0.0 \u001b[m\u001b[msi,\u001b[m\u001b[m\u001b[1m  0.0 \u001b[m\u001b[mst\u001b[m\u001b[m\u001b[m\u001b[m\u001b[K\n",
            "MiB Mem :\u001b[m\u001b[m\u001b[1m  12985.5 \u001b[m\u001b[mtotal,\u001b[m\u001b[m\u001b[1m   8860.6 \u001b[m\u001b[mfree,\u001b[m\u001b[m\u001b[1m    917.6 \u001b[m\u001b[mused,\u001b[m\u001b[m\u001b[1m   3207.4 \u001b[m\u001b[mbuff/cache\u001b[m\u001b[m\u001b[m\u001b[m\u001b[K\n",
            "MiB Swap:\u001b[m\u001b[m\u001b[1m      0.0 \u001b[m\u001b[mtotal,\u001b[m\u001b[m\u001b[1m      0.0 \u001b[m\u001b[mfree,\u001b[m\u001b[m\u001b[1m      0.0 \u001b[m\u001b[mused.\u001b[m\u001b[m\u001b[1m  11786.9 \u001b[m\u001b[mavail Mem \u001b[m\u001b[m\u001b[m\u001b[m\u001b[K\n",
            "\u001b[K\n",
            "\n",
            "\u001b[m    300 root      20   0 1127356 107780  25188 S   1.3   0.8   0:07.13 python3  \u001b[m\u001b[m\u001b[K\n",
            "\u001b[m     35 root      20   0  722040  15020   8124 S   0.3   0.1   0:00.54 kernel_+ \u001b[m\u001b[m\u001b[K\n",
            "\u001b[m     83 root      20   0  556532 152884  48720 S   0.3   1.1   0:05.26 jupyter+ \u001b[m\u001b[m\u001b[K\n",
            "\u001b[m      1 root      20   0    1012      8      0 S   0.0   0.0   0:00.60 docker-+ \u001b[m\u001b[m\u001b[K\n",
            "\u001b[m      7 root      20   0  896656  48876  30712 S   0.0   0.4   0:04.16 node     \u001b[m\u001b[m\u001b[K\n",
            "\n",
            "\n",
            "\n",
            "\u001b[m     61 root      20   0       0      0      0 Z   0.0   0.0   0:06.32 python3  \u001b[m\u001b[m\u001b[K\n",
            "\u001b[m     62 root      20   0   77412  43996  12980 S   0.0   0.3   0:00.72 colab-f+ \u001b[m\u001b[m\u001b[K\n",
            "\u001b[m     84 root      20   0  712892   8444   2856 S   0.0   0.1   0:00.35 dap_mul+ \u001b[m\u001b[m\u001b[K\n",
            "\u001b[m    339 root      20   0  538116  14884   5724 S   0.0   0.1   0:00.38 python3  \u001b[m\u001b[m\u001b[K\n",
            "\u001b[m    372 root      20   0 1125592 385712  30220 S   0.0   2.9   0:57.67 node     \u001b[m\u001b[m\u001b[K\n",
            "\u001b[m\u001b[1m   3872 root      20   0    9128   3616   3124 R   0.0   0.0   0:00.05 top      \u001b[m\u001b[m\u001b[K\n",
            "\u001b[m   4417 root      20   0    5488    516    448 S   0.0   0.0   0:00.00 sleep    \u001b[m\u001b[m\u001b[K\n",
            "\u001b[J\u001b[H\u001b[mtop - 02:00:24 up 17 min,  0 users,  load average: 0.25, 0.38, 0.30\u001b[m\u001b[m\u001b[m\u001b[m\u001b[K\n",
            "\n",
            "%Cpu(s):\u001b[m\u001b[m\u001b[1m  1.2 \u001b[m\u001b[mus,\u001b[m\u001b[m\u001b[1m  1.2 \u001b[m\u001b[msy,\u001b[m\u001b[m\u001b[1m  0.0 \u001b[m\u001b[mni,\u001b[m\u001b[m\u001b[1m 97.5 \u001b[m\u001b[mid,\u001b[m\u001b[m\u001b[1m  0.0 \u001b[m\u001b[mwa,\u001b[m\u001b[m\u001b[1m  0.0 \u001b[m\u001b[mhi,\u001b[m\u001b[m\u001b[1m  0.0 \u001b[m\u001b[msi,\u001b[m\u001b[m\u001b[1m  0.2 \u001b[m\u001b[mst\u001b[m\u001b[m\u001b[m\u001b[m\u001b[K\n",
            "MiB Mem :\u001b[m\u001b[m\u001b[1m  12985.5 \u001b[m\u001b[mtotal,\u001b[m\u001b[m\u001b[1m   8860.6 \u001b[m\u001b[mfree,\u001b[m\u001b[m\u001b[1m    917.6 \u001b[m\u001b[mused,\u001b[m\u001b[m\u001b[1m   3207.3 \u001b[m\u001b[mbuff/cache\u001b[m\u001b[m\u001b[m\u001b[m\u001b[K\n",
            "MiB Swap:\u001b[m\u001b[m\u001b[1m      0.0 \u001b[m\u001b[mtotal,\u001b[m\u001b[m\u001b[1m      0.0 \u001b[m\u001b[mfree,\u001b[m\u001b[m\u001b[1m      0.0 \u001b[m\u001b[mused.\u001b[m\u001b[m\u001b[1m  11787.0 \u001b[m\u001b[mavail Mem \u001b[m\u001b[m\u001b[m\u001b[m\u001b[K\n",
            "\u001b[K\n",
            "\n",
            "\u001b[m     84 root      20   0  712892   8444   2856 S   0.7   0.1   0:00.37 dap_mul+ \u001b[m\u001b[m\u001b[K\n",
            "\u001b[m      7 root      20   0  896656  48876  30712 S   0.3   0.4   0:04.17 node     \u001b[m\u001b[m\u001b[K\n",
            "\u001b[m     83 root      20   0  556532 152884  48720 S   0.3   1.1   0:05.27 jupyter+ \u001b[m\u001b[m\u001b[K\n",
            "\u001b[m    300 root      20   0 1127356 107780  25188 S   0.3   0.8   0:07.14 python3  \u001b[m\u001b[m\u001b[K\n",
            "\u001b[m    339 root      20   0  538116  14884   5724 S   0.3   0.1   0:00.39 python3  \u001b[m\u001b[m\u001b[K\n",
            "\u001b[m      1 root      20   0    1012      8      0 S   0.0   0.0   0:00.60 docker-+ \u001b[m\u001b[m\u001b[K\n",
            "\u001b[m     20 root      20   0    5524    520    448 S   0.0   0.0   0:00.65 tail     \u001b[m\u001b[m\u001b[K\n",
            "\u001b[m     31 root      20   0    6904   3304   3012 S   0.0   0.0   0:00.58 oom_mon+ \u001b[m\u001b[m\u001b[K\n",
            "\u001b[m     33 root      20   0    6904   1580   1304 S   0.0   0.0   0:00.00 run.sh   \u001b[m\u001b[m\u001b[K\n",
            "\u001b[m     35 root      20   0  722040  15020   8124 S   0.0   0.1   0:00.54 kernel_+ \u001b[m\u001b[m\u001b[K\n",
            "\u001b[m     61 root      20   0       0      0      0 Z   0.0   0.0   0:06.32 python3  \u001b[m\u001b[m\u001b[K\n",
            "\u001b[m     62 root      20   0   77412  43996  12980 S   0.0   0.3   0:00.72 colab-f+ \u001b[m\u001b[m\u001b[K\n",
            "\n",
            "\n",
            "\u001b[m   4429 root      20   0    5488    580    516 S   0.0   0.0   0:00.00 sleep    \u001b[m\u001b[m\u001b[K\n",
            "\u001b[J\u001b[H\u001b[mtop - 02:00:27 up 17 min,  0 users,  load average: 0.23, 0.38, 0.30\u001b[m\u001b[m\u001b[m\u001b[m\u001b[K\n",
            "\n",
            "%Cpu(s):\u001b[m\u001b[m\u001b[1m  1.2 \u001b[m\u001b[mus,\u001b[m\u001b[m\u001b[1m  1.0 \u001b[m\u001b[msy,\u001b[m\u001b[m\u001b[1m  0.0 \u001b[m\u001b[mni,\u001b[m\u001b[m\u001b[1m 97.8 \u001b[m\u001b[mid,\u001b[m\u001b[m\u001b[1m  0.0 \u001b[m\u001b[mwa,\u001b[m\u001b[m\u001b[1m  0.0 \u001b[m\u001b[mhi,\u001b[m\u001b[m\u001b[1m  0.0 \u001b[m\u001b[msi,\u001b[m\u001b[m\u001b[1m  0.0 \u001b[m\u001b[mst\u001b[m\u001b[m\u001b[m\u001b[m\u001b[K\n",
            "MiB Mem :\u001b[m\u001b[m\u001b[1m  12985.5 \u001b[m\u001b[mtotal,\u001b[m\u001b[m\u001b[1m   8860.4 \u001b[m\u001b[mfree,\u001b[m\u001b[m\u001b[1m    917.8 \u001b[m\u001b[mused,\u001b[m\u001b[m\u001b[1m   3207.3 \u001b[m\u001b[mbuff/cache\u001b[m\u001b[m\u001b[m\u001b[m\u001b[K\n",
            "MiB Swap:\u001b[m\u001b[m\u001b[1m      0.0 \u001b[m\u001b[mtotal,\u001b[m\u001b[m\u001b[1m      0.0 \u001b[m\u001b[mfree,\u001b[m\u001b[m\u001b[1m      0.0 \u001b[m\u001b[mused.\u001b[m\u001b[m\u001b[1m  11786.7 \u001b[m\u001b[mavail Mem \u001b[m\u001b[m\u001b[m\u001b[m\u001b[K\n",
            "\u001b[K\n",
            "\n",
            "\u001b[m    300 root      20   0 1127356 107780  25188 S   1.0   0.8   0:07.17 python3  \u001b[m\u001b[m\u001b[K\n",
            "\u001b[m     31 root      20   0    6904   3304   3012 S   0.3   0.0   0:00.59 oom_mon+ \u001b[m\u001b[m\u001b[K\n",
            "\u001b[m     35 root      20   0  722040  15256   8124 S   0.3   0.1   0:00.55 kernel_+ \u001b[m\u001b[m\u001b[K\n",
            "\u001b[m    339 root      20   0  538116  14884   5724 S   0.3   0.1   0:00.40 python3  \u001b[m\u001b[m\u001b[K\n",
            "\u001b[m      1 root      20   0    1012      8      0 S   0.0   0.0   0:00.60 docker-+ \u001b[m\u001b[m\u001b[K\n",
            "\u001b[m      7 root      20   0  896656  48876  30712 S   0.0   0.4   0:04.17 node     \u001b[m\u001b[m\u001b[K\n",
            "\n",
            "\u001b[m     33 root      20   0    6904   1580   1304 S   0.0   0.0   0:00.00 run.sh   \u001b[m\u001b[m\u001b[K\n",
            "\u001b[m     61 root      20   0       0      0      0 Z   0.0   0.0   0:06.32 python3  \u001b[m\u001b[m\u001b[K\n",
            "\u001b[m     62 root      20   0   77412  43996  12980 S   0.0   0.3   0:00.72 colab-f+ \u001b[m\u001b[m\u001b[K\n",
            "\u001b[m     83 root      20   0  556532 152884  48720 S   0.0   1.1   0:05.27 jupyter+ \u001b[m\u001b[m\u001b[K\n",
            "\u001b[m     84 root      20   0  712892   8444   2856 S   0.0   0.1   0:00.37 dap_mul+ \u001b[m\u001b[m\u001b[K\n",
            "\n",
            "\n",
            "\u001b[m   4441 root      20   0    5488    584    512 S   0.0   0.0   0:00.00 sleep    \u001b[m\u001b[m\u001b[K\n",
            "\u001b[J\u001b[?1l\u001b>\u001b[25;1H\n",
            "\u001b[K"
          ]
        }
      ]
    },
    {
      "cell_type": "markdown",
      "source": [
        "8. gpu 종류와 vram 용량 확인"
      ],
      "metadata": {
        "id": "0xMPwQqXWCHS"
      }
    },
    {
      "cell_type": "code",
      "source": [
        "!nvidia-smi         ######중요?######"
      ],
      "metadata": {
        "colab": {
          "base_uri": "https://localhost:8080/"
        },
        "id": "0SMZ1GzGWMcP",
        "outputId": "3d38b124-f7da-4b5e-fd78-8d454de6abd5"
      },
      "execution_count": 1,
      "outputs": [
        {
          "output_type": "stream",
          "name": "stdout",
          "text": [
            "Thu Apr 13 02:02:05 2023       \n",
            "+-----------------------------------------------------------------------------+\n",
            "| NVIDIA-SMI 525.85.12    Driver Version: 525.85.12    CUDA Version: 12.0     |\n",
            "|-------------------------------+----------------------+----------------------+\n",
            "| GPU  Name        Persistence-M| Bus-Id        Disp.A | Volatile Uncorr. ECC |\n",
            "| Fan  Temp  Perf  Pwr:Usage/Cap|         Memory-Usage | GPU-Util  Compute M. |\n",
            "|                               |                      |               MIG M. |\n",
            "|===============================+======================+======================|\n",
            "|   0  Tesla T4            Off  | 00000000:00:04.0 Off |                    0 |\n",
            "| N/A   60C    P8    10W /  70W |      0MiB / 15360MiB |      0%      Default |\n",
            "|                               |                      |                  N/A |\n",
            "+-------------------------------+----------------------+----------------------+\n",
            "                                                                               \n",
            "+-----------------------------------------------------------------------------+\n",
            "| Processes:                                                                  |\n",
            "|  GPU   GI   CI        PID   Type   Process name                  GPU Memory |\n",
            "|        ID   ID                                                   Usage      |\n",
            "|=============================================================================|\n",
            "|  No running processes found                                                 |\n",
            "+-----------------------------------------------------------------------------+\n"
          ]
        }
      ]
    },
    {
      "cell_type": "markdown",
      "source": [
        "9. 프로세스 끄기"
      ],
      "metadata": {
        "id": "GN-WaHjpWz3c"
      }
    },
    {
      "cell_type": "code",
      "source": [
        "10.파일들의 권한 및 모든 정보 확인하기"
      ],
      "metadata": {
        "id": "qp0I2AHKW4OV"
      },
      "execution_count": null,
      "outputs": []
    },
    {
      "cell_type": "code",
      "source": [
        "!ls -al"
      ],
      "metadata": {
        "id": "58jfxZXSatLD"
      },
      "execution_count": null,
      "outputs": []
    },
    {
      "cell_type": "markdown",
      "source": [
        "11.특정 정보만 조회하기"
      ],
      "metadata": {
        "id": "2tivXFwmbezL"
      }
    },
    {
      "cell_type": "code",
      "source": [
        "!ls *.csv"
      ],
      "metadata": {
        "colab": {
          "base_uri": "https://localhost:8080/"
        },
        "id": "VqEd0Hvybh6M",
        "outputId": "894fb8e5-b39c-494b-f76a-7d5ddf18ef9f"
      },
      "execution_count": 3,
      "outputs": [
        {
          "output_type": "stream",
          "name": "stdout",
          "text": [
            "Jeju.csv  titanic.csv\n"
          ]
        }
      ]
    },
    {
      "cell_type": "markdown",
      "source": [
        "12.권한 바꾸기############################"
      ],
      "metadata": {
        "id": "3c5fdgcpcK8k"
      }
    },
    {
      "cell_type": "code",
      "source": [
        "!ls -al"
      ],
      "metadata": {
        "colab": {
          "base_uri": "https://localhost:8080/"
        },
        "id": "SifCgckmcMwP",
        "outputId": "8f9c1184-4f35-417f-e161-fb6ed33f6159"
      },
      "execution_count": 8,
      "outputs": [
        {
          "output_type": "stream",
          "name": "stdout",
          "text": [
            "total 1204\n",
            "drwxr-xr-x 1 root root    4096 Apr 13 02:26 .\n",
            "drwxr-xr-x 1 root root    4096 Apr 13 02:00 ..\n",
            "drwxr-xr-x 4 root root    4096 Apr 11 13:32 .config\n",
            "-r-xr-xr-x 1 root root 1125558 Apr 13 02:26 Jeju.csv\n",
            "drwxr-xr-x 1 root root    4096 Apr 11 13:33 sample_data\n",
            "-rw-r--r-- 1 root root   60302 Apr 13 02:25 titanic.csv\n",
            "-rw-r--r-- 1 root root   28330 Apr 13 02:25 판다스문제.ipynb\n"
          ]
        }
      ]
    },
    {
      "cell_type": "code",
      "source": [
        "!chmod 555 ./Jeju.csv"
      ],
      "metadata": {
        "id": "UesepKZCcm-D"
      },
      "execution_count": 7,
      "outputs": []
    },
    {
      "cell_type": "markdown",
      "source": [
        "13. 폴더 및 그 안에 있는 폴더도 싹다 권한 바꾸기"
      ],
      "metadata": {
        "id": "pb0ORjGhdWoD"
      }
    },
    {
      "cell_type": "code",
      "source": [
        "!ls -al ./test/"
      ],
      "metadata": {
        "colab": {
          "base_uri": "https://localhost:8080/"
        },
        "id": "cKEgTcjWdbMx",
        "outputId": "18380247-b51d-411d-ef72-9d73df55e8bc"
      },
      "execution_count": 11,
      "outputs": [
        {
          "output_type": "stream",
          "name": "stdout",
          "text": [
            "total 1168\n",
            "drwxrwxrwx 2 root root    4096 Apr 13 02:33 .\n",
            "drwxr-xr-x 1 root root    4096 Apr 13 02:33 ..\n",
            "-rwxrwxrwx 1 root root 1125558 Apr 13 02:26 Jeju.csv\n",
            "-rwxrwxrwx 1 root root   60302 Apr 13 02:25 titanic.csv\n"
          ]
        }
      ]
    },
    {
      "cell_type": "code",
      "source": [
        "!chmod 777 -R ./test"
      ],
      "metadata": {
        "id": "_qhlUMvJdrbB"
      },
      "execution_count": 10,
      "outputs": []
    },
    {
      "cell_type": "code",
      "source": [
        "!chmod 777 ./test/Jeju.csv"
      ],
      "metadata": {
        "id": "3hFH9ULweJ7J"
      },
      "execution_count": null,
      "outputs": []
    },
    {
      "cell_type": "markdown",
      "source": [
        "14. 파일 삭제하기"
      ],
      "metadata": {
        "id": "jEaWkUCReTRg"
      }
    },
    {
      "cell_type": "code",
      "source": [
        "!rm 판다스문제.ipynb"
      ],
      "metadata": {
        "colab": {
          "base_uri": "https://localhost:8080/"
        },
        "id": "LQWkKEEheWWc",
        "outputId": "75fd103f-219c-4bcf-ebe8-224c40bb586c"
      },
      "execution_count": 14,
      "outputs": [
        {
          "output_type": "stream",
          "name": "stdout",
          "text": [
            "rm: cannot remove '판다스문제.ipynb': No such file or directory\n"
          ]
        }
      ]
    },
    {
      "cell_type": "code",
      "source": [
        "!rm -r test"
      ],
      "metadata": {
        "id": "GKZ1AmjeekYm"
      },
      "execution_count": 13,
      "outputs": []
    },
    {
      "cell_type": "markdown",
      "source": [
        "15.용량확인"
      ],
      "metadata": {
        "id": "9KgIt5zPewLe"
      }
    },
    {
      "cell_type": "code",
      "source": [
        "!df -h"
      ],
      "metadata": {
        "id": "8tXsf7aseyMc"
      },
      "execution_count": null,
      "outputs": []
    },
    {
      "cell_type": "markdown",
      "source": [
        "16파일찾기"
      ],
      "metadata": {
        "id": "fRzmYHlZe0bn"
      }
    },
    {
      "cell_type": "code",
      "source": [
        "!find"
      ],
      "metadata": {
        "id": "iZ0AsAMpe3se"
      },
      "execution_count": null,
      "outputs": []
    }
  ]
}