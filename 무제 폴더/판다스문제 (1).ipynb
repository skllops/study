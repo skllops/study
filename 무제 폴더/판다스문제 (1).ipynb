{
  "nbformat": 4,
  "nbformat_minor": 0,
  "metadata": {
    "colab": {
      "private_outputs": true,
      "provenance": []
    },
    "kernelspec": {
      "name": "python3",
      "display_name": "Python 3"
    },
    "language_info": {
      "name": "python"
    }
  },
  "cells": [
    {
      "cell_type": "markdown",
      "source": [
        "1. 타이타닉 데이터를 로드하라"
      ],
      "metadata": {
        "id": "NExwP-cSysNq"
      }
    },
    {
      "cell_type": "code",
      "source": [
        "import pandas as pd\n",
        "df = pd.read_csv(\"/content/titanic.csv\")\n",
        "print(df)"
      ],
      "metadata": {
        "id": "nJ3RQhxGyd7-"
      },
      "execution_count": null,
      "outputs": []
    },
    {
      "cell_type": "markdown",
      "source": [
        "2. 데이터의 상위 5개 행을 출력하라"
      ],
      "metadata": {
        "id": "nfTIhRyWyuh5"
      }
    },
    {
      "cell_type": "code",
      "source": [
        "df.head(5)"
      ],
      "metadata": {
        "id": "Deih3-JByvz0"
      },
      "execution_count": null,
      "outputs": []
    },
    {
      "cell_type": "markdown",
      "source": [
        "3. 데이터의 행과 열의 갯수를 파악하라"
      ],
      "metadata": {
        "id": "-aUSVCbmy1L3"
      }
    },
    {
      "cell_type": "code",
      "source": [
        "print(f.)\n",
        "print(df.shape)\n",
        "print('행:',df.shape[0])\n",
        "print('열:',df.shape[1])"
      ],
      "metadata": {
        "id": "77gJ6AVwy17S"
      },
      "execution_count": null,
      "outputs": []
    },
    {
      "cell_type": "markdown",
      "source": [
        "4. 전체 컬럼을 출력하라"
      ],
      "metadata": {
        "id": "975CvOvVy6xK"
      }
    },
    {
      "cell_type": "code",
      "source": [
        "df.columns"
      ],
      "metadata": {
        "id": "D5a00Adoy4-y"
      },
      "execution_count": null,
      "outputs": []
    },
    {
      "cell_type": "markdown",
      "source": [
        "5. 6번째 컬럼명을 출력하라"
      ],
      "metadata": {
        "id": "6E32cTM3y9cY"
      }
    },
    {
      "cell_type": "code",
      "source": [
        "df.columns[5]"
      ],
      "metadata": {
        "id": "TszM6ptQy_gZ"
      },
      "execution_count": null,
      "outputs": []
    },
    {
      "cell_type": "markdown",
      "source": [
        "6. 6번째 컬럼의 데이터 타입을 확인하라"
      ],
      "metadata": {
        "id": "_cpK2_kbzHCq"
      }
    },
    {
      "cell_type": "code",
      "source": [
        "df.iloc[:,5].dtype"
      ],
      "metadata": {
        "id": "TTJYohTWzGlo"
      },
      "execution_count": null,
      "outputs": []
    },
    {
      "cell_type": "markdown",
      "source": [
        "7. 데이터셋의 인덱스 구성은 어떤가"
      ],
      "metadata": {
        "id": "veFFtyTGzL5r"
      }
    },
    {
      "cell_type": "code",
      "source": [
        "df.index"
      ],
      "metadata": {
        "id": "6L5faPMWzM5A"
      },
      "execution_count": null,
      "outputs": []
    },
    {
      "cell_type": "markdown",
      "source": [
        "8. 6번째 컬럼의 3번째 값은 무엇인가?"
      ],
      "metadata": {
        "id": "rQRnMdX9zPt4"
      }
    },
    {
      "cell_type": "code",
      "source": [
        "df.iloc[2,5]  #행 열"
      ],
      "metadata": {
        "id": "i9ayNAelzQgJ"
      },
      "execution_count": null,
      "outputs": []
    },
    {
      "cell_type": "markdown",
      "source": [
        "9. 데이터를 로드하라. 컬럼이 한글이기에 적절한 처리해줘야함"
      ],
      "metadata": {
        "id": "xkp07BVGzTTr"
      }
    },
    {
      "cell_type": "code",
      "source": [
        "df = pd.read_csv(\"./Jeju.csv\",encoding='utf-8')\n",
        "print(df)"
      ],
      "metadata": {
        "id": "NHQUbNg3zRth"
      },
      "execution_count": null,
      "outputs": []
    },
    {
      "cell_type": "markdown",
      "source": [
        "10. 데이터 마지막 3개 행을 출력하라"
      ],
      "metadata": {
        "id": "e-onw8CHz8M1"
      }
    },
    {
      "cell_type": "code",
      "source": [
        "df.tail(3)"
      ],
      "metadata": {
        "id": "tBGkfm9RzXq5"
      },
      "execution_count": null,
      "outputs": []
    },
    {
      "cell_type": "markdown",
      "source": [
        "11. 수치형 변수를 가진 컬럼을 출력하라"
      ],
      "metadata": {
        "id": "6bOlO8Hq0Bl6"
      }
    },
    {
      "cell_type": "code",
      "source": [
        " df.select_dtypes(exclude=object).columns"
      ],
      "metadata": {
        "id": "MWd9b0Jv0ExW"
      },
      "execution_count": null,
      "outputs": []
    },
    {
      "cell_type": "markdown",
      "source": [
        "12. 범주형 변수를 가진 컬럼을 출력하라"
      ],
      "metadata": {
        "id": "V3i_8Qup0M8l"
      }
    },
    {
      "cell_type": "code",
      "source": [
        "df.select_dtypes(include=object).columns"
      ],
      "metadata": {
        "id": "EEY3_6C80Rw2"
      },
      "execution_count": null,
      "outputs": []
    },
    {
      "cell_type": "markdown",
      "source": [
        "13. 각 컬럼의 결측치 숫자를 파악하라"
      ],
      "metadata": {
        "id": "VfMSTLxm0bB8"
      }
    },
    {
      "cell_type": "code",
      "source": [
        "df.isnull().sum()      ###"
      ],
      "metadata": {
        "id": "MYdBf3Mt0UMV"
      },
      "execution_count": null,
      "outputs": []
    },
    {
      "cell_type": "markdown",
      "source": [
        "14. 각 컬럼의 데이터수, 데이터타입을 한번에 확인하라"
      ],
      "metadata": {
        "id": "zkuRaITW0fAO"
      }
    },
    {
      "cell_type": "code",
      "source": [
        "df.info()"
      ],
      "metadata": {
        "id": "586Cv6jt0czW"
      },
      "execution_count": null,
      "outputs": []
    },
    {
      "cell_type": "markdown",
      "source": [
        "15. 각 수치형 변수의 분포(사분위, 평균, 표준편차, 최대 , 최소)를 확인하라"
      ],
      "metadata": {
        "id": "HMwa5mpg0jdO"
      }
    },
    {
      "cell_type": "code",
      "source": [
        "df.describe()"
      ],
      "metadata": {
        "id": "-56RoOmt0hAt"
      },
      "execution_count": null,
      "outputs": []
    },
    {
      "cell_type": "markdown",
      "source": [
        "16. 거주인구 컬럼의 값들을 출력하라"
      ],
      "metadata": {
        "id": "P5K-KUvv0nu4"
      }
    },
    {
      "cell_type": "code",
      "source": [
        "df['거주인구']"
      ],
      "metadata": {
        "id": "aKLJ7JC00l2V"
      },
      "execution_count": null,
      "outputs": []
    },
    {
      "cell_type": "markdown",
      "source": [
        "17. 평균 속도 컬럼의 4분위 범위(IQR) 값을 구하여라"
      ],
      "metadata": {
        "id": "G_y17fG10sUN"
      }
    },
    {
      "cell_type": "code",
      "source": [
        "df['평균 속도'].quantile(0.75) - df['평균 속도'].quantile(0.25)"
      ],
      "metadata": {
        "id": "4b3ga4Au0qL0"
      },
      "execution_count": null,
      "outputs": []
    },
    {
      "cell_type": "markdown",
      "source": [
        "18. 읍면동명 컬럼의 유일값 갯수를 출력하라"
      ],
      "metadata": {
        "id": "rz6WK_Bl02DR"
      }
    },
    {
      "cell_type": "code",
      "source": [
        "df.읍면동명.nunique()     #[읍면동명] n개"
      ],
      "metadata": {
        "id": "9TSZoJSo0vE1"
      },
      "execution_count": null,
      "outputs": []
    },
    {
      "cell_type": "markdown",
      "source": [
        "19. 읍면동명 컬럼의 유일값을 모두 출력하라"
      ],
      "metadata": {
        "id": "qRbaXfCY06PS"
      }
    },
    {
      "cell_type": "code",
      "source": [
        "df.읍면동명.unique()"
      ],
      "metadata": {
        "id": "gCkDoJXz04T0"
      },
      "execution_count": null,
      "outputs": []
    },
    {
      "cell_type": "markdown",
      "source": [
        "20. 식당 데이터를 로드하라."
      ],
      "metadata": {
        "id": "TXE0TJjx1Cqc"
      }
    },
    {
      "cell_type": "code",
      "source": [
        "df = pd.read_csv(\"chipo.csv\")\n",
        "print(df)"
      ],
      "metadata": {
        "id": "gMU8ljOf0-Z7"
      },
      "execution_count": null,
      "outputs": []
    },
    {
      "cell_type": "markdown",
      "source": [
        "21. quantity컬럼 값이 3인 데이터를 추출하여 첫 5행을 출력하라"
      ],
      "metadata": {
        "id": "Oa7w5h8E1b4a"
      }
    },
    {
      "cell_type": "code",
      "source": [
        "df.loc[df['quantity']==3].head()                      "
      ],
      "metadata": {
        "id": "XiDW94l31fcL"
      },
      "execution_count": null,
      "outputs": []
    },
    {
      "cell_type": "markdown",
      "source": [
        "22. quantity컬럼 값이 3인 데이터를 추출하여 index를 0부터 정렬하고 첫 5행을 출력하라"
      ],
      "metadata": {
        "id": "YereD3kB1h7D"
      }
    },
    {
      "cell_type": "code",
      "source": [
        "df.loc[df['quantity']==3].head().reset_index(drop=True) # drop의 차이점을 확인해보자 이전의 index를 날리는지 아닌지"
      ],
      "metadata": {
        "id": "MzQyhZHc1gw5"
      },
      "execution_count": null,
      "outputs": []
    },
    {
      "cell_type": "markdown",
      "source": [
        "23. quantity , item_price 두개의 컬럼으로 구성된 새로운 데이터 프레임을 정의하라"
      ],
      "metadata": {
        "id": "yrOCB2-D2ir5"
      }
    },
    {
      "cell_type": "code",
      "source": [
        "re_df =df[['quantity','item_price']]\n",
        "print(re_df)"
      ],
      "metadata": {
        "id": "yJPx0ZVR2lUp"
      },
      "execution_count": null,
      "outputs": []
    },
    {
      "cell_type": "markdown",
      "source": [
        "24. item_price 컬럼의 달러표시 문자를 제거하고 float 타입으로 저장하여 new_price 컬럼에 저장하라"
      ],
      "metadata": {
        "id": "N2PN489w2q8g"
      }
    },
    {
      "cell_type": "code",
      "source": [
        "df['new_price'] = df['item_price'].str[1:].astype('float')      #astype \n",
        "df['new_price'].head()\n"
      ],
      "metadata": {
        "id": "wTxFfYBa2s-a"
      },
      "execution_count": null,
      "outputs": []
    },
    {
      "cell_type": "markdown",
      "source": [
        "25. new_price 컬럼이 5이하의 값을 가지는 데이터프레임을 추출하고, 전체 갯수를 구하여라"
      ],
      "metadata": {
        "id": "yQt81QAQ29db"
      }
    },
    {
      "cell_type": "code",
      "source": [
        "len(df.loc[df.new_price <=5])           "
      ],
      "metadata": {
        "id": "shhcEWiq2-Je"
      },
      "execution_count": null,
      "outputs": []
    },
    {
      "cell_type": "markdown",
      "source": [
        "26. item_name명이 Chicken Salad Bowl 인 데이터 프레임을 추출하라고 index 값을 초기화 하여라"
      ],
      "metadata": {
        "id": "m82LM3mE3DCz"
      }
    },
    {
      "cell_type": "code",
      "source": [
        "df.loc[df.item_name =='Chicken Salad Bowl'].reset_index(drop=True)        #index 초기화"
      ],
      "metadata": {
        "id": "esvD886B3AKu"
      },
      "execution_count": null,
      "outputs": []
    },
    {
      "cell_type": "markdown",
      "source": [
        "27. new_price값이 9 이하이고 item_name 값이 Chicken Salad Bowl 인 데이터 프레임을 추출하라"
      ],
      "metadata": {
        "id": "fVTEtDtd3I18"
      }
    },
    {
      "cell_type": "code",
      "source": [
        "df.loc[(df.item_name =='Chicken Salad Bowl') & (df.new_price <= 9)].head()"
      ],
      "metadata": {
        "id": "93PkL9KP3GVd"
      },
      "execution_count": null,
      "outputs": []
    },
    {
      "cell_type": "markdown",
      "source": [
        "28. df의 new_price 컬럼 값에 따라 오름차순으로 정리하고 index를 초기화 하여라"
      ],
      "metadata": {
        "id": "E-N1jGaE3QgX"
      }
    },
    {
      "cell_type": "code",
      "source": [
        "df.sort_values('new_price').reset_index(drop=True)       #index 초기화 new_price로 정렬하고"
      ],
      "metadata": {
        "id": "cDLM8CQh3Ln1"
      },
      "execution_count": null,
      "outputs": []
    },
    {
      "cell_type": "markdown",
      "source": [
        "29. df의 item_name 컬럼 값중 Chips 포함하는 경우의 데이터를 출력하라"
      ],
      "metadata": {
        "id": "bfGsSa333U90"
      }
    },
    {
      "cell_type": "code",
      "source": [
        "df.loc[df.item_name.str.contains('Chips')]              #"
      ],
      "metadata": {
        "id": "_2_BWWTv3SjV"
      },
      "execution_count": null,
      "outputs": []
    },
    {
      "cell_type": "markdown",
      "source": [
        "30. df의 짝수번째 컬럼만을 포함하는 데이터프레임을 출력하라"
      ],
      "metadata": {
        "id": "c1P-YDH-3Zu_"
      }
    },
    {
      "cell_type": "code",
      "source": [
        "df.iloc[:,::2]                                        # [행, 시작:끝:스텝]"
      ],
      "metadata": {
        "id": "l-oljrYi3XoN"
      },
      "execution_count": null,
      "outputs": []
    },
    {
      "cell_type": "markdown",
      "source": [
        "31. df의 new_price 컬럼 값에 따라 내림차순으로 정리하고 index를 초기화 하여라"
      ],
      "metadata": {
        "id": "pqfXDTrC3dbU"
      }
    },
    {
      "cell_type": "code",
      "source": [
        "df.sort_values('new_price',ascending=False).reset_index(drop=True)"
      ],
      "metadata": {
        "id": "dppHebC-3d-j"
      },
      "execution_count": null,
      "outputs": []
    },
    {
      "cell_type": "markdown",
      "source": [
        "32. df의 item_name 컬럼 값이 Steak Salad 또는 Bowl 인 데이터를 인덱싱하라"
      ],
      "metadata": {
        "id": "27m_qdTQ3kEW"
      }
    },
    {
      "cell_type": "code",
      "source": [
        "df.loc[(df.item_name =='Steak Salad') | (df.item_name =='Bowl')]      #df['item_name']=="
      ],
      "metadata": {
        "id": "C7VzEQxM3fGj"
      },
      "execution_count": null,
      "outputs": []
    },
    {
      "cell_type": "markdown",
      "source": [
        "33. df의 item_name 컬럼 값이 Steak Salad 또는 Bowl 인 데이터를 데이터 프레임화 한 후, item_name를 기준으로 중복행이 있으면 제거하되 첫번째 케이스만 남겨라"
      ],
      "metadata": {
        "id": "_iGnpF1V3mjK"
      }
    },
    {
      "cell_type": "code",
      "source": [
        "result_df =df.loc[(df.item_name =='Steak Salad') | (df.item_name =='Bowl')]\n",
        "result_df.drop_duplicates('item_name')  # 디폴트 keep='first'"
      ],
      "metadata": {
        "id": "mcFlwj603lCE"
      },
      "execution_count": null,
      "outputs": []
    },
    {
      "cell_type": "markdown",
      "source": [
        "34. df의 item_name 컬럼 값이 Steak Salad 또는 Bowl 인 데이터를 데이터 프레임화 한 후, item_name를 기준으로 중복행이 있으면 제거하되 마지막 케이스만 남겨라"
      ],
      "metadata": {
        "id": "32OeNonA38PH"
      }
    },
    {
      "cell_type": "code",
      "source": [
        "result_df = df.loc[(df.item_name =='Steak Salad') | (df.item_name =='Bowl')]\n",
        "result_df.drop_duplicates('item_name',keep='last')"
      ],
      "metadata": {
        "id": "u3iZVPIU3t78"
      },
      "execution_count": null,
      "outputs": []
    },
    {
      "cell_type": "markdown",
      "source": [
        "35. df의 데이터 중 new_price값이 new_price값의 평균값 이상을 가지는 데이터들을 인덱싱하라"
      ],
      "metadata": {
        "id": "v8etC2lo4DEs"
      }
    },
    {
      "cell_type": "code",
      "source": [
        "df.loc[df.new_price >= df.new_price.mean()]     #df[df.new]가능 하지만 옆에게 정석"
      ],
      "metadata": {
        "id": "_oEFi8zq4BHz"
      },
      "execution_count": null,
      "outputs": []
    },
    {
      "cell_type": "markdown",
      "source": [
        "36. df의 데이터 중 item_name의 값이 Izze 데이터를 Fizzy Lizzy로 수정하라"
      ],
      "metadata": {
        "id": "1YMsEt_h4HJX"
      }
    },
    {
      "cell_type": "code",
      "source": [
        "df.loc[df.item_name =='Izze','item_name'] = 'Fizzy Lizzy'\n",
        "print(df)\n",
        "\n",
        "# df.loc[df['item_name']=='Fizzy Lizzy']['item_name']= 'Izze'\n",
        "# print(df)"
      ],
      "metadata": {
        "id": "nBICDHg64FFT"
      },
      "execution_count": null,
      "outputs": []
    },
    {
      "cell_type": "markdown",
      "source": [
        "37. df의 데이터 중 choice_description 값이 NaN 인 데이터의 갯수를 구하여라"
      ],
      "metadata": {
        "id": "gMxi17aq4aIB"
      }
    },
    {
      "cell_type": "code",
      "source": [
        "df.choice_description.isnull().sum()    #df['choice_description'].isnull().sum()"
      ],
      "metadata": {
        "id": "KGRGEGjo4TtB"
      },
      "execution_count": null,
      "outputs": []
    },
    {
      "cell_type": "markdown",
      "source": [],
      "metadata": {
        "id": "UC12R3w1-Evi"
      }
    },
    {
      "cell_type": "markdown",
      "source": [
        "38. df의 데이터 중 choice_description 값이 NaN 인 데이터를 NoData 값으로 대체하라(loc 이용)"
      ],
      "metadata": {
        "id": "JZGtYiyy4dvP"
      }
    },
    {
      "cell_type": "code",
      "source": [
        "df.loc[df.choice_description.isnull(),'choice_description'] ='NoData'\n",
        "df\n",
        "\n",
        "# df.loc[df['choice_description'].isnull(),'choice_description'] = 'NoData'\n",
        "# df"
      ],
      "metadata": {
        "id": "WEWM0ED-4cGZ"
      },
      "execution_count": null,
      "outputs": []
    },
    {
      "cell_type": "markdown",
      "source": [
        "39. df의 데이터 중 choice_description 값에 Black이 들어가는 경우를 인덱싱하라"
      ],
      "metadata": {
        "id": "Uf7PZuJA4kPB"
      }
    },
    {
      "cell_type": "code",
      "source": [
        "df[df.choice_description.str.contains('Black')]     \n",
        "\n"
      ],
      "metadata": {
        "id": "QfNrLMl54fw6"
      },
      "execution_count": null,
      "outputs": []
    },
    {
      "cell_type": "markdown",
      "source": [
        "40. df의 데이터 중 choice_description 값에 Vegetables 들어가지 않는 경우의 갯수를 출력하라"
      ],
      "metadata": {
        "id": "-YlQNxxF459c"
      }
    },
    {
      "cell_type": "code",
      "source": [
        "len(df.loc[~df.choice_description.str.contains('Vegetables')])\n",
        "\n",
        "#! , ~ 부정연산자 "
      ],
      "metadata": {
        "id": "VoC6D3Yi4ndB"
      },
      "execution_count": null,
      "outputs": []
    },
    {
      "cell_type": "markdown",
      "source": [
        "41. df의 데이터 중 item_name 값이 N으로 시작하는 데이터를 모두 추출하라"
      ],
      "metadata": {
        "id": "THKaikg-4-KY"
      }
    },
    {
      "cell_type": "code",
      "source": [
        "df[df.item_name.str.startswith('N')]\n",
        "\n",
        "# df[df['item_name'].str.startswith('N')]"
      ],
      "metadata": {
        "id": "uAWjgzBi48Go"
      },
      "execution_count": null,
      "outputs": []
    },
    {
      "cell_type": "markdown",
      "source": [
        "42. df의 데이터 중 item_name 값의 단어갯수가 15개 이상인 데이터를 인덱싱하라"
      ],
      "metadata": {
        "id": "mMcH7nwg5EKF"
      }
    },
    {
      "cell_type": "code",
      "source": [
        "df[df.item_name.str.len() >=15]"
      ],
      "metadata": {
        "id": "ZkZKq2c_5AsY"
      },
      "execution_count": null,
      "outputs": []
    },
    {
      "cell_type": "markdown",
      "source": [
        "43. df의 데이터 중 new_price값이 lst에 해당하는 경우의 데이터 프레임을 구하고 그 갯수를 출력하라 lst =[1.69, 2.39, 3.39, 4.45, 9.25, 10.98, 11.75, 16.98]"
      ],
      "metadata": {
        "id": "jFR2qn-u5JK0"
      }
    },
    {
      "cell_type": "code",
      "source": [
        "lst =[1.69, 2.39, 3.39, 4.45, 9.25, 10.98, 11.75, 16.98]\n",
        "df.loc[df.new_price.isin(lst)]\n",
        "#loc 없어도 돼?"
      ],
      "metadata": {
        "id": "qGRKVMFF5GQ4"
      },
      "execution_count": null,
      "outputs": []
    },
    {
      "cell_type": "markdown",
      "source": [
        "44. 에어비앤비 데이터 로드"
      ],
      "metadata": {
        "id": "iICH_FwA5XPV"
      }
    },
    {
      "cell_type": "code",
      "source": [
        "df= pd.read_csv('https://raw.githubusercontent.com/Datamanim/pandas/main/AB_NYC_2019.csv')\n",
        "\n",
        "df.head(5)"
      ],
      "metadata": {
        "id": "yaAuGqrO5RA4"
      },
      "execution_count": null,
      "outputs": []
    },
    {
      "cell_type": "markdown",
      "source": [
        "45. 데이터의 각 host_name의 빈도수를 구하고 host_name으로 정렬하여 상위 5개를 출력하라"
      ],
      "metadata": {
        "id": "fqkUPYBI5c6u"
      }
    },
    {
      "cell_type": "code",
      "source": [
        "df.host_name.value_counts().sort_index().head()\n",
        "\n",
        "# df['host_name'].value_counts().sort_index().head(5)    상위다섯 - head(5)  정렬sort_index()"
      ],
      "metadata": {
        "id": "GEl5gj-n5ao_"
      },
      "execution_count": null,
      "outputs": []
    },
    {
      "cell_type": "markdown",
      "source": [
        "46. 데이터의 각 host_name의 빈도수를 구하고 빈도수 기준 내림차순 정렬한 데이터 프레임을 만들어라. 빈도수 컬럼은 counts로 명명하라"
      ],
      "metadata": {
        "id": "SUQdTTfz50xa"
      }
    },
    {
      "cell_type": "code",
      "source": [
        "df.groupby('host_name').size().\\\n",
        "                to_frame().rename(columns={0:'counts'}).\\\n",
        "                sort_values('counts',ascending=False)\n",
        "#to_frame() 프레임\n",
        "#rename()columns의 0을 counts로??????\n",
        "#counts를 기준으로 내림차수 정렬\n",
        "df.groupby('host_name').size().\\\n",
        "            to_frame().rename(columns={0:'counts'}).\\\n",
        "            sort_values()\n"
      ],
      "metadata": {
        "id": "4tXv83C65-Cn"
      },
      "execution_count": null,
      "outputs": []
    },
    {
      "cell_type": "markdown",
      "source": [
        "47. neighbourhood_group의 값에 따른 neighbourhood컬럼 값의 갯수를 구하여라"
      ],
      "metadata": {
        "id": "nqVesv_66KCq"
      }
    },
    {
      "cell_type": "code",
      "source": [
        "df.groupby(['neighbourhood_group','neighbourhood'], as_index=False).size()\n",
        " # as_index=False 그룹을 인덱스로 지정할 것인지 여부 그룹으로 인덱스 안함?\n",
        "#neighbourhood_group 하고 neighbourhood 다시 묶음? \n",
        "# as_index=True   그룹으로 한다?"
      ],
      "metadata": {
        "id": "ASfee0y36Lel"
      },
      "execution_count": null,
      "outputs": []
    },
    {
      "cell_type": "markdown",
      "source": [
        "48. neighbourhood_group의 값에 따른 neighbourhood컬럼 값 중 neighbourhood_group그룹의 최댓값들을 출력하라"
      ],
      "metadata": {
        "id": "3j_sNm4Z6ffo"
      }
    },
    {
      "cell_type": "code",
      "source": [
        "df.groupby(['neighbourhood_group','neighbourhood'], as_index=False).size()\\\n",
        "                  .groupby(['neighbourhood_group'], as_index=False).max()\n",
        "\n",
        "# groupby neighbourhood_group 로 그룹화"
      ],
      "metadata": {
        "id": "WBg80CTI6c5m"
      },
      "execution_count": null,
      "outputs": []
    },
    {
      "cell_type": "markdown",
      "source": [
        "49. neighbourhood_group 값에 따른 price값의 평균, 분산, 최대, 최소 값을 구하여라"
      ],
      "metadata": {
        "id": "rhuruczi6pzu"
      }
    },
    {
      "cell_type": "code",
      "source": [
        "df[['neighbourhood_group','price']].groupby('neighbourhood_group').agg(['mean','var','max','min']) \n",
        "\n",
        "#agg 한번에 다양한 메소드를 적용시킴\n",
        "\n",
        "# neighbourhood_group price 두개의 컬럼만 가져와서 \n",
        "# groupby 그룹화 \n",
        "# agree gate?  "
      ],
      "metadata": {
        "id": "IZMRhX576hoE"
      },
      "execution_count": null,
      "outputs": []
    },
    {
      "cell_type": "markdown",
      "source": [
        "50. neighbourhood_group 값에 따른 reviews_per_month 평균, 분산, 최대, 최소 값을 구하여라"
      ],
      "metadata": {
        "id": "nMo-pM0_65RA"
      }
    },
    {
      "cell_type": "code",
      "source": [
        "df[['neighbourhood_group','reviews_per_month']].groupby('neighbourhood_group').agg(['mean','var','max','min'])\n",
        "\n",
        "#위와 같음?"
      ],
      "metadata": {
        "id": "F5wq4WPq66zj"
      },
      "execution_count": null,
      "outputs": []
    },
    {
      "cell_type": "markdown",
      "source": [
        "51. neighbourhood 값과 neighbourhood_group 값에 따른 price 의 평균을 구하라"
      ],
      "metadata": {
        "id": "MyKFevTT6_MH"
      }
    },
    {
      "cell_type": "code",
      "source": [
        "df.groupby(['neighbourhood','neighbourhood_group']).price.mean()\n",
        "\n",
        "# 그룹화하고 price의 mean값을 구하기\n",
        "\n",
        "df.groupby(['neighbourhood','neighbourhood_group'])\n",
        "\n",
        "#neighbourhood 묶고\n",
        "#또 neighbourhood_group 묶고"
      ],
      "metadata": {
        "id": "QQaBbsRD680j"
      },
      "execution_count": null,
      "outputs": []
    },
    {
      "cell_type": "markdown",
      "source": [
        "52. 카드 이용 데이터를 로드해라"
      ],
      "metadata": {
        "id": "Ca9X96g_7CJ1"
      }
    },
    {
      "cell_type": "code",
      "source": [
        "df =pd.read_csv('https://raw.githubusercontent.com/Datamanim/pandas/main/BankChurnersUp.csv',index_col=0)\n",
        "df.head()"
      ],
      "metadata": {
        "id": "MKQ0oGxS7A2b"
      },
      "execution_count": null,
      "outputs": []
    },
    {
      "cell_type": "markdown",
      "source": [
        "53. Income_Category의 카테고리를 map 함수를 이용하여 다음과 같이 변경하여 newIncome 컬럼에 매핑하라\n",
        "\n",
        "```\n",
        "Unknown : N\n",
        "Less than $40K : a\n",
        "$40K - $60K : b\n",
        "$60K - $80K : c\n",
        "$80K - $120K : d\n",
        "$120K +’ : e\n",
        "```"
      ],
      "metadata": {
        "id": "SDjOjgBa7mzp"
      }
    },
    {
      "cell_type": "code",
      "source": [
        "dic = {\n",
        "    'Unknown'        : 'N',\n",
        "    'Less than $40K' : 'a',\n",
        "    '$40K - $60K'    : 'b',\n",
        "    '$60K - $80K'    : 'c',\n",
        "    '$80K - $120K'   : 'd',\n",
        "    '$120K +'        : 'e'   \n",
        "}\n",
        "\n",
        "df['newIncome']  =df.Income_Category.map(lambda x: dic[x])\n",
        "\n",
        "Ans = df['newIncome']\n",
        "\n",
        "df['newIncome']\n",
        "df['Income_Category']\n",
        "# df['Income_Category'].map(lambda x:dic[x])\n",
        "\n",
        "\n",
        "# #map 특정 수식을 먹인다? 준다? 맵핑 \n",
        "# #lambda \n",
        "# 정보를 가져오고 - > dic={} 안에는 스트링으로 ''\n",
        "\n",
        "# a = [1,2,3,4,5,6,7,8]\n",
        "# list(map(a(lambda x:x*x,a))"
      ],
      "metadata": {
        "id": "yNlfenoa7D6z"
      },
      "execution_count": null,
      "outputs": []
    },
    {
      "cell_type": "markdown",
      "source": [
        "54. Income_Category의 카테고리를 apply 함수를 이용하여 다음과 같이 변경하여 newIncome 컬럼에 매핑하라 \n",
        "\n",
        "```\n",
        "Unknown : N\n",
        "Less than $40K : a\n",
        "$40K - $60K : b\n",
        "$60K - $80K : c\n",
        "$80K - $120K : d\n",
        "$120K +’ : e\n",
        "```"
      ],
      "metadata": {
        "id": "e3ira75p7v5t"
      }
    },
    {
      "cell_type": "code",
      "source": [
        "def changeCategory(x):\n",
        "    if x =='Unknown':\n",
        "        return 'N'\n",
        "    elif x =='Less than $40K':\n",
        "        return 'a'\n",
        "    elif x =='$40K - $60K':   \n",
        "        return 'b'\n",
        "    elif x =='$60K - $80K':    \n",
        "        return 'c'\n",
        "    elif x =='$80K - $120K':   \n",
        "        return 'd'\n",
        "    elif x =='$120K +' :     \n",
        "        return 'e'\n",
        "\n",
        "df['newIncome']  =df.Income_Category.apply(changeCategory)\n",
        "\n",
        "df['newIncome']\n",
        "\n",
        "# apply에 함수명 넣어줌\n",
        "\n",
        "# df test(x):\n",
        "# return sdic()"
      ],
      "metadata": {
        "id": "WR7mSoZH7pTQ"
      },
      "execution_count": null,
      "outputs": []
    },
    {
      "cell_type": "markdown",
      "source": [
        "55. Customer_Age의 값을 이용하여 나이 구간을 AgeState 컬럼으로 정의하라. \n",
        "```\n",
        "(0~9 : 0 , 10~19 :10 , 20~29 :20 … 각 구간의 빈도수를 출력하라\n",
        "```"
      ],
      "metadata": {
        "id": "MameoXGP7-pR"
      }
    },
    {
      "cell_type": "code",
      "source": [
        "df['AgeState']  = df.Customer_Age.map(lambda x: x//10 *10)\n",
        "df['AgeState']\n",
        "\n",
        "# // 몫 구하기"
      ],
      "metadata": {
        "id": "kv7WfgRq75dI"
      },
      "execution_count": null,
      "outputs": []
    },
    {
      "cell_type": "markdown",
      "source": [
        "56. Education_Level의 값중 Graduate단어가 포함되는 값은 1 그렇지 않은 경우에는 0으로 변경하여 newEduLevel 컬럼을 정의하고 빈도수를 출력하라"
      ],
      "metadata": {
        "id": "Y3aMxPOM8MPv"
      }
    },
    {
      "cell_type": "code",
      "source": [
        "df['newEduLevel'] = df.Education_Level.map(lambda x : 1 if 'Graduate' in x else 0)\n",
        "df['newEduLevel']\n",
        "\n",
        "# 컨디션커퍼레이션? "
      ],
      "metadata": {
        "id": "cMatNzps8GJg"
      },
      "execution_count": null,
      "outputs": []
    },
    {
      "cell_type": "markdown",
      "source": [
        "57. Credit_Limit 컬럼값이 4500 이상인 경우 1 그외의 경우에는 모두 0으로 하는 newLimit 정의하라. newLimit 각 값들의 빈도수를 출력하라"
      ],
      "metadata": {
        "id": "bcHhQgtz8SS1"
      }
    },
    {
      "cell_type": "code",
      "source": [
        "df['newLimit'] = df.Credit_Limit.map(lambda x : 1 if x>=4500 else 0)\n",
        "df['newLimit'].value_counts()\n",
        "\n"
      ],
      "metadata": {
        "id": "Kdh-EKQl8Qwv"
      },
      "execution_count": null,
      "outputs": []
    },
    {
      "cell_type": "markdown",
      "source": [
        "58. Marital_Status 컬럼값이 Married 이고 Card_Category 컬럼의 값이 Platinum인 경우 1 그외의 경우에는 모두 0으로 하는 newState컬럼을 정의하라. newState의 각 값들의 빈도수를 출력하라"
      ],
      "metadata": {
        "id": "RHxM7l1e8bp3"
      }
    },
    {
      "cell_type": "code",
      "source": [
        "from sqlalchemy.sql.base import elements\n",
        "def check(x):\n",
        "    if x.Marital_Status =='Married' and x.Card_Category =='Platinum':\n",
        "        return 1\n",
        "    else:\n",
        "        return 0\n",
        "\n",
        "\n",
        "df['newState'] = df.apply(check,axis=1)\n",
        "\n",
        "df['newState'].value_counts()\n",
        "\n",
        "\n",
        "# def test(x):\n",
        "#   if x.'Marital_Status' == 'Married' and x.'Card_Category' == 'Platinum':\n",
        "#     return 1\n",
        "#   else:\n",
        "#     return 0\n",
        "\n",
        "# df.apply(test, axis=1)\n",
        "\n",
        "\n",
        "\n",
        "# df['Marital_Status'].map(lambda x:1 if x['Marital_Status'] == 'Married' and x['Card_Category'] == 'Platinum')"
      ],
      "metadata": {
        "id": "olED_zZv8afH"
      },
      "execution_count": null,
      "outputs": []
    },
    {
      "cell_type": "markdown",
      "source": [
        "59. Gender 컬럼값 M인 경우 male F인 경우 female로 값을 변경하여 Gender 컬럼에 새롭게 정의하라. 각 value의 빈도를 출력하라"
      ],
      "metadata": {
        "id": "JBjM3J1U8gvg"
      }
    },
    {
      "cell_type": "code",
      "source": [
        "def changeGender(x):\n",
        "    if x =='M':\n",
        "        return 'male'\n",
        "    else:\n",
        "        return 'female'\n",
        "df['Gender'] = df.Gender.apply(changeGender)\n",
        "df['Gender'].value_counts()\n",
        "\n",
        "\n",
        "# df['Gender'].map(1 lambda) x: 'male' if x=='M' else 'fmale').value_counts()"
      ],
      "metadata": {
        "id": "9mYS17l-8eNH"
      },
      "execution_count": null,
      "outputs": []
    },
    {
      "cell_type": "markdown",
      "source": [
        "60. 국가별 5세이하 사망비율 통계 데이터를 로드해라"
      ],
      "metadata": {
        "id": "9Dga78gC8l6m"
      }
    },
    {
      "cell_type": "code",
      "source": [
        "df = pd.read_csv('https://raw.githubusercontent.com/Datamanim/pandas/main/mergeTEst.csv',index_col= 0)\n",
        "df"
      ],
      "metadata": {
        "id": "RdnCBEB_8jze"
      },
      "execution_count": null,
      "outputs": []
    },
    {
      "cell_type": "markdown",
      "source": [
        "61. 데이터를 쪼개라"
      ],
      "metadata": {
        "id": "n1buiT-u9tZw"
      }
    },
    {
      "cell_type": "code",
      "source": [
        "df1 = df.iloc[:4,:]\n",
        "df2 = df.iloc[4:,:]\n",
        "\n",
        "display(df1)\n",
        "display(df2)\n",
        "\n",
        "\n",
        "# 인티져로케이션으로 나눠"
      ],
      "metadata": {
        "id": "VGMwkgVb9K6k"
      },
      "execution_count": null,
      "outputs": []
    },
    {
      "cell_type": "markdown",
      "source": [
        "62. df1과 df2 데이터를 하나의 데이터 프레임으로 합쳐라"
      ],
      "metadata": {
        "id": "_wvqzXSi9ztH"
      }
    },
    {
      "cell_type": "code",
      "source": [
        "pd.concat([df1,df2])"
      ],
      "metadata": {
        "id": "B1wV420s9zcX"
      },
      "execution_count": null,
      "outputs": []
    },
    {
      "cell_type": "markdown",
      "source": [
        "63. df3과 df4 데이터를 하나의 데이터 프레임으로 합쳐라. 둘다 포함하고 있는 년도에 대해서만 고려한다\n",
        "\n",
        "```\n",
        "df3 = df.iloc[:2,:4]\n",
        "df4 = df.iloc[5:,3:]\n",
        "\n",
        "display(df3)\n",
        "display(df4)\n",
        "```\n"
      ],
      "metadata": {
        "id": "9dnP9JP895hn"
      }
    },
    {
      "cell_type": "code",
      "source": [
        "df3 = df.iloc[:2,:4]\n",
        "df4 = df.iloc[5:,3:]\n",
        "\n",
        "display(df3)\n",
        "display(df4)\n",
        "\n",
        "pd.concat([df3,df4], join = 'inner')\n",
        "\n"
      ],
      "metadata": {
        "id": "OizmsQqN9we7"
      },
      "execution_count": null,
      "outputs": []
    },
    {
      "cell_type": "markdown",
      "source": [
        "64. df3과 df4 데이터를 하나의 데이터 프레임으로 합쳐라. 모든 컬럼을 포함하고, 결측치는 0으로 대체한다"
      ],
      "metadata": {
        "id": "Ln15ltJI-U8o"
      }
    },
    {
      "cell_type": "code",
      "source": [
        "df3 = df.iloc[:2,:4]\n",
        "df4 = df.iloc[5:,3:]\n",
        "\n",
        "display(df3)\n",
        "display(df4)\n",
        "\n",
        "pd.concat([df3,df4], join = 'outer').fillna(0)\n",
        "#outer는 전체에 대한 집합\n",
        "# 각컬럼에 뭐뭠뭐??"
      ],
      "metadata": {
        "id": "tl_PRHAf-Hhi"
      },
      "execution_count": null,
      "outputs": []
    },
    {
      "cell_type": "markdown",
      "source": [
        "65. df5과 df6 데이터를 하나의 데이터 프레임으로 merge함수를 이용하여 합쳐라. Algeria컬럼을 key로 하고 두 데이터 모두 포함하는 데이터만 출력하라\n",
        "\n",
        "```\n",
        "df5 = df.T.iloc[:7,:3]\n",
        "df6 = df.T.iloc[6:,2:5]\n",
        "\n",
        "display(df5)\n",
        "display(df6)\n",
        "```"
      ],
      "metadata": {
        "id": "36XPR2Gp-7cs"
      }
    },
    {
      "cell_type": "code",
      "source": [
        "df5 = df.T.iloc[:7,:3]\n",
        "df6 = df.T.iloc[6:,2:5]\n",
        "\n",
        "display(df5)\n",
        "display(df6)\n",
        "\n",
        "pd.merge(df5,df6,on='Algeria',how='inner')\n",
        "\n",
        "# df.T 는 바꾸는거? \n",
        "# on 은 조건 특정컬럼으로\n",
        "# how 교집합 inner"
      ],
      "metadata": {
        "id": "MoWTvCT2PxIw"
      },
      "execution_count": null,
      "outputs": []
    },
    {
      "cell_type": "markdown",
      "source": [
        "66. df5과 df6 데이터를 하나의 데이터 프레임으로 merge함수를 이용하여 합쳐라. Algeria컬럼을 key로 하고 합집합으로 합쳐라"
      ],
      "metadata": {
        "id": "kuLePvHH_IgN"
      }
    },
    {
      "cell_type": "code",
      "source": [
        "df5 = df.T.iloc[:7,:3]\n",
        "df6 = df.T.iloc[6:,2:5]\n",
        "\n",
        "display(df5)\n",
        "display(df6)\n",
        "\n",
        "pd.merge(df5,df6,on='Algeria',how='outer')\n",
        "\n",
        "# df.T 는 바꾸는거? \n",
        "# on 은 조건 특정컬럼으로\n",
        "# how 합집합 ouuter"
      ],
      "metadata": {
        "id": "FuBSuz4X_BgI"
      },
      "execution_count": null,
      "outputs": []
    }
  ]
}