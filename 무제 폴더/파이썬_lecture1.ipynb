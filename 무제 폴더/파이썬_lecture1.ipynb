{
  "nbformat": 4,
  "nbformat_minor": 0,
  "metadata": {
    "colab": {
      "provenance": []
    },
    "kernelspec": {
      "name": "python3",
      "display_name": "Python 3"
    },
    "language_info": {
      "name": "python"
    }
  },
  "cells": [
    {
      "cell_type": "code",
      "source": [
        "3.14*10**2"
      ],
      "metadata": {
        "colab": {
          "base_uri": "https://localhost:8080/"
        },
        "id": "Z1cKY0e5TImL",
        "outputId": "d66dca67-16c2-4e3f-ce88-0103567c3716"
      },
      "execution_count": 2,
      "outputs": [
        {
          "output_type": "execute_result",
          "data": {
            "text/plain": [
              "314.0"
            ]
          },
          "metadata": {},
          "execution_count": 2
        }
      ]
    },
    {
      "cell_type": "code",
      "execution_count": 1,
      "metadata": {
        "colab": {
          "base_uri": "https://localhost:8080/"
        },
        "id": "he6vh3GcSaI6",
        "outputId": "a6e4078c-4703-403a-88e3-bbbb454afa16"
      },
      "outputs": [
        {
          "output_type": "execute_result",
          "data": {
            "text/plain": [
              "314.0"
            ]
          },
          "metadata": {},
          "execution_count": 1
        }
      ],
      "source": [
        "3.14*10*10"
      ]
    },
    {
      "cell_type": "code",
      "source": [
        "import math"
      ],
      "metadata": {
        "id": "PGFJuaEyTVmx"
      },
      "execution_count": 3,
      "outputs": []
    },
    {
      "cell_type": "code",
      "source": [
        "math.sin(40)"
      ],
      "metadata": {
        "colab": {
          "base_uri": "https://localhost:8080/"
        },
        "id": "2ciVdnsDTbi9",
        "outputId": "e6dcff08-bdf2-4106-ffcf-fd041b94f495"
      },
      "execution_count": 4,
      "outputs": [
        {
          "output_type": "execute_result",
          "data": {
            "text/plain": [
              "0.7451131604793488"
            ]
          },
          "metadata": {},
          "execution_count": 4
        }
      ]
    },
    {
      "cell_type": "code",
      "source": [
        "\"안녕하세요\""
      ],
      "metadata": {
        "colab": {
          "base_uri": "https://localhost:8080/",
          "height": 36
        },
        "id": "ShMjveyGTluv",
        "outputId": "6a6285c9-b949-4427-f849-4210279185f0"
      },
      "execution_count": 5,
      "outputs": [
        {
          "output_type": "execute_result",
          "data": {
            "text/plain": [
              "'안녕하세요'"
            ],
            "application/vnd.google.colaboratory.intrinsic+json": {
              "type": "string"
            }
          },
          "metadata": {},
          "execution_count": 5
        }
      ]
    },
    {
      "cell_type": "code",
      "source": [
        "print(\"결과값은\",10,\"입니다\")"
      ],
      "metadata": {
        "colab": {
          "base_uri": "https://localhost:8080/"
        },
        "id": "fEHIPKCUT_47",
        "outputId": "67246794-ce01-4d73-9c07-f6626c500940"
      },
      "execution_count": 6,
      "outputs": [
        {
          "output_type": "stream",
          "name": "stdout",
          "text": [
            "결과값은 10 입니다\n"
          ]
        }
      ]
    },
    {
      "cell_type": "code",
      "source": [
        "\"나의\"+\"고양잉\""
      ],
      "metadata": {
        "colab": {
          "base_uri": "https://localhost:8080/",
          "height": 36
        },
        "id": "m38uKRZ1UXbJ",
        "outputId": "397caa94-e9c2-463b-8982-28762509857a"
      },
      "execution_count": 7,
      "outputs": [
        {
          "output_type": "execute_result",
          "data": {
            "text/plain": [
              "'나의고양잉'"
            ],
            "application/vnd.google.colaboratory.intrinsic+json": {
              "type": "string"
            }
          },
          "metadata": {},
          "execution_count": 7
        }
      ]
    },
    {
      "cell_type": "code",
      "source": [
        "print(\"2+3=\",2+3)"
      ],
      "metadata": {
        "colab": {
          "base_uri": "https://localhost:8080/"
        },
        "id": "CF5p6sI1Uk1v",
        "outputId": "e7e47335-4b5d-4a37-c491-18bec56b2663"
      },
      "execution_count": 8,
      "outputs": [
        {
          "output_type": "stream",
          "name": "stdout",
          "text": [
            "2+3= 5\n"
          ]
        }
      ]
    },
    {
      "cell_type": "code",
      "source": [
        "x = 10000\n",
        "y = 20000"
      ],
      "metadata": {
        "id": "VuKEF399VCld"
      },
      "execution_count": 9,
      "outputs": []
    },
    {
      "cell_type": "code",
      "source": [
        "print(x)"
      ],
      "metadata": {
        "colab": {
          "base_uri": "https://localhost:8080/"
        },
        "id": "cA5ezIHgVHB-",
        "outputId": "38fc6cce-41a0-4cb3-b152-2abed1fec0ab"
      },
      "execution_count": 10,
      "outputs": [
        {
          "output_type": "stream",
          "name": "stdout",
          "text": [
            "10000\n"
          ]
        }
      ]
    },
    {
      "cell_type": "code",
      "source": [
        "print(sum)"
      ],
      "metadata": {
        "colab": {
          "base_uri": "https://localhost:8080/"
        },
        "id": "C42BRtQ8VOz4",
        "outputId": "c8548783-bdea-42f3-bf50-aad41bba7614"
      },
      "execution_count": 11,
      "outputs": [
        {
          "output_type": "stream",
          "name": "stdout",
          "text": [
            "<built-in function sum>\n"
          ]
        }
      ]
    },
    {
      "cell_type": "code",
      "source": [
        "radius=10\n",
        "area=3.14*radius*radius\n",
        "print(\"반지름\",radius,\"인 원의 면적=\",area)"
      ],
      "metadata": {
        "colab": {
          "base_uri": "https://localhost:8080/"
        },
        "id": "PzFmNMAiVRi4",
        "outputId": "b8db2ab6-c65d-41fd-f109-e1c216a88a60"
      },
      "execution_count": 12,
      "outputs": [
        {
          "output_type": "stream",
          "name": "stdout",
          "text": [
            "반지름 10 인 원의 면적= 314.0\n"
          ]
        }
      ]
    },
    {
      "cell_type": "code",
      "source": [
        "type(12.30)\n",
        "type(\"hello\")"
      ],
      "metadata": {
        "colab": {
          "base_uri": "https://localhost:8080/"
        },
        "id": "ff0FjMSZV7Rq",
        "outputId": "88dad9f8-c2b8-4e50-a059-9a56e110ce60"
      },
      "execution_count": 13,
      "outputs": [
        {
          "output_type": "execute_result",
          "data": {
            "text/plain": [
              "str"
            ]
          },
          "metadata": {},
          "execution_count": 13
        }
      ]
    },
    {
      "cell_type": "code",
      "source": [
        "type(12.30)"
      ],
      "metadata": {
        "colab": {
          "base_uri": "https://localhost:8080/"
        },
        "id": "CU-Av3s3XA4p",
        "outputId": "47f691a4-18d0-490e-dfc3-5b0303ab60cf"
      },
      "execution_count": 14,
      "outputs": [
        {
          "output_type": "execute_result",
          "data": {
            "text/plain": [
              "float"
            ]
          },
          "metadata": {},
          "execution_count": 14
        }
      ]
    },
    {
      "cell_type": "code",
      "source": [
        "x=1000\n",
        "print(\"초기값 x=\",x)\n",
        "x+=2;\n",
        "print(\"x+=2후의 x=\",x)\n",
        "x-=2;\n",
        "print(\"x-=2후의 x=\",x)"
      ],
      "metadata": {
        "colab": {
          "base_uri": "https://localhost:8080/"
        },
        "id": "RPf2VgFxXLsw",
        "outputId": "ecb04cbc-6c17-486f-b323-74d14459395c"
      },
      "execution_count": 16,
      "outputs": [
        {
          "output_type": "stream",
          "name": "stdout",
          "text": [
            "초기값 x= 1000\n",
            "x+=2후의 x= 1002\n",
            "x-=2후의 x= 1000\n"
          ]
        }
      ]
    },
    {
      "cell_type": "code",
      "source": [
        "x= 3.14\n",
        "y= str(x)\n",
        "print(y)\n",
        "print(type(y))"
      ],
      "metadata": {
        "colab": {
          "base_uri": "https://localhost:8080/"
        },
        "id": "BheZVJR5YF3C",
        "outputId": "f2076f20-c00e-4f5c-d9af-c4f3df80a1df"
      },
      "execution_count": 17,
      "outputs": [
        {
          "output_type": "stream",
          "name": "stdout",
          "text": [
            "3.14\n",
            "<class 'str'>\n"
          ]
        }
      ]
    },
    {
      "cell_type": "code",
      "source": [
        "price=12345\n",
        "tax=price*0.075\n",
        "tax=round(tax,2)\n",
        "print(tax)"
      ],
      "metadata": {
        "colab": {
          "base_uri": "https://localhost:8080/"
        },
        "id": "UZ5a6GTVY7ia",
        "outputId": "65f43639-e9b6-4465-8b6e-44df60444dea"
      },
      "execution_count": 18,
      "outputs": [
        {
          "output_type": "stream",
          "name": "stdout",
          "text": [
            "925.88\n"
          ]
        }
      ]
    },
    {
      "cell_type": "code",
      "source": [
        "msg = \"철수가 '안녕'이라고 말했씁니다.\"\n",
        "print(msg)"
      ],
      "metadata": {
        "colab": {
          "base_uri": "https://localhost:8080/"
        },
        "id": "bT-EJ1m5ZR5z",
        "outputId": "39c4082a-2748-4df1-e7f0-0dce37fa001e"
      },
      "execution_count": 19,
      "outputs": [
        {
          "output_type": "stream",
          "name": "stdout",
          "text": [
            "철수가 '안녕'이라고 말했씁니다.\n"
          ]
        }
      ]
    },
    {
      "cell_type": "code",
      "source": [
        "#따옴표 세개 달면 문단이다 (주석으로도 사용 가능)\n",
        "a=\"\"\"세개는 문단ㄷ이 \n",
        "저장이 돼요안ㄴ영하세요 \n",
        "김동영입니다\"\"\"\n",
        "print(a)"
      ],
      "metadata": {
        "colab": {
          "base_uri": "https://localhost:8080/"
        },
        "id": "vQzdc_S9ZxqB",
        "outputId": "0813cb59-6e0a-4f80-8aed-95baee4e61bf"
      },
      "execution_count": 23,
      "outputs": [
        {
          "output_type": "stream",
          "name": "stdout",
          "text": [
            "세개는 문단ㄷ이 \n",
            "저장이 돼요안ㄴ영하세요 \n",
            "김동영입니다\n"
          ]
        }
      ]
    },
    {
      "cell_type": "code",
      "source": [
        "print(\"dkdkajjkldjkfldjk\n",
        "dksehlskdy??\")"
      ],
      "metadata": {
        "colab": {
          "base_uri": "https://localhost:8080/",
          "height": 134
        },
        "id": "QXb3ZSyLafBd",
        "outputId": "138913fe-5974-4fab-e0d3-10056b714f47"
      },
      "execution_count": 24,
      "outputs": [
        {
          "output_type": "error",
          "ename": "SyntaxError",
          "evalue": "ignored",
          "traceback": [
            "\u001b[0;36m  File \u001b[0;32m\"<ipython-input-24-69f24438b934>\"\u001b[0;36m, line \u001b[0;32m1\u001b[0m\n\u001b[0;31m    print(\"dkdkajjkldjkfldjk\u001b[0m\n\u001b[0m                            ^\u001b[0m\n\u001b[0;31mSyntaxError\u001b[0m\u001b[0;31m:\u001b[0m EOL while scanning string literal\n"
          ]
        }
      ]
    },
    {
      "cell_type": "code",
      "source": [
        "print(\"fdafdafdafda\\'dlfjgrpgkaus ehlskdy?\")"
      ],
      "metadata": {
        "colab": {
          "base_uri": "https://localhost:8080/"
        },
        "id": "Ku6XyWkydC47",
        "outputId": "a78750fc-68c5-4681-8048-ed2ab3732e66"
      },
      "execution_count": 29,
      "outputs": [
        {
          "output_type": "stream",
          "name": "stdout",
          "text": [
            "fdafdafdafda'dlfjgrpgkaus ehlskdy?\n"
          ]
        }
      ]
    },
    {
      "cell_type": "code",
      "source": [
        "#앞에서도 뒤에서 가능 앞은 0부터 뒤는 -1부터\n",
        "s=\"hello world\"\n",
        "print(s[0])\n",
        "print(s[-1])\n",
        "print(s[0:2])\n",
        "\n",
        "#lower_name = name.lower() 소문자로\n",
        "#new_name = name.replace(\"parter\",\"porter\") 문자교체\n"
      ],
      "metadata": {
        "colab": {
          "base_uri": "https://localhost:8080/"
        },
        "id": "4NTiZF77eCLg",
        "outputId": "26bd3d1a-6088-4c3f-b3bb-114002cd7647"
      },
      "execution_count": 35,
      "outputs": [
        {
          "output_type": "stream",
          "name": "stdout",
          "text": [
            "h\n",
            "d\n",
            "he\n"
          ]
        }
      ]
    },
    {
      "cell_type": "code",
      "source": [],
      "metadata": {
        "id": "-QmkKp7me1Xx"
      },
      "execution_count": null,
      "outputs": []
    },
    {
      "cell_type": "code",
      "source": [
        "name=input(\"이름을 입력하시오:\")\n",
        "print(name)"
      ],
      "metadata": {
        "colab": {
          "base_uri": "https://localhost:8080/"
        },
        "id": "LpE9HRu_fpre",
        "outputId": "40375639-adda-423f-ff28-e65a491d9515"
      },
      "execution_count": 38,
      "outputs": [
        {
          "output_type": "stream",
          "name": "stdout",
          "text": [
            "이름을 입력하시오:rlaehdud\n",
            "rlaehdud\n"
          ]
        }
      ]
    },
    {
      "cell_type": "code",
      "source": [
        "#input에서 받은건 str으로 인식\n",
        "s1=int(input(\"첫 번쨰 정수를 입력하시오\"))\n",
        "print(s1)"
      ],
      "metadata": {
        "colab": {
          "base_uri": "https://localhost:8080/"
        },
        "id": "p96Q9Fnhf6uU",
        "outputId": "3d592dbc-5804-4f75-e57b-b0dd952a2475"
      },
      "execution_count": 40,
      "outputs": [
        {
          "output_type": "stream",
          "name": "stdout",
          "text": [
            "첫 번쨰 정수를 입력하시오432432\n",
            "432432\n"
          ]
        }
      ]
    },
    {
      "cell_type": "code",
      "source": [
        "#변수와 문자열을 동시에 출력할때\n",
        "x=100\n",
        "y=200\n",
        "print(f\"{x}와{y}의 합={x+y}\")"
      ],
      "metadata": {
        "colab": {
          "base_uri": "https://localhost:8080/"
        },
        "id": "MhtBHKufgXIk",
        "outputId": "e01588cd-49d2-479f-f8b5-9a3d6f4d3a45"
      },
      "execution_count": 41,
      "outputs": [
        {
          "output_type": "stream",
          "name": "stdout",
          "text": [
            "100와200의 합=300\n"
          ]
        }
      ]
    },
    {
      "cell_type": "code",
      "source": [
        "#열칸을 먹고 소수점2개까지 f는 타입 뒤에 7.12는 세칸을 차지 그럼 앞에 7칸?\n",
        "py=7.1234\n",
        "print(\"테스트 출력 %10.2f\"%py)"
      ],
      "metadata": {
        "colab": {
          "base_uri": "https://localhost:8080/"
        },
        "id": "C2JvoAHHgs6B",
        "outputId": "aacc47c3-daaa-46c2-b4d0-4a3ba1b6768f"
      },
      "execution_count": 42,
      "outputs": [
        {
          "output_type": "stream",
          "name": "stdout",
          "text": [
            "테스트 출력       7.12\n"
          ]
        }
      ]
    },
    {
      "cell_type": "code",
      "source": [
        "\"\"\"a=“안녕하세요”\n",
        "a[3] (인덱싱)\n",
        "a[0:2] (슬라이싱)\n",
        "a[0:5:2] (스텝 )\n",
        "a[-2] (인버스인덱싱)\n",
        "a[:] (전체)\"\"\"\n",
        "\n",
        "\n"
      ],
      "metadata": {
        "id": "YhLLDWMb7GO7"
      },
      "execution_count": null,
      "outputs": []
    },
    {
      "cell_type": "code",
      "source": [
        "\n",
        "price = int(input(\"상품가격:\"))\n",
        "if price>20000:\n",
        "  shipping_cost=0\n",
        "else:\n",
        "  shipping_cost=3000\n",
        "print(\"배송비=\",shipping_cost)"
      ],
      "metadata": {
        "colab": {
          "base_uri": "https://localhost:8080/"
        },
        "id": "GivqOWjNGW6u",
        "outputId": "b17e0f41-d195-4cb0-ff29-24cdf6a2b66f"
      },
      "execution_count": 50,
      "outputs": [
        {
          "output_type": "stream",
          "name": "stdout",
          "text": [
            "상품가격:3333333\n",
            "배송비= 0\n"
          ]
        }
      ]
    },
    {
      "cell_type": "code",
      "source": [
        "#문자열비교 s1=\"a\" s2=\"h\" s1<s2 -->true\n",
        "#from math import sqrt 가져옴\n",
        "\n",
        "x=int(input(\"첫 번째 수=\"))\n",
        "y=int(input(\"두 번째 수=\"))\n",
        "max_value=(x if x>y else y)\n",
        "min_value=(y if x>y else x)\n",
        "print(\"큰 수=\",max_value,\"작은 수=\", min_value)"
      ],
      "metadata": {
        "colab": {
          "base_uri": "https://localhost:8080/"
        },
        "id": "MwCiujgCJkuL",
        "outputId": "de5a6db1-077e-4ed3-cb28-e9d14d3c9a13"
      },
      "execution_count": 52,
      "outputs": [
        {
          "output_type": "stream",
          "name": "stdout",
          "text": [
            "첫 번째 수=40\n",
            "두 번째 수=50\n",
            "큰 수= 50 작은 수= 40\n"
          ]
        }
      ]
    },
    {
      "cell_type": "code",
      "source": [
        "a=int(input(\"숫자:\"))\n",
        "if a%2==0:\n",
        "  print(\"짝수\")\n",
        "else:\n",
        "  print(\"홀수\")"
      ],
      "metadata": {
        "colab": {
          "base_uri": "https://localhost:8080/"
        },
        "id": "QFd_NkutJ91s",
        "outputId": "f9932c08-915d-4137-a98c-d10d3a577f2b"
      },
      "execution_count": 61,
      "outputs": [
        {
          "output_type": "stream",
          "name": "stdout",
          "text": [
            "숫자:2\n",
            "짝수\n"
          ]
        }
      ]
    },
    {
      "cell_type": "code",
      "source": [
        "price=int(input(\"가격을 입력하시오:\"))\n",
        "card = input(\"카드 종류를 이력하시오:\")\n",
        "\n",
        "if price >20000 and card ==\"python\":\n",
        "  print(\"배송료가 없습니다\")\n",
        "else:\n",
        "  print(\"배솔료는 3000원 입니다.\")"
      ],
      "metadata": {
        "colab": {
          "base_uri": "https://localhost:8080/"
        },
        "id": "48GHONe0LVBH",
        "outputId": "228af553-5cab-4894-f7cd-616a5274f67b"
      },
      "execution_count": 64,
      "outputs": [
        {
          "output_type": "stream",
          "name": "stdout",
          "text": [
            "가격을 입력하시오:10000\n",
            "카드 종류를 이력하시오:python\n",
            "배솔료는 3000원 입니다.\n"
          ]
        }
      ]
    },
    {
      "cell_type": "code",
      "source": [
        "num=int(input(\"정수를 입력하시오:\"))\n",
        "if num >0:\n",
        "  print(\"양수입니다.\")\n",
        "elif num ==0:\n",
        "  print(\"0입니다\")\n",
        "else:\n",
        "  print(\"음수입니다\")"
      ],
      "metadata": {
        "colab": {
          "base_uri": "https://localhost:8080/"
        },
        "id": "oPQeDkXxL3o4",
        "outputId": "09d931f0-6980-4cbf-c2e8-4731a21c223e"
      },
      "execution_count": 66,
      "outputs": [
        {
          "output_type": "stream",
          "name": "stdout",
          "text": [
            "정수를 입력하시오:-3\n",
            "음수입니다\n"
          ]
        }
      ]
    },
    {
      "cell_type": "code",
      "source": [
        "score = float(input(\"규모를 입력하시오:\"))\n",
        "if score>=2.0:\n",
        "  print(\"2.0미만 지진계에 의해서만 탐지가능\")\n",
        "elif 2.1<=score:\n",
        "  print(\"물건들이 흔들리거나 떨어집니다\")\n",
        "elif 4.1<=score:\n",
        "  print(\"빈약한 건물에 큰 피해가 있습니다\")\n",
        "elif 7.1<=score:\n",
        "  print(\"w지표면에 균열이 발생\")\n",
        "else:\n",
        "  print(\"구조물 파과ㅣ\")"
      ],
      "metadata": {
        "colab": {
          "base_uri": "https://localhost:8080/"
        },
        "id": "-r_jPvfFMx3Z",
        "outputId": "913a74b0-c364-4dca-9bd8-16c6ad60bd6b"
      },
      "execution_count": 71,
      "outputs": [
        {
          "output_type": "stream",
          "name": "stdout",
          "text": [
            "규모를 입력하시오:3.0\n",
            "2.0미만 지진계에 의해서만 탐지가능\n"
          ]
        }
      ]
    },
    {
      "cell_type": "code",
      "source": [
        "for i in range(0,5):\n",
        "  print(i)"
      ],
      "metadata": {
        "colab": {
          "base_uri": "https://localhost:8080/"
        },
        "id": "yO1FdVvCjhoC",
        "outputId": "e2daa43e-eb34-42af-900b-60cfbdd5ad23"
      },
      "execution_count": 81,
      "outputs": [
        {
          "output_type": "stream",
          "name": "stdout",
          "text": [
            "0\n",
            "1\n",
            "2\n",
            "3\n",
            "4\n"
          ]
        }
      ]
    },
    {
      "cell_type": "code",
      "source": [
        "for i in range(5,0,-1):\n",
        "  print(i)"
      ],
      "metadata": {
        "colab": {
          "base_uri": "https://localhost:8080/"
        },
        "id": "yTNsW1llkhJZ",
        "outputId": "e0373319-5799-492b-beb3-45f8ef35a335"
      },
      "execution_count": 83,
      "outputs": [
        {
          "output_type": "stream",
          "name": "stdout",
          "text": [
            "5\n",
            "4\n",
            "3\n",
            "2\n",
            "1\n"
          ]
        }
      ]
    },
    {
      "cell_type": "code",
      "source": [
        "for i in range(1,6,1):\n",
        "  print(i,end=\" \")"
      ],
      "metadata": {
        "colab": {
          "base_uri": "https://localhost:8080/"
        },
        "id": "krb4Fqcqk6ur",
        "outputId": "c9e7f9a1-5f78-499f-fd2f-2080b0614e75"
      },
      "execution_count": 84,
      "outputs": [
        {
          "output_type": "stream",
          "name": "stdout",
          "text": [
            "1 2 3 4 5 "
          ]
        }
      ]
    },
    {
      "cell_type": "code",
      "source": [
        "for i in range(10,0,-1):\n",
        "  print(i,end=\" \")"
      ],
      "metadata": {
        "colab": {
          "base_uri": "https://localhost:8080/"
        },
        "id": "PjAxkSjhlEvR",
        "outputId": "f8ab461a-668d-41fe-b6a0-80320b7b8621"
      },
      "execution_count": 85,
      "outputs": [
        {
          "output_type": "stream",
          "name": "stdout",
          "text": [
            "10 9 8 7 6 5 4 3 2 1 "
          ]
        }
      ]
    },
    {
      "cell_type": "code",
      "source": [
        "sum=0\n",
        "n=10\n",
        "for i in range(1,n+1):\n",
        "  sum=sum+i\n",
        "  print(\"합=\",sum)"
      ],
      "metadata": {
        "colab": {
          "base_uri": "https://localhost:8080/"
        },
        "id": "MUdFQ9Q0lL-S",
        "outputId": "000f1926-89f4-4cf7-96b0-0ea7fbf5da4f"
      },
      "execution_count": 86,
      "outputs": [
        {
          "output_type": "stream",
          "name": "stdout",
          "text": [
            "합= 1\n",
            "합= 3\n",
            "합= 6\n",
            "합= 10\n",
            "합= 15\n",
            "합= 21\n",
            "합= 28\n",
            "합= 36\n",
            "합= 45\n",
            "합= 55\n"
          ]
        }
      ]
    },
    {
      "cell_type": "code",
      "source": [
        "for i in range(1,9):\n",
        "  print (\"9*\",i,\"=\",9*i)"
      ],
      "metadata": {
        "colab": {
          "base_uri": "https://localhost:8080/"
        },
        "id": "I_oDqHrMlXGR",
        "outputId": "d4e21616-a230-4d29-8801-01f0051a663c"
      },
      "execution_count": 88,
      "outputs": [
        {
          "output_type": "stream",
          "name": "stdout",
          "text": [
            "9* 1 = 9\n",
            "9* 2 = 18\n",
            "9* 3 = 27\n",
            "9* 4 = 36\n",
            "9* 5 = 45\n",
            "9* 6 = 54\n",
            "9* 7 = 63\n",
            "9* 8 = 72\n"
          ]
        }
      ]
    },
    {
      "cell_type": "code",
      "source": [
        "target=2000\n",
        "money=1000\n",
        "year=0\n",
        "rate=0.07\n",
        "\n",
        "while money <target:\n",
        "  money = money+money*rate\n",
        "  year=year+1\n",
        "print(year,\"년\")"
      ],
      "metadata": {
        "colab": {
          "base_uri": "https://localhost:8080/"
        },
        "id": "kmm9b5s3lu25",
        "outputId": "93d02fe7-ab5c-4176-b486-e95c34bff010"
      },
      "execution_count": 90,
      "outputs": [
        {
          "output_type": "stream",
          "name": "stdout",
          "text": [
            "11 년\n"
          ]
        }
      ]
    },
    {
      "cell_type": "code",
      "source": [
        "for i in range(5):\n",
        "  for j in range(5):\n",
        "    print(\"i\",i,\"j\",j)\n",
        "  "
      ],
      "metadata": {
        "colab": {
          "base_uri": "https://localhost:8080/"
        },
        "id": "ERdZiG_jmTHc",
        "outputId": "af91b56b-45c0-4f01-f603-98007817c27f"
      },
      "execution_count": 93,
      "outputs": [
        {
          "output_type": "stream",
          "name": "stdout",
          "text": [
            "i 0 j 0\n",
            "i 0 j 1\n",
            "i 0 j 2\n",
            "i 0 j 3\n",
            "i 0 j 4\n",
            "i 1 j 0\n",
            "i 1 j 1\n",
            "i 1 j 2\n",
            "i 1 j 3\n",
            "i 1 j 4\n",
            "i 2 j 0\n",
            "i 2 j 1\n",
            "i 2 j 2\n",
            "i 2 j 3\n",
            "i 2 j 4\n",
            "i 3 j 0\n",
            "i 3 j 1\n",
            "i 3 j 2\n",
            "i 3 j 3\n",
            "i 3 j 4\n",
            "i 4 j 0\n",
            "i 4 j 1\n",
            "i 4 j 2\n",
            "i 4 j 3\n",
            "i 4 j 4\n"
          ]
        }
      ]
    },
    {
      "cell_type": "code",
      "source": [
        "for y in range(5):\n",
        "  for x in range(10):\n",
        "    print(\"*\",end=\" \")\n",
        "  print(\"\")"
      ],
      "metadata": {
        "colab": {
          "base_uri": "https://localhost:8080/"
        },
        "id": "dJPVHto0of2e",
        "outputId": "2bb3d1e5-9f9e-45d7-b22d-f117196ef519"
      },
      "execution_count": 94,
      "outputs": [
        {
          "output_type": "stream",
          "name": "stdout",
          "text": [
            "* * * * * * * * * * \n",
            "* * * * * * * * * * \n",
            "* * * * * * * * * * \n",
            "* * * * * * * * * * \n",
            "* * * * * * * * * * \n"
          ]
        }
      ]
    },
    {
      "cell_type": "code",
      "source": [
        "adj=[\"small\",\"medium\",\"large\"]\n",
        "nonus=[\"apple\",\"bananan\",\"grape\"]\n",
        "for x in adj:\n",
        "  for y in nonus:\n",
        "    print(x,y)"
      ],
      "metadata": {
        "colab": {
          "base_uri": "https://localhost:8080/"
        },
        "id": "qczZuWoHpFHJ",
        "outputId": "4d6e5b9a-2f81-4e7f-ab2f-5e73aff35949"
      },
      "execution_count": 95,
      "outputs": [
        {
          "output_type": "stream",
          "name": "stdout",
          "text": [
            "small apple\n",
            "small bananan\n",
            "small grape\n",
            "medium apple\n",
            "medium bananan\n",
            "medium grape\n",
            "large apple\n",
            "large bananan\n",
            "large grape\n"
          ]
        }
      ]
    },
    {
      "cell_type": "code",
      "source": [
        "for i in range(1,11):\n",
        "  if i%3==0:\n",
        "      continue\n",
        "  print(i,end=\" \")"
      ],
      "metadata": {
        "colab": {
          "base_uri": "https://localhost:8080/"
        },
        "id": "U2iVrJ4mpzWP",
        "outputId": "482a7ee6-1189-4116-cb0d-c1634997e86d"
      },
      "execution_count": 100,
      "outputs": [
        {
          "output_type": "stream",
          "name": "stdout",
          "text": [
            "1 2 4 5 7 8 10 "
          ]
        }
      ]
    },
    {
      "cell_type": "code",
      "source": [
        "def get_area(radius):\n",
        "  area = 3.14*radius**2\n",
        "  return area\n",
        "\n",
        "result = get_area(3)\n",
        "print(\"반지름이 3인 원의 면적=\", result)"
      ],
      "metadata": {
        "colab": {
          "base_uri": "https://localhost:8080/"
        },
        "id": "QaZAaa54_ZIG",
        "outputId": "a5fea209-c1cb-4454-90d4-ceab72f6c111"
      },
      "execution_count": 1,
      "outputs": [
        {
          "output_type": "stream",
          "name": "stdout",
          "text": [
            "반지름이 3인 원의 면적= 28.26\n"
          ]
        }
      ]
    },
    {
      "cell_type": "code",
      "source": [
        "# 나중에 작성\n",
        "der sub()\n",
        "pass "
      ],
      "metadata": {
        "id": "JkPieHjL_6Yv"
      },
      "execution_count": null,
      "outputs": []
    },
    {
      "cell_type": "code",
      "source": [
        "#가변인수도 허용???? \n",
        "def test(*a):\n",
        "  print(a)\n",
        "test(10,20,30)\n",
        "\n",
        "def test(*a):\n",
        "   for i in a:\n",
        "\n",
        "def varfunc(*a):\n",
        "  print(a)\n",
        "\n",
        "print(\"하나의 값으로 호출\")\n",
        "varfunc(10)\n",
        "\n",
        "print(\"여러개의 값으로 호출\")\n",
        "varfunc(10,20,30)"
      ],
      "metadata": {
        "colab": {
          "base_uri": "https://localhost:8080/"
        },
        "id": "ZFIlrF8WAezF",
        "outputId": "9a17b912-3ac3-443c-9f28-7c1c15b5abc0"
      },
      "execution_count": 3,
      "outputs": [
        {
          "output_type": "stream",
          "name": "stdout",
          "text": [
            "(10, 20, 30)\n"
          ]
        }
      ]
    },
    {
      "cell_type": "code",
      "source": [
        "#가변 인수 예제\n",
        "#키,벨류 / 키,벨류 / 키,벨류\n",
        "a={\"하나\":1,\"둘\":2, \"셋\":3}\n",
        "\n",
        "print(a)\n",
        "print(type(a))\n",
        "print(a[\"하나\"])\n",
        "print(a.values())\n",
        "print(a.keys())"
      ],
      "metadata": {
        "colab": {
          "base_uri": "https://localhost:8080/"
        },
        "id": "Ri8_IZDbCWoa",
        "outputId": "bee9dba7-3caa-4434-c339-4309f9be2a47"
      },
      "execution_count": 8,
      "outputs": [
        {
          "output_type": "stream",
          "name": "stdout",
          "text": [
            "{'하나': 1, '둘': 2, '셋': 3}\n",
            "<class 'dict'>\n",
            "1\n",
            "dict_values([1, 2, 3])\n",
            "dict_keys(['하나', '둘', '셋'])\n"
          ]
        }
      ]
    },
    {
      "cell_type": "code",
      "source": [
        "#언패킹\n",
        "s=[1,2,3]\n",
        "print(*s)"
      ],
      "metadata": {
        "id": "OtSmUnomDTa6"
      },
      "execution_count": null,
      "outputs": []
    }
  ]
}