{
  "nbformat": 4,
  "nbformat_minor": 0,
  "metadata": {
    "colab": {
      "provenance": []
    },
    "kernelspec": {
      "name": "python3",
      "display_name": "Python 3"
    },
    "language_info": {
      "name": "python"
    }
  },
  "cells": [
    {
      "cell_type": "markdown",
      "source": [
        "01\n",
        "\n",
        "파이썬에서 True 혹은 False를 갖는 데이터 타입은 무엇인가?"
      ],
      "metadata": {
        "id": "oyt5gqctC9pR"
      }
    },
    {
      "cell_type": "code",
      "execution_count": null,
      "metadata": {
        "id": "2dZKx9lgC0ji"
      },
      "outputs": [],
      "source": []
    },
    {
      "cell_type": "markdown",
      "source": [
        "02\n",
        "\n",
        "아래 코드의 출력 결과를 예상하라\n",
        "\n",
        "print(3 == 5)"
      ],
      "metadata": {
        "id": "QgU1Lka7DB1_"
      }
    },
    {
      "cell_type": "code",
      "source": [],
      "metadata": {
        "id": "1xu0QzGDDEBx"
      },
      "execution_count": null,
      "outputs": []
    },
    {
      "cell_type": "markdown",
      "source": [
        "03\n",
        "\n",
        "아래 코드의 출력 결과를 예상하라\n",
        "\n",
        "print(3 < 5)"
      ],
      "metadata": {
        "id": "hUT55fsaDEh9"
      }
    },
    {
      "cell_type": "code",
      "source": [],
      "metadata": {
        "id": "sNnpyX8YDF8J"
      },
      "execution_count": null,
      "outputs": []
    },
    {
      "cell_type": "markdown",
      "source": [
        "04\n",
        "\n",
        "아래 코드의 결과를 예상하라.\n",
        "\n",
        "x = 4\n",
        "\n",
        "print(1 < x < 5)"
      ],
      "metadata": {
        "id": "0ISUY6jHDIEY"
      }
    },
    {
      "cell_type": "code",
      "source": [],
      "metadata": {
        "id": "U1bMN1coDJQp"
      },
      "execution_count": null,
      "outputs": []
    },
    {
      "cell_type": "markdown",
      "source": [
        "05\n",
        "\n",
        "아래 코드의 결과를 예상하라.\n",
        "\n",
        "print ((3 == 3) and (4 != 3))"
      ],
      "metadata": {
        "id": "IsvnE39-DLSv"
      }
    },
    {
      "cell_type": "code",
      "source": [],
      "metadata": {
        "id": "hh5NxBooDMYR"
      },
      "execution_count": null,
      "outputs": []
    },
    {
      "cell_type": "markdown",
      "source": [
        "06\n",
        "\n",
        "아래 코드에서 에러가 발생하는 원인에 대해 설명하라.\n",
        "\n",
        "print(3 => 4)"
      ],
      "metadata": {
        "id": "1IfpW9XrDOsA"
      }
    },
    {
      "cell_type": "code",
      "source": [],
      "metadata": {
        "id": "4d80llE1DPO5"
      },
      "execution_count": null,
      "outputs": []
    },
    {
      "cell_type": "markdown",
      "source": [
        "07\n",
        "아래 코드의 출력 결과를 예상하라\n",
        "\n",
        "```\n",
        "if 4 < 3:\n",
        "    print(\"Hello World\")\n",
        "```"
      ],
      "metadata": {
        "id": "RJe88XbHDSOT"
      }
    },
    {
      "cell_type": "code",
      "source": [],
      "metadata": {
        "id": "MJRgw9ZGDX0J"
      },
      "execution_count": null,
      "outputs": []
    },
    {
      "cell_type": "markdown",
      "source": [
        "08\n",
        "\n",
        "아래 코드의 출력 결과를 예상하라\n",
        "\n",
        "```\n",
        "if 4 < 3:\n",
        "    print(\"Hello World.\")\n",
        "else:\n",
        "    print(\"Hi, there.\")\n",
        "```"
      ],
      "metadata": {
        "id": "8PDACsKoDnXa"
      }
    },
    {
      "cell_type": "code",
      "source": [],
      "metadata": {
        "id": "anncympRDr3v"
      },
      "execution_count": null,
      "outputs": []
    },
    {
      "cell_type": "markdown",
      "source": [
        "09\n",
        "\n",
        "아래 코드의 출력 결과를 예상하라\n",
        "\n",
        "```\n",
        "if True :\n",
        "    print (\"1\")\n",
        "    print (\"2\")\n",
        "else :\n",
        "    print(\"3\")\n",
        "print(\"4\")\n",
        "```"
      ],
      "metadata": {
        "id": "ZDJLNbZKDxXf"
      }
    },
    {
      "cell_type": "code",
      "source": [],
      "metadata": {
        "id": "q2rFkJJJD16w"
      },
      "execution_count": null,
      "outputs": []
    },
    {
      "cell_type": "markdown",
      "source": [
        "10\n",
        "\n",
        "아래 코드의 출력 결과를 예상하라\n",
        "\n",
        "```\n",
        "if True :\n",
        "    if False:\n",
        "        print(\"1\")\n",
        "        print(\"2\")\n",
        "    else:\n",
        "        print(\"3\")\n",
        "else :\n",
        "    print(\"4\")\n",
        "print(\"5\")\n",
        "```"
      ],
      "metadata": {
        "id": "-8D2P0QgD4ix"
      }
    },
    {
      "cell_type": "code",
      "source": [],
      "metadata": {
        "id": "-INkOnEmD7J_"
      },
      "execution_count": null,
      "outputs": []
    },
    {
      "cell_type": "markdown",
      "source": [
        "11\n",
        "\n",
        "사용자로부터 입력받은 문자열을 두 번 출력하라. 아래는 사용자가 \"안녕하세요\"를 입력한 경우의 출력 결과이다.\n",
        "\n",
        "입력: 안녕하세요\n",
        "\n",
        "출력: 안녕하세요안녕하세요"
      ],
      "metadata": {
        "id": "gwhusNf9D_ZC"
      }
    },
    {
      "cell_type": "code",
      "source": [],
      "metadata": {
        "id": "2MpdmKU8EGOV"
      },
      "execution_count": null,
      "outputs": []
    },
    {
      "cell_type": "markdown",
      "source": [
        "12\n",
        "\n",
        "사용자로부터 하나의 숫자를 입력받고, 입력 받은 숫자에 10을 더해 출력하라.\n",
        "\n",
        "숫자를 입력하세요: 30\n",
        "\n",
        "출력: 40"
      ],
      "metadata": {
        "id": "tIfJTbcEEOm7"
      }
    },
    {
      "cell_type": "code",
      "source": [],
      "metadata": {
        "id": "FXjjO-sVERMF"
      },
      "execution_count": null,
      "outputs": []
    },
    {
      "cell_type": "markdown",
      "source": [
        "13\n",
        "\n",
        "사용자로부터 하나의 숫자를 입력 받고 짝수/홀수를 판별하라.\n",
        "\n",
        "입력: 30\n",
        "출력: 짝수"
      ],
      "metadata": {
        "id": "UQjj9szuEUU2"
      }
    },
    {
      "cell_type": "code",
      "source": [],
      "metadata": {
        "id": "OjYrcgu-EW0O"
      },
      "execution_count": null,
      "outputs": []
    },
    {
      "cell_type": "markdown",
      "source": [
        "14\n",
        "\n",
        "사용자로부터 값을 입력받은 후 해당 값에 20을 더한 값을 출력하라. 단 사용자가 입력한 값과 20을 더한 계산 값이 255를 초과하는 경우 255를 출력해야 한다.\n",
        "\n",
        "```\n",
        ">> 입력값: 200\n",
        "출력값: 220\n",
        ">> 입력값: 240\n",
        "출력값: 255\n",
        "```"
      ],
      "metadata": {
        "id": "97_hpy6yEY9S"
      }
    },
    {
      "cell_type": "code",
      "source": [],
      "metadata": {
        "id": "KOco0mGXEbu2"
      },
      "execution_count": null,
      "outputs": []
    },
    {
      "cell_type": "markdown",
      "source": [
        "15\n",
        "\n",
        "사용자로부터 하나의 값을 입력받은 후 해당 값에 20을 뺀 값을 출력하라. 단 출력 값의 범위는 0~255이다. 예를 들어 결괏값이 0보다 작은 값이되는 경우 0을 출력하고 255보다 큰 값이 되는 경우 255를 출력해야 한다.\n",
        "\n",
        "```\n",
        ">> 입력값: 200\n",
        "출력값: 180\n",
        ">> 입력값: 15\n",
        "출력값: 0\n",
        "```"
      ],
      "metadata": {
        "id": "In_4Nbj7EdNJ"
      }
    },
    {
      "cell_type": "code",
      "source": [],
      "metadata": {
        "id": "DFS_ShUcEgCd"
      },
      "execution_count": null,
      "outputs": []
    },
    {
      "cell_type": "markdown",
      "source": [
        "16\n",
        "\n",
        "사용자로부터 입력 받은 시간이 정각인지 판별하라.\n",
        "\n",
        "```\n",
        ">> 현재시간:02:00\n",
        "정각 입니다.\n",
        ">> 현재시간:03:10\n",
        "정각이 아닙니다\n",
        "```"
      ],
      "metadata": {
        "id": "-d_6m5N8EhsP"
      }
    },
    {
      "cell_type": "code",
      "source": [],
      "metadata": {
        "id": "K8RSLr2dEkQO"
      },
      "execution_count": null,
      "outputs": []
    },
    {
      "cell_type": "markdown",
      "source": [
        "17 (어려움)\n",
        "\n",
        "사용자로 입력받은 단어가 아래 fruit 리스트에 포함되어 있는지를 확인하라. 포함되었다면 \"정답입니다\"를 아닐 경우 \"오답입니다\" 출력하라.\n",
        "\n",
        "```\n",
        "fruit = [\"사과\", \"포도\", \"홍시\"]\n",
        ">> 좋아하는 과일은? 사과\n",
        "정답입니다.\n",
        "```"
      ],
      "metadata": {
        "id": "QkM1-r-NElmb"
      }
    },
    {
      "cell_type": "code",
      "source": [],
      "metadata": {
        "id": "vJaC1ERzEq9k"
      },
      "execution_count": null,
      "outputs": []
    },
    {
      "cell_type": "markdown",
      "source": [
        "18 (어려움)\n",
        "\n",
        "투자 경고 종목 리스트가 있을 때 사용자로부터 종목명을 입력 받은 후 해당 종목이 투자 경고 종목이라면 '투자 경고 종목입니다'를 아니면 \"투자 경고 종목이 아닙니다.\"를 출력하는 프로그램을 작성하라.\n",
        "\n",
        "```\n",
        "warn_investment_list = [\"Microsoft\", \"Google\", \"Naver\", \"Kakao\", \"SAMSUNG\", \"LG\"]\n",
        "```"
      ],
      "metadata": {
        "id": "igqzGXBkE0Pu"
      }
    },
    {
      "cell_type": "code",
      "source": [],
      "metadata": {
        "id": "yLj5_RlsE3e0"
      },
      "execution_count": null,
      "outputs": []
    },
    {
      "cell_type": "markdown",
      "source": [
        "19\n",
        "\n",
        "아래와 같이 fruit 딕셔너리가 정의되어 있다. 사용자가 입력한 값이 딕셔너리 키 (key) 값에 포함되었다면 \"정답입니다\"를 아닐 경우 \"오답입니다\" 출력하라.\n",
        "\n",
        "```\n",
        "fruit = {\"봄\" : \"딸기\", \"여름\" : \"토마토\", \"가을\" : \"사과\"}\n",
        ">> 제가좋아하는계절은: 봄\n",
        "정답입니다.\n",
        "```"
      ],
      "metadata": {
        "id": "ULO-yn55E6qi"
      }
    },
    {
      "cell_type": "code",
      "source": [],
      "metadata": {
        "id": "5JjdTqJ3E9Jk"
      },
      "execution_count": null,
      "outputs": []
    },
    {
      "cell_type": "markdown",
      "source": [
        "20\n",
        "\n",
        "아래와 같이 fruit 딕셔너리가 정의되어 있다. 사용자가 입력한 값이 딕셔너리 값 (value)에 포함되었다면 \"정답입니다\"를 아닐 경우 \"오답입니다\" 출력하라.\n",
        "\n",
        "```\n",
        "fruit = {\"봄\" : \"딸기\", \"여름\" : \"토마토\", \"가을\" : \"사과\"}\n",
        ">> 좋아하는과일은? 한라봉\n",
        "오답입니다.\n",
        "```"
      ],
      "metadata": {
        "id": "423dRIeZE_en"
      }
    },
    {
      "cell_type": "code",
      "source": [],
      "metadata": {
        "id": "OMuO33QhFBxT"
      },
      "execution_count": null,
      "outputs": []
    },
    {
      "cell_type": "markdown",
      "source": [
        "21\n",
        "\n",
        "사용자로부터 문자 한 개를 입력 받고, 소문자일 경우 대문자로, 대문자 일 경우, 소문자로 변경해서 출력하라.\n",
        "\n",
        "```\n",
        ">> a\n",
        "A\n",
        "```\n",
        "힌트-1 : islower() 함수는 문자의 소문자 여부를 판별합니다. 만약 소문자일 경우 True, 대문자일 경우 False를 반환합니다. 힌트-2 : upper() 함수는 대문자로, lower() 함수는 소문자로 변경합니다."
      ],
      "metadata": {
        "id": "IUwkVOGyFQ44"
      }
    },
    {
      "cell_type": "code",
      "source": [],
      "metadata": {
        "id": "3mLFbxJhFUnb"
      },
      "execution_count": null,
      "outputs": []
    },
    {
      "cell_type": "markdown",
      "source": [
        "22\n",
        "\n",
        "점수 구간에 해당하는 학점이 아래와 같이 정의되어 있다. \n",
        "\n",
        "사용자로부터 score를 입력받아 학점을 출력하라.\n",
        "\n",
        "![image.png](data:image/png;base64,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)\n",
        "```\n",
        ">> score: 83\n",
        "grade is A\n",
        "```"
      ],
      "metadata": {
        "id": "EaDfN-jdFZh1"
      }
    },
    {
      "cell_type": "code",
      "source": [],
      "metadata": {
        "id": "p0ncTjljFbe6"
      },
      "execution_count": null,
      "outputs": []
    },
    {
      "cell_type": "markdown",
      "source": [
        "23\n",
        "\n",
        "사용자로부터 달러, 엔, 유로, 또는 위안 금액을 입력받은 후 이를 원으로 변환하는 프로그램을 작성하라. 각 통화별 환율은 다음과 같다. 사용자는 100 달러, 1000 엔, 13 유로, 100 위안과 같이 금액과 통화명 사이에 공백을 넣어 입력한다고 가정한다.\n",
        "\n",
        "![image.png](data:image/png;base64,iVBORw0KGgoAAAANSUhEUgAAAKwAAAESCAYAAABghj5pAAAW+UlEQVR4nO3df2yT54EH8K9Pm5rqkObpKsXRBYobdi1s2eXHSYmttVBXvdIgXVNbgcTWFVhYf9FrYXAtapwUEqeDjv5Yb3Rp13Shk51AZJNOgtFVl8Kq2YmuSWizK/SGawaZ4ug41ZN2IugqvfeHncT2+8Z+k/h97Sf5fiRL8L6PH7+2v37e53leO49BkiQJRIL4q3wfANFCMLAkFAaWhMLAklC+prRxZGRE7+NYMYxGI2KxWL4PQxjV1dUp/1cMLAB8p7xc84NZiSauXeNrq9Lvx8dl29glIKEwsCQUBpaEwsCSUBhYEgoDS0JhYEkoDCwJhYEloTCwJBQGloTCwJJQGFgSCgNLQmFgSSiaB3bqxDYU3XKLyts29P0pa43oc8bLN56YWsT+RR6/sw9Lr00rQziceA0PD8v3qn4OX01h+MRr2ON8ABs3pL43d93zABqffg19w1OY1uppqLDiWtjsHyA1H5o8Gz6cdswbcTCx6+A9qc9H9Yf2T2exx7YGGx95Dl3+cxgOp+6+MnwOA28+hx33rEHFowN5+/DqF1jHcfzx5k1MZ7ydQOPfpt1P9uaswQ5/fNfAI2tS9+WkFRzAjjvm6rz9kYEl1yiCC/4X0DUMoOYA+j69itj/pr03/3MVF04eQA2AK8d/hN5P8nOc+gXWvx23Z+sS6HnaTf8AfXEc9Xo99lLVHMjywZ+79W0rzvfR5lThdwkW8OZM+xqx9LenHj1fzNX5x3cLOMaxKzj7xjNovOfOuTNC1QNofLoL5xb4ya/4/k9wsAbA8GE0fncNjH+d1pj8zRpUbD2MYQA1Tx5C099r8YSyK6wuQZbATZ3vwh7nRtw18yJu2LioN2dZuH4We6x3on5vFwaGr8xunvrPcxh48xlsXrMRh4cXMDxaVYsDg1O48Ksu7Nm+CZu+nfpOrK3ZhPrHjqDnt1dx/tXNOWgYFmfeX83mnH87br9le9ZiB397Ewdq0rdOY/jFB7Dx0FDq5vAQBsJDGBg4hcOn3sOe6qIcHGi8D7sjBzVpaep8L7rCALYcwdA7e1BhTOyYjuFs50bUvzSEg2+exc6apDNE0nug+Dp/zYi7HtiJww/s1OMpLErhdwkAINyLHx0aAlCMxjeGEU0MCGJ/Oo/DW4qBqXM4cPwcFvRr//Q+9R3bIdLw6paiREJPP4fa4qTn8Y1i1L90Kb5vVRFuyVjL3HTYom8vDmV8hFzTPLDF206knfqvoscR31f/7lVZt0DeugK4PoWzAIAn8URzBYyJ80LRbbVo2mZJlInhZtrd5mYRFjJVJUYf1rhlL/q2r52/QNlO9O3bDGPytqRumeLrLACNApvpk5thWmq+T+5txdgMAHgDP+u+gNhX8c3T1y/g1++HAADFZSZ8Q8WRyT9AKqbWCtJa1L/1OaKfvo+eVx9PvD7A5sd+gp7ffILop12ovz1bHbU4kPb8Zz+gyWOO2RmU1A/z9M2bmH6+VqsnqEi/PuxSlDXh4KsDGNt7Fn1P1qDvybT9NYdw8rlNSO/B1r97VdW0Tix8FgNvD6Dvdx/i3MwApqwWm75Xi0bX64jdPCGrO3+m0Oec+9CnO/vmMzj7ZtIGx3Gcf0hFrSe2pc45K445Zvr39ej5Ij8fbI0CG//kHshZfUWoePI9fLJxAD1v/gI9A2dxaQoo3rgTe5t3oMlRi+JFPZNpDL/0ELa2npPP/4aHcC48hHPHX8MLW47gvXf3oGLV0p/J0hXDfGe+jyF/9Bl05egatfHb9djz+ls48L34/y3Nh7Bn22LDCsROP5cI61rsePU8Lk39ee5U9+cpXPrNIWwuBqZOP4eHjpzL6zX0ZDUvqJyXTkwVZujpzsreVSqMiyvaB/aPA3j8u+qvUV9RrkUTn3/cFW9Znz+OridrsdaYdOIvMmLtxgPo+/njAICpl4aQp6uRGWT+0stCqPqSUgHMpGge2AsnnkZPGIDjCM7/15TCNeopXPrtEdQDuHL8afSl/KXPCzi8ZmGDtoO/u6H1UxLObOuZkyuB+aXfPOxfpjFvlKan5zndlmDt9xb2MJcmoqrL3vkPj8ffwBe34/E3hnAllnQU0zFcOX8YjT/oAgAUP1uLPF2N1Ndiv6SkE81nCSq2vY4dPdvQ8/4L2Px3L2Qsu3b762hM+fu1xWj03UTjgh5xCn3vqStp3HIEJzsuYWvrOfTs3YievcrlirccwXsKsxCF5OA9t8x+xXB+h3D+ZvwbV/NSeUUSL5zXfUoL0KOFvb0eXZ9exfl3j+BxxybUlKXuTr5GfemtelUDhNwpQs2z7+OTz97Da4/Vp14/L6vFpu170PWrz/FJoFBmCMigtE7XyMgI/0q0RiauXUPp6tX5Pgwh/H58XPYn48X4LgFRAgNLQmFgSSgMLAmFgSWhMLAkFAaWhMLAklAYWBIKA0tCYWBJKAwsCYWBJaEwsCQUBpaEwsCSUBS/wB0Oh5XKEumurCz1JyqKv+mKxWKyb3pTboTDYdmbQMpGRkZk29glIKEwsCQUBpaEwsCSUBhYEgoDS0JhYEkoDCwJhYEloTCwJBQGloTCwJJQGFgSCgNLQmFgSSiFE9ihThgMnQjlpLIofFsNMHTkpjYqHJoGNtRhgMGQ4bbVB/VrvhDp0cK2ByFJkvLtpBMmldVkDn+uWmYqdIXTJcjC0jpP6EOefB8a6ajAAuuGdabVZP9TtWivQ9Xrpaac7EyWVD5rF0+H96zAAutBcKblbLXk+2AEEB9cljgDOSgXQqfBACuSu3BBJJ+/Mp/l7PDu1P4903wlRNJCFL6tJXD157KcFe72YFpDYUFLq4r7vuIG2oNwlmYru3Tat7Bt1oynkc4hNZUkpqmU6rC4E2XiLUR8u5o3SXx23yQkaRLehiWWG+qGq3+RLeRS7rsImrawllYJUtZP6ALIWoC0x5MktACYbVly+NCFxQTnSQlOAMg4MaiuXOgDN9DghW3BLaS+rStQSH3Y2hZIUgvYc9VbFJFxAOVmmIY6FzaI0rl1BXQJbIbTOedTC4Z9/CgMH9hSB1xt1gwXd2Za1/26ta6ALoGNn5bmvXjA+dQ8iyDSDwT6qxBMH3CFPEC/C91K44yJQfj7Ac/9+p4TC6dLQHlihrkBQLtN3h0rNcMOYDQib2OjH/kRaPCiuVaHQ0xSOF2C2dF+BllmHAxt7FAsnAnm8swlqszpF9CjGDwVgP1hm+pL67miXwub6TsFs7f5Bl0quxXtHLIthuV+D9A2KB8/TEQQgB3m9D5qojsgD7L22CUgoLYZ3gY3rMkDrAkfHBY37L5jskFV9CM/AvDApnN3AGBgCcDMGSxY7kLJTPdqtQtVIQn+JnkrGrkcABrMMOfhSPW7NNtmhaEtezG7b1LxRaL5JF8cWFo5tRd6LK0SZH+2XSc6BFbtCyr6Y5Ie2CUgoTCwJBQGloTCwJJQGFgSCgNLQmFgSSgMLAmFgSWhMLAkFAaWhMLAklAYWBIKA0tCYWBJKAwsCYWBJaEYJEmS/dohHA7n41iIZMrKylL+r/gTmVgshurqal0OaKUJh8OyN4GUjYyMyLaxS0BCYWBJKAwsCYWBJaEwsCQUBpaEwsCSUBhYEgoDS0JhYEkoDCwJhYEloTCwJBQGloTCwJJQ8h/YCR8cBgd8E2n/JlKgeWCjH76MXZY74iuTfMuKXT8eRPQrrR+VlitNAxvpdaHSOQrLz0bjC7+NB2D/0o3K7/sQ0fKBadnSLrDTg+j+4SBc73ajucIY31ZkQt2LXniuu9B5KqbZQ9PypV1gL4TQGXWh7u6itB1m2B62oTs0imnNHnxlifY6YOhQu86ufO3fTqXVugGEOlLLOXqVF6IHAAx1pq392ylfCjQHNAvs9I0vAXwTt6bnFcCtq4zAj+/DrYkV9wJaHcSyFw9fiVPtKxiFb2sJXOVJ6/6GPHBb0kMbr9c67sXkTLlrXsBZohjaUIcBBgsQTFr3N9iei+enQFLw8ccfK21emJBHAvZJ/35DvuuLt2wSWoPx/1zzSnbYJe+1tH8vU5cvX85BLZOStwESkHRrD2a/l88uAR4pvWSwHRIavNJklnLx9zR1+7xlc0Aph9p1CSosaDF5ceaj9BN/BIOnPkPLvZWaPfRKYfdNQpIm4W1QUzq+ZDzabbIV0y33e4B+PwYnMpdDrQ0euDE42xqH0O0MwO5rnmcV9tzTLrBFNjS/YoP3kWZ0X0gMsKajOPO8C+7bXkbzvQp9BVIpvjTpwtbkjSDSD9jXKSxpXGqGHQFEVM5/j0YS3YKhQbhhh+Nu/dYG1nRay9zkxZivCqEnquId8XI7At/0YOwdZ15Wgl7RJiIYBVBlzhYuE2wP24G2QfmgKVHHjGhkFEAVzKUhdOow4AJ0uHBguncf3g59Ee+M/yGIt//VBpN+a4iTGqVmVGGu5TQ17YcHbli3+jA3xAqhc7UfSO9+NIziqGEQtpQBlxtWja5Y5v/SLOWfrPW1oEUKwtPvQslsqzkIm7QfVf1zd4tcDgD9AVSFWlL6sJbWIDwIwPWL3Lez+gSW3xHIv0Qrqp4FLUmtpiTNhXIm2OZ1dgAe2GrT72uGuQHAeAQZZm4XJf8tbKkTfskPZ2m+D2S5i4fI/YFCqzcRQUAxeGmGBuFOKmcyZ/kIlJuR6+FY/gObjOHV0PyDqdAHbuVprBRR+F5xp05hyaa5ZmSYkViiwgos5dDMJdi5EfvsYCrpMm601wFrmx3enclxDaEz5VJv4goZvDiWMpVmQbPPDrclubsXhW+rFe6G9LK5wfH6ihIfTMFghaFtZpsHQalF3rq2JZdJXKRQCKCpyQ/J3AnDagNcMxvbg5BaNbqUoPaS2JJc80p2pF1KzHRLuky43OTm0uzKoJRDfVrYUif8klOXh6LljX1YEgoDS0JhYEkoDCwJhYEloTCwJBQGloTCwJJQGFgSCgNLQmFgSSgMLAmFgSWhMLAkFAaWhMLAklAMkiRJ6RvD4XA+joVIpqysLOX/ir84iMViqK6u1uWAVppwOCx7E0jZyMiIbBu7BCQUBpaEwsCSUBhYEgoDS0JhYEkoDCwJhYEloTCwJBQGloTCwJJQGFgSCgNLQmFgSSgMLAmFgSWh6BbY2OUz6H52F+6z3DG3JmnJBtz3j7vQ2RtC9Cu9joREpkNgp3Hx5y6sv/sYIpXNePvXn82trjc5Cv9bzTD9hxuV63chcCVTPTPL+Ki8payTSsuF9oG97MX+R2PwfHQaniYLzMbkZeeLYFxrQfMrpxFoGoXj2Uwhiy+5LknZb8F2zZ8V5Yn2gb0exRlYsWFdpkJFsNQ5gP4IIpof0PIT7XXA0DHPQsRDnWlnn8xLw4c60s5UCvVGex0pZTplKyFqR/vArjLCgiA+u5yp0DRCZ/zAg6acr026vMW7SSXOgPLeXgcMllF4r6lZGj6EToMBVgSTzlZBeNJLdRhQ4qxCcKbMNS9GLQY4enXqgKld0Gvxbkijr9RJJlOd1OILSl98eWNu1//dkL6MBKW399ok07pmyR/JVM+k5G0Qf3G63Cwsp/BatAflpXxeSb41KHkAye5LfnUS9SnUkSKxQKAnlP44dgnwKDzW0ijlUIdBVxEq957GxY92wzzWjV0Pbpg7nXx9A+oe7cbF8haMjb8N+9rstdl9k6r6sdJJ57JvreOvxSS8Dcr7TU1OhQWP46t6By4ndb6GuuHqT19vVsFEBAHYYU5bvDq+qvcoIrJWO/d0W2vWuK4OzS/VoVmvB1zW4gPQ+NqSSz8Vhz5wAw1e2LKtol5qhh3ueDCTykYjowCqZEHWAi8crDRD3XD1A577Z1rTKCLjAMrNMKUP0NIHXKVOHEtfvXvCh93OADwhhQWWNaBRYOMdeNVzpkq3eUa9AWeJ6jr0HL0KYcIHh8UNtAfRUpu6yz5+FIYPbKkDrjarbD7b1OTHpA9wrU68zqtdqApJsvo0o7azu1STPrvyQOiaV7LDLnmvLa7eYLuKwUIByf1q3uoGTPGBkVK5+CBMcdAU8khIGWQlyqbUkXh8DQa5eRp0UX7NTX15QhKk1vQTd3wQhnab/JReaoYdwGgk3saGOqxwN3gxmVKHCc6TQXj6Xditw9QWA7ushdBpKIGr34OgNN9p2wRzeeZaqswmpPR1ZSUUZh40wsAuY6EOK9zwIChlHhBZ7vcAbYPyK2Ap01iJYI9HFOYlIoj0A/Z15pwd+3wKP7CyS4upN2sbgDYrB18yIQy2AXZfc/bRe20zvA1uWJMHWIkBmt13DM7EdJVlpxf2fhdKUgbEUfi2xj8Y+5u0n/ku/MDWtqi7UJDhptsItgDNP6uSfHk2Pq8bLHehxJA6+vcnh7DUCf/M7MFsPSVwwYvJLK14ruh24YC0knwRIZkFLZKElgXUZGmVILVmLbXgenNJt8CamvyQmhR2lDrhl+QvN5GSwu8SECVhYEkoDCwJhYEloTCwJBQGloTCwJJQGFgSCgNLQmFgSSgMLAmFgSWhMLAkFAaWhMLAklAYWBKKQZIkKX1jOBzOx7EQyZSVlaX8X/EXB7FYDNXV1boc0EoTDodlbwIpGxkZkW1jl4CEwsCSUBhYEgoDS0JhYEkoDCwJhYEloTCwJBQGloTCwJJQGFgSCgNLQmFgSSgMLAmFgSWhFFZghzphMHTKVzNZoFCHQbaCHy0PugQ29rEPnd+34o7EQg4l5Vvw1L+dQeQvC62nG/u3ztRTgg3/9BSOfchYriSaBzbS68L6pkEYHw3gs8SqLpEPj8L23y/Den8nQipDG68nhPXPn0nUE0Gw3YqLz1fivh+FMK3t06ACoe2iHLEzeNl5EfvHRrG7Ym5z0W3rYW/3YvpSCXb/vA6jeysz13O5G085Y/D8wYvmdbO1wFjhxE97AYd5H449GMS+ikyV0HKgbQt7aQzHYEbJbUo74yvrjY0prayXKhI6gzMPu2Bbp7BzrQ2ufw7B++HY0o9XUNFeh8Lq59lXVJ9vwT3l+gqDtoG9qxK7EcHkdaWdMUxGgMpKpbVLU0WvBICvAbcq7jWh5FvA2F9WYqdgbuFjufh6WkoL7QXbATR40SxbcC9TfYVB28Aa67DPtx5HG3bh2FB0rp95/SICbQ7svujBsR9k6Q4AMK21A18BNxT3RjH5B6ByVVHq5v65Vf0cOqwyra94sAyGErj6F3jXCR+OtgGeHzqTGool1KczzQdd5iYvxn5pQeQVOzbMzBLc+xTOfH03Bn/dAssqFXVY6lB3yovBywo7rwzC+0sLXPemBb/Bi8lEi+LXYQ3UfLD7JiFJk/A2qL9P6BcuBBRb18XVpzddVkI01Tbj6MlmHF1sBeua8VPfIKwP7gL6j8JVYUQRphG7EID7iX2Yfv1MyqBu+UternMBZ4+Z1jXkTOuGLbK+PCisCwcZmJu8uHiqDtHX6xIttRnWtiDWvziG0/9SiaLsVax4mVpXUWjWwobaDLB2qC9v903Cb85cxvgdO1resaPlnaUd24o0b+sqFs1aWEu7wgg15AHgQVBh5Lpc+5mFIvqRHwF4YBO4dQUE6hIAyNl3DVaeKAZPBWD3NcOS70NZIrECS4szMQh/vx2Ou8U/i+kyS6A3S6sE2d8QXcHi3YEq7C/N95EsHVvYZS/eHUC7TfjuAMDArgARRPoB+7osUzCC0LdLUNsC+d/7Xig3rAa3qpKekIQWwUfF2SVP+iuJf6cgd/XlV2H1YbMFurYFktSi2+FQ4WGXgITCwJJQGFgSCgNLQmFgSSgMLAmFgSWhMLAkFAaWhMLAklAYWBIKA0tCYWBJKAwsCYWBJaEwsCQUBpaEMu8vDkZGRvQ8jhXDaDTytV0CgyQt/VdWRHphl4CEwsCSUBhYEgoDS0JhYEko/w8ICIfMafWhuwAAAABJRU5ErkJggg==)\n",
        "\n",
        "```\n",
        ">> 입력: 100 달러\n",
        "116700.00 원\n",
        "```"
      ],
      "metadata": {
        "id": "5YnHeqFNF5Ik"
      }
    },
    {
      "cell_type": "code",
      "source": [],
      "metadata": {
        "id": "rkjRPa3wGCVA"
      },
      "execution_count": null,
      "outputs": []
    },
    {
      "cell_type": "markdown",
      "source": [
        "24\n",
        "\n",
        "사용자로부터 세 개의 숫자를 입력 받은 후 가장 큰 숫자를 출력하라.\n",
        "\n",
        "```\n",
        ">> input number1: 10\n",
        ">> input number2: 9\n",
        ">> input number3: 20\n",
        "20\n",
        "```"
      ],
      "metadata": {
        "id": "8mEbn9p1GGXN"
      }
    },
    {
      "cell_type": "code",
      "source": [],
      "metadata": {
        "id": "CPvPgM8CGLRI"
      },
      "execution_count": null,
      "outputs": []
    },
    {
      "cell_type": "markdown",
      "source": [
        "25\n",
        "\n",
        "휴대폰 번호 앞자리에 따라 통신사는 아래와 같이 구분된다. 사용자로부터 휴대전화 번호를 입력 받고, 통신사를 출력하는 프로그램을 작성하라.\n",
        "\n",
        "![image.png](data:image/png;base64,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)\n",
        "\n",
        "\n",
        "```\n",
        ">> 휴대전화 번호 입력: 011-345-1922\n",
        "당신은 SKT 사용자입니다.\n",
        "```"
      ],
      "metadata": {
        "id": "v5Z4s-0AGOTQ"
      }
    },
    {
      "cell_type": "code",
      "source": [],
      "metadata": {
        "id": "Ln9pj-UDGUFY"
      },
      "execution_count": null,
      "outputs": []
    },
    {
      "cell_type": "markdown",
      "source": [
        "26\n",
        "\n",
        "주민등록번호 뒷 자리 7자리 중 첫째 자리는 성별을 나타내는데, 1, 3은 남자 2, 4는 여자를 의미한다. 사용자로부터 13자리의 주민등록번호를 입력 받은 후 성별 (남자, 여자)를 출력하는 프로그램을 작성하라.\n",
        "\n",
        "```\n",
        ">> 주민등록번호: 821010-1635210\n",
        "남자\n",
        "```"
      ],
      "metadata": {
        "id": "v45k-71IGVPW"
      }
    },
    {
      "cell_type": "code",
      "source": [],
      "metadata": {
        "id": "6yS0l9q5Gszv"
      },
      "execution_count": null,
      "outputs": []
    }
  ]
}