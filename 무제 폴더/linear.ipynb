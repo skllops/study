{
  "nbformat": 4,
  "nbformat_minor": 0,
  "metadata": {
    "colab": {
      "name": "linear.ipynb",
      "private_outputs": true,
      "provenance": [],
      "collapsed_sections": []
    },
    "kernelspec": {
      "name": "python3",
      "display_name": "Python 3"
    },
    "language_info": {
      "name": "python"
    }
  },
  "cells": [
    {
      "cell_type": "code",
      "source": [
        "# 결측치 실습\n",
        "# SimpleImputer는 결측치를 쉽게 다루도록 도와줌.\n",
        "from sklearn.impute import SimpleImputer\n",
        "\n",
        "imputer = SimpleImputer(strategy=\"median\")\n",
        "\n",
        "test_data = pd.read_csv(\"wine_crack.csv\")\n",
        "imputer.fit(test_data)\n",
        "imputerX = imputer.transform(test_data)"
      ],
      "metadata": {
        "id": "qMbGiUllZ--F"
      },
      "execution_count": null,
      "outputs": []
    },
    {
      "cell_type": "code",
      "source": [
        "imputerX"
      ],
      "metadata": {
        "id": "XHmkyeQgSIqO"
      },
      "execution_count": null,
      "outputs": []
    },
    {
      "cell_type": "code",
      "source": [
        "# 와인 측정 데이터 Wine Quality Data Set https://archive.ics.uci.edu/ml/datasets/wine+quality\n",
        "'''\n",
        "속성\n",
        "1: fixed acidity 주석산 농도\n",
        "\n",
        "2: volatile acidity 아세트산 농도\n",
        "\n",
        "3: citric acid 구연산 농도\n",
        "\n",
        "4: residual sugar 잔류 당분 농도\n",
        "\n",
        "5: chlorides 염화나트륨 농도\n",
        "\n",
        "6: free sulfur dioxide 유리 아황산 농도\n",
        "\n",
        "7: total sulfur dioxide 총 아황산 농도\n",
        "\n",
        "8: density 밀도\n",
        "\n",
        "9: pH\n",
        "\n",
        "10: sulphates 황산칼륨 농도\n",
        "\n",
        "11: alcohol 알코올 도수\n",
        "\n",
        "12: quality (score between 0 and 10) 와인의 맛(0~10등급)\n",
        "\n",
        "13: class 와인 종류 (1: 레드와인, 0: 화이트와인)\n",
        "'''"
      ],
      "metadata": {
        "id": "Oei2QV0EXbq8"
      },
      "execution_count": null,
      "outputs": []
    },
    {
      "cell_type": "code",
      "execution_count": null,
      "metadata": {
        "id": "DKGiGpI-VVa4"
      },
      "outputs": [],
      "source": [
        "# 샘플 코드\n",
        "import matplotlib\n",
        "import matplotlib.pyplot as plt\n",
        "import numpy as np\n",
        "import pandas as pd\n",
        "import sklearn.linear_model\n",
        "\n",
        "# 데이터 적재\n",
        "wine_data = pd.read_csv('./wine.csv')\n",
        "print(wine_data)"
      ]
    },
    {
      "cell_type": "code",
      "source": [
        "# 데이터 준비\n",
        "X = wine_data[[\"residual sugar\",\"density\"]]\n",
        "y = wine_data[\"alcohol\"]\n",
        "\n",
        "print(X)\n",
        "print(y)"
      ],
      "metadata": {
        "id": "Ep0GVoxaW2au"
      },
      "execution_count": null,
      "outputs": []
    },
    {
      "cell_type": "code",
      "source": [
        "# 선형 모델 선택\n",
        "model = sklearn.linear_model.LinearRegression()\n",
        "\n",
        "# 모델 훈련\n",
        "model.fit(X, y)\n",
        "\n",
        "# 예측\n",
        "# 임의의 residual sugar과 density 넣기.\n",
        "X_new = [[1.8, 0.99490]]  \n",
        "print(\"예측값:\",model.predict(X_new)) "
      ],
      "metadata": {
        "id": "77G_daPjY07P"
      },
      "execution_count": null,
      "outputs": []
    },
    {
      "cell_type": "code",
      "source": [
        "# Polynomial Regression\n",
        "import numpy as np\n",
        "import numpy.random as rnd\n",
        "\n",
        "np.random.seed(42)\n",
        "m = 100\n",
        "X = 6 * np.random.rand(m, 1) - 3  #0부터 1사이의 균일 분포에서 100행 1열의 난수 matrix array생성\n",
        "y = 0.5 * X**2 + X + 2 + np.random.randn(m, 1)\n",
        "plt.plot(X, y, \"b.\")\n",
        "plt.xlabel(\"$x_1$\", fontsize=18)\n",
        "plt.ylabel(\"$y$\", rotation=0, fontsize=18)\n",
        "plt.axis([-3, 3, 0, 10])\n",
        "plt.show()"
      ],
      "metadata": {
        "id": "AlwdyZf5LebN"
      },
      "execution_count": null,
      "outputs": []
    },
    {
      "cell_type": "code",
      "source": [
        "from sklearn.preprocessing import PolynomialFeatures\n",
        "poly_features = PolynomialFeatures(degree=2, include_bias=False)\n",
        "X_poly = poly_features.fit_transform(X)\n",
        "print(X[0])\n",
        "print(X_poly[0])"
      ],
      "metadata": {
        "id": "etk-TyEWLkFF"
      },
      "execution_count": null,
      "outputs": []
    },
    {
      "cell_type": "code",
      "source": [
        "from sklearn.linear_model import LinearRegression\n",
        "lin_reg = LinearRegression()\n",
        "lin_reg.fit(X_poly, y)"
      ],
      "metadata": {
        "id": "cSTNuB67LwXf"
      },
      "execution_count": null,
      "outputs": []
    },
    {
      "cell_type": "code",
      "source": [
        "X_new=np.linspace(-3, 3, 100).reshape(100, 1) # 새로운 데이터 생성 -3에서 3까지 100개 추출 및 (100행 1열)\n",
        "X_new_poly = poly_features.transform(X_new)\n",
        "y_new = lin_reg.predict(X_new_poly)\n",
        "plt.plot(X, y, \"b.\") # 데이터 plot\n",
        "plt.plot(X_new, y_new, \"r\", linewidth=2) # 선그리는 부분\n",
        "plt.xlabel(\"$x_1$\", fontsize=18)\n",
        "plt.ylabel(\"$y$\", rotation=0, fontsize=18)\n",
        "plt.legend(loc=\"upper left\", fontsize=14)\n",
        "plt.axis([-3, 3, 0, 10])\n",
        "plt.show()"
      ],
      "metadata": {
        "id": "9izwLTHdMC0j"
      },
      "execution_count": null,
      "outputs": []
    },
    {
      "cell_type": "code",
      "source": [
        "from sklearn.linear_model import Ridge\n",
        "X = 3 * np.random.rand(m, 1)\n",
        "y = 1 + 0.5 * X + np.random.randn(m, 1) / 1.5\n",
        "ridge_reg = Ridge(alpha=1, solver=\"cholesky\", random_state=42) #숄레스키 행렬분해\n",
        "ridge_reg.fit(X, y)\n",
        "ridge_reg.predict([[1.5]])"
      ],
      "metadata": {
        "id": "kbVhHjXxRKi_"
      },
      "execution_count": null,
      "outputs": []
    },
    {
      "cell_type": "code",
      "source": [
        "from sklearn.linear_model import SGDRegressor\n",
        "sgd_reg = SGDRegressor(max_iter=50, penalty=\"l2\", tol=1e-3, random_state=42)\n",
        "sgd_reg.fit(X, y.ravel())\n",
        "sgd_reg.predict([[1.5]])"
      ],
      "metadata": {
        "id": "P91OGFqdRL3J"
      },
      "execution_count": null,
      "outputs": []
    },
    {
      "cell_type": "code",
      "source": [
        "ridge_reg = Ridge(alpha=1, solver=\"sag\", random_state=42) # Stochastic Average Gradient Descent\n",
        "ridge_reg.fit(X, y)\n",
        "ridge_reg.predict([[1.5]])"
      ],
      "metadata": {
        "id": "HVIsXS0ERMFx"
      },
      "execution_count": null,
      "outputs": []
    },
    {
      "cell_type": "code",
      "source": [
        "from sklearn.linear_model import Lasso\n",
        "lasso_reg = Lasso(alpha=0.1)\n",
        "lasso_reg.fit(X, y)\n",
        "lasso_reg.predict([[1.5]])"
      ],
      "metadata": {
        "id": "Wkrcp5umRR-d"
      },
      "execution_count": null,
      "outputs": []
    },
    {
      "cell_type": "code",
      "source": [
        "from sklearn.linear_model import ElasticNet\n",
        "elastic_net = ElasticNet(alpha=0.1, l1_ratio=0.5, random_state=42)\n",
        "elastic_net.fit(X, y)\n",
        "elastic_net.predict([[1.5]])"
      ],
      "metadata": {
        "id": "JQPkxoNkRfKA"
      },
      "execution_count": null,
      "outputs": []
    },
    {
      "cell_type": "code",
      "source": [
        ""
      ],
      "metadata": {
        "id": "BcSMlcGzSK5M"
      },
      "execution_count": null,
      "outputs": []
    }
  ]
}