{
  "nbformat": 4,
  "nbformat_minor": 0,
  "metadata": {
    "colab": {
      "provenance": []
    },
    "kernelspec": {
      "name": "python3",
      "display_name": "Python 3"
    },
    "language_info": {
      "name": "python"
    }
  },
  "cells": [
    {
      "cell_type": "markdown",
      "source": [
        "01 \n",
        "\n",
        "\"뉴딜\" 문자열을 화면에 출력하는 print_new() 함수를 정의하라."
      ],
      "metadata": {
        "id": "bZKGkTFENJX2"
      }
    },
    {
      "cell_type": "code",
      "execution_count": null,
      "metadata": {
        "id": "AEBlty-UNImm"
      },
      "outputs": [],
      "source": []
    },
    {
      "cell_type": "markdown",
      "source": [
        "02\n",
        "\n",
        "01번에서 정의한 함수를 호출하라."
      ],
      "metadata": {
        "id": "9Fno-FRnNQcX"
      }
    },
    {
      "cell_type": "code",
      "source": [],
      "metadata": {
        "id": "ho11AW3cNTrD"
      },
      "execution_count": null,
      "outputs": []
    },
    {
      "cell_type": "markdown",
      "source": [
        "03\n",
        "\n",
        "01번에서 정의한 print_new 함수를 100번호출하라."
      ],
      "metadata": {
        "id": "DmXnZifVNUdH"
      }
    },
    {
      "cell_type": "code",
      "source": [],
      "metadata": {
        "id": "pFTuFNWYNdxZ"
      },
      "execution_count": null,
      "outputs": []
    },
    {
      "cell_type": "markdown",
      "source": [
        "04\n",
        "\n",
        "\"뉴딜\" 문자열을 100번 화면에 출력하는 new_prints() 함수를 정의하라."
      ],
      "metadata": {
        "id": "pZ9O4RqqNd_h"
      }
    },
    {
      "cell_type": "code",
      "source": [],
      "metadata": {
        "id": "gsMsYYzGPBNG"
      },
      "execution_count": null,
      "outputs": []
    },
    {
      "cell_type": "markdown",
      "source": [
        "05\n",
        "\n",
        "아래의 에러가 발생하는 이유에 대해 설명하라.\n",
        "\n",
        "```\n",
        "hello()\n",
        "def hello():\n",
        "    print(\"Hi\")\n",
        "```\n",
        "\n",
        "실행 예\n",
        "```\n",
        "NameError: name 'hello' is not defined\n",
        "```\n"
      ],
      "metadata": {
        "id": "Rihgf7vdPOP9"
      }
    },
    {
      "cell_type": "code",
      "source": [],
      "metadata": {
        "id": "BCF_iIVwPWfp"
      },
      "execution_count": null,
      "outputs": []
    },
    {
      "cell_type": "markdown",
      "source": [
        "06\n",
        "\n",
        "아래 코드의 실행 결과를 예측하라.\n",
        "\n",
        "```\n",
        "def message() :\n",
        "    print(\"A\")\n",
        "    print(\"B\")\n",
        "\n",
        "message()\n",
        "print(\"C\")\n",
        "message()\n",
        "```"
      ],
      "metadata": {
        "id": "GuAAXOCAParp"
      }
    },
    {
      "cell_type": "code",
      "source": [],
      "metadata": {
        "id": "FLsz-2t4PenB"
      },
      "execution_count": null,
      "outputs": []
    },
    {
      "cell_type": "markdown",
      "source": [
        "07\n",
        "\n",
        "아래 코드의 실행 결과를 예측하라. (읽기 어려운 코드의 예입니다.)\n",
        "\n",
        "```\n",
        "print(\"A\")\n",
        "\n",
        "def message() :\n",
        "    print(\"B\")\n",
        "\n",
        "print(\"C\")\n",
        "message()\n",
        "```"
      ],
      "metadata": {
        "id": "04sl6tQyPiaZ"
      }
    },
    {
      "cell_type": "code",
      "source": [],
      "metadata": {
        "id": "JKVk2Aw2PmTw"
      },
      "execution_count": null,
      "outputs": []
    },
    {
      "cell_type": "markdown",
      "source": [
        "08\n",
        "\n",
        "아래 코드의 실행 결과를 예측하라. (읽기 어려운 코드의 예입니다.)\n",
        "```\n",
        "print(\"A\")\n",
        "def message1() :\n",
        "    print(\"B\")\n",
        "print(\"C\")\n",
        "def message2() :\n",
        "    print(\"D\")\n",
        "message1()\n",
        "print(\"E\")\n",
        "message2()\n",
        "```"
      ],
      "metadata": {
        "id": "-0Urje6bPm9P"
      }
    },
    {
      "cell_type": "code",
      "source": [],
      "metadata": {
        "id": "quw5X00dPq1Q"
      },
      "execution_count": null,
      "outputs": []
    },
    {
      "cell_type": "markdown",
      "source": [
        "09\n",
        "\n",
        "아래 코드의 실행 결과를 예측하라.\n",
        "\n",
        "```\n",
        "def message1():\n",
        "    print(\"A\")\n",
        "\n",
        "def message2():\n",
        "    print(\"B\")\n",
        "    message1()\n",
        "\n",
        "message2()\n",
        "```"
      ],
      "metadata": {
        "id": "pwMD3-S4PrTk"
      }
    },
    {
      "cell_type": "code",
      "source": [],
      "metadata": {
        "id": "De-PwqqwP0RQ"
      },
      "execution_count": null,
      "outputs": []
    },
    {
      "cell_type": "markdown",
      "source": [
        "10\n",
        "\n",
        "아래 코드의 실행 결과를 예측하라.\n",
        "\n",
        "```\n",
        "def message1():\n",
        "    print(\"A\")\n",
        "\n",
        "def message2():\n",
        "    print(\"B\")\n",
        "\n",
        "def message3():\n",
        "    for i in range (3) :\n",
        "        message2()\n",
        "        print(\"C\")\n",
        "    message1()\n",
        "\n",
        "message3()\n",
        "\n",
        "```"
      ],
      "metadata": {
        "id": "Uk2oLx17P2s7"
      }
    },
    {
      "cell_type": "code",
      "source": [],
      "metadata": {
        "id": "OrspRUSxP6IY"
      },
      "execution_count": null,
      "outputs": []
    },
    {
      "cell_type": "markdown",
      "source": [
        "11\n",
        "\n",
        "\n",
        "함수의 호출 결과를 예측하라.\n",
        "```\n",
        "def 함수(문자열) :\n",
        "    print(문자열)\n",
        "\n",
        "함수(\"안녕\")\n",
        "함수(\"Hi\")\n",
        "```"
      ],
      "metadata": {
        "id": "AvWbaDMAP6nI"
      }
    },
    {
      "cell_type": "code",
      "source": [],
      "metadata": {
        "id": "1Fse24b3P_uP"
      },
      "execution_count": null,
      "outputs": []
    },
    {
      "cell_type": "markdown",
      "source": [
        "12\n",
        "\n",
        "함수의 호출 결과를 예측하라.\n",
        "\n",
        "```\n",
        "def 함수(a, b) :\n",
        "    print(a + b)\n",
        "\n",
        "함수(3, 4)\n",
        "함수(7, 8)\n",
        "```"
      ],
      "metadata": {
        "id": "jyPw2HBcQAMi"
      }
    },
    {
      "cell_type": "code",
      "source": [],
      "metadata": {
        "id": "ZJLPbX_zQCaf"
      },
      "execution_count": null,
      "outputs": []
    },
    {
      "cell_type": "markdown",
      "source": [
        "13\n",
        "\n",
        "아래와 같은 에러가 발생하는 원인을 설명하라.\n",
        "\n",
        "```\n",
        "def 함수(문자열) :\n",
        "    print(문자열)\n",
        "\n",
        "함수()\n",
        "```\n",
        "\n",
        "```\n",
        "TypeError: 함수() missing 1 required positional argument: '문자열'\n",
        "```"
      ],
      "metadata": {
        "id": "L2_nJyf6QEku"
      }
    },
    {
      "cell_type": "code",
      "source": [],
      "metadata": {
        "id": "--nJXZkxQJ-n"
      },
      "execution_count": null,
      "outputs": []
    },
    {
      "cell_type": "markdown",
      "source": [
        "14\n",
        "\n",
        "아래와 같은 에러가 발생하는 원인을 설명하라.\n",
        "```\n",
        "def 함수(a, b) :\n",
        "    print(a + b)\n",
        "\n",
        "함수(\"안녕\", 3)\n",
        "```"
      ],
      "metadata": {
        "id": "KOnAR360QQmx"
      }
    },
    {
      "cell_type": "code",
      "source": [],
      "metadata": {
        "id": "VLwkbpheQT0e"
      },
      "execution_count": null,
      "outputs": []
    },
    {
      "cell_type": "markdown",
      "source": [
        "15\n",
        "\n",
        "하나의 문자를 입력받아 문자열 끝에 \":D\" 스마일 문자열을 이어 붙여 출력하는 print_with_smile 함수를 정의하라."
      ],
      "metadata": {
        "id": "HpDVku90QUr3"
      }
    },
    {
      "cell_type": "code",
      "source": [],
      "metadata": {
        "id": "JWZ1Ar4KQW3O"
      },
      "execution_count": null,
      "outputs": []
    },
    {
      "cell_type": "markdown",
      "source": [
        "16\n",
        "\n",
        "15에서 정의한 함수를 호출하라. 파라미터는 \"안녕하세요\"로 입력하라.\n",
        "\n"
      ],
      "metadata": {
        "id": "9hm2K6BaQZ-v"
      }
    },
    {
      "cell_type": "code",
      "source": [],
      "metadata": {
        "id": "XufEKUK2QdgW"
      },
      "execution_count": null,
      "outputs": []
    },
    {
      "cell_type": "markdown",
      "source": [
        "17\n",
        "\n",
        "현재 가격을 입력 받아 상한가 (30%)를 출력하는 print_upper_price 함수를 정의하라."
      ],
      "metadata": {
        "id": "3lUj5hXRQfI-"
      }
    },
    {
      "cell_type": "code",
      "source": [],
      "metadata": {
        "id": "NG28myQ9QhI-"
      },
      "execution_count": null,
      "outputs": []
    },
    {
      "cell_type": "markdown",
      "source": [
        "18\n",
        "\n",
        "두 개의 숫자를 입력받아 두 수의 합을 출력하는 print_sum 함수를 정의하라."
      ],
      "metadata": {
        "id": "jRC8OmBEQhhH"
      }
    },
    {
      "cell_type": "code",
      "source": [],
      "metadata": {
        "id": "wzPmXmzwQi_F"
      },
      "execution_count": null,
      "outputs": []
    },
    {
      "cell_type": "markdown",
      "source": [
        "19\n",
        "\n",
        "두 개의 숫자를 입력받아 합/차/곱/나눗셈을 출력하는 print_arithmetic_operation 함수를 작성하라."
      ],
      "metadata": {
        "id": "K117rkfdQkUY"
      }
    },
    {
      "cell_type": "code",
      "source": [],
      "metadata": {
        "id": "I3vzkMYhQkhu"
      },
      "execution_count": null,
      "outputs": []
    },
    {
      "cell_type": "markdown",
      "source": [
        "20\n",
        "\n",
        "세 개의 숫자를 입력받아 가장 큰수를 출력하는 print_max 함수를 정의하라. 단 if 문을 사용해서 수를 비교하라."
      ],
      "metadata": {
        "id": "yjKnZeeXQmxz"
      }
    },
    {
      "cell_type": "code",
      "source": [],
      "metadata": {
        "id": "pghd6Rs1QnWN"
      },
      "execution_count": null,
      "outputs": []
    },
    {
      "cell_type": "markdown",
      "source": [
        "21\n",
        "\n",
        "입력된 문자열을 역순으로 출력하는 print_reverse 함수를 정의하라.\n",
        "\n",
        "```\n",
        "print_reverse(\"python\")\n",
        "```\n",
        "\n",
        "```\n",
        "nohtyp\n",
        "```"
      ],
      "metadata": {
        "id": "2069nKrUQooZ"
      }
    },
    {
      "cell_type": "code",
      "source": [],
      "metadata": {
        "id": "F6KF7nKUQuVt"
      },
      "execution_count": null,
      "outputs": []
    },
    {
      "cell_type": "markdown",
      "source": [
        "22\n",
        "\n",
        "성적 리스트를 입력 받아 평균을 출력하는 print_score 함수를 정의하라.\n",
        "```\n",
        "print_score ([1, 2, 3])\n",
        "```\n",
        "```\n",
        "2.0\n",
        "```"
      ],
      "metadata": {
        "id": "I4q8JlvPQvAR"
      }
    },
    {
      "cell_type": "code",
      "source": [
        "\n"
      ],
      "metadata": {
        "id": "tL3eR4VCQwdk"
      },
      "execution_count": null,
      "outputs": []
    },
    {
      "cell_type": "markdown",
      "source": [
        "23\n",
        "\n",
        "하나의 리스트를 입력받아 짝수만 화면에 출력하는 print_even 함수를 정의하라.\n",
        "```\n",
        "print_even ([1, 3, 2, 10, 12, 11, 15])\n",
        "```\n",
        "```\n",
        "2\n",
        "10\n",
        "12\n",
        "```"
      ],
      "metadata": {
        "id": "-yvuLNj7Q8Io"
      }
    },
    {
      "cell_type": "code",
      "source": [],
      "metadata": {
        "id": "bHSSU059Q8vs"
      },
      "execution_count": null,
      "outputs": []
    },
    {
      "cell_type": "markdown",
      "source": [
        "24\n",
        "\n",
        "하나의 딕셔너리를 입력받아 딕셔너리의 key 값을 화면에 출력하는 print_keys 함수를 정의하라.\n",
        "\n",
        "```\n",
        "print_keys ({\"이름\":\"김말똥\", \"나이\":30, \"성별\":0})\n",
        "```\n",
        "\n",
        "```\n",
        "이름\n",
        "나이\n",
        "성별\n",
        "```\n"
      ],
      "metadata": {
        "id": "P1XGIn-fRBHI"
      }
    },
    {
      "cell_type": "code",
      "source": [],
      "metadata": {
        "id": "OxkvLkn9RG1U"
      },
      "execution_count": null,
      "outputs": []
    },
    {
      "cell_type": "markdown",
      "source": [
        "25\n",
        "\n",
        "입력 문자열을 한 줄에 다섯글자씩 출력하는 print_5xn(string) 함수를 작성하라.\n",
        "\n",
        "```\n",
        "print_5xn(\"아이엠어보이유알어걸\")\n",
        "```\n",
        "```\n",
        "아이엠어보\n",
        "이유알어걸\n",
        "```"
      ],
      "metadata": {
        "id": "Ql6MrGVVRNYg"
      }
    },
    {
      "cell_type": "code",
      "source": [],
      "metadata": {
        "id": "GmJ6eeduRQMs"
      },
      "execution_count": null,
      "outputs": []
    },
    {
      "cell_type": "markdown",
      "source": [
        "26\n",
        "\n",
        "문자열과 한줄에 출력될 글자 수를 입력을 받아 한 줄에 입력된 글자 수만큼 출력하는 print_mxn(string) 함수를 작성하라.\n",
        "\n",
        "```\n",
        "printmxn(\"아이엠어보이유알어걸\", 3)\n",
        "```\n",
        "```\n",
        "아이엠\n",
        "어보이\n",
        "유알어\n",
        "걸\n",
        "```"
      ],
      "metadata": {
        "id": "Kpk_NVYQRS5f"
      }
    },
    {
      "cell_type": "code",
      "source": [],
      "metadata": {
        "id": "1-qzLC7sRVhc"
      },
      "execution_count": null,
      "outputs": []
    },
    {
      "cell_type": "markdown",
      "source": [
        "27\n",
        "\n",
        "연봉을 입력받아 월급을 계산하는 calc_monthly_salary(annual_salary) 함수를 정의하라. 회사는 연봉을 12개월로 나누어 분할 지급하며, \n",
        "\n",
        "이 때 1원 미만은 버림한다.\n",
        "\n",
        "```\n",
        "calc_monthly_salary(12000000)\n",
        "```\n",
        "```\n",
        "1000000\n",
        "```"
      ],
      "metadata": {
        "id": "OBbbhmTuSPZU"
      }
    },
    {
      "cell_type": "code",
      "source": [],
      "metadata": {
        "id": "fEwqkUWdSP_5"
      },
      "execution_count": null,
      "outputs": []
    },
    {
      "cell_type": "markdown",
      "source": [
        "28\n",
        "\n",
        "아래 코드의 실행 결과를 예측하라.\n",
        "\n",
        "```\n",
        "def my_print (a, b) :\n",
        "    print(\"왼쪽:\", a)\n",
        "    print(\"오른쪽:\", b)\n",
        "\n",
        "```\n",
        "my_print(a=100, b=200)"
      ],
      "metadata": {
        "id": "s1BANAOvSXOZ"
      }
    },
    {
      "cell_type": "code",
      "source": [],
      "metadata": {
        "id": "ugMfvXvtSad5"
      },
      "execution_count": null,
      "outputs": []
    },
    {
      "cell_type": "markdown",
      "source": [
        "29\n",
        "\n",
        "아래 코드의 실행 결과를 예측하라.\n",
        "\n",
        "```\n",
        "def my_print (a, b) :\n",
        "    print(\"왼쪽:\", a)\n",
        "    print(\"오른쪽:\", b)\n",
        "```\n",
        "```\n",
        "my_print(b=100, a=200)\n",
        "```"
      ],
      "metadata": {
        "id": "uIFN2HqSScKs"
      }
    },
    {
      "cell_type": "code",
      "source": [],
      "metadata": {
        "id": "PcCCrEsOSvwg"
      },
      "execution_count": null,
      "outputs": []
    },
    {
      "cell_type": "markdown",
      "source": [
        "30\n",
        "\n",
        "아래 코드를 실행한 결과를 예상하라.\n",
        "\n",
        "```\n",
        "def n_plus_1 (n) :\n",
        "    result = n + 1\n",
        "```\n",
        "```\n",
        "n_plus_1(3)\n",
        "print (result)\n",
        "```"
      ],
      "metadata": {
        "id": "6aI2IJs1Sy4m"
      }
    },
    {
      "cell_type": "code",
      "source": [],
      "metadata": {
        "id": "ZkK5seQDS6oH"
      },
      "execution_count": null,
      "outputs": []
    },
    {
      "cell_type": "markdown",
      "source": [
        "31\n",
        "\n",
        "문자열 하나를 입력받아 인터넷 주소를 반환하는 make_url 함수를 정의하라.\n",
        "```\n",
        "make_url(\"naver\")\n",
        "```\n",
        "```\n",
        "www.naver.com\n",
        "```"
      ],
      "metadata": {
        "id": "YnxwO2HgS-6K"
      }
    },
    {
      "cell_type": "code",
      "source": [],
      "metadata": {
        "id": "V9zsfPGkS_c_"
      },
      "execution_count": null,
      "outputs": []
    },
    {
      "cell_type": "markdown",
      "source": [
        "32\n",
        "\n",
        "문자열을 입력받아 각 문자들로 구성된 리스트로 반환하는 make_list 함수를 정의하라.\n",
        "\n",
        "```\n",
        "make_list(\"abcd\")\n",
        "```\n",
        "```\n",
        "['a', 'b', 'c', 'd']\n",
        "```"
      ],
      "metadata": {
        "id": "ctVz3FNqTDaM"
      }
    },
    {
      "cell_type": "code",
      "source": [],
      "metadata": {
        "id": "LlPbEv06TIJW"
      },
      "execution_count": null,
      "outputs": []
    },
    {
      "cell_type": "markdown",
      "source": [
        "33\n",
        "\n",
        "숫자로 구성된 하나의 리스트를 입력받아, 짝수들을 추출하여 리스트로 반환하는 pickup_even 함수를 구현하라.\n",
        "\n",
        "```\n",
        "pickup_even([3, 4, 5, 6, 7, 8])\n",
        "```\n",
        "```\n",
        "[4, 6, 8]\n",
        "```"
      ],
      "metadata": {
        "id": "MvWSnSS2TIsY"
      }
    },
    {
      "cell_type": "code",
      "source": [],
      "metadata": {
        "id": "WvRTasfbTMhe"
      },
      "execution_count": null,
      "outputs": []
    },
    {
      "cell_type": "markdown",
      "source": [
        "34\n",
        "\n",
        "콤마가 포함된 문자열 숫자를 입력받아 정수로 변환하는 convert_int 함수를 정의하라.\n",
        "\n",
        "```\n",
        "convert_int(\"1,234,567\")\n",
        "```\n",
        "```\n",
        "1234567\n",
        "```"
      ],
      "metadata": {
        "id": "ipEGBNRhTOZ_"
      }
    },
    {
      "cell_type": "code",
      "source": [],
      "metadata": {
        "id": "9ho3c77NTRRe"
      },
      "execution_count": null,
      "outputs": []
    },
    {
      "cell_type": "markdown",
      "source": [
        "35\n",
        "\n",
        "아래 코드의 실행 결과를 예측하라.\n",
        "\n",
        "```\n",
        "def 함수(num) :\n",
        "    return num + 4\n",
        "\n",
        "\n",
        "a = 함수(10)\n",
        "b = 함수(a)\n",
        "c = 함수(b)\n",
        "print(c)\n",
        "```"
      ],
      "metadata": {
        "id": "TEKwZi1NTS_j"
      }
    },
    {
      "cell_type": "code",
      "source": [],
      "metadata": {
        "id": "AeJIk70vTVbH"
      },
      "execution_count": null,
      "outputs": []
    },
    {
      "cell_type": "markdown",
      "source": [
        "36\n",
        "\n",
        "아래 코드의 실행 결과를 예측하라.\n",
        "\n",
        "```\n",
        "def 함수(num) :\n",
        "    return num + 4\n",
        "\n",
        "c = 함수(함수(함수(10)))\n",
        "print(c)\n",
        "```"
      ],
      "metadata": {
        "id": "838UmNADTXK2"
      }
    },
    {
      "cell_type": "code",
      "source": [],
      "metadata": {
        "id": "l1DN9Nl3TZHO"
      },
      "execution_count": null,
      "outputs": []
    },
    {
      "cell_type": "markdown",
      "source": [
        "37\n",
        "\n",
        "아래 코드의 실행 결과를 예측하라.\n",
        "\n",
        "```\n",
        "def 함수1(num) :\n",
        "    return num + 4\n",
        "\n",
        "def 함수2(num) :\n",
        "    return num * 10\n",
        "\n",
        "a = 함수1(10)\n",
        "c = 함수2(a)\n",
        "print(c)\n",
        "```"
      ],
      "metadata": {
        "id": "_ffE0iAtTbve"
      }
    },
    {
      "cell_type": "code",
      "source": [],
      "metadata": {
        "id": "5j8zq0skTd82"
      },
      "execution_count": null,
      "outputs": []
    },
    {
      "cell_type": "markdown",
      "source": [
        "38\n",
        "\n",
        "아래 코드의 실행 결과를 예측하라.\n",
        "\n",
        "```\n",
        "def 함수1(num) :\n",
        "    return num + 4\n",
        "\n",
        "def 함수2(num) :\n",
        "    num = num + 2\n",
        "    return 함수1(num)\n",
        "\n",
        "c = 함수2(10)\n",
        "print(c)\n",
        "```"
      ],
      "metadata": {
        "id": "LXr2yvqVTgcR"
      }
    },
    {
      "cell_type": "code",
      "source": [],
      "metadata": {
        "id": "3XH601oJTjul"
      },
      "execution_count": null,
      "outputs": []
    },
    {
      "cell_type": "markdown",
      "source": [
        "39\n",
        "아래 코드의 실행 결과를 예측하라.\n",
        "\n",
        "```\n",
        "def 함수0(num) :\n",
        "    return num * 2\n",
        "\n",
        "def 함수1(num) :\n",
        "    return 함수0(num + 2)\n",
        "\n",
        "def 함수2(num) :\n",
        "    num = num + 10\n",
        "    return 함수1(num)\n",
        "\n",
        "c = 함수2(2)\n",
        "print(c)\n",
        "```"
      ],
      "metadata": {
        "id": "S2Lred36TkuA"
      }
    },
    {
      "cell_type": "code",
      "source": [],
      "metadata": {
        "id": "HwPkba8VTqA1"
      },
      "execution_count": null,
      "outputs": []
    }
  ]
}