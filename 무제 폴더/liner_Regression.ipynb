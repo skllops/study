{
  "nbformat": 4,
  "nbformat_minor": 0,
  "metadata": {
    "colab": {
      "provenance": []
    },
    "kernelspec": {
      "name": "python3",
      "display_name": "Python 3"
    },
    "language_info": {
      "name": "python"
    }
  },
  "cells": [
    {
      "cell_type": "code",
      "execution_count": 6,
      "metadata": {
        "id": "WjsYE79xD32Y"
      },
      "outputs": [],
      "source": [
        "# 결측치 실습\n",
        "# SimpleImputer는 결측치를 쉽게 다루도록 도와줌.\n",
        "from sklearn.impute import SimpleImputer\n",
        "import pandas as pd\n",
        "\n",
        "#결측치를 medium 값으로 채운다\n",
        "imputer = SimpleImputer(strategy=\"median\")\n",
        "\n",
        "#파일 읽어옴\n",
        "test_data = pd.read_csv(\"wine_crack.csv\")\n",
        "\n",
        "#medium 값이 얼마인지 파악\n",
        "imputer.fit(test_data)\n",
        "\n",
        "#결측치를 medium값으로 바꿔줌 (transform)한다.\n",
        "imputerX = imputer.transform(test_data)"
      ]
    },
    {
      "cell_type": "code",
      "source": [
        "imputerX"
      ],
      "metadata": {
        "id": "_owryCytEzjo"
      },
      "execution_count": null,
      "outputs": []
    },
    {
      "cell_type": "code",
      "source": [
        "# 와인 측정 데이터 Wine Quality Data Set https://archive.ics.uci.edu/ml/datasets/wine+quality\n",
        "'''\n",
        "속성\n",
        "1: fixed acidity 주석산 농도\n",
        "\n",
        "2: volatile acidity 아세트산 농도\n",
        "\n",
        "3: citric acid 구연산 농도\n",
        "\n",
        "4: residual sugar 잔류 당분 농도\n",
        "\n",
        "5: chlorides 염화나트륨 농도\n",
        "\n",
        "6: free sulfur dioxide 유리 아황산 농도\n",
        "\n",
        "7: total sulfur dioxide 총 아황산 농도\n",
        "\n",
        "8: density 밀도\n",
        "\n",
        "9: pH\n",
        "\n",
        "10: sulphates 황산칼륨 농도\n",
        "\n",
        "11: alcohol 알코올 도수\n",
        "\n",
        "12: quality (score between 0 and 10) 와인의 맛(0~10등급)\n",
        "\n",
        "13: class 와인 종류 (1: 레드와인, 0: 화이트와인)\n",
        "'''"
      ],
      "metadata": {
        "id": "Gf9Zraq-FDr8"
      },
      "execution_count": null,
      "outputs": []
    },
    {
      "cell_type": "code",
      "source": [],
      "metadata": {
        "id": "E9oRKBulgv8k"
      },
      "execution_count": null,
      "outputs": []
    },
    {
      "cell_type": "code",
      "source": [
        "#샘플ㄹ 코드\n",
        "import matplotlib\n",
        "import matplotlib.pyplot as plt\n",
        "import numpy as np\n",
        "import pandas as pd\n",
        "import sklearn.linear_model\n",
        "\n",
        "#데이터 적재\n",
        "wine_data = pd.read_csv('./wine.csv')\n",
        "print(wine_data)\n",
        "\n"
      ],
      "metadata": {
        "colab": {
          "base_uri": "https://localhost:8080/"
        },
        "id": "p2W23_LFFy9u",
        "outputId": "7f5caec6-5921-4ccf-ae1a-f25d3312706c"
      },
      "execution_count": 10,
      "outputs": [
        {
          "output_type": "stream",
          "name": "stdout",
          "text": [
            "      fixed acidity  volatile acidity  citric acid  residual sugar  chlorides  \\\n",
            "0               7.4              0.70         0.00             1.9      0.076   \n",
            "1               7.8              0.88         0.00             2.6      0.098   \n",
            "2               7.8              0.76         0.04             2.3      0.092   \n",
            "3              11.2              0.28         0.56             1.9      0.075   \n",
            "4               7.4              0.70         0.00             1.9      0.076   \n",
            "...             ...               ...          ...             ...        ...   \n",
            "6492            6.2              0.21         0.29             1.6      0.039   \n",
            "6493            6.6              0.32         0.36             8.0      0.047   \n",
            "6494            6.5              0.24         0.19             1.2      0.041   \n",
            "6495            5.5              0.29         0.30             1.1      0.022   \n",
            "6496            6.0              0.21         0.38             0.8      0.020   \n",
            "\n",
            "      free sulfur dioxide  total sulfur dioxide  density    pH  sulphates  \\\n",
            "0                    11.0                  34.0  0.99780  3.51       0.56   \n",
            "1                    25.0                  67.0  0.99680  3.20       0.68   \n",
            "2                    15.0                  54.0  0.99700  3.26       0.65   \n",
            "3                    17.0                  60.0  0.99800  3.16       0.58   \n",
            "4                    11.0                  34.0  0.99780  3.51       0.56   \n",
            "...                   ...                   ...      ...   ...        ...   \n",
            "6492                 24.0                  92.0  0.99114  3.27       0.50   \n",
            "6493                 57.0                 168.0  0.99490  3.15       0.46   \n",
            "6494                 30.0                 111.0  0.99254  2.99       0.46   \n",
            "6495                 20.0                 110.0  0.98869  3.34       0.38   \n",
            "6496                 22.0                  98.0  0.98941  3.26       0.32   \n",
            "\n",
            "      alcohol  quality  class  \n",
            "0         9.4        5      1  \n",
            "1         9.8        5      1  \n",
            "2         9.8        5      1  \n",
            "3         9.8        6      1  \n",
            "4         9.4        5      1  \n",
            "...       ...      ...    ...  \n",
            "6492     11.2        6      0  \n",
            "6493      9.6        5      0  \n",
            "6494      9.4        6      0  \n",
            "6495     12.8        7      0  \n",
            "6496     11.8        6      0  \n",
            "\n",
            "[6497 rows x 13 columns]\n"
          ]
        }
      ]
    },
    {
      "cell_type": "code",
      "source": [
        "# 데이터 준비 - train 컬럼 선정 및 target(정답값)설정\n",
        "# \"residual sugar\", \"density\", \"fixed acidity\" 컬럼/ \"pH\" 값  /리스트로 담아주고 \n",
        "X = wine_data[[\"chlorides\", \"density\", \"pH\", \"sulphates\"]]\n",
        "y = wine_data[[\"alcohol\"]]\n",
        "\n",
        "print(X)\n",
        "print(y)"
      ],
      "metadata": {
        "colab": {
          "base_uri": "https://localhost:8080/"
        },
        "id": "zN0ttUEeGm6J",
        "outputId": "cd09c546-d872-4320-cd1b-15189a349662"
      },
      "execution_count": 28,
      "outputs": [
        {
          "output_type": "stream",
          "name": "stdout",
          "text": [
            "      chlorides  density    pH  sulphates\n",
            "0         0.076  0.99780  3.51       0.56\n",
            "1         0.098  0.99680  3.20       0.68\n",
            "2         0.092  0.99700  3.26       0.65\n",
            "3         0.075  0.99800  3.16       0.58\n",
            "4         0.076  0.99780  3.51       0.56\n",
            "...         ...      ...   ...        ...\n",
            "6492      0.039  0.99114  3.27       0.50\n",
            "6493      0.047  0.99490  3.15       0.46\n",
            "6494      0.041  0.99254  2.99       0.46\n",
            "6495      0.022  0.98869  3.34       0.38\n",
            "6496      0.020  0.98941  3.26       0.32\n",
            "\n",
            "[6497 rows x 4 columns]\n",
            "      alcohol\n",
            "0         9.4\n",
            "1         9.8\n",
            "2         9.8\n",
            "3         9.8\n",
            "4         9.4\n",
            "...       ...\n",
            "6492     11.2\n",
            "6493      9.6\n",
            "6494      9.4\n",
            "6495     12.8\n",
            "6496     11.8\n",
            "\n",
            "[6497 rows x 1 columns]\n"
          ]
        }
      ]
    },
    {
      "cell_type": "code",
      "source": [
        "\n",
        "# 선형 모델 선택\n",
        "model = sklearn.linear_model.LinearRegression()\n",
        "\n",
        "# 모델 훈련\n",
        "# #모델한테 x데이터[resigual sugar와 dentity]를 주고, 정답값 y로부터 최소제곱법으로  최적의 w를 찾아냄.\n",
        "model.fit(X, y)\n",
        "\n",
        "# 예측\n",
        "# 임의의 residual sugar과 density 넣기.\n",
        "X_new = [[0.076, 0.9978, 3.51, 0.58],[0.012 , 0.85850 , 6.77, 0.90],[0.09 , 0.222, 2.9, 0.10]]  #임의 값.  [[,,],[,,]]2개의 데이터 3개컬럼  [[,,,],[],[],[]] 4개데이터 4개컬럼\n",
        "print(\"예측값:\",model.predict(X_new)) "
      ],
      "metadata": {
        "colab": {
          "base_uri": "https://localhost:8080/"
        },
        "id": "0Yaesg3gYdlg",
        "outputId": "f99ecc15-0061-4045-b03f-5c0c24db0799"
      },
      "execution_count": 30,
      "outputs": [
        {
          "output_type": "stream",
          "name": "stdout",
          "text": [
            "예측값: [[  9.84467125]\n",
            " [ 52.11674253]\n",
            " [227.38634564]]\n"
          ]
        },
        {
          "output_type": "stream",
          "name": "stderr",
          "text": [
            "/usr/local/lib/python3.9/dist-packages/sklearn/base.py:439: UserWarning: X does not have valid feature names, but LinearRegression was fitted with feature names\n",
            "  warnings.warn(\n"
          ]
        }
      ]
    },
    {
      "cell_type": "code",
      "source": [
        "# Polynomial Regression\n",
        "import numpy as np\n",
        "import numpy.random as rnd\n",
        "\n",
        "#넘파이로 랜덤한 값을 생성할건데 내일도 똑같은 랜덤값을 뽑고 싶을때, 그 뽑은 기준을 fix해 놓으면 된다 우리는 그걸 랜덤시드라고함\n",
        "np.random.seed(42)\n",
        "\n",
        "\n",
        "m = 100\n",
        "X = 6 * np.random.rand(m, 1) - 3  #0부터 1사이의 균일 분포에서 100행 1열의 난수 matrix array생성\n",
        "y = 0.5 * X**2 + X + 2 + np.random.randn(m, 1)\n",
        "\n",
        "print(X)\n",
        "print(y)"
      ],
      "metadata": {
        "colab": {
          "base_uri": "https://localhost:8080/"
        },
        "id": "0C5umxEraCqF",
        "outputId": "9ba84bd6-bf12-41a5-e72d-c84016d7fbdd"
      },
      "execution_count": 31,
      "outputs": [
        {
          "output_type": "stream",
          "name": "stdout",
          "text": [
            "[[-0.75275929]\n",
            " [ 2.70428584]\n",
            " [ 1.39196365]\n",
            " [ 0.59195091]\n",
            " [-2.06388816]\n",
            " [-2.06403288]\n",
            " [-2.65149833]\n",
            " [ 2.19705687]\n",
            " [ 0.60669007]\n",
            " [ 1.24843547]\n",
            " [-2.87649303]\n",
            " [ 2.81945911]\n",
            " [ 1.99465584]\n",
            " [-1.72596534]\n",
            " [-1.9090502 ]\n",
            " [-1.89957294]\n",
            " [-1.17454654]\n",
            " [ 0.14853859]\n",
            " [-0.40832989]\n",
            " [-1.25262516]\n",
            " [ 0.67111737]\n",
            " [-2.16303684]\n",
            " [-1.24713211]\n",
            " [-0.80182894]\n",
            " [-0.26358009]\n",
            " [ 1.71105577]\n",
            " [-1.80195731]\n",
            " [ 0.08540663]\n",
            " [ 0.55448741]\n",
            " [-2.72129752]\n",
            " [ 0.64526911]\n",
            " [-1.97685526]\n",
            " [-2.60969044]\n",
            " [ 2.69331322]\n",
            " [ 2.7937922 ]\n",
            " [ 1.85038409]\n",
            " [-1.17231738]\n",
            " [-2.41396732]\n",
            " [ 1.10539816]\n",
            " [-0.35908504]\n",
            " [-2.26777059]\n",
            " [-0.02893854]\n",
            " [-2.79366887]\n",
            " [ 2.45592241]\n",
            " [-1.44732011]\n",
            " [ 0.97513371]\n",
            " [-1.12973354]\n",
            " [ 0.12040813]\n",
            " [ 0.28026168]\n",
            " [-1.89087327]\n",
            " [ 2.81750777]\n",
            " [ 1.65079694]\n",
            " [ 2.63699365]\n",
            " [ 2.3689641 ]\n",
            " [ 0.58739987]\n",
            " [ 2.53124541]\n",
            " [-2.46904499]\n",
            " [-1.82410283]\n",
            " [-2.72863627]\n",
            " [-1.04801802]\n",
            " [-0.66793626]\n",
            " [-1.37190581]\n",
            " [ 1.97242505]\n",
            " [-0.85948004]\n",
            " [-1.31439294]\n",
            " [ 0.2561765 ]\n",
            " [-2.15445465]\n",
            " [ 1.81318188]\n",
            " [-2.55269614]\n",
            " [ 2.92132162]\n",
            " [ 1.63346862]\n",
            " [-1.80770591]\n",
            " [-2.9668673 ]\n",
            " [ 1.89276857]\n",
            " [ 1.24114406]\n",
            " [ 1.37404301]\n",
            " [ 1.62762208]\n",
            " [-2.55573209]\n",
            " [-0.84920563]\n",
            " [-2.30478564]\n",
            " [ 2.17862056]\n",
            " [ 0.73978876]\n",
            " [-1.01461185]\n",
            " [-2.6186499 ]\n",
            " [-1.13410607]\n",
            " [-1.04890007]\n",
            " [ 1.37763707]\n",
            " [ 0.82534483]\n",
            " [ 2.32327646]\n",
            " [-0.16671045]\n",
            " [-2.28243452]\n",
            " [ 1.27946872]\n",
            " [ 1.56471029]\n",
            " [ 0.36766319]\n",
            " [ 1.62580308]\n",
            " [-0.03722642]\n",
            " [ 0.13639698]\n",
            " [-0.43475389]\n",
            " [-2.84748524]\n",
            " [-2.35265144]]\n",
            "[[1.61761105]\n",
            " [8.06185944]\n",
            " [4.45250583]\n",
            " [0.77958493]\n",
            " [1.84625712]\n",
            " [2.42319555]\n",
            " [4.34161741]\n",
            " [6.09231611]\n",
            " [1.98223289]\n",
            " [3.52597398]\n",
            " [4.17601517]\n",
            " [9.12288507]\n",
            " [5.45422161]\n",
            " [2.27678027]\n",
            " [2.01026368]\n",
            " [2.87326073]\n",
            " [0.81318015]\n",
            " [1.8319083 ]\n",
            " [1.28292861]\n",
            " [0.06839479]\n",
            " [3.19243691]\n",
            " [2.43738261]\n",
            " [1.5356506 ]\n",
            " [1.28504875]\n",
            " [0.3557864 ]\n",
            " [4.75426637]\n",
            " [1.47885324]\n",
            " [1.28677651]\n",
            " [2.54692985]\n",
            " [3.38548344]\n",
            " [4.73964113]\n",
            " [2.15170091]\n",
            " [3.05310205]\n",
            " [8.24583537]\n",
            " [6.77765841]\n",
            " [5.53583085]\n",
            " [1.57507685]\n",
            " [4.9628939 ]\n",
            " [3.52398974]\n",
            " [2.00693334]\n",
            " [2.26890937]\n",
            " [0.80280214]\n",
            " [4.25144683]\n",
            " [8.22363289]\n",
            " [2.39107959]\n",
            " [2.54118912]\n",
            " [2.91120971]\n",
            " [0.72580612]\n",
            " [2.90639207]\n",
            " [4.08728321]\n",
            " [7.79614645]\n",
            " [4.44706448]\n",
            " [8.21351277]\n",
            " [6.67148391]\n",
            " [1.20925575]\n",
            " [7.80341005]\n",
            " [1.51674287]\n",
            " [2.31316516]\n",
            " [2.07466744]\n",
            " [3.05108727]\n",
            " [0.77187987]\n",
            " [1.24709545]\n",
            " [6.73117257]\n",
            " [0.27900861]\n",
            " [1.7768814 ]\n",
            " [3.59613245]\n",
            " [0.55889954]\n",
            " [5.64163002]\n",
            " [2.96531544]\n",
            " [9.97020449]\n",
            " [3.73062776]\n",
            " [0.50573781]\n",
            " [3.95622505]\n",
            " [5.98103968]\n",
            " [4.26185621]\n",
            " [4.66448831]\n",
            " [4.27217418]\n",
            " [2.94240486]\n",
            " [1.80444194]\n",
            " [1.63688137]\n",
            " [8.41758883]\n",
            " [3.48726539]\n",
            " [0.30880326]\n",
            " [3.46656736]\n",
            " [0.53431055]\n",
            " [2.28828021]\n",
            " [5.4851746 ]\n",
            " [2.34525955]\n",
            " [7.98545933]\n",
            " [2.25996666]\n",
            " [3.14437931]\n",
            " [5.99478181]\n",
            " [4.54348132]\n",
            " [1.68151513]\n",
            " [4.05790648]\n",
            " [1.1476562 ]\n",
            " [2.06859733]\n",
            " [2.00090356]\n",
            " [3.48329165]\n",
            " [3.24201621]]\n"
          ]
        }
      ]
    },
    {
      "cell_type": "code",
      "source": [
        "plt.plot(X,y,\"b.\")\n",
        "plt.xlabel(\"$x_1$\", fontsize=18)\n",
        "plt.ylabel(\"$y$\", rotation=0, fontsize=18)\n",
        "plt.axis([-3,3,0,10])\n",
        "plt.show()"
      ],
      "metadata": {
        "colab": {
          "base_uri": "https://localhost:8080/",
          "height": 465
        },
        "id": "We37Xzu6uuw6",
        "outputId": "086c7061-fda1-4d2f-8ddd-8a9f27ae89ba"
      },
      "execution_count": 32,
      "outputs": [
        {
          "output_type": "display_data",
          "data": {
            "text/plain": [
              "<Figure size 640x480 with 1 Axes>"
            ],
            "image/png": "[encoded data removed]"
          },
          "metadata": {}
        }
      ]
    },
    {
      "cell_type": "code",
      "source": [
        "from sklearn.preprocessing import PolynomialFeatures\n",
        "poly_features = PolynomialFeatures(degree=2, include_bias=False)\n",
        "poly_features.fit(X)\n",
        "X_poly = poly_features.fit_transform(X)\n",
        "print(X[0])\n",
        "print(X_poly[0])\n",
        "print(X_poly)"
      ],
      "metadata": {
        "colab": {
          "base_uri": "https://localhost:8080/"
        },
        "id": "FK4930GwtzJc",
        "outputId": "0454b6c2-70ce-4cfa-c080-2fa43a798b3c"
      },
      "execution_count": 33,
      "outputs": [
        {
          "output_type": "stream",
          "name": "stdout",
          "text": [
            "[-0.75275929]\n",
            "[-0.75275929  0.56664654]\n",
            "[[-7.52759287e-01  5.66646544e-01]\n",
            " [ 2.70428584e+00  7.31316190e+00]\n",
            " [ 1.39196365e+00  1.93756281e+00]\n",
            " [ 5.91950905e-01  3.50405874e-01]\n",
            " [-2.06388816e+00  4.25963433e+00]\n",
            " [-2.06403288e+00  4.26023172e+00]\n",
            " [-2.65149833e+00  7.03044338e+00]\n",
            " [ 2.19705687e+00  4.82705891e+00]\n",
            " [ 6.06690070e-01  3.68072842e-01]\n",
            " [ 1.24843547e+00  1.55859111e+00]\n",
            " [-2.87649303e+00  8.27421218e+00]\n",
            " [ 2.81945911e+00  7.94934969e+00]\n",
            " [ 1.99465584e+00  3.97865194e+00]\n",
            " [-1.72596534e+00  2.97895634e+00]\n",
            " [-1.90905020e+00  3.64447265e+00]\n",
            " [-1.89957294e+00  3.60837736e+00]\n",
            " [-1.17454654e+00  1.37955958e+00]\n",
            " [ 1.48538590e-01  2.20637127e-02]\n",
            " [-4.08329888e-01  1.66733298e-01]\n",
            " [-1.25262516e+00  1.56906979e+00]\n",
            " [ 6.71117368e-01  4.50398522e-01]\n",
            " [-2.16303684e+00  4.67872835e+00]\n",
            " [-1.24713211e+00  1.55533850e+00]\n",
            " [-8.01828940e-01  6.42929649e-01]\n",
            " [-2.63580095e-01  6.94744663e-02]\n",
            " [ 1.71105577e+00  2.92771184e+00]\n",
            " [-1.80195731e+00  3.24705014e+00]\n",
            " [ 8.54066305e-02  7.29429253e-03]\n",
            " [ 5.54487413e-01  3.07456291e-01]\n",
            " [-2.72129752e+00  7.40546021e+00]\n",
            " [ 6.45269111e-01  4.16372226e-01]\n",
            " [-1.97685526e+00  3.90795671e+00]\n",
            " [-2.60969044e+00  6.81048420e+00]\n",
            " [ 2.69331322e+00  7.25393612e+00]\n",
            " [ 2.79379220e+00  7.80527485e+00]\n",
            " [ 1.85038409e+00  3.42392128e+00]\n",
            " [-1.17231738e+00  1.37432805e+00]\n",
            " [-2.41396732e+00  5.82723820e+00]\n",
            " [ 1.10539816e+00  1.22190509e+00]\n",
            " [-3.59085038e-01  1.28942064e-01]\n",
            " [-2.26777059e+00  5.14278345e+00]\n",
            " [-2.89385393e-02  8.37439059e-04]\n",
            " [-2.79366887e+00  7.80458577e+00]\n",
            " [ 2.45592241e+00  6.03155490e+00]\n",
            " [-1.44732011e+00  2.09473550e+00]\n",
            " [ 9.75133706e-01  9.50885745e-01]\n",
            " [-1.12973354e+00  1.27629788e+00]\n",
            " [ 1.20408127e-01  1.44981171e-02]\n",
            " [ 2.80261676e-01  7.85466071e-02]\n",
            " [-1.89087327e+00  3.57540171e+00]\n",
            " [ 2.81750777e+00  7.93835001e+00]\n",
            " [ 1.65079694e+00  2.72513054e+00]\n",
            " [ 2.63699365e+00  6.95373551e+00]\n",
            " [ 2.36896410e+00  5.61199092e+00]\n",
            " [ 5.87399873e-01  3.45038611e-01]\n",
            " [ 2.53124541e+00  6.40720333e+00]\n",
            " [-2.46904499e+00  6.09618315e+00]\n",
            " [-1.82410283e+00  3.32735112e+00]\n",
            " [-2.72863627e+00  7.44545588e+00]\n",
            " [-1.04801802e+00  1.09834176e+00]\n",
            " [-6.67936262e-01  4.46138850e-01]\n",
            " [-1.37190581e+00  1.88212555e+00]\n",
            " [ 1.97242505e+00  3.89046060e+00]\n",
            " [-8.59480040e-01  7.38705939e-01]\n",
            " [-1.31439294e+00  1.72762881e+00]\n",
            " [ 2.56176499e-01  6.56263986e-02]\n",
            " [-2.15445465e+00  4.64167484e+00]\n",
            " [ 1.81318188e+00  3.28762855e+00]\n",
            " [-2.55269614e+00  6.51625757e+00]\n",
            " [ 2.92132162e+00  8.53412001e+00]\n",
            " [ 1.63346862e+00  2.66821972e+00]\n",
            " [-1.80770591e+00  3.26780066e+00]\n",
            " [-2.96686730e+00  8.80230156e+00]\n",
            " [ 1.89276857e+00  3.58257286e+00]\n",
            " [ 1.24114406e+00  1.54043859e+00]\n",
            " [ 1.37404301e+00  1.88799419e+00]\n",
            " [ 1.62762208e+00  2.64915364e+00]\n",
            " [-2.55573209e+00  6.53176651e+00]\n",
            " [-8.49205629e-01  7.21150200e-01]\n",
            " [-2.30478564e+00  5.31203686e+00]\n",
            " [ 2.17862056e+00  4.74638752e+00]\n",
            " [ 7.39788761e-01  5.47287411e-01]\n",
            " [-1.01461185e+00  1.02943721e+00]\n",
            " [-2.61864990e+00  6.85732729e+00]\n",
            " [-1.13410607e+00  1.28619658e+00]\n",
            " [-1.04890007e+00  1.10019135e+00]\n",
            " [ 1.37763707e+00  1.89788390e+00]\n",
            " [ 8.25344828e-01  6.81194085e-01]\n",
            " [ 2.32327646e+00  5.39761349e+00]\n",
            " [-1.66710449e-01  2.77923738e-02]\n",
            " [-2.28243452e+00  5.20950736e+00]\n",
            " [ 1.27946872e+00  1.63704021e+00]\n",
            " [ 1.56471029e+00  2.44831830e+00]\n",
            " [ 3.67663185e-01  1.35176218e-01]\n",
            " [ 1.62580308e+00  2.64323565e+00]\n",
            " [-3.72264218e-02  1.38580648e-03]\n",
            " [ 1.36396976e-01  1.86041351e-02]\n",
            " [-4.34753890e-01  1.89010945e-01]\n",
            " [-2.84748524e+00  8.10817219e+00]\n",
            " [-2.35265144e+00  5.53496879e+00]]\n"
          ]
        }
      ]
    },
    {
      "cell_type": "code",
      "source": [
        "from sklearn.linear_model import LinearRegression\n",
        "lin_reg = LinearRegression()\n",
        "lin_reg.fit(X_poly, y)"
      ],
      "metadata": {
        "colab": {
          "base_uri": "https://localhost:8080/",
          "height": 75
        },
        "id": "lY5KnfzKunRC",
        "outputId": "00e0d120-0775-4ba1-c97b-3f5ac4053d34"
      },
      "execution_count": 34,
      "outputs": [
        {
          "output_type": "execute_result",
          "data": {
            "text/plain": [
              "LinearRegression()"
            ],
            "text/html": [
              "<style>#sk-container-id-1 {color: black;background-color: white;}#sk-container-id-1 pre{padding: 0;}#sk-container-id-1 div.sk-toggleable {background-color: white;}#sk-container-id-1 label.sk-toggleable__label {cursor: pointer;display: block;width: 100%;margin-bottom: 0;padding: 0.3em;box-sizing: border-box;text-align: center;}#sk-container-id-1 label.sk-toggleable__label-arrow:before {content: \"▸\";float: left;margin-right: 0.25em;color: #696969;}#sk-container-id-1 label.sk-toggleable__label-arrow:hover:before {color: black;}#sk-container-id-1 div.sk-estimator:hover label.sk-toggleable__label-arrow:before {color: black;}#sk-container-id-1 div.sk-toggleable__content {max-height: 0;max-width: 0;overflow: hidden;text-align: left;background-color: #f0f8ff;}#sk-container-id-1 div.sk-toggleable__content pre {margin: 0.2em;color: black;border-radius: 0.25em;background-color: #f0f8ff;}#sk-container-id-1 input.sk-toggleable__control:checked~div.sk-toggleable__content {max-height: 200px;max-width: 100%;overflow: auto;}#sk-container-id-1 input.sk-toggleable__control:checked~label.sk-toggleable__label-arrow:before {content: \"▾\";}#sk-container-id-1 div.sk-estimator input.sk-toggleable__control:checked~label.sk-toggleable__label {background-color: #d4ebff;}#sk-container-id-1 div.sk-label input.sk-toggleable__control:checked~label.sk-toggleable__label {background-color: #d4ebff;}#sk-container-id-1 input.sk-hidden--visually {border: 0;clip: rect(1px 1px 1px 1px);clip: rect(1px, 1px, 1px, 1px);height: 1px;margin: -1px;overflow: hidden;padding: 0;position: absolute;width: 1px;}#sk-container-id-1 div.sk-estimator {font-family: monospace;background-color: #f0f8ff;border: 1px dotted black;border-radius: 0.25em;box-sizing: border-box;margin-bottom: 0.5em;}#sk-container-id-1 div.sk-estimator:hover {background-color: #d4ebff;}#sk-container-id-1 div.sk-parallel-item::after {content: \"\";width: 100%;border-bottom: 1px solid gray;flex-grow: 1;}#sk-container-id-1 div.sk-label:hover label.sk-toggleable__label {background-color: #d4ebff;}#sk-container-id-1 div.sk-serial::before {content: \"\";position: absolute;border-left: 1px solid gray;box-sizing: border-box;top: 0;bottom: 0;left: 50%;z-index: 0;}#sk-container-id-1 div.sk-serial {display: flex;flex-direction: column;align-items: center;background-color: white;padding-right: 0.2em;padding-left: 0.2em;position: relative;}#sk-container-id-1 div.sk-item {position: relative;z-index: 1;}#sk-container-id-1 div.sk-parallel {display: flex;align-items: stretch;justify-content: center;background-color: white;position: relative;}#sk-container-id-1 div.sk-item::before, #sk-container-id-1 div.sk-parallel-item::before {content: \"\";position: absolute;border-left: 1px solid gray;box-sizing: border-box;top: 0;bottom: 0;left: 50%;z-index: -1;}#sk-container-id-1 div.sk-parallel-item {display: flex;flex-direction: column;z-index: 1;position: relative;background-color: white;}#sk-container-id-1 div.sk-parallel-item:first-child::after {align-self: flex-end;width: 50%;}#sk-container-id-1 div.sk-parallel-item:last-child::after {align-self: flex-start;width: 50%;}#sk-container-id-1 div.sk-parallel-item:only-child::after {width: 0;}#sk-container-id-1 div.sk-dashed-wrapped {border: 1px dashed gray;margin: 0 0.4em 0.5em 0.4em;box-sizing: border-box;padding-bottom: 0.4em;background-color: white;}#sk-container-id-1 div.sk-label label {font-family: monospace;font-weight: bold;display: inline-block;line-height: 1.2em;}#sk-container-id-1 div.sk-label-container {text-align: center;}#sk-container-id-1 div.sk-container {/* jupyter's `normalize.less` sets `[hidden] { display: none; }` but bootstrap.min.css set `[hidden] { display: none !important; }` so we also need the `!important` here to be able to override the default hidden behavior on the sphinx rendered scikit-learn.org. See: https://github.com/scikit-learn/scikit-learn/issues/21755 */display: inline-block !important;position: relative;}#sk-container-id-1 div.sk-text-repr-fallback {display: none;}</style><div id=\"sk-container-id-1\" class=\"sk-top-container\"><div class=\"sk-text-repr-fallback\"><pre>LinearRegression()</pre><b>In a Jupyter environment, please rerun this cell to show the HTML representation or trust the notebook. <br />On GitHub, the HTML representation is unable to render, please try loading this page with nbviewer.org.</b></div><div class=\"sk-container\" hidden><div class=\"sk-item\"><div class=\"sk-estimator sk-toggleable\"><input class=\"sk-toggleable__control sk-hidden--visually\" id=\"sk-estimator-id-1\" type=\"checkbox\" checked><label for=\"sk-estimator-id-1\" class=\"sk-toggleable__label sk-toggleable__label-arrow\">LinearRegression</label><div class=\"sk-toggleable__content\"><pre>LinearRegression()</pre></div></div></div></div></div>"
            ]
          },
          "metadata": {},
          "execution_count": 34
        }
      ]
    },
    {
      "cell_type": "code",
      "source": [
        "from sklearn.linear_model import SGDRegressor\n",
        "X = 3 * np.random.rand(m, 1)\n",
        "y = 1 + 0.5 * X + np.random.randn(m, 1) /1.5\n",
        "sgd_reg = SGDRegressor(max_iter=50, penalty=\"l2\", tol=1e-3, random_state=42)\n",
        "sgd_reg.fit(X, y.ravel())\n",
        "sgd_reg.predict([[1.5]])\n"
      ],
      "metadata": {
        "colab": {
          "base_uri": "https://localhost:8080/"
        },
        "id": "Zolrqdtrv_Hi",
        "outputId": "d12de1a9-4a1e-4d2c-acd6-4c22ac3702d5"
      },
      "execution_count": 38,
      "outputs": [
        {
          "output_type": "execute_result",
          "data": {
            "text/plain": [
              "array([1.83326112])"
            ]
          },
          "metadata": {},
          "execution_count": 38
        }
      ]
    },
    {
      "cell_type": "code",
      "source": [],
      "metadata": {
        "id": "9inVYm_L5tyi"
      },
      "execution_count": null,
      "outputs": []
    }
  ]
}