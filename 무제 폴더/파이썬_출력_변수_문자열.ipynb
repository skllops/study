{
  "nbformat": 4,
  "nbformat_minor": 0,
  "metadata": {
    "colab": {
      "provenance": []
    },
    "kernelspec": {
      "name": "python3",
      "display_name": "Python 3"
    },
    "language_info": {
      "name": "python"
    }
  },
  "cells": [
    {
      "cell_type": "markdown",
      "source": [
        "001 print 기초\n",
        "\n",
        "화면에 Hello World 문자열을 출력하세요."
      ],
      "metadata": {
        "id": "dmCub18z8jNp"
      }
    },
    {
      "cell_type": "code",
      "execution_count": null,
      "metadata": {
        "id": "YBpRtvks8bSr"
      },
      "outputs": [],
      "source": []
    },
    {
      "cell_type": "markdown",
      "source": [
        "002 print 기초\n",
        "\n",
        "화면에 Mary's cosmetics을 출력하세요. (중간에 '가 있음에 주의하세요)"
      ],
      "metadata": {
        "id": "pRPm-pUL8oMl"
      }
    },
    {
      "cell_type": "code",
      "source": [],
      "metadata": {
        "id": "Dar2yW_n8qR9"
      },
      "execution_count": null,
      "outputs": []
    },
    {
      "cell_type": "markdown",
      "source": [
        "003 print 기초\n",
        "\n",
        "화면에 아래 문장을 출력하세요. (중간에 \"가 있음에 주의하세요.)\n",
        "\n",
        "신씨가 소리질렀다. \"도둑이야\"."
      ],
      "metadata": {
        "id": "3jXGns1y8qv9"
      }
    },
    {
      "cell_type": "code",
      "source": [],
      "metadata": {
        "id": "b88EPP7P8uld"
      },
      "execution_count": null,
      "outputs": []
    },
    {
      "cell_type": "markdown",
      "source": [
        "004 print 기초\n",
        "\n",
        "화면에 \"C:\\Windows\"를 출력하세요."
      ],
      "metadata": {
        "id": "O6DfIogR8vAw"
      }
    },
    {
      "cell_type": "code",
      "source": [],
      "metadata": {
        "id": "ISuxxNup8w4b"
      },
      "execution_count": null,
      "outputs": []
    },
    {
      "cell_type": "markdown",
      "source": [
        "005 print 탭과 줄바꿈\n",
        "\n",
        "다음 코드를 실행해보고 \\t와 \\n의 역할을 설명해보세요.\n",
        "\n",
        "print(\"안녕하세요.\\n만나서\\t\\t반갑습니다.\")"
      ],
      "metadata": {
        "id": "yz7j4XcH8yBw"
      }
    },
    {
      "cell_type": "code",
      "source": [
        "# 서술"
      ],
      "metadata": {
        "id": "X4kwIoVc8xq7"
      },
      "execution_count": null,
      "outputs": []
    },
    {
      "cell_type": "markdown",
      "source": [
        "006 print 여러 데이터 출력\n",
        "\n",
        "print 함수에 두 개의 단어를 입력한 예제입니다. 아래 코드의 출력 결과를 예상해봅시다.\n",
        "\n",
        "print (\"오늘은\", \"일요일\")"
      ],
      "metadata": {
        "id": "j5mgjz4f84GW"
      }
    },
    {
      "cell_type": "code",
      "source": [],
      "metadata": {
        "id": "c8LX--pE85lL"
      },
      "execution_count": null,
      "outputs": []
    },
    {
      "cell_type": "markdown",
      "source": [
        "007 print 기초\n",
        "\n",
        "print( sep=';') 함수를 사용하여 다음과 같이 출력하세요. \n",
        "\n",
        "naver;kakao;sk;samsung"
      ],
      "metadata": {
        "id": "HOtd9R8o87Y0"
      }
    },
    {
      "cell_type": "code",
      "source": [],
      "metadata": {
        "id": "M0HmIE6k87Jc"
      },
      "execution_count": null,
      "outputs": []
    },
    {
      "cell_type": "markdown",
      "source": [
        "008 print 기초\n",
        "\n",
        "print() 함수를 사용하여 다음과 같이 출력하세요.\n",
        "\n",
        "naver/kakao/sk/samsung"
      ],
      "metadata": {
        "id": "4B6kw8Ok9DU0"
      }
    },
    {
      "cell_type": "code",
      "source": [],
      "metadata": {
        "id": "jZ0BB-sb9Dkb"
      },
      "execution_count": null,
      "outputs": []
    },
    {
      "cell_type": "markdown",
      "source": [
        "009 print 줄바꿈\n",
        "\n",
        "다음 코드를 수정하여 줄바꿈이 없이 출력하세요. (힌트: end='') print 함수는 두 번 사용합니다. 세미콜론 (;)은 한줄에 여러 개의 명령을 작성하기 위해 사용합니다.\n",
        "\n",
        "print(\"first\");print(\"second\")"
      ],
      "metadata": {
        "id": "JdfILUlU9Elb"
      }
    },
    {
      "cell_type": "code",
      "source": [],
      "metadata": {
        "id": "VSyQklDn9GcT"
      },
      "execution_count": null,
      "outputs": []
    },
    {
      "cell_type": "markdown",
      "source": [
        "010 연산 결과 출력\n",
        "\n",
        "5/3의 결과를 화면에 출력하세요."
      ],
      "metadata": {
        "id": "KGoesKp7-luH"
      }
    },
    {
      "cell_type": "code",
      "source": [],
      "metadata": {
        "id": "BI65vFhV-mZv"
      },
      "execution_count": null,
      "outputs": []
    },
    {
      "cell_type": "markdown",
      "source": [
        "011 변수 사용하기\n",
        "\n",
        "samsung라는 변수로 50,000원을 정의 해보세요. samsung 주식 10주를 보유하고 있을 때 총 평가금액을 출력하세요."
      ],
      "metadata": {
        "id": "MLGk8Ulp-pIb"
      }
    },
    {
      "cell_type": "code",
      "source": [],
      "metadata": {
        "id": "Dy_IGyx--tyX"
      },
      "execution_count": null,
      "outputs": []
    },
    {
      "cell_type": "markdown",
      "source": [
        "012 변수 사용하기\n",
        "\n",
        "다음 표는 삼성전자의 일부 투자정보입니다. 변수를 사용해서 시가총액, 현재가, PER 등을 정의해보세요.\n",
        "\n",
        "![image.png](data:image/png;base64,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)"
      ],
      "metadata": {
        "id": "oO6V6Ufj-uk7"
      }
    },
    {
      "cell_type": "code",
      "source": [],
      "metadata": {
        "id": "Dt5hjTEs-0II"
      },
      "execution_count": null,
      "outputs": []
    },
    {
      "cell_type": "markdown",
      "source": [
        "013 문자열 출력\n",
        "\n",
        "변수 s와 t에는 각각 문자열이 바인딩 되어있습니다.\n",
        "\n",
        "s = \"hello\"\n",
        "\n",
        "t = \"python\"\n",
        "\n",
        "두 변수를 이용하여 아래와 같이 출력해보세요.\n",
        "\n",
        "실행 예:\n",
        "hello! python"
      ],
      "metadata": {
        "id": "QW_Reewm-7MG"
      }
    },
    {
      "cell_type": "code",
      "source": [],
      "metadata": {
        "id": "8CKkBU9d-8qt"
      },
      "execution_count": null,
      "outputs": []
    },
    {
      "cell_type": "markdown",
      "source": [
        "014 파이썬을 이용한 값 계산\n",
        "\n",
        "아래 코드의 실행 결과를 예상해보세요.\n",
        "\n",
        "2 + 2 * 3 "
      ],
      "metadata": {
        "id": "KDpuJMz7_A85"
      }
    },
    {
      "cell_type": "code",
      "source": [],
      "metadata": {
        "id": "eDixqAlO_Bn2"
      },
      "execution_count": null,
      "outputs": []
    },
    {
      "cell_type": "markdown",
      "source": [
        "015 type 함수\n",
        "\n",
        "type() 함수는 데이터 타입을 판별합니다. 변수 a에는 128 숫자가 바인딩돼 있어 type 함수가 int (정수)형임을 알려줍니다.\n",
        "\n",
        "a = 128\n",
        "\n",
        "print(type(a))\n",
        "\n",
        "출력: <class 'int'>\n",
        "\n",
        "아래 변수에 바인딩된 값의 타입을 판별해보세요.\n",
        "\n",
        "a = \"132\""
      ],
      "metadata": {
        "id": "i2BZ3Dbu_Eoc"
      }
    },
    {
      "cell_type": "code",
      "source": [],
      "metadata": {
        "id": "K9be3zAT_FMd"
      },
      "execution_count": null,
      "outputs": []
    },
    {
      "cell_type": "markdown",
      "source": [
        "016 문자열을 정수로 변환\n",
        "\n",
        "문자열 '720'를 정수형으로 변환해보세요.\n",
        "\n",
        "num_str = \"720\""
      ],
      "metadata": {
        "id": "dLXJJDzD_QWs"
      }
    },
    {
      "cell_type": "code",
      "source": [],
      "metadata": {
        "id": "-J1S-vQb_Rk8"
      },
      "execution_count": null,
      "outputs": []
    },
    {
      "cell_type": "markdown",
      "source": [
        "017 정수를 문자열 100으로 변환\n",
        "\n",
        "정수 100을 문자열 '100'으로 변환해보세요.\n",
        "\n",
        "num = 100"
      ],
      "metadata": {
        "id": "T3sfnd9O_SlX"
      }
    },
    {
      "cell_type": "code",
      "source": [],
      "metadata": {
        "id": "oUTKu3we_T38"
      },
      "execution_count": null,
      "outputs": []
    },
    {
      "cell_type": "markdown",
      "source": [
        "018 문자열을 실수로 변환\n",
        "\n",
        "문자열 \"15.79\"를 실수(float) 타입으로 변환해보세요."
      ],
      "metadata": {
        "id": "7jx6WwR1_V5Y"
      }
    },
    {
      "cell_type": "code",
      "source": [],
      "metadata": {
        "id": "OdyoH_Ni_WbE"
      },
      "execution_count": null,
      "outputs": []
    },
    {
      "cell_type": "markdown",
      "source": [
        "019 문자열을 정수로 변환\n",
        "\n",
        "year라는 변수가 문자열 타입의 연도를 바인딩하고 있습니다. 이를 정수로 변환한 후 최근 3년의 연도를 화면에 출력해보세요.\n",
        "\n",
        "year = \"2020\""
      ],
      "metadata": {
        "id": "R3HN1coo_YDr"
      }
    },
    {
      "cell_type": "code",
      "source": [],
      "metadata": {
        "id": "9IA_JTSJ_Ymk"
      },
      "execution_count": null,
      "outputs": []
    },
    {
      "cell_type": "markdown",
      "source": [
        "020 파이썬 계산\n",
        "\n",
        "에이컨이 월 48,584원에 무이자 36개월의 조건으로 홈쇼핑에서 판매되고 있습니다. \n",
        "\n",
        "총 금액은 계산한 후 이를 화면에 출력해보세요. (변수사용하기)"
      ],
      "metadata": {
        "id": "dXsM1Yo9_cnk"
      }
    },
    {
      "cell_type": "code",
      "source": [],
      "metadata": {
        "id": "OkaxknZ-_dSU"
      },
      "execution_count": null,
      "outputs": []
    },
    {
      "cell_type": "markdown",
      "source": [
        "021 문자열 인덱싱\n",
        "\n",
        "letters가 바인딩하는 문자열에서 첫번째와 세번째 문자를 출력하세요.\n",
        "\n",
        "letters = 'python'\n",
        "\n",
        "실행 예: p t"
      ],
      "metadata": {
        "id": "US8yppJT_hCB"
      }
    },
    {
      "cell_type": "code",
      "source": [],
      "metadata": {
        "id": "XdVA8rEQ_iHc"
      },
      "execution_count": null,
      "outputs": []
    },
    {
      "cell_type": "markdown",
      "source": [
        "022 문자열 슬라이싱\n",
        "\n",
        "자동차 번호가 다음과 같을 때 뒤에 4자리만 출력하세요.\n",
        "\n",
        "license_plate = \"24가 2210\"\n",
        "\n",
        "실행 예: 2210"
      ],
      "metadata": {
        "id": "abU65LMg_mFM"
      }
    },
    {
      "cell_type": "code",
      "source": [],
      "metadata": {
        "id": "l7z6jTn9_nMM"
      },
      "execution_count": null,
      "outputs": []
    },
    {
      "cell_type": "markdown",
      "source": [
        "023 문자열 인덱싱\n",
        "\n",
        "아래의 문자열에서 '홀' 만 출력하세요.\n",
        "\n",
        "string = \"홀짝홀짝홀짝\"\n",
        "\n",
        "실행 예:\n",
        "홀홀홀"
      ],
      "metadata": {
        "id": "A7An0Hj8_op3"
      }
    },
    {
      "cell_type": "code",
      "source": [],
      "metadata": {
        "id": "Ad8VZED4_qMD"
      },
      "execution_count": null,
      "outputs": []
    },
    {
      "cell_type": "markdown",
      "source": [
        "024 문자열 슬라이싱 (어려움)\n",
        "\n",
        "문자열을 거꾸로 뒤집어 출력하세요.\n",
        "\n",
        "string = \"PYTHON\"\n",
        "\n",
        "실행 예:\n",
        "NOHTYP"
      ],
      "metadata": {
        "id": "HgBwUbuxASQC"
      }
    },
    {
      "cell_type": "code",
      "source": [],
      "metadata": {
        "id": "_EZtKKMfAVBa"
      },
      "execution_count": null,
      "outputs": []
    },
    {
      "cell_type": "markdown",
      "source": [
        "025 문자열 치환 (어려움)\n",
        "\n",
        "아래의 전화번호에서 하이푼 ('-')을 제거하고 출력하세요.\n",
        "\n",
        "phone_number = \"010-1111-2222\"\n",
        "\n",
        "실행 예:\n",
        "010 1111 2222"
      ],
      "metadata": {
        "id": "uC5rWV3RAaBQ"
      }
    },
    {
      "cell_type": "code",
      "source": [],
      "metadata": {
        "id": "TA7gWIgBAbRR"
      },
      "execution_count": null,
      "outputs": []
    },
    {
      "cell_type": "markdown",
      "source": [
        "026 문자열 다루기 (어려움)\n",
        "\n",
        "25번 문제의 전화번호를 아래와 같이 모두 붙여 출력하세요.\n",
        "\n",
        "실행 예\n",
        "01011112222"
      ],
      "metadata": {
        "id": "4V-nOI-3Ae9S"
      }
    },
    {
      "cell_type": "code",
      "source": [],
      "metadata": {
        "id": "w5imSUevAgjB"
      },
      "execution_count": null,
      "outputs": []
    },
    {
      "cell_type": "markdown",
      "source": [
        "027 문자열 다루기\n",
        "\n",
        "url 에 저장된 웹 페이지 주소에서 도메인을 출력하세요.\n",
        "\n",
        "url = \"http://sharebook.kr\"\n",
        "\n",
        "실행 예:\n",
        "kr"
      ],
      "metadata": {
        "id": "IAnSqVeuAiNe"
      }
    },
    {
      "cell_type": "code",
      "source": [],
      "metadata": {
        "id": "oy74w17fAjUp"
      },
      "execution_count": null,
      "outputs": []
    },
    {
      "cell_type": "markdown",
      "source": [
        "028 문자열은 immutable\n",
        "\n",
        "아래 코드의 실행 결과를 예상해보세요.\n",
        "\n",
        "lang = 'python'\n",
        "\n",
        "lang[0] = 'P'\n",
        "\n",
        "print(lang)"
      ],
      "metadata": {
        "id": "jWsR2qnBAlbp"
      }
    },
    {
      "cell_type": "code",
      "source": [],
      "metadata": {
        "id": "Pf3PrAnrAnzJ"
      },
      "execution_count": null,
      "outputs": []
    },
    {
      "cell_type": "markdown",
      "source": [
        "029 replace 메서드\n",
        "\n",
        "아래 문자열에서 소문자 'a'를 대문자 'A'로 변경하세요.\n",
        "\n",
        "string = 'abcdfe2a354a32a'\n",
        "\n",
        "실행 예:\n",
        "Abcdfe2A354A32A"
      ],
      "metadata": {
        "id": "CZD993m0ApS7"
      }
    },
    {
      "cell_type": "code",
      "source": [],
      "metadata": {
        "id": "b9UngQ7_AqwY"
      },
      "execution_count": null,
      "outputs": []
    },
    {
      "cell_type": "markdown",
      "source": [
        "030 replace 메서드\n",
        "\n",
        "아래 코드의 실행 결과를 예상해보세요.\n",
        "\n",
        "string = 'abcd'\n",
        "\n",
        "string.replace('b', 'B')\n",
        "\n",
        "print(string)"
      ],
      "metadata": {
        "id": "IbmmSIKYAtFK"
      }
    },
    {
      "cell_type": "code",
      "source": [],
      "metadata": {
        "id": "kHOYGRqbAvpY"
      },
      "execution_count": null,
      "outputs": []
    },
    {
      "cell_type": "markdown",
      "source": [
        "031 문자열 합치기\n",
        "\n",
        "아래 코드의 실행 결과를 예상해보세요.\n",
        "\n",
        "a = \"3\"\n",
        "\n",
        "b = \"4\"\n",
        "\n",
        "print(a + b)"
      ],
      "metadata": {
        "id": "18C7LDeWA8sI"
      }
    },
    {
      "cell_type": "code",
      "source": [],
      "metadata": {
        "id": "ghPxiuCqBAe_"
      },
      "execution_count": null,
      "outputs": []
    },
    {
      "cell_type": "markdown",
      "source": [
        "032 문자열 곱하기\n",
        "\n",
        "아래 코드의 실행 결과를 예상해보세요.\n",
        "\n",
        "print(\"Hi\" * 3)"
      ],
      "metadata": {
        "id": "vAVr6c5xBBLt"
      }
    },
    {
      "cell_type": "code",
      "source": [],
      "metadata": {
        "id": "VbZOMVvdBDF3"
      },
      "execution_count": null,
      "outputs": []
    },
    {
      "cell_type": "markdown",
      "source": [
        "033 문자열 곱하기\n",
        "\n",
        "화면에 '-'를 80개 출력하세요.\n",
        "\n",
        "실행 예:--------------------------------------------------------------------------------"
      ],
      "metadata": {
        "id": "mKTQa9FnBEfe"
      }
    },
    {
      "cell_type": "code",
      "source": [],
      "metadata": {
        "id": "l_mp0dqdBFDf"
      },
      "execution_count": null,
      "outputs": []
    },
    {
      "cell_type": "markdown",
      "source": [
        "034 문자열 곱하기\n",
        "\n",
        "변수에 다음과 같은 문자열이 바인딩되어 있습니다.\n",
        "\n",
        "t1 = 'python'\n",
        "\n",
        "t2 = 'java'\n",
        "\n",
        "변수에 문자열 더하기와 문자열 곱하기를 사용해서 아래와 같이 출력해보세요.\n",
        "\n",
        "실행 예:\n",
        "python java python java python java python java"
      ],
      "metadata": {
        "id": "VEIQdQhzBI2x"
      }
    },
    {
      "cell_type": "code",
      "source": [],
      "metadata": {
        "id": "S7-3_rA8BK5X"
      },
      "execution_count": null,
      "outputs": []
    },
    {
      "cell_type": "markdown",
      "source": [
        "035 문자열 출력\n",
        "\n",
        "변수에 다음과 같이 문자열과 정수가 정의되어 있을 때 다음과 같이 출력해보세요.\n",
        "\n",
        "name1 = \"김민수\" \n",
        "\n",
        "age1 = 10\n",
        "\n",
        "name2 = \"이철희\"\n",
        "\n",
        "age2 = 13\n",
        "\n",
        "이름: 김민수 나이: 10\n",
        "\n",
        "이름: 이철희 나이: 13"
      ],
      "metadata": {
        "id": "bekRwoDRBMxI"
      }
    },
    {
      "cell_type": "code",
      "source": [],
      "metadata": {
        "id": "_T4ZI6pTBOK3"
      },
      "execution_count": null,
      "outputs": []
    },
    {
      "cell_type": "markdown",
      "source": [
        "036 문자열 출력\n",
        "\n",
        "문자열의 format( ) 메서드를 사용해서 035번 문제를 다시 풀어보세요.\n",
        "\n",
        "힌트: print(\"{} {}\".format(A,B))"
      ],
      "metadata": {
        "id": "D5sIawkGBWsO"
      }
    },
    {
      "cell_type": "code",
      "source": [],
      "metadata": {
        "id": "Kuu7vwhJBfZu"
      },
      "execution_count": null,
      "outputs": []
    },
    {
      "cell_type": "markdown",
      "source": [
        "037 문자열 출력\n",
        "\n",
        "파이썬 3.6부터 지원하는 f-string을 사용해서 035번 문제를 다시 풀어보세요.\n",
        "\n",
        "힌트: print(f\"{A}\")"
      ],
      "metadata": {
        "id": "jixFrYx7BhGI"
      }
    },
    {
      "cell_type": "code",
      "source": [],
      "metadata": {
        "id": "kGEXZz2_Bmid"
      },
      "execution_count": null,
      "outputs": []
    },
    {
      "cell_type": "markdown",
      "source": [
        "038 컴마 제거하기\n",
        "\n",
        "삼성전자의 상장주식수가 다음과 같습니다. 컴마를 제거한 후 이를 정수 타입으로 변환해보세요.\n",
        "\n",
        "samsung = \"5,969,782,550\""
      ],
      "metadata": {
        "id": "E1FyE4zEBokK"
      }
    },
    {
      "cell_type": "code",
      "source": [],
      "metadata": {
        "id": "iZ_IsOn9BpGu"
      },
      "execution_count": null,
      "outputs": []
    },
    {
      "cell_type": "markdown",
      "source": [
        "039 문자열 슬라이싱\n",
        "\n",
        "다음과 같은 문자열에서 '2020/03'만 출력하세요.\n",
        "\n",
        "test = \"2020/03(E) (IFRS연결)\""
      ],
      "metadata": {
        "id": "r7grcX6hBqjI"
      }
    },
    {
      "cell_type": "code",
      "source": [],
      "metadata": {
        "id": "JFjuBdSYBrIm"
      },
      "execution_count": null,
      "outputs": []
    },
    {
      "cell_type": "markdown",
      "source": [
        "040 strip 메서드 (어려움)\n",
        "\n",
        "문자열의 좌우의 공백이 있을 때 이를 제거해보세요."
      ],
      "metadata": {
        "id": "ar947YsdB0ek"
      }
    },
    {
      "cell_type": "code",
      "source": [
        "data = \"   삼성전자    \"\n",
        "\n"
      ],
      "metadata": {
        "id": "BYDEySZSB1t8"
      },
      "execution_count": null,
      "outputs": []
    },
    {
      "cell_type": "markdown",
      "source": [
        "041 upper 메서드\n",
        "\n",
        "다음과 같은 문자열이 있을 때 이를 대문자 BTC_KRW로 변경하세요.\n",
        "\n",
        "ticker = \"btc_krw\""
      ],
      "metadata": {
        "id": "YZ-04VmDB6z9"
      }
    },
    {
      "cell_type": "code",
      "source": [],
      "metadata": {
        "id": "q4Rekdl-B8uc"
      },
      "execution_count": null,
      "outputs": []
    },
    {
      "cell_type": "markdown",
      "source": [
        "042 lower 메서드\n",
        "\n",
        "다음과 같은 문자열이 있을 때 이를 소문자 btc_krw로 변경하세요.\n",
        "\n",
        "ticker = \"BTC_KRW\""
      ],
      "metadata": {
        "id": "345aTLbJB97a"
      }
    },
    {
      "cell_type": "code",
      "source": [],
      "metadata": {
        "id": "5BUc-KeKB-Rs"
      },
      "execution_count": null,
      "outputs": []
    },
    {
      "cell_type": "markdown",
      "source": [
        "043 capitalize 메서드\n",
        "\n",
        "문자열 'hello'가 있을 때 이를 'Hello'로 변경해보세요."
      ],
      "metadata": {
        "id": "z4sGFQ23CAHz"
      }
    },
    {
      "cell_type": "code",
      "source": [],
      "metadata": {
        "id": "1bAwX3Y2CAgU"
      },
      "execution_count": null,
      "outputs": []
    },
    {
      "cell_type": "markdown",
      "source": [
        "044 endswith 메서드\n",
        "\n",
        "파일 이름이 문자열로 저장되어 있을 때 endswith 메서드를 사용해서 파일 이름이 'xlsx'로 끝나는지 확인해보세요.\n",
        "\n",
        "file_name = \"보고서.xlsx\""
      ],
      "metadata": {
        "id": "QLjvIbzDCBmg"
      }
    },
    {
      "cell_type": "code",
      "source": [],
      "metadata": {
        "id": "jtc5IO2lCCMs"
      },
      "execution_count": null,
      "outputs": []
    },
    {
      "cell_type": "markdown",
      "source": [
        "045 endswith 메서드\n",
        "\n",
        "파일 이름이 문자열로 저장되어 있을 때 endswith 메서드를 사용해서 파일 이름이 'xlsx' 또는 'xls'로 끝나는지 확인해보세요.\n",
        "\n",
        "file_name = \"보고서.xlsx\""
      ],
      "metadata": {
        "id": "3emNA_DXCEB_"
      }
    },
    {
      "cell_type": "code",
      "source": [],
      "metadata": {
        "id": "PYuqDl4HCElE"
      },
      "execution_count": null,
      "outputs": []
    },
    {
      "cell_type": "markdown",
      "source": [
        "046 startswith 메서드\n",
        "\n",
        "파일 이름이 문자열로 저장되어 있을 때 startswith 메서드를 사용해서 파일 이름이 '2020'로 시작하는지 확인해보세요.\n",
        "\n",
        "file_name = \"2020_보고서.xlsx\""
      ],
      "metadata": {
        "id": "TfPmAwe-CGJG"
      }
    },
    {
      "cell_type": "code",
      "source": [],
      "metadata": {
        "id": "7IpdVYo_CF9K"
      },
      "execution_count": null,
      "outputs": []
    },
    {
      "cell_type": "markdown",
      "source": [
        "047 split 메서드\n",
        "\n",
        "다음과 같은 문자열이 있을 때 공백을 기준으로 문자열을 나눠보세요.\n",
        "\n",
        "a = \"hello world\""
      ],
      "metadata": {
        "id": "3UHSwbefCIdf"
      }
    },
    {
      "cell_type": "code",
      "source": [],
      "metadata": {
        "id": "FLS0fuK6CJB0"
      },
      "execution_count": null,
      "outputs": []
    },
    {
      "cell_type": "markdown",
      "source": [
        "048 split 메서드\n",
        "\n",
        "다음과 같이 문자열이 있을 때 btc와 krw로 나눠보세요.\n",
        "\n",
        "ticker = \"btc_krw\""
      ],
      "metadata": {
        "id": "AjZlV44oCKOh"
      }
    },
    {
      "cell_type": "code",
      "source": [],
      "metadata": {
        "id": "M8bfeOKqCKxc"
      },
      "execution_count": null,
      "outputs": []
    },
    {
      "cell_type": "markdown",
      "source": [
        "049 split 메서드\n",
        "\n",
        "다음과 같이 날짜를 표현하는 문자열이 있을 때 연도, 월, 일로 나눠보세요.\n",
        "\n",
        "date = \"2020-05-01\""
      ],
      "metadata": {
        "id": "OW_jtlB-CL8O"
      }
    },
    {
      "cell_type": "code",
      "source": [],
      "metadata": {
        "id": "ArC5aJR2CMPk"
      },
      "execution_count": null,
      "outputs": []
    },
    {
      "cell_type": "markdown",
      "source": [
        "050 rstrip 메서드\n",
        "\n",
        "문자열의 오른쪽에 공백이 있을 때 이를 제거해보세요."
      ],
      "metadata": {
        "id": "JJcYbjvMCOin"
      }
    },
    {
      "cell_type": "code",
      "source": [
        "data = \"039490     \"\n"
      ],
      "metadata": {
        "id": "rKzbal4tCO_r"
      },
      "execution_count": null,
      "outputs": []
    }
  ]
}