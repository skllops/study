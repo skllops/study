{
  "nbformat": 4,
  "nbformat_minor": 0,
  "metadata": {
    "colab": {
      "name": "Graph.ipynb",
      "private_outputs": true,
      "provenance": [],
      "collapsed_sections": []
    },
    "kernelspec": {
      "name": "python3",
      "display_name": "Python 3"
    },
    "language_info": {
      "name": "python"
    }
  },
  "cells": [
    {
      "cell_type": "code",
      "source": [
        "!sudo apt-get install -y fonts-nanum\n",
        "!sudo fc-cache -fv\n",
        "!rm ~/.cache/matplotlib -rf"
      ],
      "metadata": {
        "id": "BwLdhankMcdA"
      },
      "execution_count": null,
      "outputs": []
    },
    {
      "cell_type": "code",
      "execution_count": null,
      "metadata": {
        "id": "Cgl8rfrKEZZZ"
      },
      "outputs": [],
      "source": [
        "# 코랩에서 그래프 안나오는 경우 써야함\n",
        "%matplotlib inline \n",
        "# 데이터 처리 \n",
        "import pandas as pd\n",
        "\n",
        "# 행렬 연산 \n",
        "import numpy as nd\n",
        "\n",
        "# 데이터 시각화\n",
        "import matplotlib\n",
        "import matplotlib.pyplot as plt\n",
        "\n",
        "# 경고 메시지 무시\n",
        "import warnings\n"
      ]
    },
    {
      "cell_type": "code",
      "source": [
        "# 글꼴 설정\n",
        "plt.rc('font', family='NanumBarunGothic') \n",
        "\n",
        "# 실행결과 경고메시지 출력 제외\n",
        "warnings.filterwarnings('ignore')"
      ],
      "metadata": {
        "id": "PRv1qOQvEq3j"
      },
      "execution_count": null,
      "outputs": []
    },
    {
      "cell_type": "code",
      "source": [
        "# 데이터 출처 https://www.culture.go.kr/bigdata/user/main.do\n",
        "\n",
        "health_data = pd.read_csv(\"./health.csv\", encoding=\"UTF-8\")\n",
        "\n",
        "# 상위 5개만 보겠다.\n",
        "health_data.head(5)"
      ],
      "metadata": {
        "id": "iHLvvKV-FCQ1"
      },
      "execution_count": null,
      "outputs": []
    },
    {
      "cell_type": "code",
      "source": [
        "# Bar Chart\n",
        "health_count = health_data[\"AGRDE_FLAG_NM\"].value_counts() \n",
        "health_count.plot.bar()"
      ],
      "metadata": {
        "id": "o6iEnoJXIFHy"
      },
      "execution_count": null,
      "outputs": []
    },
    {
      "cell_type": "code",
      "source": [
        "# histogram\n",
        "plt.hist(health_data['MESURE_AGE_CO'],color=\"red\")"
      ],
      "metadata": {
        "id": "XVN0gJSAIZ6h"
      },
      "execution_count": null,
      "outputs": []
    },
    {
      "cell_type": "code",
      "source": [
        "# 아래 그릴 내용의 상세 정보\n",
        "health_data[health_data[\"SEXDSTN_FLAG_CD\"] == \"M\"][\"AGRDE_FLAG_NM\"]"
      ],
      "metadata": {
        "id": "LCHbVOXSOP7h"
      },
      "execution_count": null,
      "outputs": []
    },
    {
      "cell_type": "code",
      "source": [
        "# 1행 2열의 histogram 그래프 그리기\n",
        "\n",
        "fig, (ax0, ax1) = plt.subplots(nrows =1, ncols = 2)\n",
        "x1 = health_data[health_data[\"SEXDSTN_FLAG_CD\"] == \"M\"][\"AGRDE_FLAG_NM\"] # 남성의 각 연령대 몇명\n",
        "x2 = health_data[health_data[\"SEXDSTN_FLAG_CD\"] == \"F\"][\"AGRDE_FLAG_NM\"] # 여성의 각 연령대 몇명 \n",
        "ax0.hist(x1, histtype = 'bar', color = 'blue') \n",
        "ax1.hist(x2, histtype = 'bar', color= 'red' )\n",
        "ax0.legend('남성') #그래프의 색깔설명\n",
        "ax1.legend('여성') #그래프의 색깔설명\n",
        "plt.show()"
      ],
      "metadata": {
        "id": "mIjeaIdGM8a1"
      },
      "execution_count": null,
      "outputs": []
    },
    {
      "cell_type": "code",
      "source": [
        "# histogram 중첩그래프 그리기 \n",
        "# alpha 투명도\n",
        "plt.hist( health_data[health_data[\"SEXDSTN_FLAG_CD\"] == \"M\"][\"AGRDE_FLAG_NM\"],label = \"남성\", alpha = 0.5, color=\"blue\")\n",
        "plt.hist( health_data[health_data[\"SEXDSTN_FLAG_CD\"] == \"F\"][\"AGRDE_FLAG_NM\"],label = \"여성\", alpha = 0.5, color=\"red\")\n",
        "plt.legend()"
      ],
      "metadata": {
        "id": "M1HTGEDyNmsW"
      },
      "execution_count": null,
      "outputs": []
    },
    {
      "cell_type": "code",
      "source": [
        "# Box plot\n",
        "# 남자, 여자에 따른 나이분포 보기\n",
        "health_data.boxplot(column=\"MESURE_AGE_CO\", by = [\"SEXDSTN_FLAG_CD\"])"
      ],
      "metadata": {
        "id": "RPFagspkPHHA"
      },
      "execution_count": null,
      "outputs": []
    },
    {
      "cell_type": "code",
      "source": [
        "# Pie Chart 그리기\n",
        "health_count = health_data.groupby([\"SEXDSTN_FLAG_CD\"] ).size()\n",
        "health_count"
      ],
      "metadata": {
        "id": "PDVsgOVyPneM"
      },
      "execution_count": null,
      "outputs": []
    },
    {
      "cell_type": "code",
      "source": [
        "# matplotlib 활용 (데이터, labels=레이블 변수 지정, autopct=비율 %로 표시)\n",
        "plt.pie(health_count, labels = health_count.index, autopct=\"%.1f%%\")"
      ],
      "metadata": {
        "id": "0A4usa2eP5jb"
      },
      "execution_count": null,
      "outputs": []
    },
    {
      "cell_type": "code",
      "source": [
        "# Scatter plot # Age에 따른 신장cm\n",
        "plt.scatter(x=health_data['MESURE_AGE_CO'], y=health_data['MESURE_IEM_001_VALUE'])"
      ],
      "metadata": {
        "id": "d95HbIMbSmbA"
      },
      "execution_count": null,
      "outputs": []
    },
    {
      "cell_type": "code",
      "source": [
        "# y축 범위 제한 (150cm ~ 200cm)\n",
        "plt.scatter(x=health_data['MESURE_AGE_CO'], y=health_data['MESURE_IEM_001_VALUE'])\n",
        "plt.ylim([150, 200]) "
      ],
      "metadata": {
        "id": "6qGCe51tUM_8"
      },
      "execution_count": null,
      "outputs": []
    },
    {
      "cell_type": "code",
      "source": [
        "# 임의의 데이터로 Trend Chart 그리기\n",
        "x_values = ['2018년', '2019년', '2020년', '2021년', '2022년']\t# x축 지점의 값들\n",
        "y_values = [0, 1, 4, 9, 16]\t# y축 지점의 값들\n",
        "plt.plot(x_values, y_values)\t# line 그래프를 그립니다\n",
        "plt.show()"
      ],
      "metadata": {
        "id": "qjz4BaZ7UdGq"
      },
      "execution_count": null,
      "outputs": []
    },
    {
      "cell_type": "code",
      "source": [
        "age_height= health_data[['MESURE_AGE_CO','MESURE_IEM_001_VALUE']]\n",
        "print(age_height)\n",
        "import matplotlib.pyplot as plt \n",
        "import seaborn as sns    \n",
        "plt.figure(figsize=(5,5))\n",
        "            #data = 두 변수 사이의 상관계수, annot가 있어야 히트맵위에 수치가 나타남, cmap은 어떤 종류의 색상으로 그릴거냐\n",
        "sns.heatmap(data = age_height.corr(), annot=True, cmap='Blues')"
      ],
      "metadata": {
        "id": "zAHW_2rbVoZk"
      },
      "execution_count": null,
      "outputs": []
    },
    {
      "cell_type": "code",
      "source": [
        ""
      ],
      "metadata": {
        "id": "abka1LgaV_v8"
      },
      "execution_count": null,
      "outputs": []
    }
  ]
}