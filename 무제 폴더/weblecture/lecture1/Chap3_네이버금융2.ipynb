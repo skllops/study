{
 "cells": [
  {
   "cell_type": "code",
   "execution_count": 7,
   "metadata": {},
   "outputs": [
    {
     "name": "stdout",
     "output_type": "stream",
     "text": [
      "['38,150', '518,000']\n"
     ]
    }
   ],
   "source": [
    "import requests\n",
    "from bs4 import BeautifulSoup\n",
    "\n",
    "codes = ['096530', '010130'] # 종목코드 리스트\n",
    "prices = [] # 가격정보가 담길 리스트\n",
    "\n",
    "for code in codes:\n",
    "    # 종목별 사이트\n",
    "    url = 'https://finance.naver.com/item/main.nhn?code=' + code\n",
    "    # url 요청\n",
    "    response = requests.get(url)\n",
    "    # 페이지요소 긁어오기\n",
    "    html = response.text\n",
    "    # 파싱\n",
    "    soup = BeautifulSoup(html, 'html.parser')\n",
    "    # 현재 가격 영역\n",
    "    today = soup.select_one('#chart_area > div.rate_info > div')\n",
    "    #print(today)\n",
    "    # 가격 부분 선택\n",
    "    price = today.select_one('.blind')\n",
    "    prices.append(price.get_text())\n",
    "print(prices)"
   ]
  }
 ],
 "metadata": {
  "kernelspec": {
   "display_name": "Python 3.9.7 ('base')",
   "language": "python",
   "name": "python3"
  },
  "language_info": {
   "codemirror_mode": {
    "name": "ipython",
    "version": 3
   },
   "file_extension": ".py",
   "mimetype": "text/x-python",
   "name": "python",
   "nbconvert_exporter": "python",
   "pygments_lexer": "ipython3",
   "version": "3.9.7"
  },
  "orig_nbformat": 4,
  "vscode": {
   "interpreter": {
    "hash": "16f5b46f222e2a3e8d4adbf7141cae37b71ed37616e60735fa5d1164a1bc3ada"
   }
  }
 },
 "nbformat": 4,
 "nbformat_minor": 2
}
