{
 "cells": [
  {
   "cell_type": "code",
   "execution_count": 1,
   "metadata": {},
   "outputs": [
    {
     "data": {
      "text/plain": [
       "<Response [200]>"
      ]
     },
     "execution_count": 1,
     "metadata": {},
     "output_type": "execute_result"
    }
   ],
   "source": [
    "import requests\n",
    "from bs4 import BeautifulSoup\n",
    "\n",
    "# openpyxl은 파이썬에서 엑셀을 다루는 것을 쉽게 해주는 도구\n",
    "from openpyxl import Workbook\n",
    "\n",
    "# 네이버 파이낸셜 사이트\n",
    "url = 'https://finance.naver.com/'\n",
    "\n",
    "# url 요청\n",
    "response = requests.get(url)\n",
    "response\n",
    "# 200이면 성공"
   ]
  },
  {
   "cell_type": "code",
   "execution_count": null,
   "metadata": {},
   "outputs": [],
   "source": [
    "# 해당 url의 정보 모두 텍스트 형태로 가져옴\n",
    "html = response.text \n",
    "html"
   ]
  },
  {
   "cell_type": "code",
   "execution_count": null,
   "metadata": {},
   "outputs": [],
   "source": [
    "# HTML의 요소별로 파싱시켜줌\n",
    "soup = BeautifulSoup(html, 'html.parser')\n",
    "soup"
   ]
  },
  {
   "cell_type": "code",
   "execution_count": 4,
   "metadata": {},
   "outputs": [
    {
     "data": {
      "text/plain": [
       "<tbody>\n",
       "<tr class=\"down\">\n",
       "<th scope=\"row\"><em>1.</em><a href=\"/item/main.naver?code=005930\" onclick=\"clickcr(this, 'boa.list', '005930', '1', event);\">삼성전자</a></th>\n",
       "<td>60,500</td>\n",
       "<td> <img alt=\"하락\" height=\"6\" src=\"https://ssl.pstatic.net/imgstock/images/images4/ico_down.gif\" style=\"margin-right:4px;\" width=\"7\"/><span class=\"tah p11 nv01\"> 1,400 </span> </td>\n",
       "</tr>\n",
       "<tr class=\"down\">\n",
       "<th scope=\"row\"><em>2.</em><a href=\"/item/main.naver?code=352820\" onclick=\"clickcr(this, 'boa.list', '352820', '2', event);\">하이브</a></th>\n",
       "<td>148,000</td>\n",
       "<td> <img alt=\"하락\" height=\"6\" src=\"https://ssl.pstatic.net/imgstock/images/images4/ico_down.gif\" style=\"margin-right:4px;\" width=\"7\"/><span class=\"tah p11 nv01\"> 45,000 </span> </td>\n",
       "</tr>\n",
       "<tr class=\"down\">\n",
       "<th scope=\"row\"><em>3.</em><a href=\"/item/main.naver?code=000660\" onclick=\"clickcr(this, 'boa.list', '000660', '3', event);\">SK하이닉스</a></th>\n",
       "<td>97,100</td>\n",
       "<td> <img alt=\"하락\" height=\"6\" src=\"https://ssl.pstatic.net/imgstock/images/images4/ico_down.gif\" style=\"margin-right:4px;\" width=\"7\"/><span class=\"tah p11 nv01\"> 2,000 </span> </td>\n",
       "</tr>\n",
       "<tr class=\"down\">\n",
       "<th scope=\"row\"><em>4.</em><a href=\"/item/main.naver?code=035420\" onclick=\"clickcr(this, 'boa.list', '035420', '4', event);\">NAVER</a></th>\n",
       "<td>242,000</td>\n",
       "<td> <img alt=\"하락\" height=\"6\" src=\"https://ssl.pstatic.net/imgstock/images/images4/ico_down.gif\" style=\"margin-right:4px;\" width=\"7\"/><span class=\"tah p11 nv01\"> 11,000 </span> </td>\n",
       "</tr>\n",
       "<tr class=\"down\">\n",
       "<th scope=\"row\"><em>5.</em><a href=\"/item/main.naver?code=035720\" onclick=\"clickcr(this, 'boa.list', '035720', '5', event);\">카카오</a></th>\n",
       "<td>72,400</td>\n",
       "<td> <img alt=\"하락\" height=\"6\" src=\"https://ssl.pstatic.net/imgstock/images/images4/ico_down.gif\" style=\"margin-right:4px;\" width=\"7\"/><span class=\"tah p11 nv01\"> 4,200 </span> </td>\n",
       "</tr>\n",
       "</tbody>"
      ]
     },
     "execution_count": 4,
     "metadata": {},
     "output_type": "execute_result"
    }
   ],
   "source": [
    "# 인기검색종목의 테이블 안의 요소를 가져옴\n",
    "# #container > div.aside > div > div.aside_area.aside_popular > table > tbody\n",
    "tbody = soup.select_one('#container > div.aside > div.group_aside > div.aside_area.aside_popular > table > tbody')\n",
    "print(tbody)"
   ]
  },
  {
   "cell_type": "code",
   "execution_count": 5,
   "metadata": {},
   "outputs": [
    {
     "data": {
      "text/plain": [
       "[<tr class=\"down\">\n",
       " <th scope=\"row\"><em>1.</em><a href=\"/item/main.naver?code=005930\" onclick=\"clickcr(this, 'boa.list', '005930', '1', event);\">삼성전자</a></th>\n",
       " <td>60,500</td>\n",
       " <td> <img alt=\"하락\" height=\"6\" src=\"https://ssl.pstatic.net/imgstock/images/images4/ico_down.gif\" style=\"margin-right:4px;\" width=\"7\"/><span class=\"tah p11 nv01\"> 1,400 </span> </td>\n",
       " </tr>,\n",
       " <tr class=\"down\">\n",
       " <th scope=\"row\"><em>2.</em><a href=\"/item/main.naver?code=352820\" onclick=\"clickcr(this, 'boa.list', '352820', '2', event);\">하이브</a></th>\n",
       " <td>148,000</td>\n",
       " <td> <img alt=\"하락\" height=\"6\" src=\"https://ssl.pstatic.net/imgstock/images/images4/ico_down.gif\" style=\"margin-right:4px;\" width=\"7\"/><span class=\"tah p11 nv01\"> 45,000 </span> </td>\n",
       " </tr>,\n",
       " <tr class=\"down\">\n",
       " <th scope=\"row\"><em>3.</em><a href=\"/item/main.naver?code=000660\" onclick=\"clickcr(this, 'boa.list', '000660', '3', event);\">SK하이닉스</a></th>\n",
       " <td>97,100</td>\n",
       " <td> <img alt=\"하락\" height=\"6\" src=\"https://ssl.pstatic.net/imgstock/images/images4/ico_down.gif\" style=\"margin-right:4px;\" width=\"7\"/><span class=\"tah p11 nv01\"> 2,000 </span> </td>\n",
       " </tr>,\n",
       " <tr class=\"down\">\n",
       " <th scope=\"row\"><em>4.</em><a href=\"/item/main.naver?code=035420\" onclick=\"clickcr(this, 'boa.list', '035420', '4', event);\">NAVER</a></th>\n",
       " <td>242,000</td>\n",
       " <td> <img alt=\"하락\" height=\"6\" src=\"https://ssl.pstatic.net/imgstock/images/images4/ico_down.gif\" style=\"margin-right:4px;\" width=\"7\"/><span class=\"tah p11 nv01\"> 11,000 </span> </td>\n",
       " </tr>,\n",
       " <tr class=\"down\">\n",
       " <th scope=\"row\"><em>5.</em><a href=\"/item/main.naver?code=035720\" onclick=\"clickcr(this, 'boa.list', '035720', '5', event);\">카카오</a></th>\n",
       " <td>72,400</td>\n",
       " <td> <img alt=\"하락\" height=\"6\" src=\"https://ssl.pstatic.net/imgstock/images/images4/ico_down.gif\" style=\"margin-right:4px;\" width=\"7\"/><span class=\"tah p11 nv01\"> 4,200 </span> </td>\n",
       " </tr>]"
      ]
     },
     "execution_count": 5,
     "metadata": {},
     "output_type": "execute_result"
    }
   ],
   "source": [
    "# tr 요소 영역만을 선택 안에는 (th td가 포함되어 있다.)\n",
    "trs = tbody.select('tr')\n",
    "print(trs)"
   ]
  },
  {
   "cell_type": "code",
   "execution_count": 10,
   "metadata": {},
   "outputs": [
    {
     "name": "stdout",
     "output_type": "stream",
     "text": [
      "삼성전자\n",
      "하이브\n",
      "SK하이닉스\n",
      "NAVER\n",
      "카카오\n"
     ]
    }
   ],
   "source": [
    "for tr in trs:\n",
    "    print(tr.select_one('th > a').get_text())"
   ]
  },
  {
   "cell_type": "code",
   "execution_count": 15,
   "metadata": {},
   "outputs": [
    {
     "name": "stdout",
     "output_type": "stream",
     "text": [
      "60500\n",
      "148000\n",
      "97100\n",
      "242000\n",
      "72400\n"
     ]
    }
   ],
   "source": [
    "for tr in trs:\n",
    "    result = tr.select_one('td').get_text()\n",
    "    print(result.replace(\",\", \"\"))"
   ]
  },
  {
   "cell_type": "code",
   "execution_count": 17,
   "metadata": {},
   "outputs": [
    {
     "name": "stdout",
     "output_type": "stream",
     "text": [
      "down\n",
      "down\n",
      "down\n",
      "down\n",
      "down\n"
     ]
    }
   ],
   "source": [
    "for tr in trs:\n",
    "    #tr은 셀리니움 요소라서 class를 키로 항목값을 가져올 수 있음\n",
    "    print(tr['class'][0])"
   ]
  },
  {
   "cell_type": "code",
   "execution_count": 27,
   "metadata": {},
   "outputs": [
    {
     "name": "stdout",
     "output_type": "stream",
     "text": [
      " 1,700 \n",
      " 1,650 \n",
      " 150 \n",
      " 3,600 \n",
      " 4,500 \n"
     ]
    }
   ],
   "source": [
    "for tr in trs:\n",
    "    print(tr.select_one('td > span').get_text())"
   ]
  },
  {
   "cell_type": "code",
   "execution_count": 18,
   "metadata": {},
   "outputs": [],
   "source": [
    "datas = []\n",
    "for tr in trs:\n",
    "    name = tr.select_one('th > a').get_text()\n",
    "    current_price = tr.select_one('td').get_text() \n",
    "    change_direction = tr['class'][0]\n",
    "    change_price = tr.select_one('td > span').get_text()\n",
    "    datas.append([name, current_price, change_direction, change_price])\n",
    "\n",
    "# Workbook 엑셀 파일 객체\n",
    "write_wb = Workbook()\n",
    "\n",
    "# 엑셀 내 시트 만들기\n",
    "write_ws = write_wb.create_sheet('결과')\n",
    "\n",
    "# datas 요소를 행씩 append함 (행방향으로 데이터가 쌓임)\n",
    "for data in datas:\n",
    "    write_ws.append(data)\n",
    "\n",
    "write_wb.save(r'./결과.xlsx')"
   ]
  },
  {
   "cell_type": "code",
   "execution_count": null,
   "metadata": {},
   "outputs": [],
   "source": [
    "import requests\n",
    "from bs4 import BeautifulSoup\n",
    "\n",
    "# openpyxl은 파이썬에서 엑셀을 다루는 것을 쉽게 해주는 도구\n",
    "from openpyxl import Workbook\n",
    "\n",
    "# 네이버 파이낸셜 사이트\n",
    "url = 'https://finance.naver.com/'\n",
    "\n",
    "# url 요청\n",
    "response = requests.get(url)\n",
    "response\n",
    "# 200이면 성공"
   ]
  },
  {
   "cell_type": "code",
   "execution_count": null,
   "metadata": {},
   "outputs": [],
   "source": [
    "# 해당 url의 정보 모두 텍스트 형태로 가져옴\n",
    "html = response.text \n",
    "html"
   ]
  },
  {
   "cell_type": "code",
   "execution_count": null,
   "metadata": {},
   "outputs": [],
   "source": [
    "# HTML의 요소별로 파싱시켜줌\n",
    "soup = BeautifulSoup(html, 'html.parser')\n",
    "soup"
   ]
  },
  {
   "cell_type": "code",
   "execution_count": 53,
   "metadata": {},
   "outputs": [
    {
     "data": {
      "text/plain": [
       "<tbody id=\"_topItems1\">\n",
       "<tr class=\"up\">\n",
       "<th scope=\"row\"><a href=\"/item/main.naver?code=252670\" onclick=\"clickcr(this, 'spe.slist', '252670', '1', event);\">KODEX 200선물인버스2X</a></th>\n",
       "<td>3,075</td>\n",
       "<td><em class=\"bu_p bu_pup\"><span class=\"blind\">상승</span></em> 115</td>\n",
       "<td> <em class=\"up\"> +3.89% </em> </td>\n",
       "</tr>\n",
       "<tr class=\"up\">\n",
       "<th scope=\"row\"><a href=\"/item/main.naver?code=102280\" onclick=\"clickcr(this, 'spe.slist', '102280', '2', event);\">쌍방울</a></th>\n",
       "<td>835</td>\n",
       "<td><em class=\"bu_p bu_pup\"><span class=\"blind\">상승</span></em> 103</td>\n",
       "<td> <em class=\"up\"> +14.07% </em> </td>\n",
       "</tr>\n",
       "<tr class=\"down\">\n",
       "<th scope=\"row\"><a href=\"/item/main.naver?code=007460\" onclick=\"clickcr(this, 'spe.slist', '007460', '3', event);\">에이프로젠 MED</a></th>\n",
       "<td>1,905</td>\n",
       "<td><em class=\"bu_p bu_pdn\"><span class=\"blind\">하락</span></em> 15</td>\n",
       "<td> <em class=\"down\"> -0.78% </em> </td>\n",
       "</tr>\n",
       "<tr class=\"up\">\n",
       "<th scope=\"row\"><a href=\"/item/main.naver?code=246690\" onclick=\"clickcr(this, 'spe.slist', '246690', '4', event);\">TS인베스트먼트</a></th>\n",
       "<td>3,290</td>\n",
       "<td><em class=\"bu_p bu_pup\"><span class=\"blind\">상승</span></em> 440</td>\n",
       "<td> <em class=\"up\"> +15.44% </em> </td>\n",
       "</tr>\n",
       "<tr class=\"up\">\n",
       "<th scope=\"row\"><a href=\"/item/main.naver?code=005860\" onclick=\"clickcr(this, 'spe.slist', '005860', '5', event);\">한일사료</a></th>\n",
       "<td>9,930</td>\n",
       "<td><em class=\"bu_p bu_pup\"><span class=\"blind\">상승</span></em> 1,130</td>\n",
       "<td> <em class=\"up\"> +12.84% </em> </td>\n",
       "</tr>\n",
       "<tr class=\"up\">\n",
       "<th scope=\"row\"><a href=\"/item/main.naver?code=251340\" onclick=\"clickcr(this, 'spe.slist', '251340', '6', event);\">KODEX 코스닥150선물인버스</a></th>\n",
       "<td>5,030</td>\n",
       "<td><em class=\"bu_p bu_pup\"><span class=\"blind\">상승</span></em> 110</td>\n",
       "<td> <em class=\"up\"> +2.24% </em> </td>\n",
       "</tr>\n",
       "<tr class=\"up\">\n",
       "<th scope=\"row\"><a href=\"/item/main.naver?code=066410\" onclick=\"clickcr(this, 'spe.slist', '066410', '7', event);\">버킷스튜디오</a></th>\n",
       "<td>3,275</td>\n",
       "<td><em class=\"bu_p bu_pup\"><span class=\"blind\">상승</span></em> 25</td>\n",
       "<td> <em class=\"up\"> +0.77% </em> </td>\n",
       "</tr>\n",
       "<tr class=\"up\">\n",
       "<th scope=\"row\"><a href=\"/item/main.naver?code=500054\" onclick=\"clickcr(this, 'spe.slist', '500054', '8', event);\">신한 인버스 2X 천연가스 선물 ETN</a></th>\n",
       "<td>335</td>\n",
       "<td><em class=\"bu_p bu_pup\"><span class=\"blind\">상승</span></em> 65</td>\n",
       "<td> <em class=\"up\"> +24.07% </em> </td>\n",
       "</tr>\n",
       "<tr class=\"up\">\n",
       "<th scope=\"row\"><a href=\"/item/main.naver?code=114800\" onclick=\"clickcr(this, 'spe.slist', '114800', '9', event);\">KODEX 인버스</a></th>\n",
       "<td>4,820</td>\n",
       "<td><em class=\"bu_p bu_pup\"><span class=\"blind\">상승</span></em> 95</td>\n",
       "<td> <em class=\"up\"> +2.01% </em> </td>\n",
       "</tr>\n",
       "<tr class=\"down\">\n",
       "<th scope=\"row\"><a href=\"/item/main.naver?code=122630\" onclick=\"clickcr(this, 'spe.slist', '122630', '10', event);\">KODEX 레버리지</a></th>\n",
       "<td>15,665</td>\n",
       "<td><em class=\"bu_p bu_pdn\"><span class=\"blind\">하락</span></em> 615</td>\n",
       "<td> <em class=\"down\"> -3.78% </em> </td>\n",
       "</tr>\n",
       "<tr class=\"up\">\n",
       "<th scope=\"row\"><a href=\"/item/main.naver?code=016600\" onclick=\"clickcr(this, 'spe.slist', '016600', '11', event);\">큐캐피탈</a></th>\n",
       "<td>653</td>\n",
       "<td><em class=\"bu_p bu_pup\"><span class=\"blind\">상승</span></em> 35</td>\n",
       "<td> <em class=\"up\"> +5.66% </em> </td>\n",
       "</tr>\n",
       "<tr class=\"up\">\n",
       "<th scope=\"row\"><a href=\"/item/main.naver?code=014200\" onclick=\"clickcr(this, 'spe.slist', '014200', '12', event);\">광림</a></th>\n",
       "<td>2,195</td>\n",
       "<td><em class=\"bu_p bu_pup\"><span class=\"blind\">상승</span></em> 190</td>\n",
       "<td> <em class=\"up\"> +9.48% </em> </td>\n",
       "</tr>\n",
       "<tr class=\"up\">\n",
       "<th scope=\"row\"><a href=\"/item/main.naver?code=900110\" onclick=\"clickcr(this, 'spe.slist', '900110', '13', event);\">이스트아시아홀딩스</a></th>\n",
       "<td>274</td>\n",
       "<td><em class=\"bu_p bu_pup\"><span class=\"blind\">상승</span></em> 9</td>\n",
       "<td> <em class=\"up\"> +3.40% </em> </td>\n",
       "</tr>\n",
       "<tr class=\"down\">\n",
       "<th scope=\"row\"><a href=\"/item/main.naver?code=005930\" onclick=\"clickcr(this, 'spe.slist', '005930', '14', event);\">삼성전자</a></th>\n",
       "<td>60,500</td>\n",
       "<td><em class=\"bu_p bu_pdn\"><span class=\"blind\">하락</span></em> 1,400</td>\n",
       "<td> <em class=\"down\"> -2.26% </em> </td>\n",
       "</tr>\n",
       "<tr class=\"down\">\n",
       "<th scope=\"row\"><a href=\"/item/main.naver?code=065420\" onclick=\"clickcr(this, 'spe.slist', '065420', '15', event);\">에스아이리소스</a></th>\n",
       "<td>756</td>\n",
       "<td><em class=\"bu_p bu_pdn\"><span class=\"blind\">하락</span></em> 109</td>\n",
       "<td> <em class=\"down\"> -12.60% </em> </td>\n",
       "</tr>\n",
       "</tbody>"
      ]
     },
     "execution_count": 53,
     "metadata": {},
     "output_type": "execute_result"
    }
   ],
   "source": [
    "tbody = soup.select_one('#_topItems1')\n",
    "tbody"
   ]
  },
  {
   "cell_type": "code",
   "execution_count": 21,
   "metadata": {},
   "outputs": [
    {
     "data": {
      "text/plain": [
       "[<tr class=\"up\">\n",
       " <th scope=\"row\"><a href=\"/item/main.naver?code=252670\" onclick=\"clickcr(this, 'spe.slist', '252670', '1', event);\">KODEX 200선물인버스2X</a></th>\n",
       " <td>3,075</td>\n",
       " <td><em class=\"bu_p bu_pup\"><span class=\"blind\">상승</span></em> 115</td>\n",
       " <td> <em class=\"up\"> +3.89% </em> </td>\n",
       " </tr>,\n",
       " <tr class=\"up\">\n",
       " <th scope=\"row\"><a href=\"/item/main.naver?code=102280\" onclick=\"clickcr(this, 'spe.slist', '102280', '2', event);\">쌍방울</a></th>\n",
       " <td>835</td>\n",
       " <td><em class=\"bu_p bu_pup\"><span class=\"blind\">상승</span></em> 103</td>\n",
       " <td> <em class=\"up\"> +14.07% </em> </td>\n",
       " </tr>,\n",
       " <tr class=\"down\">\n",
       " <th scope=\"row\"><a href=\"/item/main.naver?code=007460\" onclick=\"clickcr(this, 'spe.slist', '007460', '3', event);\">에이프로젠 MED</a></th>\n",
       " <td>1,905</td>\n",
       " <td><em class=\"bu_p bu_pdn\"><span class=\"blind\">하락</span></em> 15</td>\n",
       " <td> <em class=\"down\"> -0.78% </em> </td>\n",
       " </tr>,\n",
       " <tr class=\"up\">\n",
       " <th scope=\"row\"><a href=\"/item/main.naver?code=246690\" onclick=\"clickcr(this, 'spe.slist', '246690', '4', event);\">TS인베스트먼트</a></th>\n",
       " <td>3,290</td>\n",
       " <td><em class=\"bu_p bu_pup\"><span class=\"blind\">상승</span></em> 440</td>\n",
       " <td> <em class=\"up\"> +15.44% </em> </td>\n",
       " </tr>,\n",
       " <tr class=\"up\">\n",
       " <th scope=\"row\"><a href=\"/item/main.naver?code=005860\" onclick=\"clickcr(this, 'spe.slist', '005860', '5', event);\">한일사료</a></th>\n",
       " <td>9,930</td>\n",
       " <td><em class=\"bu_p bu_pup\"><span class=\"blind\">상승</span></em> 1,130</td>\n",
       " <td> <em class=\"up\"> +12.84% </em> </td>\n",
       " </tr>,\n",
       " <tr class=\"up\">\n",
       " <th scope=\"row\"><a href=\"/item/main.naver?code=251340\" onclick=\"clickcr(this, 'spe.slist', '251340', '6', event);\">KODEX 코스닥150선물인버스</a></th>\n",
       " <td>5,030</td>\n",
       " <td><em class=\"bu_p bu_pup\"><span class=\"blind\">상승</span></em> 110</td>\n",
       " <td> <em class=\"up\"> +2.24% </em> </td>\n",
       " </tr>,\n",
       " <tr class=\"up\">\n",
       " <th scope=\"row\"><a href=\"/item/main.naver?code=066410\" onclick=\"clickcr(this, 'spe.slist', '066410', '7', event);\">버킷스튜디오</a></th>\n",
       " <td>3,275</td>\n",
       " <td><em class=\"bu_p bu_pup\"><span class=\"blind\">상승</span></em> 25</td>\n",
       " <td> <em class=\"up\"> +0.77% </em> </td>\n",
       " </tr>,\n",
       " <tr class=\"up\">\n",
       " <th scope=\"row\"><a href=\"/item/main.naver?code=500054\" onclick=\"clickcr(this, 'spe.slist', '500054', '8', event);\">신한 인버스 2X 천연가스 선물 ETN</a></th>\n",
       " <td>335</td>\n",
       " <td><em class=\"bu_p bu_pup\"><span class=\"blind\">상승</span></em> 65</td>\n",
       " <td> <em class=\"up\"> +24.07% </em> </td>\n",
       " </tr>,\n",
       " <tr class=\"up\">\n",
       " <th scope=\"row\"><a href=\"/item/main.naver?code=114800\" onclick=\"clickcr(this, 'spe.slist', '114800', '9', event);\">KODEX 인버스</a></th>\n",
       " <td>4,820</td>\n",
       " <td><em class=\"bu_p bu_pup\"><span class=\"blind\">상승</span></em> 95</td>\n",
       " <td> <em class=\"up\"> +2.01% </em> </td>\n",
       " </tr>,\n",
       " <tr class=\"down\">\n",
       " <th scope=\"row\"><a href=\"/item/main.naver?code=122630\" onclick=\"clickcr(this, 'spe.slist', '122630', '10', event);\">KODEX 레버리지</a></th>\n",
       " <td>15,665</td>\n",
       " <td><em class=\"bu_p bu_pdn\"><span class=\"blind\">하락</span></em> 615</td>\n",
       " <td> <em class=\"down\"> -3.78% </em> </td>\n",
       " </tr>,\n",
       " <tr class=\"up\">\n",
       " <th scope=\"row\"><a href=\"/item/main.naver?code=016600\" onclick=\"clickcr(this, 'spe.slist', '016600', '11', event);\">큐캐피탈</a></th>\n",
       " <td>653</td>\n",
       " <td><em class=\"bu_p bu_pup\"><span class=\"blind\">상승</span></em> 35</td>\n",
       " <td> <em class=\"up\"> +5.66% </em> </td>\n",
       " </tr>,\n",
       " <tr class=\"up\">\n",
       " <th scope=\"row\"><a href=\"/item/main.naver?code=014200\" onclick=\"clickcr(this, 'spe.slist', '014200', '12', event);\">광림</a></th>\n",
       " <td>2,195</td>\n",
       " <td><em class=\"bu_p bu_pup\"><span class=\"blind\">상승</span></em> 190</td>\n",
       " <td> <em class=\"up\"> +9.48% </em> </td>\n",
       " </tr>,\n",
       " <tr class=\"up\">\n",
       " <th scope=\"row\"><a href=\"/item/main.naver?code=900110\" onclick=\"clickcr(this, 'spe.slist', '900110', '13', event);\">이스트아시아홀딩스</a></th>\n",
       " <td>274</td>\n",
       " <td><em class=\"bu_p bu_pup\"><span class=\"blind\">상승</span></em> 9</td>\n",
       " <td> <em class=\"up\"> +3.40% </em> </td>\n",
       " </tr>,\n",
       " <tr class=\"down\">\n",
       " <th scope=\"row\"><a href=\"/item/main.naver?code=005930\" onclick=\"clickcr(this, 'spe.slist', '005930', '14', event);\">삼성전자</a></th>\n",
       " <td>60,500</td>\n",
       " <td><em class=\"bu_p bu_pdn\"><span class=\"blind\">하락</span></em> 1,400</td>\n",
       " <td> <em class=\"down\"> -2.26% </em> </td>\n",
       " </tr>,\n",
       " <tr class=\"down\">\n",
       " <th scope=\"row\"><a href=\"/item/main.naver?code=065420\" onclick=\"clickcr(this, 'spe.slist', '065420', '15', event);\">에스아이리소스</a></th>\n",
       " <td>756</td>\n",
       " <td><em class=\"bu_p bu_pdn\"><span class=\"blind\">하락</span></em> 109</td>\n",
       " <td> <em class=\"down\"> -12.60% </em> </td>\n",
       " </tr>]"
      ]
     },
     "execution_count": 21,
     "metadata": {},
     "output_type": "execute_result"
    }
   ],
   "source": [
    "# tr 요소 영역만을 선택 안에는 (th td가 포함되어 있다.)\n",
    "trs = tbody.select('tr')\n",
    "trs"
   ]
  },
  {
   "cell_type": "code",
   "execution_count": 54,
   "metadata": {},
   "outputs": [
    {
     "name": "stdout",
     "output_type": "stream",
     "text": [
      "KODEX 200선물인버스2X\n",
      "쌍방울\n",
      "에이프로젠 MED\n",
      "TS인베스트먼트\n",
      "한일사료\n",
      "KODEX 코스닥150선물인버스\n",
      "버킷스튜디오\n",
      "신한 인버스 2X 천연가스 선물 ETN\n",
      "KODEX 인버스\n",
      "KODEX 레버리지\n",
      "큐캐피탈\n",
      "광림\n",
      "이스트아시아홀딩스\n",
      "삼성전자\n",
      "에스아이리소스\n"
     ]
    }
   ],
   "source": [
    "for tr in trs:\n",
    "    print(tr.select_one('th > a').get_text())"
   ]
  },
  {
   "cell_type": "code",
   "execution_count": 55,
   "metadata": {},
   "outputs": [
    {
     "name": "stdout",
     "output_type": "stream",
     "text": [
      "3075\n",
      "835\n",
      "1905\n",
      "3290\n",
      "9930\n",
      "5030\n",
      "3275\n",
      "335\n",
      "4820\n",
      "15665\n",
      "653\n",
      "2195\n",
      "274\n",
      "60500\n",
      "756\n"
     ]
    }
   ],
   "source": [
    "for tr in trs:\n",
    "    result = tr.select_one('td').get_text()\n",
    "    print(result.replace(\",\", \"\"))"
   ]
  },
  {
   "cell_type": "code",
   "execution_count": 56,
   "metadata": {},
   "outputs": [
    {
     "name": "stdout",
     "output_type": "stream",
     "text": [
      "up\n",
      "up\n",
      "down\n",
      "up\n",
      "up\n",
      "up\n",
      "up\n",
      "up\n",
      "up\n",
      "down\n",
      "up\n",
      "up\n",
      "up\n",
      "down\n",
      "down\n"
     ]
    }
   ],
   "source": [
    "for tr in trs:\n",
    "    #tr은 셀리니움 요소라서 class를 키로 항목값을 가져올 수 있음\n",
    "    print(tr['class'][0])"
   ]
  },
  {
   "cell_type": "code",
   "execution_count": 62,
   "metadata": {},
   "outputs": [
    {
     "name": "stdout",
     "output_type": "stream",
     "text": [
      "115\n",
      "103\n",
      "15\n",
      "440\n",
      "1,130\n",
      "110\n",
      "25\n",
      "65\n",
      "95\n",
      "615\n",
      "35\n",
      "190\n",
      "9\n",
      "1,400\n",
      "109\n"
     ]
    }
   ],
   "source": [
    "for tr in trs:\n",
    "    if tr.select('td')[1].get_text().split()[1] != None:\n",
    "        print(tr.select('td')[1].get_text().split()[1])\n",
    "    else:\n",
    "        print(0)"
   ]
  },
  {
   "cell_type": "code",
   "execution_count": null,
   "metadata": {},
   "outputs": [],
   "source": []
  }
 ],
 "metadata": {
  "kernelspec": {
   "display_name": "web_flask",
   "language": "python",
   "name": "python3"
  },
  "language_info": {
   "codemirror_mode": {
    "name": "ipython",
    "version": 3
   },
   "file_extension": ".py",
   "mimetype": "text/x-python",
   "name": "python",
   "nbconvert_exporter": "python",
   "pygments_lexer": "ipython3",
   "version": "3.11.2 (main, Mar 27 2023, 18:38:21) [Clang 14.0.6 ]"
  },
  "orig_nbformat": 4,
  "vscode": {
   "interpreter": {
    "hash": "ee792da4b23e0a3af92e9a1480fdf248fa7d2f0002c3e275640ca4c73db1b573"
   }
  }
 },
 "nbformat": 4,
 "nbformat_minor": 2
}
