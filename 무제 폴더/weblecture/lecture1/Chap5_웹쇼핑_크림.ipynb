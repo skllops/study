{
 "cells": [
  {
   "cell_type": "code",
   "execution_count": 1,
   "metadata": {},
   "outputs": [
    {
     "name": "stderr",
     "output_type": "stream",
     "text": [
      "C:\\Users\\오승환\\AppData\\Local\\Temp/ipykernel_35564/3686586640.py:8: DeprecationWarning: executable_path has been deprecated, please pass in a Service object\n",
      "  driver = webdriver.Chrome('./chromedriver')\n"
     ]
    }
   ],
   "source": [
    "from bs4 import BeautifulSoup\n",
    "from selenium import webdriver\n",
    "import pandas as pd\n",
    "from urllib.request import urlopen\n",
    "\n",
    "# 크림 덩크 - 신발분류 \n",
    "url = 'https://kream.co.kr/search?category_id=34&keyword=%EB%8D%A9%ED%81%AC&sort=popular&per_page=40'\n",
    "driver = webdriver.Chrome('./chromedriver')\n",
    "driver.get(url)\n"
   ]
  },
  {
   "cell_type": "code",
   "execution_count": 2,
   "metadata": {},
   "outputs": [
    {
     "name": "stdout",
     "output_type": "stream",
     "text": [
      "Image Crawling is done.\n"
     ]
    }
   ],
   "source": [
    "import time\n",
    "\n",
    "# 스크롤 기다려주는 시간\n",
    "SCROLL_PAUSE_TIME = 2\n",
    "\n",
    "# 마지막 시점의 창 높이 저장\n",
    "last_height = driver.execute_script(\"return document.body.scrollHeight\")         \n",
    "\n",
    "#while True:\n",
    "for i in range(0,2):\n",
    "    # 창 높이까지 스크롤                                          \n",
    "    driver.execute_script(\"window.scrollTo(0, document.body.scrollHeight);\")\n",
    "\n",
    "    # 스크롤 후 창이 로딩될때까지 2초를 기다리겠다는 명령어. 로딩이 다되면 바로 넘어감\n",
    "    time.sleep(SCROLL_PAUSE_TIME)\n",
    "\n",
    "    #한 번에 맨 마지막까지 스크롤되면 아래 리스트가 뜨지 않아서,\n",
    "    #  마지막을 찍고 조금 창을 올리는 방법으로 리스트가 로딩될 수 있게 함                           \n",
    "    driver.execute_script(\"window.scrollTo(0, document.body.scrollHeight-50);\")  \n",
    "\n",
    "    #스크롤 후 창이 로딩될때까지 2초를 기다리겠다는 명령어. 로딩이 다되면 바로 넘어감\n",
    "    time.sleep(SCROLL_PAUSE_TIME)\n",
    "\n",
    "    # 스크롤이 된 후의 창 높이를 새로운 높이로 저장          \n",
    "    new_height = driver.execute_script(\"return document.body.scrollHeight\")\n",
    "\n",
    "    # 새로운 높이가 이전 높이와 변하지 않았으면 스크롤 종료\n",
    "    if new_height == last_height:                                                \n",
    "        break\n",
    "    last_height = new_height\n",
    "\n",
    "# 스크롤 다 내렸으면 페이지 모든정보 긁어옴\n",
    "html = driver.page_source\n",
    "soup = BeautifulSoup(html, 'html.parser')\n",
    "\n",
    "# 모든 가격 요소 불러오기\n",
    "price = soup.find_all(class_='amount')\n",
    "\n",
    "# 모든 이미지 불러오기\n",
    "img2 = soup.find_all(class_='picture product_img')\n",
    "\n",
    "# 가격요소 갯수 \n",
    "crawl_num = len(price)\n",
    "\n",
    "for i in price:\n",
    "    # 가격추출\n",
    "    a = str(i).replace(\"<div class=\\\"amount\\\" data-v-1c683be8=\\\"\\\"> \",\"\").replace(\"원 </div>\",\"\").strip()\n",
    "\n",
    "    # 가격을 jor.txt에 쌓기\n",
    "    with open(\"./jor.txt\",\"a\") as f:\n",
    "        f.write(a+'\\n')\n",
    "\n",
    "# 가격 크롤링 끝\n",
    "print('Image Crawling is done.')\n"
   ]
  },
  {
   "cell_type": "code",
   "execution_count": null,
   "metadata": {},
   "outputs": [],
   "source": [
    "\n",
    "n=1\n",
    "# 이미지 갯수\n",
    "crawl_num = len(img2)\n",
    "\n",
    "# 이미지 크롤링 시작\n",
    "for i in img2:\n",
    "    # 이미지 url 따오기\n",
    "    imgUrl = i.find(\"img\")[\"src\"]\n",
    "    \n",
    "    # 이미지 저장\n",
    "    # urlopen(imgUrl)은 이미지 데이터\n",
    "    with urlopen(imgUrl) as f:\n",
    "        with open('./images/img' + str(n)+'.jpg','wb') as h: # w - write b - binary\n",
    "            img = f.read()\n",
    "            h.write(img)\n",
    "    n += 1\n",
    "    print(imgUrl)\n",
    "\n",
    "    # img 길이보다 n의 갯수가 더 많으면 멈춤\n",
    "    if n > crawl_num:\n",
    "        break\n",
    "print('Image Crawling is done.')"
   ]
  },
  {
   "cell_type": "code",
   "execution_count": null,
   "metadata": {},
   "outputs": [],
   "source": []
  }
 ],
 "metadata": {
  "kernelspec": {
   "display_name": "Python 3.9.7 ('base')",
   "language": "python",
   "name": "python3"
  },
  "language_info": {
   "codemirror_mode": {
    "name": "ipython",
    "version": 3
   },
   "file_extension": ".py",
   "mimetype": "text/x-python",
   "name": "python",
   "nbconvert_exporter": "python",
   "pygments_lexer": "ipython3",
   "version": "3.9.7"
  },
  "orig_nbformat": 4,
  "vscode": {
   "interpreter": {
    "hash": "16f5b46f222e2a3e8d4adbf7141cae37b71ed37616e60735fa5d1164a1bc3ada"
   }
  }
 },
 "nbformat": 4,
 "nbformat_minor": 2
}
